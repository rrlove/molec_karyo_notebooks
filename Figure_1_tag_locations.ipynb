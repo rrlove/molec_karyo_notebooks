{
 "cells": [
  {
   "cell_type": "markdown",
   "metadata": {},
   "source": [
    "##### imports"
   ]
  },
  {
   "cell_type": "code",
   "execution_count": 1,
   "metadata": {},
   "outputs": [],
   "source": [
    "import ingenos\n",
    "import matplotlib\n",
    "import matplotlib.pyplot as plt\n",
    "import numpy as np\n",
    "import pandas as pd\n",
    "import re"
   ]
  },
  {
   "cell_type": "markdown",
   "metadata": {},
   "source": [
    "##### set base directory for each data set"
   ]
  },
  {
   "cell_type": "code",
   "execution_count": 2,
   "metadata": {},
   "outputs": [],
   "source": [
    "amp_base = \"/afs/crc.nd.edu/group/BesanskyNGS/data05/comp_karyo/data/amplicon_sequencing\"\n",
    "oa_base = \"/afs/crc.nd.edu/group/BesanskyNGS/data05/comp_karyo/data/open_array\""
   ]
  },
  {
   "cell_type": "markdown",
   "metadata": {},
   "source": [
    "##### import SNP locations, as saved during the analysis of each data set"
   ]
  },
  {
   "cell_type": "code",
   "execution_count": 3,
   "metadata": {},
   "outputs": [
    {
     "data": {
      "text/html": [
       "<div>\n",
       "<style scoped>\n",
       "    .dataframe tbody tr th:only-of-type {\n",
       "        vertical-align: middle;\n",
       "    }\n",
       "\n",
       "    .dataframe tbody tr th {\n",
       "        vertical-align: top;\n",
       "    }\n",
       "\n",
       "    .dataframe thead th {\n",
       "        text-align: right;\n",
       "    }\n",
       "</style>\n",
       "<table border=\"1\" class=\"dataframe\">\n",
       "  <thead>\n",
       "    <tr style=\"text-align: right;\">\n",
       "      <th></th>\n",
       "      <th>label</th>\n",
       "      <th>assay</th>\n",
       "    </tr>\n",
       "  </thead>\n",
       "  <tbody>\n",
       "    <tr>\n",
       "      <th>0</th>\n",
       "      <td>NaN</td>\n",
       "      <td>NaN</td>\n",
       "    </tr>\n",
       "    <tr>\n",
       "      <th>1</th>\n",
       "      <td>a</td>\n",
       "      <td>2L_20674783_a</td>\n",
       "    </tr>\n",
       "    <tr>\n",
       "      <th>2</th>\n",
       "      <td>a</td>\n",
       "      <td>2L_20726658_a</td>\n",
       "    </tr>\n",
       "    <tr>\n",
       "      <th>3</th>\n",
       "      <td>a</td>\n",
       "      <td>2L_20813877_a</td>\n",
       "    </tr>\n",
       "    <tr>\n",
       "      <th>4</th>\n",
       "      <td>a</td>\n",
       "      <td>2L_20995428_a</td>\n",
       "    </tr>\n",
       "  </tbody>\n",
       "</table>\n",
       "</div>"
      ],
      "text/plain": [
       "  label          assay\n",
       "0   NaN            NaN\n",
       "1     a  2L_20674783_a\n",
       "2     a  2L_20726658_a\n",
       "3     a  2L_20813877_a\n",
       "4     a  2L_20995428_a"
      ]
     },
     "execution_count": 3,
     "metadata": {},
     "output_type": "execute_result"
    }
   ],
   "source": [
    "amp_SNPs = pd.read_csv(amp_base + \"/amp_SNP_list.041320.csv\")\n",
    "\n",
    "amp_SNPs.head()"
   ]
  },
  {
   "cell_type": "markdown",
   "metadata": {},
   "source": [
    "##### drop the first row, which is empty"
   ]
  },
  {
   "cell_type": "code",
   "execution_count": 4,
   "metadata": {},
   "outputs": [
    {
     "data": {
      "text/html": [
       "<div>\n",
       "<style scoped>\n",
       "    .dataframe tbody tr th:only-of-type {\n",
       "        vertical-align: middle;\n",
       "    }\n",
       "\n",
       "    .dataframe tbody tr th {\n",
       "        vertical-align: top;\n",
       "    }\n",
       "\n",
       "    .dataframe thead th {\n",
       "        text-align: right;\n",
       "    }\n",
       "</style>\n",
       "<table border=\"1\" class=\"dataframe\">\n",
       "  <thead>\n",
       "    <tr style=\"text-align: right;\">\n",
       "      <th></th>\n",
       "      <th>label</th>\n",
       "      <th>assay</th>\n",
       "    </tr>\n",
       "  </thead>\n",
       "  <tbody>\n",
       "    <tr>\n",
       "      <th>1</th>\n",
       "      <td>a</td>\n",
       "      <td>2L_20674783_a</td>\n",
       "    </tr>\n",
       "    <tr>\n",
       "      <th>2</th>\n",
       "      <td>a</td>\n",
       "      <td>2L_20726658_a</td>\n",
       "    </tr>\n",
       "    <tr>\n",
       "      <th>3</th>\n",
       "      <td>a</td>\n",
       "      <td>2L_20813877_a</td>\n",
       "    </tr>\n",
       "    <tr>\n",
       "      <th>4</th>\n",
       "      <td>a</td>\n",
       "      <td>2L_20995428_a</td>\n",
       "    </tr>\n",
       "    <tr>\n",
       "      <th>5</th>\n",
       "      <td>a</td>\n",
       "      <td>2L_21120275_a</td>\n",
       "    </tr>\n",
       "  </tbody>\n",
       "</table>\n",
       "</div>"
      ],
      "text/plain": [
       "  label          assay\n",
       "1     a  2L_20674783_a\n",
       "2     a  2L_20726658_a\n",
       "3     a  2L_20813877_a\n",
       "4     a  2L_20995428_a\n",
       "5     a  2L_21120275_a"
      ]
     },
     "execution_count": 4,
     "metadata": {},
     "output_type": "execute_result"
    }
   ],
   "source": [
    "amp_SNPs = amp_SNPs[1:]\n",
    "\n",
    "amp_SNPs.head()"
   ]
  },
  {
   "cell_type": "code",
   "execution_count": 5,
   "metadata": {},
   "outputs": [
    {
     "data": {
      "text/html": [
       "<div>\n",
       "<style scoped>\n",
       "    .dataframe tbody tr th:only-of-type {\n",
       "        vertical-align: middle;\n",
       "    }\n",
       "\n",
       "    .dataframe tbody tr th {\n",
       "        vertical-align: top;\n",
       "    }\n",
       "\n",
       "    .dataframe thead th {\n",
       "        text-align: right;\n",
       "    }\n",
       "</style>\n",
       "<table border=\"1\" class=\"dataframe\">\n",
       "  <thead>\n",
       "    <tr style=\"text-align: right;\">\n",
       "      <th></th>\n",
       "      <th>label</th>\n",
       "      <th>assay</th>\n",
       "      <th>chrom</th>\n",
       "      <th>pos</th>\n",
       "    </tr>\n",
       "  </thead>\n",
       "  <tbody>\n",
       "    <tr>\n",
       "      <th>1</th>\n",
       "      <td>a</td>\n",
       "      <td>2L_20674783_a</td>\n",
       "      <td>2L</td>\n",
       "      <td>20674783</td>\n",
       "    </tr>\n",
       "    <tr>\n",
       "      <th>2</th>\n",
       "      <td>a</td>\n",
       "      <td>2L_20726658_a</td>\n",
       "      <td>2L</td>\n",
       "      <td>20726658</td>\n",
       "    </tr>\n",
       "    <tr>\n",
       "      <th>3</th>\n",
       "      <td>a</td>\n",
       "      <td>2L_20813877_a</td>\n",
       "      <td>2L</td>\n",
       "      <td>20813877</td>\n",
       "    </tr>\n",
       "    <tr>\n",
       "      <th>4</th>\n",
       "      <td>a</td>\n",
       "      <td>2L_20995428_a</td>\n",
       "      <td>2L</td>\n",
       "      <td>20995428</td>\n",
       "    </tr>\n",
       "    <tr>\n",
       "      <th>5</th>\n",
       "      <td>a</td>\n",
       "      <td>2L_21120275_a</td>\n",
       "      <td>2L</td>\n",
       "      <td>21120275</td>\n",
       "    </tr>\n",
       "  </tbody>\n",
       "</table>\n",
       "</div>"
      ],
      "text/plain": [
       "  label          assay chrom       pos\n",
       "1     a  2L_20674783_a    2L  20674783\n",
       "2     a  2L_20726658_a    2L  20726658\n",
       "3     a  2L_20813877_a    2L  20813877\n",
       "4     a  2L_20995428_a    2L  20995428\n",
       "5     a  2L_21120275_a    2L  21120275"
      ]
     },
     "execution_count": 5,
     "metadata": {},
     "output_type": "execute_result"
    }
   ],
   "source": [
    "amp_SNPs[\"chrom\"] = amp_SNPs[\"assay\"].str.split(\"_\", expand=True)[0]\n",
    "amp_SNPs[\"pos\"] = amp_SNPs[\"assay\"].str.split(\"_\", expand=True)[1]\n",
    "amp_SNPs[\"pos\"] = amp_SNPs[\"pos\"].astype(int)\n",
    "\n",
    "amp_SNPs.head()"
   ]
  },
  {
   "cell_type": "markdown",
   "metadata": {},
   "source": [
    "##### repeat for the OpenArray data"
   ]
  },
  {
   "cell_type": "code",
   "execution_count": 6,
   "metadata": {},
   "outputs": [
    {
     "data": {
      "text/html": [
       "<div>\n",
       "<style scoped>\n",
       "    .dataframe tbody tr th:only-of-type {\n",
       "        vertical-align: middle;\n",
       "    }\n",
       "\n",
       "    .dataframe tbody tr th {\n",
       "        vertical-align: top;\n",
       "    }\n",
       "\n",
       "    .dataframe thead th {\n",
       "        text-align: right;\n",
       "    }\n",
       "</style>\n",
       "<table border=\"1\" class=\"dataframe\">\n",
       "  <thead>\n",
       "    <tr style=\"text-align: right;\">\n",
       "      <th></th>\n",
       "      <th>label</th>\n",
       "      <th>pos</th>\n",
       "    </tr>\n",
       "  </thead>\n",
       "  <tbody>\n",
       "    <tr>\n",
       "      <th>0</th>\n",
       "      <td>NaN</td>\n",
       "      <td>NaN</td>\n",
       "    </tr>\n",
       "    <tr>\n",
       "      <th>1</th>\n",
       "      <td>a</td>\n",
       "      <td>20546192.0</td>\n",
       "    </tr>\n",
       "    <tr>\n",
       "      <th>2</th>\n",
       "      <td>a</td>\n",
       "      <td>20731296.0</td>\n",
       "    </tr>\n",
       "    <tr>\n",
       "      <th>3</th>\n",
       "      <td>a</td>\n",
       "      <td>20816241.0</td>\n",
       "    </tr>\n",
       "    <tr>\n",
       "      <th>4</th>\n",
       "      <td>a</td>\n",
       "      <td>21590819.0</td>\n",
       "    </tr>\n",
       "  </tbody>\n",
       "</table>\n",
       "</div>"
      ],
      "text/plain": [
       "  label         pos\n",
       "0   NaN         NaN\n",
       "1     a  20546192.0\n",
       "2     a  20731296.0\n",
       "3     a  20816241.0\n",
       "4     a  21590819.0"
      ]
     },
     "execution_count": 6,
     "metadata": {},
     "output_type": "execute_result"
    }
   ],
   "source": [
    "oa_SNPs = pd.read_csv(oa_base + \"/oa_SNP_list.041320.csv\")\n",
    "\n",
    "oa_SNPs.head()"
   ]
  },
  {
   "cell_type": "code",
   "execution_count": 7,
   "metadata": {},
   "outputs": [
    {
     "data": {
      "text/html": [
       "<div>\n",
       "<style scoped>\n",
       "    .dataframe tbody tr th:only-of-type {\n",
       "        vertical-align: middle;\n",
       "    }\n",
       "\n",
       "    .dataframe tbody tr th {\n",
       "        vertical-align: top;\n",
       "    }\n",
       "\n",
       "    .dataframe thead th {\n",
       "        text-align: right;\n",
       "    }\n",
       "</style>\n",
       "<table border=\"1\" class=\"dataframe\">\n",
       "  <thead>\n",
       "    <tr style=\"text-align: right;\">\n",
       "      <th></th>\n",
       "      <th>label</th>\n",
       "      <th>pos</th>\n",
       "    </tr>\n",
       "  </thead>\n",
       "  <tbody>\n",
       "    <tr>\n",
       "      <th>1</th>\n",
       "      <td>a</td>\n",
       "      <td>20546192</td>\n",
       "    </tr>\n",
       "    <tr>\n",
       "      <th>2</th>\n",
       "      <td>a</td>\n",
       "      <td>20731296</td>\n",
       "    </tr>\n",
       "    <tr>\n",
       "      <th>3</th>\n",
       "      <td>a</td>\n",
       "      <td>20816241</td>\n",
       "    </tr>\n",
       "    <tr>\n",
       "      <th>4</th>\n",
       "      <td>a</td>\n",
       "      <td>21590819</td>\n",
       "    </tr>\n",
       "    <tr>\n",
       "      <th>5</th>\n",
       "      <td>a</td>\n",
       "      <td>21687929</td>\n",
       "    </tr>\n",
       "  </tbody>\n",
       "</table>\n",
       "</div>"
      ],
      "text/plain": [
       "  label       pos\n",
       "1     a  20546192\n",
       "2     a  20731296\n",
       "3     a  20816241\n",
       "4     a  21590819\n",
       "5     a  21687929"
      ]
     },
     "execution_count": 7,
     "metadata": {},
     "output_type": "execute_result"
    }
   ],
   "source": [
    "oa_SNPs = oa_SNPs[1:]\n",
    "oa_SNPs[\"pos\"] = oa_SNPs[\"pos\"].astype(int)\n",
    "\n",
    "oa_SNPs.head()"
   ]
  },
  {
   "cell_type": "markdown",
   "metadata": {},
   "source": [
    "##### combine the openarray and amplicon_sequencing results"
   ]
  },
  {
   "cell_type": "code",
   "execution_count": 8,
   "metadata": {},
   "outputs": [
    {
     "data": {
      "text/html": [
       "<div>\n",
       "<style scoped>\n",
       "    .dataframe tbody tr th:only-of-type {\n",
       "        vertical-align: middle;\n",
       "    }\n",
       "\n",
       "    .dataframe tbody tr th {\n",
       "        vertical-align: top;\n",
       "    }\n",
       "\n",
       "    .dataframe thead th {\n",
       "        text-align: right;\n",
       "    }\n",
       "</style>\n",
       "<table border=\"1\" class=\"dataframe\">\n",
       "  <thead>\n",
       "    <tr style=\"text-align: right;\">\n",
       "      <th></th>\n",
       "      <th>label</th>\n",
       "      <th>pos</th>\n",
       "      <th>type</th>\n",
       "    </tr>\n",
       "  </thead>\n",
       "  <tbody>\n",
       "    <tr>\n",
       "      <th>1</th>\n",
       "      <td>a</td>\n",
       "      <td>20546192</td>\n",
       "      <td>OA</td>\n",
       "    </tr>\n",
       "    <tr>\n",
       "      <th>2</th>\n",
       "      <td>a</td>\n",
       "      <td>20731296</td>\n",
       "      <td>OA</td>\n",
       "    </tr>\n",
       "    <tr>\n",
       "      <th>3</th>\n",
       "      <td>a</td>\n",
       "      <td>20816241</td>\n",
       "      <td>OA</td>\n",
       "    </tr>\n",
       "    <tr>\n",
       "      <th>4</th>\n",
       "      <td>a</td>\n",
       "      <td>21590819</td>\n",
       "      <td>OA</td>\n",
       "    </tr>\n",
       "    <tr>\n",
       "      <th>5</th>\n",
       "      <td>a</td>\n",
       "      <td>21687929</td>\n",
       "      <td>OA</td>\n",
       "    </tr>\n",
       "  </tbody>\n",
       "</table>\n",
       "</div>"
      ],
      "text/plain": [
       "  label       pos type\n",
       "1     a  20546192   OA\n",
       "2     a  20731296   OA\n",
       "3     a  20816241   OA\n",
       "4     a  21590819   OA\n",
       "5     a  21687929   OA"
      ]
     },
     "execution_count": 8,
     "metadata": {},
     "output_type": "execute_result"
    }
   ],
   "source": [
    "oa_SNPs[\"type\"] = \"OA\"\n",
    "amp_SNPs[\"type\"] = \"GT-seq\"\n",
    "\n",
    "both = pd.concat([oa_SNPs, amp_SNPs[[\"label\", \"pos\", \"type\"]]])\n",
    "\n",
    "both.head()"
   ]
  },
  {
   "cell_type": "code",
   "execution_count": 9,
   "metadata": {},
   "outputs": [],
   "source": [
    "both[\"chrom\"] = \"2R\"\n",
    "both.loc[both[\"label\"] == \"a\", \"chrom\"] = \"2L\""
   ]
  },
  {
   "cell_type": "markdown",
   "metadata": {},
   "source": [
    "##### add a column for the inversions\n",
    "##### u inversions values are changed to d because they share a plot. similarly, c_col and c_gam values are changed to c."
   ]
  },
  {
   "cell_type": "code",
   "execution_count": 10,
   "metadata": {},
   "outputs": [],
   "source": [
    "both[\"inversion\"] = both[\"label\"]\n",
    "\n",
    "both.loc[both[\"label\"] == \"u\", \"inversion\"] = \"d\"\n",
    "both.loc[both[\"label\"] == \"c_col\", \"inversion\"] = \"c\"\n",
    "both.loc[both[\"label\"] == \"c_gam\", \"inversion\"] = \"c\""
   ]
  },
  {
   "cell_type": "code",
   "execution_count": 11,
   "metadata": {},
   "outputs": [
    {
     "data": {
      "text/html": [
       "<div>\n",
       "<style scoped>\n",
       "    .dataframe tbody tr th:only-of-type {\n",
       "        vertical-align: middle;\n",
       "    }\n",
       "\n",
       "    .dataframe tbody tr th {\n",
       "        vertical-align: top;\n",
       "    }\n",
       "\n",
       "    .dataframe thead th {\n",
       "        text-align: right;\n",
       "    }\n",
       "</style>\n",
       "<table border=\"1\" class=\"dataframe\">\n",
       "  <thead>\n",
       "    <tr style=\"text-align: right;\">\n",
       "      <th></th>\n",
       "      <th>chrom</th>\n",
       "      <th>pos</th>\n",
       "      <th>label</th>\n",
       "      <th>inversion</th>\n",
       "    </tr>\n",
       "  </thead>\n",
       "  <tbody>\n",
       "    <tr>\n",
       "      <th>22</th>\n",
       "      <td>2L</td>\n",
       "      <td>41966114</td>\n",
       "      <td>a</td>\n",
       "      <td>a</td>\n",
       "    </tr>\n",
       "    <tr>\n",
       "      <th>25</th>\n",
       "      <td>2R</td>\n",
       "      <td>15740978</td>\n",
       "      <td>j</td>\n",
       "      <td>j</td>\n",
       "    </tr>\n",
       "    <tr>\n",
       "      <th>27</th>\n",
       "      <td>2R</td>\n",
       "      <td>15743203</td>\n",
       "      <td>j</td>\n",
       "      <td>j</td>\n",
       "    </tr>\n",
       "    <tr>\n",
       "      <th>30</th>\n",
       "      <td>2R</td>\n",
       "      <td>15749248</td>\n",
       "      <td>j</td>\n",
       "      <td>j</td>\n",
       "    </tr>\n",
       "    <tr>\n",
       "      <th>59</th>\n",
       "      <td>2R</td>\n",
       "      <td>27282330</td>\n",
       "      <td>c_col</td>\n",
       "      <td>c</td>\n",
       "    </tr>\n",
       "    <tr>\n",
       "      <th>76</th>\n",
       "      <td>2R</td>\n",
       "      <td>30386671</td>\n",
       "      <td>c_col</td>\n",
       "      <td>c</td>\n",
       "    </tr>\n",
       "  </tbody>\n",
       "</table>\n",
       "</div>"
      ],
      "text/plain": [
       "   chrom       pos  label inversion\n",
       "22    2L  41966114      a         a\n",
       "25    2R  15740978      j         j\n",
       "27    2R  15743203      j         j\n",
       "30    2R  15749248      j         j\n",
       "59    2R  27282330  c_col         c\n",
       "76    2R  30386671  c_col         c"
      ]
     },
     "execution_count": 11,
     "metadata": {},
     "output_type": "execute_result"
    }
   ],
   "source": [
    "dupes = both[[\"chrom\",\"pos\",\"label\",\"inversion\"]]\\\n",
    "[both[[\"chrom\",\"pos\",\"label\",\"inversion\"]].duplicated()]\n",
    "\n",
    "dupes"
   ]
  },
  {
   "cell_type": "markdown",
   "metadata": {},
   "source": [
    "##### plot the locations"
   ]
  },
  {
   "cell_type": "code",
   "execution_count": 12,
   "metadata": {},
   "outputs": [
    {
     "data": {
      "text/plain": [
       "array(['a', 'j', 'b', 'c', 'd'], dtype=object)"
      ]
     },
     "execution_count": 12,
     "metadata": {},
     "output_type": "execute_result"
    }
   ],
   "source": [
    "both[\"inversion\"].unique()"
   ]
  },
  {
   "cell_type": "code",
   "execution_count": 13,
   "metadata": {
    "scrolled": false
   },
   "outputs": [
    {
     "data": {
      "image/png": "[encoded data removed]",
      "text/plain": [
       "<Figure size 1080x720 with 5 Axes>"
      ]
     },
     "metadata": {
      "needs_background": "light"
     },
     "output_type": "display_data"
    }
   ],
   "source": [
    "height_dict = {\"GT-seq\" : 0.5, \"OA\" : 0}\n",
    "\n",
    "marker_dict = {\"GT-seq\" : \".\", \"OA\" : \"^\"}\n",
    "\n",
    "color_dict = {\"c_col\" : \"C0\", \"c_gam\" : \"C1\",\n",
    "             \"d\" : \"C0\", \"u\" : \"C1\", \"j\" : \"C0\", \"b\" : \"C0\", \"a\" : \"C0\"}\n",
    "\n",
    "offset_dict = {\"c_col\" : 0, \"c_gam\" : 0.2,\n",
    "         \"d\" : 0, \"u\" : 0.2, \"j\" : 0, \"b\" : 0, \"a\" : 0}\n",
    "\n",
    "fig, axes = plt.subplots(nrows=5, ncols=1, figsize = (15, 10))\n",
    "\n",
    "for i, ax in enumerate(axes):\n",
    "        \n",
    "    inversion = both[\"inversion\"].unique()[i]\n",
    "\n",
    "    full_name = \"2R\" + inversion\n",
    "\n",
    "    if inversion == \"a\":\n",
    "\n",
    "        full_name = \"2La\"\n",
    "                \n",
    "    inv_min = ingenos.inversionDict[full_name].proximal_start\n",
    "    inv_max = ingenos.inversionDict[full_name].distal_end\n",
    "\n",
    "    chunk = both.loc[both[\"inversion\"] == inversion, :]\n",
    "\n",
    "    if inversion == \"d\":\n",
    "\n",
    "        inv_min = 31495381\n",
    "        inv_max = 42375004\n",
    "\n",
    "    x_offset = (inv_max - inv_min) * .05\n",
    "\n",
    "    dupes_chunk = dupes.loc[dupes[\"inversion\"] == inversion]\n",
    "\n",
    "    for _, row in dupes_chunk.iterrows():\n",
    "\n",
    "        ax.axvline(x = row[\"pos\"], color = \"k\", linestyle = \"--\", lw = 0.5)\n",
    "\n",
    "    for j, dtype in enumerate(chunk[\"type\"].unique()):\n",
    "\n",
    "        type_chunk = chunk.loc[chunk[\"type\"] == dtype, :]\n",
    "\n",
    "        height = height_dict[dtype]\n",
    "\n",
    "        for k, label in enumerate(type_chunk[\"label\"].unique()):\n",
    "\n",
    "            label_chunk = type_chunk.loc[type_chunk[\"label\"] == label, :]\n",
    "\n",
    "            y_offset = offset_dict[label]\n",
    "\n",
    "            ax.plot(label_chunk[\"pos\"], \n",
    "                    np.random.uniform(height - y_offset - .005, height - y_offset + .005,\n",
    "                                      [len(label_chunk)]), \n",
    "                    color = color_dict[label], \n",
    "                    linestyle = ' ',\n",
    "                    marker = marker_dict[dtype], label = dtype, markersize=15, alpha = 0.5)\n",
    "\n",
    "    ax.set_xlim(inv_min - x_offset, inv_max + x_offset)\n",
    "    ax.ticklabel_format(useOffset=False, style=\"plain\")\n",
    "    ax.xaxis.set_major_formatter(matplotlib.ticker.FuncFormatter(lambda x, \n",
    "                                                                 pos: '{x:,.0f}'.format(\n",
    "                                                                     x=x/1000000)))\n",
    "    ax.tick_params(axis='x', which='major', labelsize=20)\n",
    "    ax.tick_params(axis='y', which='both', left=False, labelleft=False)\n",
    "\n",
    "    ax.set_ylabel((full_name), fontsize=25)\n",
    "\n",
    "    if inversion == \"c\":\n",
    "\n",
    "        inv_handles = list()\n",
    "\n",
    "        for label in [\"c_col\", \"c_gam\"]:\n",
    "\n",
    "            patch = matplotlib.patches.Patch(color = color_dict[label], label = label, \n",
    "                                             alpha = 0.5)\n",
    "            inv_handles.append(patch)\n",
    "\n",
    "        legend = ax.legend(handles = inv_handles, fontsize=15, fancybox=True, \n",
    "                           framealpha=0.5, bbox_to_anchor=(1, 0), loc = \"lower left\")\n",
    "\n",
    "    if inversion == \"d\":\n",
    "\n",
    "        inv_handles = list()\n",
    "\n",
    "        for label in [\"d\", \"u\"]:\n",
    "\n",
    "            patch = matplotlib.patches.Patch(color = color_dict[label], label = label, \n",
    "                                             alpha = 0.5)\n",
    "            inv_handles.append(patch)\n",
    "\n",
    "        legend = ax.legend(handles = inv_handles, fontsize=15, fancybox=True, \n",
    "                           framealpha = 0.5, bbox_to_anchor=(1, 0), loc = \"lower left\")\n",
    "\n",
    "        ax.set_xlabel(\"Position (Mb)\", fontsize=25)\n",
    "        ax.set_ylabel(\"2Rdu\", fontsize=25)\n",
    "\n",
    "    if inversion == \"a\":\n",
    "        \n",
    "        handles, labels = ax.get_legend_handles_labels()\n",
    "        \n",
    "        ax.legend(handles[::-1], labels[::-1], fontsize = 15, fancybox=True, \n",
    "                       framealpha=0.5, bbox_to_anchor=(1, 0), loc = \"lower left\")\n",
    "            \n",
    "plt.tight_layout()\n",
    "\n",
    "outString = ingenos.make_date_stamp(\n",
    "    amp_base + \"/results/location_of_target_SNPs\")\n",
    "\n",
    "#plt.savefig(outString)"
   ]
  },
  {
   "cell_type": "code",
   "execution_count": null,
   "metadata": {},
   "outputs": [],
   "source": []
  }
 ],
 "metadata": {
  "kernelspec": {
   "display_name": "Python 3",
   "language": "python",
   "name": "python3"
  },
  "language_info": {
   "codemirror_mode": {
    "name": "ipython",
    "version": 3
   },
   "file_extension": ".py",
   "mimetype": "text/x-python",
   "name": "python",
   "nbconvert_exporter": "python",
   "pygments_lexer": "ipython3",
   "version": "3.7.3"
  }
 },
 "nbformat": 4,
 "nbformat_minor": 2
}
