{
 "cells": [
  {
   "cell_type": "markdown",
   "metadata": {},
   "source": [
    "##### imports"
   ]
  },
  {
   "cell_type": "code",
   "execution_count": 1,
   "metadata": {},
   "outputs": [],
   "source": [
    "import ingenos\n",
    "import matplotlib\n",
    "import matplotlib.pyplot as plt\n",
    "import matplotlib_venn\n",
    "from matplotlib_venn import venn3_unweighted, venn3_circles\n",
    "import numpy as np\n",
    "import pandas as pd\n",
    "import re"
   ]
  },
  {
   "cell_type": "markdown",
   "metadata": {},
   "source": [
    "##### set base directories for each data type"
   ]
  },
  {
   "cell_type": "code",
   "execution_count": 2,
   "metadata": {},
   "outputs": [],
   "source": [
    "amp_base = \"/afs/crc.nd.edu/group/BesanskyNGS/data05/comp_karyo/data/amplicon_sequencing\"\n",
    "oa_base = \"/afs/crc.nd.edu/group/BesanskyNGS/data05/comp_karyo/data/open_array\""
   ]
  },
  {
   "cell_type": "markdown",
   "metadata": {},
   "source": [
    "##### read in lists of SNPs, as saved during the analysis of each data type"
   ]
  },
  {
   "cell_type": "code",
   "execution_count": 3,
   "metadata": {},
   "outputs": [
    {
     "data": {
      "text/html": [
       "<div>\n",
       "<style scoped>\n",
       "    .dataframe tbody tr th:only-of-type {\n",
       "        vertical-align: middle;\n",
       "    }\n",
       "\n",
       "    .dataframe tbody tr th {\n",
       "        vertical-align: top;\n",
       "    }\n",
       "\n",
       "    .dataframe thead th {\n",
       "        text-align: right;\n",
       "    }\n",
       "</style>\n",
       "<table border=\"1\" class=\"dataframe\">\n",
       "  <thead>\n",
       "    <tr style=\"text-align: right;\">\n",
       "      <th></th>\n",
       "      <th>label</th>\n",
       "      <th>assay</th>\n",
       "    </tr>\n",
       "  </thead>\n",
       "  <tbody>\n",
       "    <tr>\n",
       "      <th>0</th>\n",
       "      <td>NaN</td>\n",
       "      <td>NaN</td>\n",
       "    </tr>\n",
       "    <tr>\n",
       "      <th>1</th>\n",
       "      <td>a</td>\n",
       "      <td>2L_20674783_a</td>\n",
       "    </tr>\n",
       "    <tr>\n",
       "      <th>2</th>\n",
       "      <td>a</td>\n",
       "      <td>2L_20726658_a</td>\n",
       "    </tr>\n",
       "    <tr>\n",
       "      <th>3</th>\n",
       "      <td>a</td>\n",
       "      <td>2L_20813877_a</td>\n",
       "    </tr>\n",
       "    <tr>\n",
       "      <th>4</th>\n",
       "      <td>a</td>\n",
       "      <td>2L_20995428_a</td>\n",
       "    </tr>\n",
       "  </tbody>\n",
       "</table>\n",
       "</div>"
      ],
      "text/plain": [
       "  label          assay\n",
       "0   NaN            NaN\n",
       "1     a  2L_20674783_a\n",
       "2     a  2L_20726658_a\n",
       "3     a  2L_20813877_a\n",
       "4     a  2L_20995428_a"
      ]
     },
     "execution_count": 3,
     "metadata": {},
     "output_type": "execute_result"
    }
   ],
   "source": [
    "amp_SNPs = pd.read_csv(amp_base + \"/amp_SNP_list.041320.csv\")\n",
    "\n",
    "amp_SNPs.head()"
   ]
  },
  {
   "cell_type": "code",
   "execution_count": 4,
   "metadata": {},
   "outputs": [
    {
     "data": {
      "text/html": [
       "<div>\n",
       "<style scoped>\n",
       "    .dataframe tbody tr th:only-of-type {\n",
       "        vertical-align: middle;\n",
       "    }\n",
       "\n",
       "    .dataframe tbody tr th {\n",
       "        vertical-align: top;\n",
       "    }\n",
       "\n",
       "    .dataframe thead th {\n",
       "        text-align: right;\n",
       "    }\n",
       "</style>\n",
       "<table border=\"1\" class=\"dataframe\">\n",
       "  <thead>\n",
       "    <tr style=\"text-align: right;\">\n",
       "      <th></th>\n",
       "      <th>label</th>\n",
       "      <th>assay</th>\n",
       "    </tr>\n",
       "  </thead>\n",
       "  <tbody>\n",
       "    <tr>\n",
       "      <th>1</th>\n",
       "      <td>a</td>\n",
       "      <td>2L_20674783_a</td>\n",
       "    </tr>\n",
       "    <tr>\n",
       "      <th>2</th>\n",
       "      <td>a</td>\n",
       "      <td>2L_20726658_a</td>\n",
       "    </tr>\n",
       "    <tr>\n",
       "      <th>3</th>\n",
       "      <td>a</td>\n",
       "      <td>2L_20813877_a</td>\n",
       "    </tr>\n",
       "    <tr>\n",
       "      <th>4</th>\n",
       "      <td>a</td>\n",
       "      <td>2L_20995428_a</td>\n",
       "    </tr>\n",
       "    <tr>\n",
       "      <th>5</th>\n",
       "      <td>a</td>\n",
       "      <td>2L_21120275_a</td>\n",
       "    </tr>\n",
       "  </tbody>\n",
       "</table>\n",
       "</div>"
      ],
      "text/plain": [
       "  label          assay\n",
       "1     a  2L_20674783_a\n",
       "2     a  2L_20726658_a\n",
       "3     a  2L_20813877_a\n",
       "4     a  2L_20995428_a\n",
       "5     a  2L_21120275_a"
      ]
     },
     "execution_count": 4,
     "metadata": {},
     "output_type": "execute_result"
    }
   ],
   "source": [
    "amp_SNPs = amp_SNPs[1:]\n",
    "\n",
    "amp_SNPs.head()"
   ]
  },
  {
   "cell_type": "markdown",
   "metadata": {},
   "source": [
    "##### clean and reformat"
   ]
  },
  {
   "cell_type": "code",
   "execution_count": 5,
   "metadata": {},
   "outputs": [
    {
     "data": {
      "text/html": [
       "<div>\n",
       "<style scoped>\n",
       "    .dataframe tbody tr th:only-of-type {\n",
       "        vertical-align: middle;\n",
       "    }\n",
       "\n",
       "    .dataframe tbody tr th {\n",
       "        vertical-align: top;\n",
       "    }\n",
       "\n",
       "    .dataframe thead th {\n",
       "        text-align: right;\n",
       "    }\n",
       "</style>\n",
       "<table border=\"1\" class=\"dataframe\">\n",
       "  <thead>\n",
       "    <tr style=\"text-align: right;\">\n",
       "      <th></th>\n",
       "      <th>label</th>\n",
       "      <th>assay</th>\n",
       "      <th>chrom</th>\n",
       "      <th>pos</th>\n",
       "    </tr>\n",
       "  </thead>\n",
       "  <tbody>\n",
       "    <tr>\n",
       "      <th>1</th>\n",
       "      <td>a</td>\n",
       "      <td>2L_20674783_a</td>\n",
       "      <td>2L</td>\n",
       "      <td>20674783</td>\n",
       "    </tr>\n",
       "    <tr>\n",
       "      <th>2</th>\n",
       "      <td>a</td>\n",
       "      <td>2L_20726658_a</td>\n",
       "      <td>2L</td>\n",
       "      <td>20726658</td>\n",
       "    </tr>\n",
       "    <tr>\n",
       "      <th>3</th>\n",
       "      <td>a</td>\n",
       "      <td>2L_20813877_a</td>\n",
       "      <td>2L</td>\n",
       "      <td>20813877</td>\n",
       "    </tr>\n",
       "    <tr>\n",
       "      <th>4</th>\n",
       "      <td>a</td>\n",
       "      <td>2L_20995428_a</td>\n",
       "      <td>2L</td>\n",
       "      <td>20995428</td>\n",
       "    </tr>\n",
       "    <tr>\n",
       "      <th>5</th>\n",
       "      <td>a</td>\n",
       "      <td>2L_21120275_a</td>\n",
       "      <td>2L</td>\n",
       "      <td>21120275</td>\n",
       "    </tr>\n",
       "  </tbody>\n",
       "</table>\n",
       "</div>"
      ],
      "text/plain": [
       "  label          assay chrom       pos\n",
       "1     a  2L_20674783_a    2L  20674783\n",
       "2     a  2L_20726658_a    2L  20726658\n",
       "3     a  2L_20813877_a    2L  20813877\n",
       "4     a  2L_20995428_a    2L  20995428\n",
       "5     a  2L_21120275_a    2L  21120275"
      ]
     },
     "execution_count": 5,
     "metadata": {},
     "output_type": "execute_result"
    }
   ],
   "source": [
    "amp_SNPs[\"chrom\"] = amp_SNPs[\"assay\"].str.split(\"_\", expand=True)[0]\n",
    "amp_SNPs[\"pos\"] = amp_SNPs[\"assay\"].str.split(\"_\", expand=True)[1]\n",
    "amp_SNPs[\"pos\"] = amp_SNPs[\"pos\"].astype(int)\n",
    "\n",
    "amp_SNPs.head()"
   ]
  },
  {
   "cell_type": "code",
   "execution_count": 6,
   "metadata": {},
   "outputs": [
    {
     "data": {
      "text/html": [
       "<div>\n",
       "<style scoped>\n",
       "    .dataframe tbody tr th:only-of-type {\n",
       "        vertical-align: middle;\n",
       "    }\n",
       "\n",
       "    .dataframe tbody tr th {\n",
       "        vertical-align: top;\n",
       "    }\n",
       "\n",
       "    .dataframe thead th {\n",
       "        text-align: right;\n",
       "    }\n",
       "</style>\n",
       "<table border=\"1\" class=\"dataframe\">\n",
       "  <thead>\n",
       "    <tr style=\"text-align: right;\">\n",
       "      <th></th>\n",
       "      <th>label</th>\n",
       "      <th>pos</th>\n",
       "    </tr>\n",
       "  </thead>\n",
       "  <tbody>\n",
       "    <tr>\n",
       "      <th>0</th>\n",
       "      <td>NaN</td>\n",
       "      <td>NaN</td>\n",
       "    </tr>\n",
       "    <tr>\n",
       "      <th>1</th>\n",
       "      <td>a</td>\n",
       "      <td>20546192.0</td>\n",
       "    </tr>\n",
       "    <tr>\n",
       "      <th>2</th>\n",
       "      <td>a</td>\n",
       "      <td>20731296.0</td>\n",
       "    </tr>\n",
       "    <tr>\n",
       "      <th>3</th>\n",
       "      <td>a</td>\n",
       "      <td>20816241.0</td>\n",
       "    </tr>\n",
       "    <tr>\n",
       "      <th>4</th>\n",
       "      <td>a</td>\n",
       "      <td>21590819.0</td>\n",
       "    </tr>\n",
       "  </tbody>\n",
       "</table>\n",
       "</div>"
      ],
      "text/plain": [
       "  label         pos\n",
       "0   NaN         NaN\n",
       "1     a  20546192.0\n",
       "2     a  20731296.0\n",
       "3     a  20816241.0\n",
       "4     a  21590819.0"
      ]
     },
     "execution_count": 6,
     "metadata": {},
     "output_type": "execute_result"
    }
   ],
   "source": [
    "oa_SNPs = pd.read_csv(oa_base + \"/oa_SNP_list.041320.csv\")\n",
    "\n",
    "oa_SNPs.head()"
   ]
  },
  {
   "cell_type": "code",
   "execution_count": 7,
   "metadata": {},
   "outputs": [
    {
     "data": {
      "text/html": [
       "<div>\n",
       "<style scoped>\n",
       "    .dataframe tbody tr th:only-of-type {\n",
       "        vertical-align: middle;\n",
       "    }\n",
       "\n",
       "    .dataframe tbody tr th {\n",
       "        vertical-align: top;\n",
       "    }\n",
       "\n",
       "    .dataframe thead th {\n",
       "        text-align: right;\n",
       "    }\n",
       "</style>\n",
       "<table border=\"1\" class=\"dataframe\">\n",
       "  <thead>\n",
       "    <tr style=\"text-align: right;\">\n",
       "      <th></th>\n",
       "      <th>label</th>\n",
       "      <th>pos</th>\n",
       "    </tr>\n",
       "  </thead>\n",
       "  <tbody>\n",
       "    <tr>\n",
       "      <th>1</th>\n",
       "      <td>a</td>\n",
       "      <td>20546192</td>\n",
       "    </tr>\n",
       "    <tr>\n",
       "      <th>2</th>\n",
       "      <td>a</td>\n",
       "      <td>20731296</td>\n",
       "    </tr>\n",
       "    <tr>\n",
       "      <th>3</th>\n",
       "      <td>a</td>\n",
       "      <td>20816241</td>\n",
       "    </tr>\n",
       "    <tr>\n",
       "      <th>4</th>\n",
       "      <td>a</td>\n",
       "      <td>21590819</td>\n",
       "    </tr>\n",
       "    <tr>\n",
       "      <th>5</th>\n",
       "      <td>a</td>\n",
       "      <td>21687929</td>\n",
       "    </tr>\n",
       "  </tbody>\n",
       "</table>\n",
       "</div>"
      ],
      "text/plain": [
       "  label       pos\n",
       "1     a  20546192\n",
       "2     a  20731296\n",
       "3     a  20816241\n",
       "4     a  21590819\n",
       "5     a  21687929"
      ]
     },
     "execution_count": 7,
     "metadata": {},
     "output_type": "execute_result"
    }
   ],
   "source": [
    "oa_SNPs = oa_SNPs[1:]\n",
    "oa_SNPs[\"pos\"] = oa_SNPs[\"pos\"].astype(int)\n",
    "\n",
    "oa_SNPs.head()"
   ]
  },
  {
   "cell_type": "markdown",
   "metadata": {},
   "source": [
    "##### also read in the targets for the in silico approach"
   ]
  },
  {
   "cell_type": "code",
   "execution_count": 8,
   "metadata": {},
   "outputs": [],
   "source": [
    "comp_base = \"/afs/crc.nd.edu/group/BesanskyNGS/data05/comp_karyo/data\""
   ]
  },
  {
   "cell_type": "code",
   "execution_count": 9,
   "metadata": {},
   "outputs": [],
   "source": [
    "a_top = pd.read_csv(comp_base + \"/results/2La/comp/predictive_SNPs_train_set_0995_110918.tsv\",\n",
    "               sep = \"\\t\", header=None)\n",
    "\n",
    "j_top = pd.read_csv(comp_base + \"/results/2Rj/comp/predictive_SNPs_train_set_08_110918.tsv\",\n",
    "               sep = \"\\t\", header=None)\n",
    "\n",
    "b_top = pd.read_csv(comp_base + \"/results/2Rb/comp/predictive_SNPs_train_set_08_110918.tsv\",\n",
    "               sep = \"\\t\", header=None)\n",
    "\n",
    "c_col_top =\\\n",
    "pd.read_csv(comp_base + \"/results/2Rc/comp/col_predictive_SNPs_train_set_08_031919.tsv\",\n",
    "                       sep = \"\\t\", header=None)\n",
    "\n",
    "c_gam_top =\\\n",
    "pd.read_csv(comp_base + \"/results/2Rc/comp/gam_ss_predictive_SNPs_train_set_08_031919.tsv\",\n",
    "           sep = \"\\t\", header=None)\n",
    "\n",
    "u_top = pd.read_csv(comp_base + \"/results/2Ru/comp/predictive_SNPs_train_set_08_110918.tsv\",\n",
    "               sep = \"\\t\", header=None)\n",
    "\n",
    "d_top = pd.read_csv(comp_base + \"/results/2Rd/comp/predictive_SNPs_train_set_08_052619.tsv\",\n",
    "               sep = \"\\t\", header=None)"
   ]
  },
  {
   "cell_type": "markdown",
   "metadata": {},
   "source": [
    "##### reformat"
   ]
  },
  {
   "cell_type": "code",
   "execution_count": 10,
   "metadata": {},
   "outputs": [
    {
     "data": {
      "text/html": [
       "<div>\n",
       "<style scoped>\n",
       "    .dataframe tbody tr th:only-of-type {\n",
       "        vertical-align: middle;\n",
       "    }\n",
       "\n",
       "    .dataframe tbody tr th {\n",
       "        vertical-align: top;\n",
       "    }\n",
       "\n",
       "    .dataframe thead th {\n",
       "        text-align: right;\n",
       "    }\n",
       "</style>\n",
       "<table border=\"1\" class=\"dataframe\">\n",
       "  <thead>\n",
       "    <tr style=\"text-align: right;\">\n",
       "      <th></th>\n",
       "      <th>chrom</th>\n",
       "      <th>pos</th>\n",
       "      <th>label</th>\n",
       "    </tr>\n",
       "  </thead>\n",
       "  <tbody>\n",
       "    <tr>\n",
       "      <th>0</th>\n",
       "      <td>2L</td>\n",
       "      <td>20528221</td>\n",
       "      <td>a</td>\n",
       "    </tr>\n",
       "    <tr>\n",
       "      <th>1</th>\n",
       "      <td>2L</td>\n",
       "      <td>20542311</td>\n",
       "      <td>a</td>\n",
       "    </tr>\n",
       "    <tr>\n",
       "      <th>2</th>\n",
       "      <td>2L</td>\n",
       "      <td>20542372</td>\n",
       "      <td>a</td>\n",
       "    </tr>\n",
       "    <tr>\n",
       "      <th>3</th>\n",
       "      <td>2L</td>\n",
       "      <td>20542904</td>\n",
       "      <td>a</td>\n",
       "    </tr>\n",
       "    <tr>\n",
       "      <th>4</th>\n",
       "      <td>2L</td>\n",
       "      <td>20546192</td>\n",
       "      <td>a</td>\n",
       "    </tr>\n",
       "  </tbody>\n",
       "</table>\n",
       "</div>"
      ],
      "text/plain": [
       "  chrom       pos label\n",
       "0    2L  20528221     a\n",
       "1    2L  20542311     a\n",
       "2    2L  20542372     a\n",
       "3    2L  20542904     a\n",
       "4    2L  20546192     a"
      ]
     },
     "execution_count": 10,
     "metadata": {},
     "output_type": "execute_result"
    }
   ],
   "source": [
    "a_top[\"chrom\"] = \"2L\"\n",
    "a_top[\"label\"] = \"a\"\n",
    "\n",
    "j_top[\"chrom\"] = \"2R\"\n",
    "j_top[\"label\"] = \"j\"\n",
    "\n",
    "b_top[\"chrom\"] = \"2R\"\n",
    "b_top[\"label\"] = \"b\"\n",
    "\n",
    "c_col_top[\"chrom\"] = \"2R\"\n",
    "c_col_top[\"label\"] = \"c_col\"\n",
    "\n",
    "c_gam_top[\"chrom\"] = \"2R\"\n",
    "c_gam_top[\"label\"] = \"c_gam\"\n",
    "\n",
    "u_top[\"chrom\"] = \"2R\"\n",
    "u_top[\"label\"] = \"u\"\n",
    "\n",
    "d_top[\"chrom\"] = \"2R\"\n",
    "d_top[\"label\"] = \"d\"\n",
    "\n",
    "comp = pd.concat([a_top, j_top, b_top, c_col_top, c_gam_top, u_top, d_top])\n",
    "\n",
    "comp.rename(columns = {0 : \"pos\"}, inplace=True)\n",
    "\n",
    "comp = comp[[\"chrom\",\"pos\",\"label\"]]\n",
    "\n",
    "comp.head()"
   ]
  },
  {
   "cell_type": "markdown",
   "metadata": {},
   "source": [
    "##### check that labels are in same order for all three data sets"
   ]
  },
  {
   "cell_type": "code",
   "execution_count": 11,
   "metadata": {},
   "outputs": [
    {
     "data": {
      "text/plain": [
       "array(['a', 'j', 'b', 'c_col', 'c_gam', 'u', 'd'], dtype=object)"
      ]
     },
     "execution_count": 11,
     "metadata": {},
     "output_type": "execute_result"
    }
   ],
   "source": [
    "comp[\"label\"].unique()"
   ]
  },
  {
   "cell_type": "code",
   "execution_count": 12,
   "metadata": {},
   "outputs": [
    {
     "data": {
      "text/plain": [
       "array([ True,  True,  True,  True,  True,  True,  True])"
      ]
     },
     "execution_count": 12,
     "metadata": {},
     "output_type": "execute_result"
    }
   ],
   "source": [
    "comp[\"label\"].unique() == amp_SNPs[\"label\"].unique()"
   ]
  },
  {
   "cell_type": "code",
   "execution_count": 13,
   "metadata": {},
   "outputs": [
    {
     "data": {
      "text/plain": [
       "array([ True,  True,  True,  True,  True,  True,  True])"
      ]
     },
     "execution_count": 13,
     "metadata": {},
     "output_type": "execute_result"
    }
   ],
   "source": [
    "amp_SNPs[\"label\"].unique() == oa_SNPs[\"label\"].unique()"
   ]
  },
  {
   "cell_type": "code",
   "execution_count": 14,
   "metadata": {},
   "outputs": [],
   "source": [
    "inversions_dummy = [\"a\", \"dummy\", \"j\", \"b\", \"c_col\", \"c_gam\", \"d\", \"u\"]"
   ]
  },
  {
   "cell_type": "markdown",
   "metadata": {},
   "source": [
    "##### create Venn diagrams"
   ]
  },
  {
   "cell_type": "code",
   "execution_count": 15,
   "metadata": {},
   "outputs": [
    {
     "data": {
      "image/png": "[encoded data removed]",
      "text/plain": [
       "<Figure size 576x1152 with 8 Axes>"
      ]
     },
     "metadata": {
      "needs_background": "light"
     },
     "output_type": "display_data"
    }
   ],
   "source": [
    "fig, axes = plt.subplots(nrows=4, ncols=2, figsize=(8,16))\n",
    "\n",
    "for i, inversion in enumerate(inversions_dummy):\n",
    "    \n",
    "    if inversion == \"dummy\":\n",
    "        \n",
    "        axes.flatten()[i].axis('off')\n",
    "        \n",
    "    else:\n",
    "    \n",
    "        v1 = venn3_unweighted(subsets=(set(amp_SNPs.loc[amp_SNPs[\"label\"] == inversion, \"pos\"]), \n",
    "                        set(oa_SNPs.loc[oa_SNPs[\"label\"] == inversion, \"pos\"]),\n",
    "                       set(comp.loc[comp[\"label\"] == inversion, \"pos\"])), \n",
    "              set_labels = (\"GT-seq\", \"OA\", \"In silico\"), alpha = 0.4, \n",
    "                   ax=axes.flatten()[i])\n",
    "\n",
    "        for label in v1.set_labels: label.set_fontsize(15)\n",
    "        for label in v1.subset_labels: \n",
    "            if label is not None:\n",
    "                label.set_fontsize(15)\n",
    "\n",
    "        axes.flatten()[i].set_title(inversion, fontsize=25, y = 0.95)\n",
    "\n",
    "plt.tight_layout()\n",
    "            \n",
    "outString = ingenos.make_date_stamp(\n",
    "    amp_base + \"/results/three_methods_snp_overlap_a\")\n",
    "\n",
    "#plt.savefig(outString);"
   ]
  }
 ],
 "metadata": {
  "kernelspec": {
   "display_name": "Python 3",
   "language": "python",
   "name": "python3"
  },
  "language_info": {
   "codemirror_mode": {
    "name": "ipython",
    "version": 3
   },
   "file_extension": ".py",
   "mimetype": "text/x-python",
   "name": "python",
   "nbconvert_exporter": "python",
   "pygments_lexer": "ipython3",
   "version": "3.7.3"
  }
 },
 "nbformat": 4,
 "nbformat_minor": 2
}
