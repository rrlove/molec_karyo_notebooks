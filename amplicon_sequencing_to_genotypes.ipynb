{
 "cells": [
  {
   "cell_type": "markdown",
   "metadata": {},
   "source": [
    "## generating genotypes from amplicon sequencing data"
   ]
  },
  {
   "cell_type": "code",
   "execution_count": 1,
   "metadata": {},
   "outputs": [],
   "source": [
    "import ingenos\n",
    "import matplotlib\n",
    "import matplotlib.pyplot as plt\n",
    "import numpy as np\n",
    "import pandas as pd\n",
    "import re"
   ]
  },
  {
   "cell_type": "markdown",
   "metadata": {},
   "source": [
    "##### set base directory"
   ]
  },
  {
   "cell_type": "code",
   "execution_count": 2,
   "metadata": {},
   "outputs": [],
   "source": [
    "base = \"/afs/crc.nd.edu/group/BesanskyNGS/data05/comp_karyo/data/amplicon_sequencing\""
   ]
  },
  {
   "cell_type": "markdown",
   "metadata": {},
   "source": [
    "##### read in data"
   ]
  },
  {
   "cell_type": "code",
   "execution_count": 3,
   "metadata": {},
   "outputs": [],
   "source": [
    "output = pd.read_csv(base + \"/no_pilot_data_output/gambiae_genotypes.csv\", index_col=False)\n",
    "\n",
    "trimmed = output.set_index(\"Sample\").iloc[:,5:]\n",
    "\n",
    "column_list =\\\n",
    "[\"_\".join(item[2:]) for item in output.set_index(\"Sample\").iloc[:,5:].columns.str.split('_')]"
   ]
  },
  {
   "cell_type": "markdown",
   "metadata": {},
   "source": [
    "##### add species information to the raw data, the calls"
   ]
  },
  {
   "cell_type": "code",
   "execution_count": 4,
   "metadata": {},
   "outputs": [
    {
     "data": {
      "text/html": [
       "<div>\n",
       "<style scoped>\n",
       "    .dataframe tbody tr th:only-of-type {\n",
       "        vertical-align: middle;\n",
       "    }\n",
       "\n",
       "    .dataframe tbody tr th {\n",
       "        vertical-align: top;\n",
       "    }\n",
       "\n",
       "    .dataframe thead th {\n",
       "        text-align: right;\n",
       "    }\n",
       "</style>\n",
       "<table border=\"1\" class=\"dataframe\">\n",
       "  <thead>\n",
       "    <tr style=\"text-align: right;\">\n",
       "      <th></th>\n",
       "      <th>Plate name</th>\n",
       "      <th>Row</th>\n",
       "      <th>Column</th>\n",
       "      <th>VOLUME</th>\n",
       "      <th>CONC</th>\n",
       "      <th>tubeID</th>\n",
       "      <th>village</th>\n",
       "      <th>taxon</th>\n",
       "      <th>Xchrom</th>\n",
       "      <th>j</th>\n",
       "      <th>...</th>\n",
       "      <th>d</th>\n",
       "      <th>u</th>\n",
       "      <th>2La</th>\n",
       "      <th>karyotype</th>\n",
       "      <th>ovaries</th>\n",
       "      <th>notes1</th>\n",
       "      <th>Reader</th>\n",
       "      <th>Priority of extraction</th>\n",
       "      <th>Corrected</th>\n",
       "      <th>Uncertain</th>\n",
       "    </tr>\n",
       "  </thead>\n",
       "  <tbody>\n",
       "    <tr>\n",
       "      <th>0</th>\n",
       "      <td>PLATE_01</td>\n",
       "      <td>A</td>\n",
       "      <td>1</td>\n",
       "      <td>25UL</td>\n",
       "      <td>NaN</td>\n",
       "      <td>BF0600001</td>\n",
       "      <td>Kagamzince</td>\n",
       "      <td>M</td>\n",
       "      <td>ag</td>\n",
       "      <td>0</td>\n",
       "      <td>...</td>\n",
       "      <td>0</td>\n",
       "      <td>1</td>\n",
       "      <td>2</td>\n",
       "      <td>-1--12</td>\n",
       "      <td>h</td>\n",
       "      <td>NaN</td>\n",
       "      <td>MP</td>\n",
       "      <td>1</td>\n",
       "      <td>no</td>\n",
       "      <td>no</td>\n",
       "    </tr>\n",
       "    <tr>\n",
       "      <th>1</th>\n",
       "      <td>PLATE_01</td>\n",
       "      <td>A</td>\n",
       "      <td>2</td>\n",
       "      <td>25UL</td>\n",
       "      <td>NaN</td>\n",
       "      <td>BF0600005</td>\n",
       "      <td>Kagamzince</td>\n",
       "      <td>M</td>\n",
       "      <td>ag</td>\n",
       "      <td>0</td>\n",
       "      <td>...</td>\n",
       "      <td>1</td>\n",
       "      <td>0</td>\n",
       "      <td>2</td>\n",
       "      <td>-1-1-2</td>\n",
       "      <td>h</td>\n",
       "      <td>NaN</td>\n",
       "      <td>MP</td>\n",
       "      <td>1</td>\n",
       "      <td>no</td>\n",
       "      <td>no</td>\n",
       "    </tr>\n",
       "    <tr>\n",
       "      <th>2</th>\n",
       "      <td>PLATE_01</td>\n",
       "      <td>A</td>\n",
       "      <td>3</td>\n",
       "      <td>25UL</td>\n",
       "      <td>NaN</td>\n",
       "      <td>BF0600012</td>\n",
       "      <td>Kagamzince</td>\n",
       "      <td>M</td>\n",
       "      <td>ag</td>\n",
       "      <td>0</td>\n",
       "      <td>...</td>\n",
       "      <td>0</td>\n",
       "      <td>0</td>\n",
       "      <td>2</td>\n",
       "      <td>-1---2</td>\n",
       "      <td>NaN</td>\n",
       "      <td>NaN</td>\n",
       "      <td>GM</td>\n",
       "      <td>3</td>\n",
       "      <td>no</td>\n",
       "      <td>no</td>\n",
       "    </tr>\n",
       "    <tr>\n",
       "      <th>3</th>\n",
       "      <td>PLATE_01</td>\n",
       "      <td>A</td>\n",
       "      <td>4</td>\n",
       "      <td>25UL</td>\n",
       "      <td>NaN</td>\n",
       "      <td>BF0600024</td>\n",
       "      <td>Kagamzince</td>\n",
       "      <td>M</td>\n",
       "      <td>ag</td>\n",
       "      <td>0</td>\n",
       "      <td>...</td>\n",
       "      <td>1</td>\n",
       "      <td>0</td>\n",
       "      <td>2</td>\n",
       "      <td>-1-1-2</td>\n",
       "      <td>NaN</td>\n",
       "      <td>NaN</td>\n",
       "      <td>GM</td>\n",
       "      <td>3</td>\n",
       "      <td>no</td>\n",
       "      <td>no</td>\n",
       "    </tr>\n",
       "    <tr>\n",
       "      <th>4</th>\n",
       "      <td>PLATE_01</td>\n",
       "      <td>A</td>\n",
       "      <td>5</td>\n",
       "      <td>25UL</td>\n",
       "      <td>NaN</td>\n",
       "      <td>BF0600028</td>\n",
       "      <td>Kagamzince</td>\n",
       "      <td>M</td>\n",
       "      <td>ag</td>\n",
       "      <td>0</td>\n",
       "      <td>...</td>\n",
       "      <td>0</td>\n",
       "      <td>0</td>\n",
       "      <td>2</td>\n",
       "      <td>-11--2</td>\n",
       "      <td>NaN</td>\n",
       "      <td>NaN</td>\n",
       "      <td>GM</td>\n",
       "      <td>3</td>\n",
       "      <td>no</td>\n",
       "      <td>no</td>\n",
       "    </tr>\n",
       "  </tbody>\n",
       "</table>\n",
       "<p>5 rows × 22 columns</p>\n",
       "</div>"
      ],
      "text/plain": [
       "  Plate name Row  Column VOLUME  CONC     tubeID     village taxon Xchrom  j  \\\n",
       "0   PLATE_01   A       1   25UL   NaN  BF0600001  Kagamzince     M     ag  0   \n",
       "1   PLATE_01   A       2   25UL   NaN  BF0600005  Kagamzince     M     ag  0   \n",
       "2   PLATE_01   A       3   25UL   NaN  BF0600012  Kagamzince     M     ag  0   \n",
       "3   PLATE_01   A       4   25UL   NaN  BF0600024  Kagamzince     M     ag  0   \n",
       "4   PLATE_01   A       5   25UL   NaN  BF0600028  Kagamzince     M     ag  0   \n",
       "\n",
       "   ...  d  u  2La  karyotype  ovaries notes1 Reader Priority of extraction  \\\n",
       "0  ...  0  1    2     -1--12        h    NaN     MP                      1   \n",
       "1  ...  1  0    2     -1-1-2        h    NaN     MP                      1   \n",
       "2  ...  0  0    2     -1---2      NaN    NaN     GM                      3   \n",
       "3  ...  1  0    2     -1-1-2      NaN    NaN     GM                      3   \n",
       "4  ...  0  0    2     -11--2      NaN    NaN     GM                      3   \n",
       "\n",
       "  Corrected  Uncertain  \n",
       "0        no         no  \n",
       "1        no         no  \n",
       "2        no         no  \n",
       "3        no         no  \n",
       "4        no         no  \n",
       "\n",
       "[5 rows x 22 columns]"
      ]
     },
     "execution_count": 4,
     "metadata": {},
     "output_type": "execute_result"
    }
   ],
   "source": [
    "cyto = pd.read_excel(\n",
    "    base + \"/metadata/AGAM_All_10_Plates_updated_040820.xls\")\n",
    "\n",
    "cyto.head()"
   ]
  },
  {
   "cell_type": "markdown",
   "metadata": {},
   "source": [
    "##### clean the metadata: keep only the necessary columns, standardize values, and rename columns"
   ]
  },
  {
   "cell_type": "code",
   "execution_count": 5,
   "metadata": {},
   "outputs": [],
   "source": [
    "cyto = cyto[[\"Plate name\", \"Row\", \"Column\", \"tubeID\", \"village\",\"taxon\",\"Xchrom\",\"2La\",\"j\",\n",
    "             \"b\",\"c\",\"d\",\"u\", \"Uncertain\"]]\n",
    "\n",
    "cyto.rename(columns = {\"2La\" : \"a_cyto\",\n",
    "                      \"j\" : \"j_cyto\",\n",
    "                      \"b\" : \"b_cyto\",\n",
    "                      \"c\" : \"c_cyto\",\n",
    "                      \"d\" : \"d_cyto\",\n",
    "                      \"u\" : \"u_cyto\",\n",
    "                      \"taxon\" : \"species\"}, inplace=True)\n",
    "\n",
    "cyto[\"Specimen\"] = cyto[\"Plate name\"].replace(\n",
    "    regex=True, to_replace=\"_0\", value=\"\").replace(\n",
    "    regex=True, to_replace=\"_\", value=\"\") +\\\n",
    "\"_\" + cyto[\"Row\"].map(str) + cyto[\"Column\"].astype(str).str.zfill(2)"
   ]
  },
  {
   "cell_type": "markdown",
   "metadata": {},
   "source": [
    "##### trim and rename the indices for the calls"
   ]
  },
  {
   "cell_type": "code",
   "execution_count": 6,
   "metadata": {},
   "outputs": [
    {
     "data": {
      "text/html": [
       "<div>\n",
       "<style scoped>\n",
       "    .dataframe tbody tr th:only-of-type {\n",
       "        vertical-align: middle;\n",
       "    }\n",
       "\n",
       "    .dataframe tbody tr th {\n",
       "        vertical-align: top;\n",
       "    }\n",
       "\n",
       "    .dataframe thead th {\n",
       "        text-align: right;\n",
       "    }\n",
       "</style>\n",
       "<table border=\"1\" class=\"dataframe\">\n",
       "  <thead>\n",
       "    <tr style=\"text-align: right;\">\n",
       "      <th></th>\n",
       "      <th></th>\n",
       "      <th>Sample</th>\n",
       "      <th>2L_20674783_a</th>\n",
       "      <th>2L_20726658_a</th>\n",
       "      <th>2L_20813877_a</th>\n",
       "      <th>2L_20995428_a</th>\n",
       "      <th>2L_21120275_a</th>\n",
       "      <th>2L_21148772_a</th>\n",
       "      <th>2L_21315321_a</th>\n",
       "      <th>2L_21476016_a</th>\n",
       "      <th>2L_21565787_a</th>\n",
       "      <th>...</th>\n",
       "      <th>2R_36220209_d</th>\n",
       "      <th>2R_36220633_d</th>\n",
       "      <th>2R_36235759_d</th>\n",
       "      <th>2R_36275729_d</th>\n",
       "      <th>2R_36462129_d</th>\n",
       "      <th>2R_38275741_d</th>\n",
       "      <th>2R_38612599_d</th>\n",
       "      <th>2R_39968694_d</th>\n",
       "      <th>2R_42168396_d</th>\n",
       "      <th>2R_42235046_d</th>\n",
       "    </tr>\n",
       "    <tr>\n",
       "      <th>Specimen</th>\n",
       "      <th>species</th>\n",
       "      <th></th>\n",
       "      <th></th>\n",
       "      <th></th>\n",
       "      <th></th>\n",
       "      <th></th>\n",
       "      <th></th>\n",
       "      <th></th>\n",
       "      <th></th>\n",
       "      <th></th>\n",
       "      <th></th>\n",
       "      <th></th>\n",
       "      <th></th>\n",
       "      <th></th>\n",
       "      <th></th>\n",
       "      <th></th>\n",
       "      <th></th>\n",
       "      <th></th>\n",
       "      <th></th>\n",
       "      <th></th>\n",
       "      <th></th>\n",
       "      <th></th>\n",
       "    </tr>\n",
       "  </thead>\n",
       "  <tbody>\n",
       "    <tr>\n",
       "      <th>PLATE2_A01</th>\n",
       "      <th>M</th>\n",
       "      <td>GTseq_003_GTseq-i5_01_Plate2_A01</td>\n",
       "      <td>0</td>\n",
       "      <td>0</td>\n",
       "      <td>0</td>\n",
       "      <td>0</td>\n",
       "      <td>0</td>\n",
       "      <td>0</td>\n",
       "      <td>0</td>\n",
       "      <td>0</td>\n",
       "      <td>0</td>\n",
       "      <td>...</td>\n",
       "      <td>0</td>\n",
       "      <td>0</td>\n",
       "      <td>0</td>\n",
       "      <td>0</td>\n",
       "      <td>0</td>\n",
       "      <td>0</td>\n",
       "      <td>0</td>\n",
       "      <td>0</td>\n",
       "      <td>0</td>\n",
       "      <td>0</td>\n",
       "    </tr>\n",
       "    <tr>\n",
       "      <th>PLATE2_B01</th>\n",
       "      <th>S</th>\n",
       "      <td>GTseq_003_GTseq-i5_02_Plate2_B01</td>\n",
       "      <td>0</td>\n",
       "      <td>0</td>\n",
       "      <td>0</td>\n",
       "      <td>0</td>\n",
       "      <td>0</td>\n",
       "      <td>0</td>\n",
       "      <td>0</td>\n",
       "      <td>0</td>\n",
       "      <td>0</td>\n",
       "      <td>...</td>\n",
       "      <td>0</td>\n",
       "      <td>0</td>\n",
       "      <td>0</td>\n",
       "      <td>0</td>\n",
       "      <td>0</td>\n",
       "      <td>0</td>\n",
       "      <td>0</td>\n",
       "      <td>0</td>\n",
       "      <td>0</td>\n",
       "      <td>0</td>\n",
       "    </tr>\n",
       "    <tr>\n",
       "      <th>PLATE2_C01</th>\n",
       "      <th>S</th>\n",
       "      <td>GTseq_003_GTseq-i5_03_Plate2_C01</td>\n",
       "      <td>0</td>\n",
       "      <td>0</td>\n",
       "      <td>0</td>\n",
       "      <td>0</td>\n",
       "      <td>0</td>\n",
       "      <td>0</td>\n",
       "      <td>0</td>\n",
       "      <td>0</td>\n",
       "      <td>0</td>\n",
       "      <td>...</td>\n",
       "      <td>0</td>\n",
       "      <td>0</td>\n",
       "      <td>0</td>\n",
       "      <td>0</td>\n",
       "      <td>0</td>\n",
       "      <td>0</td>\n",
       "      <td>0</td>\n",
       "      <td>0</td>\n",
       "      <td>0</td>\n",
       "      <td>0</td>\n",
       "    </tr>\n",
       "    <tr>\n",
       "      <th>PLATE2_D01</th>\n",
       "      <th>M</th>\n",
       "      <td>GTseq_003_GTseq-i5_04_Plate2_D01</td>\n",
       "      <td>22</td>\n",
       "      <td>22</td>\n",
       "      <td>22</td>\n",
       "      <td>22</td>\n",
       "      <td>22</td>\n",
       "      <td>22</td>\n",
       "      <td>22</td>\n",
       "      <td>22</td>\n",
       "      <td>22</td>\n",
       "      <td>...</td>\n",
       "      <td>11</td>\n",
       "      <td>11</td>\n",
       "      <td>12</td>\n",
       "      <td>11</td>\n",
       "      <td>11</td>\n",
       "      <td>11</td>\n",
       "      <td>11</td>\n",
       "      <td>11</td>\n",
       "      <td>11</td>\n",
       "      <td>11</td>\n",
       "    </tr>\n",
       "    <tr>\n",
       "      <th>PLATE2_E01</th>\n",
       "      <th>M</th>\n",
       "      <td>GTseq_003_GTseq-i5_05_Plate2_E01</td>\n",
       "      <td>22</td>\n",
       "      <td>22</td>\n",
       "      <td>22</td>\n",
       "      <td>22</td>\n",
       "      <td>22</td>\n",
       "      <td>22</td>\n",
       "      <td>22</td>\n",
       "      <td>22</td>\n",
       "      <td>22</td>\n",
       "      <td>...</td>\n",
       "      <td>11</td>\n",
       "      <td>11</td>\n",
       "      <td>11</td>\n",
       "      <td>11</td>\n",
       "      <td>11</td>\n",
       "      <td>11</td>\n",
       "      <td>11</td>\n",
       "      <td>11</td>\n",
       "      <td>11</td>\n",
       "      <td>11</td>\n",
       "    </tr>\n",
       "  </tbody>\n",
       "</table>\n",
       "<p>5 rows × 154 columns</p>\n",
       "</div>"
      ],
      "text/plain": [
       "                                              Sample  2L_20674783_a  \\\n",
       "Specimen   species                                                    \n",
       "PLATE2_A01 M        GTseq_003_GTseq-i5_01_Plate2_A01              0   \n",
       "PLATE2_B01 S        GTseq_003_GTseq-i5_02_Plate2_B01              0   \n",
       "PLATE2_C01 S        GTseq_003_GTseq-i5_03_Plate2_C01              0   \n",
       "PLATE2_D01 M        GTseq_003_GTseq-i5_04_Plate2_D01             22   \n",
       "PLATE2_E01 M        GTseq_003_GTseq-i5_05_Plate2_E01             22   \n",
       "\n",
       "                    2L_20726658_a  2L_20813877_a  2L_20995428_a  \\\n",
       "Specimen   species                                                \n",
       "PLATE2_A01 M                    0              0              0   \n",
       "PLATE2_B01 S                    0              0              0   \n",
       "PLATE2_C01 S                    0              0              0   \n",
       "PLATE2_D01 M                   22             22             22   \n",
       "PLATE2_E01 M                   22             22             22   \n",
       "\n",
       "                    2L_21120275_a  2L_21148772_a  2L_21315321_a  \\\n",
       "Specimen   species                                                \n",
       "PLATE2_A01 M                    0              0              0   \n",
       "PLATE2_B01 S                    0              0              0   \n",
       "PLATE2_C01 S                    0              0              0   \n",
       "PLATE2_D01 M                   22             22             22   \n",
       "PLATE2_E01 M                   22             22             22   \n",
       "\n",
       "                    2L_21476016_a  2L_21565787_a  ...  2R_36220209_d  \\\n",
       "Specimen   species                                ...                  \n",
       "PLATE2_A01 M                    0              0  ...              0   \n",
       "PLATE2_B01 S                    0              0  ...              0   \n",
       "PLATE2_C01 S                    0              0  ...              0   \n",
       "PLATE2_D01 M                   22             22  ...             11   \n",
       "PLATE2_E01 M                   22             22  ...             11   \n",
       "\n",
       "                    2R_36220633_d  2R_36235759_d  2R_36275729_d  \\\n",
       "Specimen   species                                                \n",
       "PLATE2_A01 M                    0              0              0   \n",
       "PLATE2_B01 S                    0              0              0   \n",
       "PLATE2_C01 S                    0              0              0   \n",
       "PLATE2_D01 M                   11             12             11   \n",
       "PLATE2_E01 M                   11             11             11   \n",
       "\n",
       "                    2R_36462129_d  2R_38275741_d  2R_38612599_d  \\\n",
       "Specimen   species                                                \n",
       "PLATE2_A01 M                    0              0              0   \n",
       "PLATE2_B01 S                    0              0              0   \n",
       "PLATE2_C01 S                    0              0              0   \n",
       "PLATE2_D01 M                   11             11             11   \n",
       "PLATE2_E01 M                   11             11             11   \n",
       "\n",
       "                    2R_39968694_d  2R_42168396_d  2R_42235046_d  \n",
       "Specimen   species                                               \n",
       "PLATE2_A01 M                    0              0              0  \n",
       "PLATE2_B01 S                    0              0              0  \n",
       "PLATE2_C01 S                    0              0              0  \n",
       "PLATE2_D01 M                   11             11             11  \n",
       "PLATE2_E01 M                   11             11             11  \n",
       "\n",
       "[5 rows x 154 columns]"
      ]
     },
     "execution_count": 6,
     "metadata": {},
     "output_type": "execute_result"
    }
   ],
   "source": [
    "trimmed.reset_index(inplace=True)\n",
    "\n",
    "IDs = [item[-2] + \"_\" + item[-1] for item in trimmed[\"Sample\"].str.split(\"_\")]\n",
    "\n",
    "trimmed[\"Specimen\"] = pd.Series(IDs)\n",
    "trimmed[\"Specimen\"] = trimmed[\"Specimen\"].str.upper()\n",
    "\n",
    "columns = trimmed.columns\n",
    "\n",
    "trimmed = pd.merge(trimmed, cyto, left_on = \"Specimen\", right_on = \"Specimen\")\\\n",
    "[np.append(columns, \"species\")].set_index([\"Specimen\",\"species\"])\n",
    "\n",
    "trimmed.head()"
   ]
  },
  {
   "cell_type": "code",
   "execution_count": 7,
   "metadata": {},
   "outputs": [],
   "source": [
    "trimmed.drop(columns=[\"Sample\"], inplace=True)\n",
    "\n",
    "trimmed = trimmed.T\n",
    "\n",
    "trimmed[\"label\"] = column_list\n",
    "\n",
    "trimmed[\"assay\"] = trimmed.index"
   ]
  },
  {
   "cell_type": "markdown",
   "metadata": {},
   "source": [
    "##### drop unused partitions, and adjust labels accordingly"
   ]
  },
  {
   "cell_type": "code",
   "execution_count": 8,
   "metadata": {},
   "outputs": [
    {
     "data": {
      "text/html": [
       "<div>\n",
       "<style scoped>\n",
       "    .dataframe tbody tr th:only-of-type {\n",
       "        vertical-align: middle;\n",
       "    }\n",
       "\n",
       "    .dataframe tbody tr th {\n",
       "        vertical-align: top;\n",
       "    }\n",
       "\n",
       "    .dataframe thead tr th {\n",
       "        text-align: left;\n",
       "    }\n",
       "\n",
       "    .dataframe thead tr:last-of-type th {\n",
       "        text-align: right;\n",
       "    }\n",
       "</style>\n",
       "<table border=\"1\" class=\"dataframe\">\n",
       "  <thead>\n",
       "    <tr>\n",
       "      <th></th>\n",
       "      <th>label</th>\n",
       "      <th colspan=\"10\" halign=\"left\">a</th>\n",
       "      <th>...</th>\n",
       "      <th colspan=\"10\" halign=\"left\">d</th>\n",
       "    </tr>\n",
       "    <tr>\n",
       "      <th></th>\n",
       "      <th>assay</th>\n",
       "      <th>2L_20674783_a</th>\n",
       "      <th>2L_20726658_a</th>\n",
       "      <th>2L_20813877_a</th>\n",
       "      <th>2L_20995428_a</th>\n",
       "      <th>2L_21120275_a</th>\n",
       "      <th>2L_21148772_a</th>\n",
       "      <th>2L_21315321_a</th>\n",
       "      <th>2L_21476016_a</th>\n",
       "      <th>2L_21565787_a</th>\n",
       "      <th>2L_21925603_a</th>\n",
       "      <th>...</th>\n",
       "      <th>2R_36220209_d</th>\n",
       "      <th>2R_36220633_d</th>\n",
       "      <th>2R_36235759_d</th>\n",
       "      <th>2R_36275729_d</th>\n",
       "      <th>2R_36462129_d</th>\n",
       "      <th>2R_38275741_d</th>\n",
       "      <th>2R_38612599_d</th>\n",
       "      <th>2R_39968694_d</th>\n",
       "      <th>2R_42168396_d</th>\n",
       "      <th>2R_42235046_d</th>\n",
       "    </tr>\n",
       "    <tr>\n",
       "      <th>Specimen</th>\n",
       "      <th>species</th>\n",
       "      <th></th>\n",
       "      <th></th>\n",
       "      <th></th>\n",
       "      <th></th>\n",
       "      <th></th>\n",
       "      <th></th>\n",
       "      <th></th>\n",
       "      <th></th>\n",
       "      <th></th>\n",
       "      <th></th>\n",
       "      <th></th>\n",
       "      <th></th>\n",
       "      <th></th>\n",
       "      <th></th>\n",
       "      <th></th>\n",
       "      <th></th>\n",
       "      <th></th>\n",
       "      <th></th>\n",
       "      <th></th>\n",
       "      <th></th>\n",
       "      <th></th>\n",
       "    </tr>\n",
       "  </thead>\n",
       "  <tbody>\n",
       "    <tr>\n",
       "      <th>PLATE2_A01</th>\n",
       "      <th>M</th>\n",
       "      <td>0</td>\n",
       "      <td>0</td>\n",
       "      <td>0</td>\n",
       "      <td>0</td>\n",
       "      <td>0</td>\n",
       "      <td>0</td>\n",
       "      <td>0</td>\n",
       "      <td>0</td>\n",
       "      <td>0</td>\n",
       "      <td>0</td>\n",
       "      <td>...</td>\n",
       "      <td>0</td>\n",
       "      <td>0</td>\n",
       "      <td>0</td>\n",
       "      <td>0</td>\n",
       "      <td>0</td>\n",
       "      <td>0</td>\n",
       "      <td>0</td>\n",
       "      <td>0</td>\n",
       "      <td>0</td>\n",
       "      <td>0</td>\n",
       "    </tr>\n",
       "    <tr>\n",
       "      <th>PLATE2_B01</th>\n",
       "      <th>S</th>\n",
       "      <td>0</td>\n",
       "      <td>0</td>\n",
       "      <td>0</td>\n",
       "      <td>0</td>\n",
       "      <td>0</td>\n",
       "      <td>0</td>\n",
       "      <td>0</td>\n",
       "      <td>0</td>\n",
       "      <td>0</td>\n",
       "      <td>0</td>\n",
       "      <td>...</td>\n",
       "      <td>0</td>\n",
       "      <td>0</td>\n",
       "      <td>0</td>\n",
       "      <td>0</td>\n",
       "      <td>0</td>\n",
       "      <td>0</td>\n",
       "      <td>0</td>\n",
       "      <td>0</td>\n",
       "      <td>0</td>\n",
       "      <td>0</td>\n",
       "    </tr>\n",
       "    <tr>\n",
       "      <th>PLATE2_C01</th>\n",
       "      <th>S</th>\n",
       "      <td>0</td>\n",
       "      <td>0</td>\n",
       "      <td>0</td>\n",
       "      <td>0</td>\n",
       "      <td>0</td>\n",
       "      <td>0</td>\n",
       "      <td>0</td>\n",
       "      <td>0</td>\n",
       "      <td>0</td>\n",
       "      <td>0</td>\n",
       "      <td>...</td>\n",
       "      <td>0</td>\n",
       "      <td>0</td>\n",
       "      <td>0</td>\n",
       "      <td>0</td>\n",
       "      <td>0</td>\n",
       "      <td>0</td>\n",
       "      <td>0</td>\n",
       "      <td>0</td>\n",
       "      <td>0</td>\n",
       "      <td>0</td>\n",
       "    </tr>\n",
       "    <tr>\n",
       "      <th>PLATE2_D01</th>\n",
       "      <th>M</th>\n",
       "      <td>22</td>\n",
       "      <td>22</td>\n",
       "      <td>22</td>\n",
       "      <td>22</td>\n",
       "      <td>22</td>\n",
       "      <td>22</td>\n",
       "      <td>22</td>\n",
       "      <td>22</td>\n",
       "      <td>22</td>\n",
       "      <td>22</td>\n",
       "      <td>...</td>\n",
       "      <td>11</td>\n",
       "      <td>11</td>\n",
       "      <td>12</td>\n",
       "      <td>11</td>\n",
       "      <td>11</td>\n",
       "      <td>11</td>\n",
       "      <td>11</td>\n",
       "      <td>11</td>\n",
       "      <td>11</td>\n",
       "      <td>11</td>\n",
       "    </tr>\n",
       "    <tr>\n",
       "      <th>PLATE2_E01</th>\n",
       "      <th>M</th>\n",
       "      <td>22</td>\n",
       "      <td>22</td>\n",
       "      <td>22</td>\n",
       "      <td>22</td>\n",
       "      <td>22</td>\n",
       "      <td>22</td>\n",
       "      <td>22</td>\n",
       "      <td>22</td>\n",
       "      <td>22</td>\n",
       "      <td>22</td>\n",
       "      <td>...</td>\n",
       "      <td>11</td>\n",
       "      <td>11</td>\n",
       "      <td>11</td>\n",
       "      <td>11</td>\n",
       "      <td>11</td>\n",
       "      <td>11</td>\n",
       "      <td>11</td>\n",
       "      <td>11</td>\n",
       "      <td>11</td>\n",
       "      <td>11</td>\n",
       "    </tr>\n",
       "  </tbody>\n",
       "</table>\n",
       "<p>5 rows × 135 columns</p>\n",
       "</div>"
      ],
      "text/plain": [
       "label                          a                                            \\\n",
       "assay              2L_20674783_a 2L_20726658_a 2L_20813877_a 2L_20995428_a   \n",
       "Specimen   species                                                           \n",
       "PLATE2_A01 M                   0             0             0             0   \n",
       "PLATE2_B01 S                   0             0             0             0   \n",
       "PLATE2_C01 S                   0             0             0             0   \n",
       "PLATE2_D01 M                  22            22            22            22   \n",
       "PLATE2_E01 M                  22            22            22            22   \n",
       "\n",
       "label                                                                       \\\n",
       "assay              2L_21120275_a 2L_21148772_a 2L_21315321_a 2L_21476016_a   \n",
       "Specimen   species                                                           \n",
       "PLATE2_A01 M                   0             0             0             0   \n",
       "PLATE2_B01 S                   0             0             0             0   \n",
       "PLATE2_C01 S                   0             0             0             0   \n",
       "PLATE2_D01 M                  22            22            22            22   \n",
       "PLATE2_E01 M                  22            22            22            22   \n",
       "\n",
       "label                                           ...             d  \\\n",
       "assay              2L_21565787_a 2L_21925603_a  ... 2R_36220209_d   \n",
       "Specimen   species                              ...                 \n",
       "PLATE2_A01 M                   0             0  ...             0   \n",
       "PLATE2_B01 S                   0             0  ...             0   \n",
       "PLATE2_C01 S                   0             0  ...             0   \n",
       "PLATE2_D01 M                  22            22  ...            11   \n",
       "PLATE2_E01 M                  22            22  ...            11   \n",
       "\n",
       "label                                                                       \\\n",
       "assay              2R_36220633_d 2R_36235759_d 2R_36275729_d 2R_36462129_d   \n",
       "Specimen   species                                                           \n",
       "PLATE2_A01 M                   0             0             0             0   \n",
       "PLATE2_B01 S                   0             0             0             0   \n",
       "PLATE2_C01 S                   0             0             0             0   \n",
       "PLATE2_D01 M                  11            12            11            11   \n",
       "PLATE2_E01 M                  11            11            11            11   \n",
       "\n",
       "label                                                                       \\\n",
       "assay              2R_38275741_d 2R_38612599_d 2R_39968694_d 2R_42168396_d   \n",
       "Specimen   species                                                           \n",
       "PLATE2_A01 M                   0             0             0             0   \n",
       "PLATE2_B01 S                   0             0             0             0   \n",
       "PLATE2_C01 S                   0             0             0             0   \n",
       "PLATE2_D01 M                  11            11            11            11   \n",
       "PLATE2_E01 M                  11            11            11            11   \n",
       "\n",
       "label                             \n",
       "assay              2R_42235046_d  \n",
       "Specimen   species                \n",
       "PLATE2_A01 M                   0  \n",
       "PLATE2_B01 S                   0  \n",
       "PLATE2_C01 S                   0  \n",
       "PLATE2_D01 M                  11  \n",
       "PLATE2_E01 M                  11  \n",
       "\n",
       "[5 rows x 135 columns]"
      ]
     },
     "execution_count": 8,
     "metadata": {},
     "output_type": "execute_result"
    }
   ],
   "source": [
    "trimmed = trimmed.loc[trimmed[\"label\"] != \"c_gam\", :]\n",
    "trimmed = trimmed.loc[trimmed[\"label\"] != \"cu\", :]\n",
    "trimmed = trimmed.loc[trimmed[\"label\"] != \"c_col_Bam\", :]\n",
    "\n",
    "trimmed.loc[trimmed[\"label\"] == \"c_gambiae_no_u\", \"label\"] = \"c_gam\"\n",
    "\n",
    "trimmed = trimmed.reset_index(drop=True).set_index([\"label\",\"assay\"]).T\n",
    "\n",
    "trimmed.head()"
   ]
  },
  {
   "cell_type": "markdown",
   "metadata": {},
   "source": [
    "##### drop a SNP that was erroneously included"
   ]
  },
  {
   "cell_type": "code",
   "execution_count": 9,
   "metadata": {},
   "outputs": [],
   "source": [
    "trimmed.drop((\"d\", \"2R_36207148_d\"), axis=1, inplace=True)"
   ]
  },
  {
   "cell_type": "markdown",
   "metadata": {},
   "source": [
    "##### replace GT-seq-style genotypes with counts of alternate alleles for ease of downstream analysis"
   ]
  },
  {
   "cell_type": "code",
   "execution_count": 10,
   "metadata": {},
   "outputs": [],
   "source": [
    "trimmed.replace(to_replace={0 : np.nan,\n",
    "            11 : 0,\n",
    "            12 : 1,\n",
    "            22 : 2}, value=None, inplace=True)"
   ]
  },
  {
   "cell_type": "markdown",
   "metadata": {},
   "source": [
    "##### drop the first three wells, which were omitted for reasons of technical validation"
   ]
  },
  {
   "cell_type": "code",
   "execution_count": 11,
   "metadata": {},
   "outputs": [],
   "source": [
    "trimmed.drop(\"PLATE2_A01\", axis=0, level=0, inplace=True)\n",
    "trimmed.drop(\"PLATE2_B01\", axis=0, level=0, inplace=True)\n",
    "trimmed.drop(\"PLATE2_C01\", axis=0, level=0, inplace=True)"
   ]
  },
  {
   "cell_type": "code",
   "execution_count": 12,
   "metadata": {
    "scrolled": true
   },
   "outputs": [
    {
     "data": {
      "text/plain": [
       "(957, 134)"
      ]
     },
     "execution_count": 12,
     "metadata": {},
     "output_type": "execute_result"
    }
   ],
   "source": [
    "trimmed.shape"
   ]
  },
  {
   "cell_type": "markdown",
   "metadata": {},
   "source": [
    "##### drop the specimens with ambiguous metadata"
   ]
  },
  {
   "cell_type": "code",
   "execution_count": 13,
   "metadata": {},
   "outputs": [],
   "source": [
    "ambig_metadata = [\"PLATE1_C11\", \"PLATE4_E01\", \"PLATE4_F05\"]"
   ]
  },
  {
   "cell_type": "code",
   "execution_count": 14,
   "metadata": {},
   "outputs": [],
   "source": [
    "for sample in ambig_metadata:\n",
    "\n",
    "    trimmed.drop(sample, axis=0, level=0, inplace=True)"
   ]
  },
  {
   "cell_type": "code",
   "execution_count": 15,
   "metadata": {},
   "outputs": [],
   "source": [
    "cyto = cyto.loc[cyto[\"Uncertain\"] == \"no\"]"
   ]
  },
  {
   "cell_type": "markdown",
   "metadata": {},
   "source": [
    "##### examine the data quality"
   ]
  },
  {
   "cell_type": "code",
   "execution_count": 16,
   "metadata": {},
   "outputs": [
    {
     "data": {
      "text/plain": [
       "Index(['a', 'b', 'c_col', 'c_gam', 'd', 'j', 'u'], dtype='object', name='label')"
      ]
     },
     "execution_count": 16,
     "metadata": {},
     "output_type": "execute_result"
    }
   ],
   "source": [
    "inversions = trimmed.columns.levels[0]\n",
    "\n",
    "inversions"
   ]
  },
  {
   "cell_type": "code",
   "execution_count": 17,
   "metadata": {},
   "outputs": [
    {
     "name": "stdout",
     "output_type": "stream",
     "text": [
      "a \n",
      "\n",
      "minimum call rate:  0.859538784067086\n",
      "maximum call rate:  0.9989517819706499 \n",
      "\n",
      "b \n",
      "\n",
      "minimum call rate:  0.9475890985324947\n",
      "maximum call rate:  0.9979035639412998 \n",
      "\n",
      "c_col \n",
      "\n",
      "minimum call rate:  0.6891891891891893\n",
      "maximum call rate:  1.0 \n",
      "\n",
      "c_gam \n",
      "\n",
      "minimum call rate:  0.8738532110091743\n",
      "maximum call rate:  0.9977064220183486 \n",
      "\n",
      "d \n",
      "\n",
      "minimum call rate:  0.9224318658280922\n",
      "maximum call rate:  0.9989517819706499 \n",
      "\n",
      "j \n",
      "\n",
      "minimum call rate:  0.9129979035639413\n",
      "maximum call rate:  0.9989517819706499 \n",
      "\n",
      "u \n",
      "\n",
      "minimum call rate:  0.0\n",
      "maximum call rate:  0.9989517819706499 \n",
      "\n"
     ]
    }
   ],
   "source": [
    "for inversion in inversions:\n",
    "    \n",
    "    if inversion == \"c_col\":\n",
    "        \n",
    "        chunk = trimmed.loc[(slice(None), \"M\"), inversion]\n",
    "        \n",
    "    elif inversion == \"c_gam\":\n",
    "        \n",
    "        chunk = trimmed.loc[(slice(None), \"S\"), inversion]\n",
    "        \n",
    "    else:\n",
    "        \n",
    "        chunk = trimmed.loc[:, inversion]\n",
    "        \n",
    "    print(inversion, \"\\n\")\n",
    "    print(\"minimum call rate: \", 1 - chunk.isnull().mean().max())\n",
    "    print(\"maximum call rate: \", 1 - chunk.isnull().mean().min(), \"\\n\")"
   ]
  },
  {
   "cell_type": "markdown",
   "metadata": {},
   "source": [
    "##### reshape the call rate data for ease of analysis"
   ]
  },
  {
   "cell_type": "code",
   "execution_count": 18,
   "metadata": {},
   "outputs": [],
   "source": [
    "missing_df = pd.DataFrame(columns = [\"label\", \"n_called\"])\n",
    "\n",
    "for inversion in inversions:\n",
    "    \n",
    "    if inversion == \"c_col\":\n",
    "\n",
    "        chunk = trimmed.loc[(slice(None), \"M\"), inversion]\n",
    "\n",
    "    elif inversion == \"c_gam\":\n",
    "\n",
    "        chunk = trimmed.loc[(slice(None), \"S\"), inversion]\n",
    "\n",
    "    else:\n",
    "\n",
    "        chunk = trimmed.loc[:,inversion]\n",
    "\n",
    "    n_specs = chunk.shape[0]\n",
    "    n_snps = chunk.shape[1]\n",
    "    \n",
    "    missing_df = missing_df.append(pd.DataFrame({\"label\" : [inversion] * n_snps,\n",
    "                 \"n_called\" : ((1-(np.sum(chunk.isnull(), axis=0) / n_specs)) * 100).values}))\n",
    "\n",
    "missing_df.reset_index(inplace=True, drop=True)"
   ]
  },
  {
   "cell_type": "code",
   "execution_count": 19,
   "metadata": {},
   "outputs": [
    {
     "data": {
      "text/plain": [
       "[0, 22, 44, 68, 81, 98, 115, 134]"
      ]
     },
     "execution_count": 19,
     "metadata": {},
     "output_type": "execute_result"
    }
   ],
   "source": [
    "label_positions = {\"a\" : 11,\n",
    "                  \"b\" : 33,\n",
    "                  \"c_col\" : 56,\n",
    "                  \"c_gam\" : 74.5,\n",
    "                  \"d\" : 89.5,\n",
    "                  \"j\" : 106.5,\n",
    "                  \"u\" : 124.5}\n",
    "\n",
    "tick_list = list(missing_df.drop_duplicates(subset=\"label\").index)\n",
    "\n",
    "tick_list.append(len(missing_df))\n",
    "\n",
    "tick_list"
   ]
  },
  {
   "cell_type": "code",
   "execution_count": 20,
   "metadata": {
    "scrolled": false
   },
   "outputs": [
    {
     "data": {
      "image/png": "[encoded data removed]",
      "text/plain": [
       "<Figure size 720x720 with 1 Axes>"
      ]
     },
     "metadata": {
      "needs_background": "light"
     },
     "output_type": "display_data"
    }
   ],
   "source": [
    "colors_dict = {value : plt.cm.Paired.colors[inversions.get_loc(value)]\\\n",
    " for value in missing_df[\"label\"].unique()}\n",
    "\n",
    "fig, ax = plt.subplots(figsize = (10, 10))\n",
    "\n",
    "ax.bar(x = range(len(missing_df)), \n",
    "               height = missing_df[\"n_called\"], \n",
    "       color=missing_df[\"label\"].apply(lambda x: colors_dict[x]))\n",
    "    \n",
    "ax.tick_params(axis=\"x\", which=\"both\", length=0)\n",
    "ax.set_xticks(list(label_positions.values()))\n",
    "ax.set_xticklabels(list(label_positions.keys()))\n",
    "\n",
    "ax.set_ylabel(\"% specimens called\", fontsize=25)\n",
    "\n",
    "ax.tick_params(labelsize=20)\n",
    "\n",
    "color_handles = list()\n",
    "\n",
    "for inversion in (colors_dict.keys()):\n",
    "    patch = matplotlib.patches.Patch(color=colors_dict[inversion], label=inversion)\n",
    "    color_handles.append(patch)\n",
    "\n",
    "legend = ax.legend(handles = color_handles, bbox_to_anchor=(1, 1), title=\"Inversion\", \n",
    "                   fontsize=20)\n",
    "legend.get_title().set_fontsize(25)\n",
    "\n",
    "ax.axhline(y=80, linewidth=2, color=\"black\", linestyle=\":\")\n",
    "\n",
    "ax.set_title(\"% specimens called per SNP\", fontsize=25)\n",
    "\n",
    "outString = ingenos.make_date_stamp(base + \"/results/missingness_by_inversion\")\n",
    "\n",
    "#plt.savefig(outString, bbox_inches=\"tight\");"
   ]
  },
  {
   "cell_type": "markdown",
   "metadata": {},
   "source": [
    "##### calculate the average call rate per specimen"
   ]
  },
  {
   "cell_type": "code",
   "execution_count": 21,
   "metadata": {},
   "outputs": [
    {
     "data": {
      "text/plain": [
       "0.9657451735035513"
      ]
     },
     "execution_count": 21,
     "metadata": {},
     "output_type": "execute_result"
    }
   ],
   "source": [
    "(~trimmed.isnull()).mean(axis=1).mean()"
   ]
  },
  {
   "cell_type": "code",
   "execution_count": 22,
   "metadata": {},
   "outputs": [
    {
     "data": {
      "text/plain": [
       "0.9701492537313433"
      ]
     },
     "execution_count": 22,
     "metadata": {},
     "output_type": "execute_result"
    }
   ],
   "source": [
    "(~trimmed.isnull()).mean(axis=1).median()"
   ]
  },
  {
   "cell_type": "code",
   "execution_count": 23,
   "metadata": {},
   "outputs": [
    {
     "data": {
      "text/plain": [
       "0.03357730148414153"
      ]
     },
     "execution_count": 23,
     "metadata": {},
     "output_type": "execute_result"
    }
   ],
   "source": [
    "(~trimmed.isnull()).mean(axis=1).std()"
   ]
  },
  {
   "cell_type": "markdown",
   "metadata": {},
   "source": [
    "##### drop SNPs with call rates below 80%"
   ]
  },
  {
   "cell_type": "code",
   "execution_count": 24,
   "metadata": {},
   "outputs": [
    {
     "data": {
      "text/plain": [
       "Index(['2R_31694267_u', '2R_34739767_u'], dtype='object', name='assay')"
      ]
     },
     "execution_count": 24,
     "metadata": {},
     "output_type": "execute_result"
    }
   ],
   "source": [
    "trimmed[\"u\"].columns[(trimmed[\"u\"].isnull().mean() > 0.2).values]"
   ]
  },
  {
   "cell_type": "code",
   "execution_count": 25,
   "metadata": {},
   "outputs": [
    {
     "data": {
      "text/plain": [
       "Index(['2R_30163149_c_col'], dtype='object', name='assay')"
      ]
     },
     "execution_count": 25,
     "metadata": {},
     "output_type": "execute_result"
    }
   ],
   "source": [
    "trimmed.loc[(slice(None), \"M\"), \"c_col\"].columns[\n",
    "    (trimmed.loc[(slice(None), \"M\"), \"c_col\"].isnull().mean() > 0.2).values]"
   ]
  },
  {
   "cell_type": "code",
   "execution_count": 26,
   "metadata": {},
   "outputs": [],
   "source": [
    "trimmed.drop((\"u\", \"2R_31694267_u\"), axis=1, inplace=True)\n",
    "trimmed.drop((\"u\", \"2R_34739767_u\"), axis=1, inplace=True)\n",
    "trimmed.drop((\"c_col\", \"2R_30163149_c_col\"), axis=1, inplace=True)"
   ]
  },
  {
   "cell_type": "code",
   "execution_count": 27,
   "metadata": {},
   "outputs": [],
   "source": [
    "trimmed.columns = trimmed.columns.remove_unused_levels()\n",
    "trimmed.index = trimmed.index.remove_unused_levels()"
   ]
  },
  {
   "cell_type": "markdown",
   "metadata": {},
   "source": [
    "##### recalculate call rates per specimen"
   ]
  },
  {
   "cell_type": "code",
   "execution_count": 28,
   "metadata": {},
   "outputs": [],
   "source": [
    "sample_missingness =\\\n",
    "pd.concat([\n",
    "    pd.DataFrame(\n",
    "        trimmed.loc[(slice(None), \"M\"), \n",
    "                    [\"a\",\"j\",\"b\",\"c_col\",\"u\",\"d\"]].isnull().mean(axis=1)),\n",
    "    pd.DataFrame(\n",
    "        trimmed.loc[(slice(None), \"S\"), \n",
    "                    [\"a\",\"j\",\"b\",\"c_gam\",\"u\",\"d\"]].isnull().mean(axis=1))])\n",
    "\n",
    "sample_missingness.columns = [\"null_rate\"]"
   ]
  },
  {
   "cell_type": "code",
   "execution_count": 29,
   "metadata": {},
   "outputs": [
    {
     "data": {
      "text/plain": [
       "null_rate    0.953704\n",
       "dtype: float64"
      ]
     },
     "execution_count": 29,
     "metadata": {},
     "output_type": "execute_result"
    }
   ],
   "source": [
    "sample_missingness.max()"
   ]
  },
  {
   "cell_type": "code",
   "execution_count": 30,
   "metadata": {},
   "outputs": [
    {
     "data": {
      "text/plain": [
       "null_rate    0.0\n",
       "dtype: float64"
      ]
     },
     "execution_count": 30,
     "metadata": {},
     "output_type": "execute_result"
    }
   ],
   "source": [
    "sample_missingness.min()"
   ]
  },
  {
   "cell_type": "code",
   "execution_count": 31,
   "metadata": {},
   "outputs": [
    {
     "data": {
      "text/plain": [
       "null_rate    0.046296\n",
       "dtype: float64"
      ]
     },
     "execution_count": 31,
     "metadata": {},
     "output_type": "execute_result"
    }
   ],
   "source": [
    "1 - sample_missingness.max()"
   ]
  },
  {
   "cell_type": "code",
   "execution_count": 32,
   "metadata": {},
   "outputs": [
    {
     "data": {
      "text/plain": [
       "null_rate    1.0\n",
       "dtype: float64"
      ]
     },
     "execution_count": 32,
     "metadata": {},
     "output_type": "execute_result"
    }
   ],
   "source": [
    "1 - sample_missingness.min()"
   ]
  },
  {
   "cell_type": "markdown",
   "metadata": {},
   "source": [
    "##### drop the specimens with call rates below 80%"
   ]
  },
  {
   "cell_type": "code",
   "execution_count": 33,
   "metadata": {},
   "outputs": [
    {
     "data": {
      "text/plain": [
       "array(['PLATE5_D07', 'PLATE1_D08'], dtype=object)"
      ]
     },
     "execution_count": 33,
     "metadata": {},
     "output_type": "execute_result"
    }
   ],
   "source": [
    "sample_missingness.reset_index().loc[\n",
    "    (sample_missingness.reset_index()[\"null_rate\"] > 0.2),\n",
    "    \"Specimen\"].values"
   ]
  },
  {
   "cell_type": "code",
   "execution_count": 34,
   "metadata": {},
   "outputs": [],
   "source": [
    "to_drop = sample_missingness.reset_index().loc[\n",
    "    (sample_missingness.reset_index()[\"null_rate\"] > 0.2),\n",
    "    \"Specimen\"].values"
   ]
  },
  {
   "cell_type": "code",
   "execution_count": 35,
   "metadata": {},
   "outputs": [],
   "source": [
    "trimmed.drop(to_drop, level=0, axis=0, inplace=True)\n",
    "trimmed.columns = trimmed.columns.remove_unused_levels()\n",
    "trimmed.index = trimmed.index.remove_unused_levels()"
   ]
  },
  {
   "cell_type": "code",
   "execution_count": 36,
   "metadata": {},
   "outputs": [
    {
     "name": "stdout",
     "output_type": "stream",
     "text": [
      "a\n",
      "(952, 22)\n",
      "b\n",
      "(952, 22)\n",
      "c_col\n",
      "(952, 23)\n",
      "c_gam\n",
      "(952, 13)\n",
      "d\n",
      "(952, 17)\n",
      "j\n",
      "(952, 17)\n",
      "u\n",
      "(952, 17)\n"
     ]
    }
   ],
   "source": [
    "for inversion in trimmed.columns.levels[0]:\n",
    "    \n",
    "    print(inversion)\n",
    "    print(trimmed[inversion].shape)"
   ]
  },
  {
   "cell_type": "code",
   "execution_count": 37,
   "metadata": {},
   "outputs": [
    {
     "data": {
      "text/plain": [
       "(517, 131)"
      ]
     },
     "execution_count": 37,
     "metadata": {},
     "output_type": "execute_result"
    }
   ],
   "source": [
    "trimmed.loc[(slice(None), \"M\"), :].shape"
   ]
  },
  {
   "cell_type": "code",
   "execution_count": 38,
   "metadata": {},
   "outputs": [
    {
     "data": {
      "text/plain": [
       "(435, 131)"
      ]
     },
     "execution_count": 38,
     "metadata": {},
     "output_type": "execute_result"
    }
   ],
   "source": [
    "trimmed.loc[(slice(None), \"S\"), :].shape"
   ]
  },
  {
   "cell_type": "markdown",
   "metadata": {},
   "source": [
    "##### generate inversion genotypes"
   ]
  },
  {
   "cell_type": "code",
   "execution_count": 39,
   "metadata": {},
   "outputs": [],
   "source": [
    "results = pd.DataFrame(index = trimmed.index, \n",
    "                       columns = [name + \"_mean\" for\\\n",
    "                                  name in trimmed.columns.levels[0]])"
   ]
  },
  {
   "cell_type": "code",
   "execution_count": 40,
   "metadata": {
    "scrolled": true
   },
   "outputs": [
    {
     "data": {
      "text/plain": [
       "Index(['a', 'b', 'c_col', 'c_gam', 'd', 'j', 'u'], dtype='object', name='label')"
      ]
     },
     "execution_count": 40,
     "metadata": {},
     "output_type": "execute_result"
    }
   ],
   "source": [
    "inversions"
   ]
  },
  {
   "cell_type": "markdown",
   "metadata": {},
   "source": [
    "##### calculate the mean number of alternate alleles across all tag SNPs in a given inversion for a particular specimen"
   ]
  },
  {
   "cell_type": "code",
   "execution_count": 41,
   "metadata": {},
   "outputs": [],
   "source": [
    "for inversion in inversions:\n",
    "    \n",
    "    chunk = trimmed[inversion]\n",
    "    \n",
    "    for index, row in chunk.iterrows():\n",
    "        \n",
    "        results.loc[index, inversion + \"_mean\"] = np.mean(row)"
   ]
  },
  {
   "cell_type": "markdown",
   "metadata": {},
   "source": [
    "##### assign karyotypes based on the mean number of alternate alleles"
   ]
  },
  {
   "cell_type": "code",
   "execution_count": 42,
   "metadata": {},
   "outputs": [],
   "source": [
    "for column in results.columns:\n",
    "    \n",
    "    new_name = re.sub(\"_mean\", \"\", column) + \"_assigned\"\n",
    "    \n",
    "    karyos = []\n",
    "    \n",
    "    for value in results[column].values:\n",
    "        \n",
    "        if value <= (2/3):\n",
    "            \n",
    "            karyos.append(0)\n",
    "            \n",
    "        elif value > (2/3) and value <= (4/3):\n",
    "            \n",
    "            karyos.append(1)\n",
    "            \n",
    "        else:\n",
    "            \n",
    "            karyos.append(2)\n",
    "            \n",
    "    results[new_name] = karyos"
   ]
  },
  {
   "cell_type": "markdown",
   "metadata": {},
   "source": [
    "##### merge with cytogenetic data"
   ]
  },
  {
   "cell_type": "code",
   "execution_count": 43,
   "metadata": {},
   "outputs": [],
   "source": [
    "merged = pd.merge(results.reset_index(), cyto, \n",
    "                  left_on=\"Specimen\", right_on = \"Specimen\")\n",
    "\n",
    "merged = merged[[\"Specimen\", \"Plate name\", \"Row\", \"Column\", \"tubeID\", \n",
    "                 \"village\", \"species_x\", \"Xchrom\",\n",
    "                 \"a_mean\", \"b_mean\", \"c_col_mean\", \"c_gam_mean\", \"d_mean\", \n",
    "                 \"j_mean\", \"u_mean\",\n",
    "                 \"a_assigned\", \"b_assigned\", \"c_col_assigned\", \n",
    "                 \"c_gam_assigned\", \n",
    "                 \"d_assigned\", \"j_assigned\", \"u_assigned\",\n",
    "                 \"a_cyto\", \"j_cyto\", \"b_cyto\", \"c_cyto\", \"d_cyto\", \n",
    "                 \"u_cyto\"]]\n",
    "\n",
    "merged.rename(columns = {\"species_x\" : \"species\",\n",
    "                        \"tubeID\" : \"ID\"}, inplace=True)"
   ]
  },
  {
   "cell_type": "markdown",
   "metadata": {},
   "source": [
    "##### save this file to the desired location"
   ]
  },
  {
   "cell_type": "markdown",
   "metadata": {},
   "source": [
    "##### export the SNP list to the desired location, accessing it with this syntax: trimmed.T.reset_index()[[\"label\", \"assay\"]]"
   ]
  },
  {
   "cell_type": "code",
   "execution_count": null,
   "metadata": {},
   "outputs": [],
   "source": []
  }
 ],
 "metadata": {
  "kernelspec": {
   "display_name": "Python 3",
   "language": "python",
   "name": "python3"
  },
  "language_info": {
   "codemirror_mode": {
    "name": "ipython",
    "version": 3
   },
   "file_extension": ".py",
   "mimetype": "text/x-python",
   "name": "python",
   "nbconvert_exporter": "python",
   "pygments_lexer": "ipython3",
   "version": "3.7.3"
  }
 },
 "nbformat": 4,
 "nbformat_minor": 2
}
