{
 "cells": [
  {
   "cell_type": "code",
   "execution_count": 1,
   "metadata": {},
   "outputs": [],
   "source": [
    "import ingenos\n",
    "import numpy as np\n",
    "import pandas as pd\n",
    "import re\n",
    "import matplotlib\n",
    "import matplotlib.pyplot as plt"
   ]
  },
  {
   "cell_type": "markdown",
   "metadata": {},
   "source": [
    "##### read in the data"
   ]
  },
  {
   "cell_type": "code",
   "execution_count": 2,
   "metadata": {},
   "outputs": [],
   "source": [
    "base_dir = \"../../../data/amplicon_sequencing/funestus/\""
   ]
  },
  {
   "cell_type": "code",
   "execution_count": 3,
   "metadata": {},
   "outputs": [
    {
     "data": {
      "text/html": [
       "<div>\n",
       "<style scoped>\n",
       "    .dataframe tbody tr th:only-of-type {\n",
       "        vertical-align: middle;\n",
       "    }\n",
       "\n",
       "    .dataframe tbody tr th {\n",
       "        vertical-align: top;\n",
       "    }\n",
       "\n",
       "    .dataframe thead th {\n",
       "        text-align: right;\n",
       "    }\n",
       "</style>\n",
       "<table border=\"1\" class=\"dataframe\">\n",
       "  <thead>\n",
       "    <tr style=\"text-align: right;\">\n",
       "      <th></th>\n",
       "      <th>Sample</th>\n",
       "      <th>Raw Reads</th>\n",
       "      <th>On-Target Reads</th>\n",
       "      <th>%On-Target</th>\n",
       "      <th>%GT</th>\n",
       "      <th>IFI</th>\n",
       "      <th>2Ra_26087506</th>\n",
       "      <th>2Ra_26099532</th>\n",
       "      <th>2Ra_26111277</th>\n",
       "      <th>2Ra_26212609</th>\n",
       "      <th>...</th>\n",
       "      <th>3Rb_30123420</th>\n",
       "      <th>3Rb_30516692</th>\n",
       "      <th>3Rb_30661948</th>\n",
       "      <th>3Rb_30738354</th>\n",
       "      <th>3Rb_30739440</th>\n",
       "      <th>3Rb_30902012</th>\n",
       "      <th>3Rb_31397626</th>\n",
       "      <th>3Rb_31568791</th>\n",
       "      <th>3Rb_32435459</th>\n",
       "      <th>3Rb_32492194</th>\n",
       "    </tr>\n",
       "  </thead>\n",
       "  <tbody>\n",
       "    <tr>\n",
       "      <th>0</th>\n",
       "      <td>GTseq_012_GTseq-i5_01_PLATE2_A01</td>\n",
       "      <td>279181</td>\n",
       "      <td>178545</td>\n",
       "      <td>63.95</td>\n",
       "      <td>97.78</td>\n",
       "      <td>0.20</td>\n",
       "      <td>11</td>\n",
       "      <td>11</td>\n",
       "      <td>11</td>\n",
       "      <td>11</td>\n",
       "      <td>...</td>\n",
       "      <td>12</td>\n",
       "      <td>11</td>\n",
       "      <td>11</td>\n",
       "      <td>12</td>\n",
       "      <td>11</td>\n",
       "      <td>11</td>\n",
       "      <td>11</td>\n",
       "      <td>11</td>\n",
       "      <td>11</td>\n",
       "      <td>11</td>\n",
       "    </tr>\n",
       "    <tr>\n",
       "      <th>1</th>\n",
       "      <td>GTseq_012_GTseq-i5_02_PLATE2_B01</td>\n",
       "      <td>153060</td>\n",
       "      <td>94210</td>\n",
       "      <td>61.55</td>\n",
       "      <td>96.67</td>\n",
       "      <td>0.24</td>\n",
       "      <td>11</td>\n",
       "      <td>11</td>\n",
       "      <td>11</td>\n",
       "      <td>11</td>\n",
       "      <td>...</td>\n",
       "      <td>11</td>\n",
       "      <td>11</td>\n",
       "      <td>11</td>\n",
       "      <td>0</td>\n",
       "      <td>11</td>\n",
       "      <td>11</td>\n",
       "      <td>11</td>\n",
       "      <td>11</td>\n",
       "      <td>11</td>\n",
       "      <td>11</td>\n",
       "    </tr>\n",
       "    <tr>\n",
       "      <th>2</th>\n",
       "      <td>GTseq_012_GTseq-i5_03_PLATE2_C01</td>\n",
       "      <td>81137</td>\n",
       "      <td>55467</td>\n",
       "      <td>68.36</td>\n",
       "      <td>95.56</td>\n",
       "      <td>0.46</td>\n",
       "      <td>11</td>\n",
       "      <td>0</td>\n",
       "      <td>11</td>\n",
       "      <td>11</td>\n",
       "      <td>...</td>\n",
       "      <td>11</td>\n",
       "      <td>11</td>\n",
       "      <td>11</td>\n",
       "      <td>0</td>\n",
       "      <td>11</td>\n",
       "      <td>11</td>\n",
       "      <td>11</td>\n",
       "      <td>11</td>\n",
       "      <td>11</td>\n",
       "      <td>11</td>\n",
       "    </tr>\n",
       "    <tr>\n",
       "      <th>3</th>\n",
       "      <td>GTseq_012_GTseq-i5_04_PLATE2_D01</td>\n",
       "      <td>179924</td>\n",
       "      <td>118383</td>\n",
       "      <td>65.80</td>\n",
       "      <td>83.33</td>\n",
       "      <td>0.44</td>\n",
       "      <td>22</td>\n",
       "      <td>0</td>\n",
       "      <td>22</td>\n",
       "      <td>22</td>\n",
       "      <td>...</td>\n",
       "      <td>12</td>\n",
       "      <td>0</td>\n",
       "      <td>12</td>\n",
       "      <td>0</td>\n",
       "      <td>11</td>\n",
       "      <td>12</td>\n",
       "      <td>12</td>\n",
       "      <td>0</td>\n",
       "      <td>12</td>\n",
       "      <td>11</td>\n",
       "    </tr>\n",
       "    <tr>\n",
       "      <th>4</th>\n",
       "      <td>GTseq_012_GTseq-i5_05_PLATE2_E01</td>\n",
       "      <td>162062</td>\n",
       "      <td>95472</td>\n",
       "      <td>58.91</td>\n",
       "      <td>94.44</td>\n",
       "      <td>0.29</td>\n",
       "      <td>11</td>\n",
       "      <td>0</td>\n",
       "      <td>11</td>\n",
       "      <td>11</td>\n",
       "      <td>...</td>\n",
       "      <td>11</td>\n",
       "      <td>11</td>\n",
       "      <td>11</td>\n",
       "      <td>0</td>\n",
       "      <td>11</td>\n",
       "      <td>11</td>\n",
       "      <td>11</td>\n",
       "      <td>11</td>\n",
       "      <td>11</td>\n",
       "      <td>11</td>\n",
       "    </tr>\n",
       "  </tbody>\n",
       "</table>\n",
       "<p>5 rows × 96 columns</p>\n",
       "</div>"
      ],
      "text/plain": [
       "                             Sample  Raw Reads  On-Target Reads  %On-Target  \\\n",
       "0  GTseq_012_GTseq-i5_01_PLATE2_A01     279181           178545       63.95   \n",
       "1  GTseq_012_GTseq-i5_02_PLATE2_B01     153060            94210       61.55   \n",
       "2  GTseq_012_GTseq-i5_03_PLATE2_C01      81137            55467       68.36   \n",
       "3  GTseq_012_GTseq-i5_04_PLATE2_D01     179924           118383       65.80   \n",
       "4  GTseq_012_GTseq-i5_05_PLATE2_E01     162062            95472       58.91   \n",
       "\n",
       "     %GT   IFI  2Ra_26087506  2Ra_26099532  2Ra_26111277  2Ra_26212609  ...  \\\n",
       "0  97.78  0.20            11            11            11            11  ...   \n",
       "1  96.67  0.24            11            11            11            11  ...   \n",
       "2  95.56  0.46            11             0            11            11  ...   \n",
       "3  83.33  0.44            22             0            22            22  ...   \n",
       "4  94.44  0.29            11             0            11            11  ...   \n",
       "\n",
       "   3Rb_30123420  3Rb_30516692  3Rb_30661948  3Rb_30738354  3Rb_30739440  \\\n",
       "0            12            11            11            12            11   \n",
       "1            11            11            11             0            11   \n",
       "2            11            11            11             0            11   \n",
       "3            12             0            12             0            11   \n",
       "4            11            11            11             0            11   \n",
       "\n",
       "   3Rb_30902012  3Rb_31397626  3Rb_31568791  3Rb_32435459  3Rb_32492194  \n",
       "0            11            11            11            11            11  \n",
       "1            11            11            11            11            11  \n",
       "2            11            11            11            11            11  \n",
       "3            12            12             0            12            11  \n",
       "4            11            11            11            11            11  \n",
       "\n",
       "[5 rows x 96 columns]"
      ]
     },
     "execution_count": 3,
     "metadata": {},
     "output_type": "execute_result"
    }
   ],
   "source": [
    "afun_csv = pd.read_csv(base_dir + \"Afun_genotype_AS.csv\", \n",
    "                       index_col = 0)\n",
    "afun_csv.head()"
   ]
  },
  {
   "cell_type": "code",
   "execution_count": 4,
   "metadata": {},
   "outputs": [
    {
     "data": {
      "text/plain": [
       "(235, 96)"
      ]
     },
     "execution_count": 4,
     "metadata": {},
     "output_type": "execute_result"
    }
   ],
   "source": [
    "afun_csv.shape"
   ]
  },
  {
   "cell_type": "markdown",
   "metadata": {},
   "source": [
    "##### reshape and trim as needed"
   ]
  },
  {
   "cell_type": "code",
   "execution_count": 5,
   "metadata": {},
   "outputs": [
    {
     "data": {
      "text/html": [
       "<div>\n",
       "<style scoped>\n",
       "    .dataframe tbody tr th:only-of-type {\n",
       "        vertical-align: middle;\n",
       "    }\n",
       "\n",
       "    .dataframe tbody tr th {\n",
       "        vertical-align: top;\n",
       "    }\n",
       "\n",
       "    .dataframe thead th {\n",
       "        text-align: right;\n",
       "    }\n",
       "</style>\n",
       "<table border=\"1\" class=\"dataframe\">\n",
       "  <thead>\n",
       "    <tr style=\"text-align: right;\">\n",
       "      <th>Specimen</th>\n",
       "      <th>PLATE2_A01</th>\n",
       "      <th>PLATE2_B01</th>\n",
       "      <th>PLATE2_C01</th>\n",
       "      <th>PLATE2_D01</th>\n",
       "      <th>PLATE2_E01</th>\n",
       "      <th>PLATE2_F01</th>\n",
       "      <th>PLATE2_G01</th>\n",
       "      <th>PLATE2_H01</th>\n",
       "      <th>PLATE2_A02</th>\n",
       "      <th>PLATE2_B02</th>\n",
       "      <th>...</th>\n",
       "      <th>PLATE3_C10</th>\n",
       "      <th>PLATE3_D10</th>\n",
       "      <th>PLATE3_A11</th>\n",
       "      <th>PLATE3_B11</th>\n",
       "      <th>PLATE3_C11</th>\n",
       "      <th>PLATE3_A12</th>\n",
       "      <th>PLATE3_B12</th>\n",
       "      <th>PLATE3_C12</th>\n",
       "      <th>label</th>\n",
       "      <th>assay</th>\n",
       "    </tr>\n",
       "  </thead>\n",
       "  <tbody>\n",
       "    <tr>\n",
       "      <th>2Ra_26087506</th>\n",
       "      <td>11</td>\n",
       "      <td>11</td>\n",
       "      <td>11</td>\n",
       "      <td>22</td>\n",
       "      <td>11</td>\n",
       "      <td>11</td>\n",
       "      <td>11</td>\n",
       "      <td>11</td>\n",
       "      <td>11</td>\n",
       "      <td>11</td>\n",
       "      <td>...</td>\n",
       "      <td>22</td>\n",
       "      <td>11</td>\n",
       "      <td>0</td>\n",
       "      <td>22</td>\n",
       "      <td>11</td>\n",
       "      <td>22</td>\n",
       "      <td>11</td>\n",
       "      <td>11</td>\n",
       "      <td>2Ra</td>\n",
       "      <td>2Ra_26087506</td>\n",
       "    </tr>\n",
       "    <tr>\n",
       "      <th>2Ra_26099532</th>\n",
       "      <td>11</td>\n",
       "      <td>11</td>\n",
       "      <td>0</td>\n",
       "      <td>0</td>\n",
       "      <td>0</td>\n",
       "      <td>0</td>\n",
       "      <td>0</td>\n",
       "      <td>11</td>\n",
       "      <td>11</td>\n",
       "      <td>11</td>\n",
       "      <td>...</td>\n",
       "      <td>11</td>\n",
       "      <td>0</td>\n",
       "      <td>0</td>\n",
       "      <td>0</td>\n",
       "      <td>11</td>\n",
       "      <td>0</td>\n",
       "      <td>0</td>\n",
       "      <td>0</td>\n",
       "      <td>2Ra</td>\n",
       "      <td>2Ra_26099532</td>\n",
       "    </tr>\n",
       "    <tr>\n",
       "      <th>2Ra_26111277</th>\n",
       "      <td>11</td>\n",
       "      <td>11</td>\n",
       "      <td>11</td>\n",
       "      <td>22</td>\n",
       "      <td>11</td>\n",
       "      <td>11</td>\n",
       "      <td>11</td>\n",
       "      <td>11</td>\n",
       "      <td>0</td>\n",
       "      <td>11</td>\n",
       "      <td>...</td>\n",
       "      <td>12</td>\n",
       "      <td>11</td>\n",
       "      <td>22</td>\n",
       "      <td>22</td>\n",
       "      <td>11</td>\n",
       "      <td>22</td>\n",
       "      <td>11</td>\n",
       "      <td>11</td>\n",
       "      <td>2Ra</td>\n",
       "      <td>2Ra_26111277</td>\n",
       "    </tr>\n",
       "    <tr>\n",
       "      <th>2Ra_26212609</th>\n",
       "      <td>11</td>\n",
       "      <td>11</td>\n",
       "      <td>11</td>\n",
       "      <td>22</td>\n",
       "      <td>11</td>\n",
       "      <td>11</td>\n",
       "      <td>11</td>\n",
       "      <td>11</td>\n",
       "      <td>11</td>\n",
       "      <td>11</td>\n",
       "      <td>...</td>\n",
       "      <td>12</td>\n",
       "      <td>11</td>\n",
       "      <td>12</td>\n",
       "      <td>22</td>\n",
       "      <td>11</td>\n",
       "      <td>22</td>\n",
       "      <td>12</td>\n",
       "      <td>11</td>\n",
       "      <td>2Ra</td>\n",
       "      <td>2Ra_26212609</td>\n",
       "    </tr>\n",
       "    <tr>\n",
       "      <th>2Ra_26213556</th>\n",
       "      <td>11</td>\n",
       "      <td>11</td>\n",
       "      <td>11</td>\n",
       "      <td>22</td>\n",
       "      <td>11</td>\n",
       "      <td>11</td>\n",
       "      <td>11</td>\n",
       "      <td>11</td>\n",
       "      <td>11</td>\n",
       "      <td>11</td>\n",
       "      <td>...</td>\n",
       "      <td>12</td>\n",
       "      <td>11</td>\n",
       "      <td>12</td>\n",
       "      <td>22</td>\n",
       "      <td>11</td>\n",
       "      <td>22</td>\n",
       "      <td>12</td>\n",
       "      <td>11</td>\n",
       "      <td>2Ra</td>\n",
       "      <td>2Ra_26213556</td>\n",
       "    </tr>\n",
       "  </tbody>\n",
       "</table>\n",
       "<p>5 rows × 237 columns</p>\n",
       "</div>"
      ],
      "text/plain": [
       "Specimen      PLATE2_A01  PLATE2_B01  PLATE2_C01  PLATE2_D01  PLATE2_E01  \\\n",
       "2Ra_26087506          11          11          11          22          11   \n",
       "2Ra_26099532          11          11           0           0           0   \n",
       "2Ra_26111277          11          11          11          22          11   \n",
       "2Ra_26212609          11          11          11          22          11   \n",
       "2Ra_26213556          11          11          11          22          11   \n",
       "\n",
       "Specimen      PLATE2_F01  PLATE2_G01  PLATE2_H01  PLATE2_A02  PLATE2_B02  ...  \\\n",
       "2Ra_26087506          11          11          11          11          11  ...   \n",
       "2Ra_26099532           0           0          11          11          11  ...   \n",
       "2Ra_26111277          11          11          11           0          11  ...   \n",
       "2Ra_26212609          11          11          11          11          11  ...   \n",
       "2Ra_26213556          11          11          11          11          11  ...   \n",
       "\n",
       "Specimen      PLATE3_C10  PLATE3_D10  PLATE3_A11  PLATE3_B11  PLATE3_C11  \\\n",
       "2Ra_26087506          22          11           0          22          11   \n",
       "2Ra_26099532          11           0           0           0          11   \n",
       "2Ra_26111277          12          11          22          22          11   \n",
       "2Ra_26212609          12          11          12          22          11   \n",
       "2Ra_26213556          12          11          12          22          11   \n",
       "\n",
       "Specimen      PLATE3_A12  PLATE3_B12  PLATE3_C12  label         assay  \n",
       "2Ra_26087506          22          11          11    2Ra  2Ra_26087506  \n",
       "2Ra_26099532           0           0           0    2Ra  2Ra_26099532  \n",
       "2Ra_26111277          22          11          11    2Ra  2Ra_26111277  \n",
       "2Ra_26212609          22          12          11    2Ra  2Ra_26212609  \n",
       "2Ra_26213556          22          12          11    2Ra  2Ra_26213556  \n",
       "\n",
       "[5 rows x 237 columns]"
      ]
     },
     "execution_count": 5,
     "metadata": {},
     "output_type": "execute_result"
    }
   ],
   "source": [
    "column_list =\\\n",
    "[item[0] for item in afun_csv.set_index(\"Sample\").iloc[:,5:].columns.str.split('_')]\n",
    "\n",
    "trimmed = afun_csv.set_index(\"Sample\").iloc[:,5:]\n",
    "\n",
    "trimmed.reset_index(inplace=True)\n",
    "\n",
    "IDs = [item[-2] + \"_\" + item[-1] for item in trimmed[\"Sample\"].str.split(\"_\")]\n",
    "\n",
    "trimmed[\"Specimen\"] = pd.Series(IDs)\n",
    "trimmed[\"Specimen\"] = trimmed[\"Specimen\"].str.upper()\n",
    "\n",
    "trimmed.drop(columns=[\"Sample\"], inplace=True)\n",
    "trimmed.set_index(\"Specimen\", inplace=True)\n",
    "trimmed = trimmed.T\n",
    "\n",
    "trimmed[\"label\"] = column_list\n",
    "\n",
    "trimmed[\"assay\"] = trimmed.index\n",
    "\n",
    "trimmed.head()"
   ]
  },
  {
   "cell_type": "code",
   "execution_count": 6,
   "metadata": {},
   "outputs": [
    {
     "data": {
      "text/html": [
       "<div>\n",
       "<style scoped>\n",
       "    .dataframe tbody tr th:only-of-type {\n",
       "        vertical-align: middle;\n",
       "    }\n",
       "\n",
       "    .dataframe tbody tr th {\n",
       "        vertical-align: top;\n",
       "    }\n",
       "\n",
       "    .dataframe thead tr th {\n",
       "        text-align: left;\n",
       "    }\n",
       "\n",
       "    .dataframe thead tr:last-of-type th {\n",
       "        text-align: right;\n",
       "    }\n",
       "</style>\n",
       "<table border=\"1\" class=\"dataframe\">\n",
       "  <thead>\n",
       "    <tr>\n",
       "      <th>label</th>\n",
       "      <th colspan=\"10\" halign=\"left\">2Ra</th>\n",
       "      <th>...</th>\n",
       "      <th colspan=\"10\" halign=\"left\">3Rb</th>\n",
       "    </tr>\n",
       "    <tr>\n",
       "      <th>assay</th>\n",
       "      <th>2Ra_26087506</th>\n",
       "      <th>2Ra_26099532</th>\n",
       "      <th>2Ra_26111277</th>\n",
       "      <th>2Ra_26212609</th>\n",
       "      <th>2Ra_26213556</th>\n",
       "      <th>2Ra_26558370</th>\n",
       "      <th>2Ra_26854967</th>\n",
       "      <th>2Ra_26856512</th>\n",
       "      <th>2Ra_26945231</th>\n",
       "      <th>2Ra_27077779</th>\n",
       "      <th>...</th>\n",
       "      <th>3Rb_30123420</th>\n",
       "      <th>3Rb_30516692</th>\n",
       "      <th>3Rb_30661948</th>\n",
       "      <th>3Rb_30738354</th>\n",
       "      <th>3Rb_30739440</th>\n",
       "      <th>3Rb_30902012</th>\n",
       "      <th>3Rb_31397626</th>\n",
       "      <th>3Rb_31568791</th>\n",
       "      <th>3Rb_32435459</th>\n",
       "      <th>3Rb_32492194</th>\n",
       "    </tr>\n",
       "    <tr>\n",
       "      <th>Specimen</th>\n",
       "      <th></th>\n",
       "      <th></th>\n",
       "      <th></th>\n",
       "      <th></th>\n",
       "      <th></th>\n",
       "      <th></th>\n",
       "      <th></th>\n",
       "      <th></th>\n",
       "      <th></th>\n",
       "      <th></th>\n",
       "      <th></th>\n",
       "      <th></th>\n",
       "      <th></th>\n",
       "      <th></th>\n",
       "      <th></th>\n",
       "      <th></th>\n",
       "      <th></th>\n",
       "      <th></th>\n",
       "      <th></th>\n",
       "      <th></th>\n",
       "      <th></th>\n",
       "    </tr>\n",
       "  </thead>\n",
       "  <tbody>\n",
       "    <tr>\n",
       "      <th>PLATE2_A01</th>\n",
       "      <td>11</td>\n",
       "      <td>11</td>\n",
       "      <td>11</td>\n",
       "      <td>11</td>\n",
       "      <td>11</td>\n",
       "      <td>11</td>\n",
       "      <td>11</td>\n",
       "      <td>11</td>\n",
       "      <td>11</td>\n",
       "      <td>11</td>\n",
       "      <td>...</td>\n",
       "      <td>12</td>\n",
       "      <td>11</td>\n",
       "      <td>11</td>\n",
       "      <td>12</td>\n",
       "      <td>11</td>\n",
       "      <td>11</td>\n",
       "      <td>11</td>\n",
       "      <td>11</td>\n",
       "      <td>11</td>\n",
       "      <td>11</td>\n",
       "    </tr>\n",
       "    <tr>\n",
       "      <th>PLATE2_B01</th>\n",
       "      <td>11</td>\n",
       "      <td>11</td>\n",
       "      <td>11</td>\n",
       "      <td>11</td>\n",
       "      <td>11</td>\n",
       "      <td>11</td>\n",
       "      <td>11</td>\n",
       "      <td>11</td>\n",
       "      <td>11</td>\n",
       "      <td>11</td>\n",
       "      <td>...</td>\n",
       "      <td>11</td>\n",
       "      <td>11</td>\n",
       "      <td>11</td>\n",
       "      <td>0</td>\n",
       "      <td>11</td>\n",
       "      <td>11</td>\n",
       "      <td>11</td>\n",
       "      <td>11</td>\n",
       "      <td>11</td>\n",
       "      <td>11</td>\n",
       "    </tr>\n",
       "    <tr>\n",
       "      <th>PLATE2_C01</th>\n",
       "      <td>11</td>\n",
       "      <td>0</td>\n",
       "      <td>11</td>\n",
       "      <td>11</td>\n",
       "      <td>11</td>\n",
       "      <td>11</td>\n",
       "      <td>11</td>\n",
       "      <td>11</td>\n",
       "      <td>11</td>\n",
       "      <td>11</td>\n",
       "      <td>...</td>\n",
       "      <td>11</td>\n",
       "      <td>11</td>\n",
       "      <td>11</td>\n",
       "      <td>0</td>\n",
       "      <td>11</td>\n",
       "      <td>11</td>\n",
       "      <td>11</td>\n",
       "      <td>11</td>\n",
       "      <td>11</td>\n",
       "      <td>11</td>\n",
       "    </tr>\n",
       "    <tr>\n",
       "      <th>PLATE2_D01</th>\n",
       "      <td>22</td>\n",
       "      <td>0</td>\n",
       "      <td>22</td>\n",
       "      <td>22</td>\n",
       "      <td>22</td>\n",
       "      <td>22</td>\n",
       "      <td>0</td>\n",
       "      <td>22</td>\n",
       "      <td>0</td>\n",
       "      <td>22</td>\n",
       "      <td>...</td>\n",
       "      <td>12</td>\n",
       "      <td>0</td>\n",
       "      <td>12</td>\n",
       "      <td>0</td>\n",
       "      <td>11</td>\n",
       "      <td>12</td>\n",
       "      <td>12</td>\n",
       "      <td>0</td>\n",
       "      <td>12</td>\n",
       "      <td>11</td>\n",
       "    </tr>\n",
       "    <tr>\n",
       "      <th>PLATE2_E01</th>\n",
       "      <td>11</td>\n",
       "      <td>0</td>\n",
       "      <td>11</td>\n",
       "      <td>11</td>\n",
       "      <td>11</td>\n",
       "      <td>11</td>\n",
       "      <td>11</td>\n",
       "      <td>11</td>\n",
       "      <td>11</td>\n",
       "      <td>11</td>\n",
       "      <td>...</td>\n",
       "      <td>11</td>\n",
       "      <td>11</td>\n",
       "      <td>11</td>\n",
       "      <td>0</td>\n",
       "      <td>11</td>\n",
       "      <td>11</td>\n",
       "      <td>11</td>\n",
       "      <td>11</td>\n",
       "      <td>11</td>\n",
       "      <td>11</td>\n",
       "    </tr>\n",
       "  </tbody>\n",
       "</table>\n",
       "<p>5 rows × 90 columns</p>\n",
       "</div>"
      ],
      "text/plain": [
       "label               2Ra                                                      \\\n",
       "assay      2Ra_26087506 2Ra_26099532 2Ra_26111277 2Ra_26212609 2Ra_26213556   \n",
       "Specimen                                                                      \n",
       "PLATE2_A01           11           11           11           11           11   \n",
       "PLATE2_B01           11           11           11           11           11   \n",
       "PLATE2_C01           11            0           11           11           11   \n",
       "PLATE2_D01           22            0           22           22           22   \n",
       "PLATE2_E01           11            0           11           11           11   \n",
       "\n",
       "label                                                                        \\\n",
       "assay      2Ra_26558370 2Ra_26854967 2Ra_26856512 2Ra_26945231 2Ra_27077779   \n",
       "Specimen                                                                      \n",
       "PLATE2_A01           11           11           11           11           11   \n",
       "PLATE2_B01           11           11           11           11           11   \n",
       "PLATE2_C01           11           11           11           11           11   \n",
       "PLATE2_D01           22            0           22            0           22   \n",
       "PLATE2_E01           11           11           11           11           11   \n",
       "\n",
       "label       ...          3Rb                                         \\\n",
       "assay       ... 3Rb_30123420 3Rb_30516692 3Rb_30661948 3Rb_30738354   \n",
       "Specimen    ...                                                       \n",
       "PLATE2_A01  ...           12           11           11           12   \n",
       "PLATE2_B01  ...           11           11           11            0   \n",
       "PLATE2_C01  ...           11           11           11            0   \n",
       "PLATE2_D01  ...           12            0           12            0   \n",
       "PLATE2_E01  ...           11           11           11            0   \n",
       "\n",
       "label                                                                        \\\n",
       "assay      3Rb_30739440 3Rb_30902012 3Rb_31397626 3Rb_31568791 3Rb_32435459   \n",
       "Specimen                                                                      \n",
       "PLATE2_A01           11           11           11           11           11   \n",
       "PLATE2_B01           11           11           11           11           11   \n",
       "PLATE2_C01           11           11           11           11           11   \n",
       "PLATE2_D01           11           12           12            0           12   \n",
       "PLATE2_E01           11           11           11           11           11   \n",
       "\n",
       "label                    \n",
       "assay      3Rb_32492194  \n",
       "Specimen                 \n",
       "PLATE2_A01           11  \n",
       "PLATE2_B01           11  \n",
       "PLATE2_C01           11  \n",
       "PLATE2_D01           11  \n",
       "PLATE2_E01           11  \n",
       "\n",
       "[5 rows x 90 columns]"
      ]
     },
     "execution_count": 6,
     "metadata": {},
     "output_type": "execute_result"
    }
   ],
   "source": [
    "trimmed = trimmed.reset_index(drop=True).set_index([\"label\", \"assay\"]).T\n",
    "trimmed.head()"
   ]
  },
  {
   "cell_type": "markdown",
   "metadata": {},
   "source": [
    "##### read in the metadata"
   ]
  },
  {
   "cell_type": "code",
   "execution_count": 7,
   "metadata": {},
   "outputs": [
    {
     "data": {
      "text/html": [
       "<div>\n",
       "<style scoped>\n",
       "    .dataframe tbody tr th:only-of-type {\n",
       "        vertical-align: middle;\n",
       "    }\n",
       "\n",
       "    .dataframe tbody tr th {\n",
       "        vertical-align: top;\n",
       "    }\n",
       "\n",
       "    .dataframe thead th {\n",
       "        text-align: right;\n",
       "    }\n",
       "</style>\n",
       "<table border=\"1\" class=\"dataframe\">\n",
       "  <thead>\n",
       "    <tr style=\"text-align: right;\">\n",
       "      <th></th>\n",
       "      <th>Plate name</th>\n",
       "      <th>Row</th>\n",
       "      <th>Column</th>\n",
       "      <th>volume</th>\n",
       "      <th>conc</th>\n",
       "      <th>SpecimenID</th>\n",
       "      <th>Date of collection</th>\n",
       "      <th>Year</th>\n",
       "      <th>Season</th>\n",
       "      <th>Month</th>\n",
       "      <th>...</th>\n",
       "      <th>X_2S</th>\n",
       "      <th>X_3A</th>\n",
       "      <th>X_3B</th>\n",
       "      <th>X_5A</th>\n",
       "      <th>2RAS</th>\n",
       "      <th>Kariotype</th>\n",
       "      <th>chormosomal form</th>\n",
       "      <th>READER</th>\n",
       "      <th>CSP</th>\n",
       "      <th>Blood meal</th>\n",
       "    </tr>\n",
       "  </thead>\n",
       "  <tbody>\n",
       "    <tr>\n",
       "      <th>0</th>\n",
       "      <td>PLATE_01</td>\n",
       "      <td>A</td>\n",
       "      <td>1</td>\n",
       "      <td>25ul</td>\n",
       "      <td>NaN</td>\n",
       "      <td>00-00021</td>\n",
       "      <td>2000-01-04</td>\n",
       "      <td>2000.0</td>\n",
       "      <td>99-00</td>\n",
       "      <td>1.0</td>\n",
       "      <td>...</td>\n",
       "      <td>0</td>\n",
       "      <td>0</td>\n",
       "      <td>0</td>\n",
       "      <td>0</td>\n",
       "      <td>00</td>\n",
       "      <td>00000</td>\n",
       "      <td>Kiribina</td>\n",
       "      <td>Moussa</td>\n",
       "      <td>carcass for ND</td>\n",
       "      <td>NaN</td>\n",
       "    </tr>\n",
       "    <tr>\n",
       "      <th>1</th>\n",
       "      <td>PLATE_01</td>\n",
       "      <td>A</td>\n",
       "      <td>2</td>\n",
       "      <td>25ul</td>\n",
       "      <td>NaN</td>\n",
       "      <td>00-00022</td>\n",
       "      <td>2000-01-04</td>\n",
       "      <td>2000.0</td>\n",
       "      <td>99-00</td>\n",
       "      <td>1.0</td>\n",
       "      <td>...</td>\n",
       "      <td>0</td>\n",
       "      <td>0</td>\n",
       "      <td>0</td>\n",
       "      <td>0</td>\n",
       "      <td>00</td>\n",
       "      <td>00000</td>\n",
       "      <td>Kiribina</td>\n",
       "      <td>Moussa</td>\n",
       "      <td>carcass for ND</td>\n",
       "      <td>NaN</td>\n",
       "    </tr>\n",
       "    <tr>\n",
       "      <th>2</th>\n",
       "      <td>PLATE_01</td>\n",
       "      <td>A</td>\n",
       "      <td>3</td>\n",
       "      <td>25ul</td>\n",
       "      <td>NaN</td>\n",
       "      <td>00-00024</td>\n",
       "      <td>2000-01-04</td>\n",
       "      <td>2000.0</td>\n",
       "      <td>99-00</td>\n",
       "      <td>1.0</td>\n",
       "      <td>...</td>\n",
       "      <td>1</td>\n",
       "      <td>1</td>\n",
       "      <td>0</td>\n",
       "      <td>0</td>\n",
       "      <td>01</td>\n",
       "      <td>01100</td>\n",
       "      <td>Kiribina</td>\n",
       "      <td>Moussa</td>\n",
       "      <td>carcass for ND</td>\n",
       "      <td>NaN</td>\n",
       "    </tr>\n",
       "    <tr>\n",
       "      <th>3</th>\n",
       "      <td>PLATE_01</td>\n",
       "      <td>A</td>\n",
       "      <td>4</td>\n",
       "      <td>25ul</td>\n",
       "      <td>NaN</td>\n",
       "      <td>00-00025</td>\n",
       "      <td>2000-01-04</td>\n",
       "      <td>2000.0</td>\n",
       "      <td>99-00</td>\n",
       "      <td>1.0</td>\n",
       "      <td>...</td>\n",
       "      <td>0</td>\n",
       "      <td>1</td>\n",
       "      <td>2</td>\n",
       "      <td>0</td>\n",
       "      <td>00</td>\n",
       "      <td>00120</td>\n",
       "      <td>Folonzo</td>\n",
       "      <td>Moussa</td>\n",
       "      <td>carcass for ND</td>\n",
       "      <td>NaN</td>\n",
       "    </tr>\n",
       "    <tr>\n",
       "      <th>4</th>\n",
       "      <td>PLATE_01</td>\n",
       "      <td>A</td>\n",
       "      <td>5</td>\n",
       "      <td>25ul</td>\n",
       "      <td>NaN</td>\n",
       "      <td>00-00029</td>\n",
       "      <td>2000-01-04</td>\n",
       "      <td>2000.0</td>\n",
       "      <td>99-00</td>\n",
       "      <td>1.0</td>\n",
       "      <td>...</td>\n",
       "      <td>0</td>\n",
       "      <td>0</td>\n",
       "      <td>0</td>\n",
       "      <td>0</td>\n",
       "      <td>00</td>\n",
       "      <td>00000</td>\n",
       "      <td>Kiribina</td>\n",
       "      <td>Moussa</td>\n",
       "      <td>carcass for ND</td>\n",
       "      <td>NaN</td>\n",
       "    </tr>\n",
       "  </tbody>\n",
       "</table>\n",
       "<p>5 rows × 28 columns</p>\n",
       "</div>"
      ],
      "text/plain": [
       "  Plate name Row  Column volume  conc SpecimenID Date of collection    Year  \\\n",
       "0   PLATE_01   A       1   25ul   NaN   00-00021         2000-01-04  2000.0   \n",
       "1   PLATE_01   A       2   25ul   NaN   00-00022         2000-01-04  2000.0   \n",
       "2   PLATE_01   A       3   25ul   NaN   00-00024         2000-01-04  2000.0   \n",
       "3   PLATE_01   A       4   25ul   NaN   00-00025         2000-01-04  2000.0   \n",
       "4   PLATE_01   A       5   25ul   NaN   00-00029         2000-01-04  2000.0   \n",
       "\n",
       "  Season  Month  ... X_2S X_3A X_3B X_5A 2RAS Kariotype  chormosomal form  \\\n",
       "0  99-00    1.0  ...    0    0    0    0   00     00000          Kiribina   \n",
       "1  99-00    1.0  ...    0    0    0    0   00     00000          Kiribina   \n",
       "2  99-00    1.0  ...    1    1    0    0   01     01100          Kiribina   \n",
       "3  99-00    1.0  ...    0    1    2    0   00     00120           Folonzo   \n",
       "4  99-00    1.0  ...    0    0    0    0   00     00000          Kiribina   \n",
       "\n",
       "   READER             CSP Blood meal  \n",
       "0  Moussa  carcass for ND        NaN  \n",
       "1  Moussa  carcass for ND        NaN  \n",
       "2  Moussa  carcass for ND        NaN  \n",
       "3  Moussa  carcass for ND        NaN  \n",
       "4  Moussa  carcass for ND        NaN  \n",
       "\n",
       "[5 rows x 28 columns]"
      ]
     },
     "execution_count": 7,
     "metadata": {},
     "output_type": "execute_result"
    }
   ],
   "source": [
    "cyto = pd.read_excel(base_dir + \"AFUN_ALL_3_PLATES_11Feb19_v2.xlsx\", \n",
    "                     index_col = False)\n",
    "\n",
    "cyto.head()"
   ]
  },
  {
   "cell_type": "code",
   "execution_count": 8,
   "metadata": {},
   "outputs": [
    {
     "data": {
      "text/plain": [
       "Index(['Plate name', 'Row', 'Column', 'volume', 'conc', 'SpecimenID',\n",
       "       'Date of collection', 'Year', 'Season', 'Month', 'Village', 'Method',\n",
       "       'Sample', 'Time-slot', 'Bait_name', 'Position', 'Compound', 'X_2A',\n",
       "       'X_2S', 'X_3A', 'X_3B', 'X_5A', '2RAS', 'Kariotype', 'chormosomal form',\n",
       "       'READER', 'CSP', 'Blood meal'],\n",
       "      dtype='object')"
      ]
     },
     "execution_count": 8,
     "metadata": {},
     "output_type": "execute_result"
    }
   ],
   "source": [
    "cyto.columns"
   ]
  },
  {
   "cell_type": "code",
   "execution_count": 9,
   "metadata": {},
   "outputs": [
    {
     "data": {
      "text/html": [
       "<div>\n",
       "<style scoped>\n",
       "    .dataframe tbody tr th:only-of-type {\n",
       "        vertical-align: middle;\n",
       "    }\n",
       "\n",
       "    .dataframe tbody tr th {\n",
       "        vertical-align: top;\n",
       "    }\n",
       "\n",
       "    .dataframe thead th {\n",
       "        text-align: right;\n",
       "    }\n",
       "</style>\n",
       "<table border=\"1\" class=\"dataframe\">\n",
       "  <thead>\n",
       "    <tr style=\"text-align: right;\">\n",
       "      <th></th>\n",
       "      <th>Plate name</th>\n",
       "      <th>Row</th>\n",
       "      <th>Column</th>\n",
       "      <th>SpecimenID</th>\n",
       "      <th>X_2A</th>\n",
       "      <th>X_3A</th>\n",
       "      <th>X_3B</th>\n",
       "    </tr>\n",
       "  </thead>\n",
       "  <tbody>\n",
       "    <tr>\n",
       "      <th>0</th>\n",
       "      <td>PLATE_01</td>\n",
       "      <td>A</td>\n",
       "      <td>1</td>\n",
       "      <td>00-00021</td>\n",
       "      <td>0</td>\n",
       "      <td>0</td>\n",
       "      <td>0</td>\n",
       "    </tr>\n",
       "    <tr>\n",
       "      <th>1</th>\n",
       "      <td>PLATE_01</td>\n",
       "      <td>A</td>\n",
       "      <td>2</td>\n",
       "      <td>00-00022</td>\n",
       "      <td>0</td>\n",
       "      <td>0</td>\n",
       "      <td>0</td>\n",
       "    </tr>\n",
       "    <tr>\n",
       "      <th>2</th>\n",
       "      <td>PLATE_01</td>\n",
       "      <td>A</td>\n",
       "      <td>3</td>\n",
       "      <td>00-00024</td>\n",
       "      <td>0</td>\n",
       "      <td>1</td>\n",
       "      <td>0</td>\n",
       "    </tr>\n",
       "    <tr>\n",
       "      <th>3</th>\n",
       "      <td>PLATE_01</td>\n",
       "      <td>A</td>\n",
       "      <td>4</td>\n",
       "      <td>00-00025</td>\n",
       "      <td>0</td>\n",
       "      <td>1</td>\n",
       "      <td>2</td>\n",
       "    </tr>\n",
       "    <tr>\n",
       "      <th>4</th>\n",
       "      <td>PLATE_01</td>\n",
       "      <td>A</td>\n",
       "      <td>5</td>\n",
       "      <td>00-00029</td>\n",
       "      <td>0</td>\n",
       "      <td>0</td>\n",
       "      <td>0</td>\n",
       "    </tr>\n",
       "  </tbody>\n",
       "</table>\n",
       "</div>"
      ],
      "text/plain": [
       "  Plate name Row  Column SpecimenID X_2A X_3A X_3B\n",
       "0   PLATE_01   A       1   00-00021    0    0    0\n",
       "1   PLATE_01   A       2   00-00022    0    0    0\n",
       "2   PLATE_01   A       3   00-00024    0    1    0\n",
       "3   PLATE_01   A       4   00-00025    0    1    2\n",
       "4   PLATE_01   A       5   00-00029    0    0    0"
      ]
     },
     "execution_count": 9,
     "metadata": {},
     "output_type": "execute_result"
    }
   ],
   "source": [
    "cyto = cyto[[\"Plate name\", \"Row\", \"Column\", \"SpecimenID\", \"X_2A\", \"X_3A\", \"X_3B\"]]\n",
    "\n",
    "cyto.head()"
   ]
  },
  {
   "cell_type": "code",
   "execution_count": 10,
   "metadata": {},
   "outputs": [],
   "source": [
    "cyto.rename(columns = {\"X_2A\" : \"2Ra\",\n",
    "                      \"X_3A\" : \"3Ra\",\n",
    "                      \"X_3B\" : \"3Rb\",\n",
    "                      \"SpecimenID\" : \"ID\"}, inplace=True)"
   ]
  },
  {
   "cell_type": "markdown",
   "metadata": {},
   "source": [
    "##### narrow to those rows corresponding to wells that were used"
   ]
  },
  {
   "cell_type": "code",
   "execution_count": 11,
   "metadata": {},
   "outputs": [
    {
     "data": {
      "text/plain": [
       "50"
      ]
     },
     "execution_count": 11,
     "metadata": {},
     "output_type": "execute_result"
    }
   ],
   "source": [
    "np.sum(cyto[\"ID\"].isnull())"
   ]
  },
  {
   "cell_type": "code",
   "execution_count": 12,
   "metadata": {},
   "outputs": [],
   "source": [
    "cyto = cyto.loc[~(cyto[\"ID\"].isnull()), :]"
   ]
  },
  {
   "cell_type": "markdown",
   "metadata": {},
   "source": [
    "##### match ID format to that found in the data"
   ]
  },
  {
   "cell_type": "code",
   "execution_count": 13,
   "metadata": {},
   "outputs": [
    {
     "data": {
      "text/html": [
       "<div>\n",
       "<style scoped>\n",
       "    .dataframe tbody tr th:only-of-type {\n",
       "        vertical-align: middle;\n",
       "    }\n",
       "\n",
       "    .dataframe tbody tr th {\n",
       "        vertical-align: top;\n",
       "    }\n",
       "\n",
       "    .dataframe thead tr th {\n",
       "        text-align: left;\n",
       "    }\n",
       "\n",
       "    .dataframe thead tr:last-of-type th {\n",
       "        text-align: right;\n",
       "    }\n",
       "</style>\n",
       "<table border=\"1\" class=\"dataframe\">\n",
       "  <thead>\n",
       "    <tr>\n",
       "      <th>label</th>\n",
       "      <th colspan=\"10\" halign=\"left\">2Ra</th>\n",
       "      <th>...</th>\n",
       "      <th colspan=\"10\" halign=\"left\">3Rb</th>\n",
       "    </tr>\n",
       "    <tr>\n",
       "      <th>assay</th>\n",
       "      <th>2Ra_26087506</th>\n",
       "      <th>2Ra_26099532</th>\n",
       "      <th>2Ra_26111277</th>\n",
       "      <th>2Ra_26212609</th>\n",
       "      <th>2Ra_26213556</th>\n",
       "      <th>2Ra_26558370</th>\n",
       "      <th>2Ra_26854967</th>\n",
       "      <th>2Ra_26856512</th>\n",
       "      <th>2Ra_26945231</th>\n",
       "      <th>2Ra_27077779</th>\n",
       "      <th>...</th>\n",
       "      <th>3Rb_30123420</th>\n",
       "      <th>3Rb_30516692</th>\n",
       "      <th>3Rb_30661948</th>\n",
       "      <th>3Rb_30738354</th>\n",
       "      <th>3Rb_30739440</th>\n",
       "      <th>3Rb_30902012</th>\n",
       "      <th>3Rb_31397626</th>\n",
       "      <th>3Rb_31568791</th>\n",
       "      <th>3Rb_32435459</th>\n",
       "      <th>3Rb_32492194</th>\n",
       "    </tr>\n",
       "    <tr>\n",
       "      <th>Specimen</th>\n",
       "      <th></th>\n",
       "      <th></th>\n",
       "      <th></th>\n",
       "      <th></th>\n",
       "      <th></th>\n",
       "      <th></th>\n",
       "      <th></th>\n",
       "      <th></th>\n",
       "      <th></th>\n",
       "      <th></th>\n",
       "      <th></th>\n",
       "      <th></th>\n",
       "      <th></th>\n",
       "      <th></th>\n",
       "      <th></th>\n",
       "      <th></th>\n",
       "      <th></th>\n",
       "      <th></th>\n",
       "      <th></th>\n",
       "      <th></th>\n",
       "      <th></th>\n",
       "    </tr>\n",
       "  </thead>\n",
       "  <tbody>\n",
       "    <tr>\n",
       "      <th>PLATE2_A01</th>\n",
       "      <td>11</td>\n",
       "      <td>11</td>\n",
       "      <td>11</td>\n",
       "      <td>11</td>\n",
       "      <td>11</td>\n",
       "      <td>11</td>\n",
       "      <td>11</td>\n",
       "      <td>11</td>\n",
       "      <td>11</td>\n",
       "      <td>11</td>\n",
       "      <td>...</td>\n",
       "      <td>12</td>\n",
       "      <td>11</td>\n",
       "      <td>11</td>\n",
       "      <td>12</td>\n",
       "      <td>11</td>\n",
       "      <td>11</td>\n",
       "      <td>11</td>\n",
       "      <td>11</td>\n",
       "      <td>11</td>\n",
       "      <td>11</td>\n",
       "    </tr>\n",
       "    <tr>\n",
       "      <th>PLATE2_B01</th>\n",
       "      <td>11</td>\n",
       "      <td>11</td>\n",
       "      <td>11</td>\n",
       "      <td>11</td>\n",
       "      <td>11</td>\n",
       "      <td>11</td>\n",
       "      <td>11</td>\n",
       "      <td>11</td>\n",
       "      <td>11</td>\n",
       "      <td>11</td>\n",
       "      <td>...</td>\n",
       "      <td>11</td>\n",
       "      <td>11</td>\n",
       "      <td>11</td>\n",
       "      <td>0</td>\n",
       "      <td>11</td>\n",
       "      <td>11</td>\n",
       "      <td>11</td>\n",
       "      <td>11</td>\n",
       "      <td>11</td>\n",
       "      <td>11</td>\n",
       "    </tr>\n",
       "    <tr>\n",
       "      <th>PLATE2_C01</th>\n",
       "      <td>11</td>\n",
       "      <td>0</td>\n",
       "      <td>11</td>\n",
       "      <td>11</td>\n",
       "      <td>11</td>\n",
       "      <td>11</td>\n",
       "      <td>11</td>\n",
       "      <td>11</td>\n",
       "      <td>11</td>\n",
       "      <td>11</td>\n",
       "      <td>...</td>\n",
       "      <td>11</td>\n",
       "      <td>11</td>\n",
       "      <td>11</td>\n",
       "      <td>0</td>\n",
       "      <td>11</td>\n",
       "      <td>11</td>\n",
       "      <td>11</td>\n",
       "      <td>11</td>\n",
       "      <td>11</td>\n",
       "      <td>11</td>\n",
       "    </tr>\n",
       "    <tr>\n",
       "      <th>PLATE2_D01</th>\n",
       "      <td>22</td>\n",
       "      <td>0</td>\n",
       "      <td>22</td>\n",
       "      <td>22</td>\n",
       "      <td>22</td>\n",
       "      <td>22</td>\n",
       "      <td>0</td>\n",
       "      <td>22</td>\n",
       "      <td>0</td>\n",
       "      <td>22</td>\n",
       "      <td>...</td>\n",
       "      <td>12</td>\n",
       "      <td>0</td>\n",
       "      <td>12</td>\n",
       "      <td>0</td>\n",
       "      <td>11</td>\n",
       "      <td>12</td>\n",
       "      <td>12</td>\n",
       "      <td>0</td>\n",
       "      <td>12</td>\n",
       "      <td>11</td>\n",
       "    </tr>\n",
       "    <tr>\n",
       "      <th>PLATE2_E01</th>\n",
       "      <td>11</td>\n",
       "      <td>0</td>\n",
       "      <td>11</td>\n",
       "      <td>11</td>\n",
       "      <td>11</td>\n",
       "      <td>11</td>\n",
       "      <td>11</td>\n",
       "      <td>11</td>\n",
       "      <td>11</td>\n",
       "      <td>11</td>\n",
       "      <td>...</td>\n",
       "      <td>11</td>\n",
       "      <td>11</td>\n",
       "      <td>11</td>\n",
       "      <td>0</td>\n",
       "      <td>11</td>\n",
       "      <td>11</td>\n",
       "      <td>11</td>\n",
       "      <td>11</td>\n",
       "      <td>11</td>\n",
       "      <td>11</td>\n",
       "    </tr>\n",
       "  </tbody>\n",
       "</table>\n",
       "<p>5 rows × 90 columns</p>\n",
       "</div>"
      ],
      "text/plain": [
       "label               2Ra                                                      \\\n",
       "assay      2Ra_26087506 2Ra_26099532 2Ra_26111277 2Ra_26212609 2Ra_26213556   \n",
       "Specimen                                                                      \n",
       "PLATE2_A01           11           11           11           11           11   \n",
       "PLATE2_B01           11           11           11           11           11   \n",
       "PLATE2_C01           11            0           11           11           11   \n",
       "PLATE2_D01           22            0           22           22           22   \n",
       "PLATE2_E01           11            0           11           11           11   \n",
       "\n",
       "label                                                                        \\\n",
       "assay      2Ra_26558370 2Ra_26854967 2Ra_26856512 2Ra_26945231 2Ra_27077779   \n",
       "Specimen                                                                      \n",
       "PLATE2_A01           11           11           11           11           11   \n",
       "PLATE2_B01           11           11           11           11           11   \n",
       "PLATE2_C01           11           11           11           11           11   \n",
       "PLATE2_D01           22            0           22            0           22   \n",
       "PLATE2_E01           11           11           11           11           11   \n",
       "\n",
       "label       ...          3Rb                                         \\\n",
       "assay       ... 3Rb_30123420 3Rb_30516692 3Rb_30661948 3Rb_30738354   \n",
       "Specimen    ...                                                       \n",
       "PLATE2_A01  ...           12           11           11           12   \n",
       "PLATE2_B01  ...           11           11           11            0   \n",
       "PLATE2_C01  ...           11           11           11            0   \n",
       "PLATE2_D01  ...           12            0           12            0   \n",
       "PLATE2_E01  ...           11           11           11            0   \n",
       "\n",
       "label                                                                        \\\n",
       "assay      3Rb_30739440 3Rb_30902012 3Rb_31397626 3Rb_31568791 3Rb_32435459   \n",
       "Specimen                                                                      \n",
       "PLATE2_A01           11           11           11           11           11   \n",
       "PLATE2_B01           11           11           11           11           11   \n",
       "PLATE2_C01           11           11           11           11           11   \n",
       "PLATE2_D01           11           12           12            0           12   \n",
       "PLATE2_E01           11           11           11           11           11   \n",
       "\n",
       "label                    \n",
       "assay      3Rb_32492194  \n",
       "Specimen                 \n",
       "PLATE2_A01           11  \n",
       "PLATE2_B01           11  \n",
       "PLATE2_C01           11  \n",
       "PLATE2_D01           11  \n",
       "PLATE2_E01           11  \n",
       "\n",
       "[5 rows x 90 columns]"
      ]
     },
     "execution_count": 13,
     "metadata": {},
     "output_type": "execute_result"
    }
   ],
   "source": [
    "trimmed.head()"
   ]
  },
  {
   "cell_type": "code",
   "execution_count": 14,
   "metadata": {},
   "outputs": [
    {
     "data": {
      "text/plain": [
       "['PLATE2_A01', 'PLATE2_B01', 'PLATE2_C01', 'PLATE2_D01', 'PLATE2_E01']"
      ]
     },
     "execution_count": 14,
     "metadata": {},
     "output_type": "execute_result"
    }
   ],
   "source": [
    "IDs[:5]"
   ]
  },
  {
   "cell_type": "code",
   "execution_count": 15,
   "metadata": {},
   "outputs": [
    {
     "data": {
      "text/html": [
       "<div>\n",
       "<style scoped>\n",
       "    .dataframe tbody tr th:only-of-type {\n",
       "        vertical-align: middle;\n",
       "    }\n",
       "\n",
       "    .dataframe tbody tr th {\n",
       "        vertical-align: top;\n",
       "    }\n",
       "\n",
       "    .dataframe thead th {\n",
       "        text-align: right;\n",
       "    }\n",
       "</style>\n",
       "<table border=\"1\" class=\"dataframe\">\n",
       "  <thead>\n",
       "    <tr style=\"text-align: right;\">\n",
       "      <th></th>\n",
       "      <th>Plate name</th>\n",
       "      <th>Row</th>\n",
       "      <th>Column</th>\n",
       "      <th>ID</th>\n",
       "      <th>2Ra</th>\n",
       "      <th>3Ra</th>\n",
       "      <th>3Rb</th>\n",
       "      <th>Specimen</th>\n",
       "    </tr>\n",
       "  </thead>\n",
       "  <tbody>\n",
       "    <tr>\n",
       "      <th>0</th>\n",
       "      <td>PLATE_01</td>\n",
       "      <td>A</td>\n",
       "      <td>1</td>\n",
       "      <td>00-00021</td>\n",
       "      <td>0</td>\n",
       "      <td>0</td>\n",
       "      <td>0</td>\n",
       "      <td>PLATE1_A01</td>\n",
       "    </tr>\n",
       "    <tr>\n",
       "      <th>1</th>\n",
       "      <td>PLATE_01</td>\n",
       "      <td>A</td>\n",
       "      <td>2</td>\n",
       "      <td>00-00022</td>\n",
       "      <td>0</td>\n",
       "      <td>0</td>\n",
       "      <td>0</td>\n",
       "      <td>PLATE1_A02</td>\n",
       "    </tr>\n",
       "    <tr>\n",
       "      <th>2</th>\n",
       "      <td>PLATE_01</td>\n",
       "      <td>A</td>\n",
       "      <td>3</td>\n",
       "      <td>00-00024</td>\n",
       "      <td>0</td>\n",
       "      <td>1</td>\n",
       "      <td>0</td>\n",
       "      <td>PLATE1_A03</td>\n",
       "    </tr>\n",
       "    <tr>\n",
       "      <th>3</th>\n",
       "      <td>PLATE_01</td>\n",
       "      <td>A</td>\n",
       "      <td>4</td>\n",
       "      <td>00-00025</td>\n",
       "      <td>0</td>\n",
       "      <td>1</td>\n",
       "      <td>2</td>\n",
       "      <td>PLATE1_A04</td>\n",
       "    </tr>\n",
       "    <tr>\n",
       "      <th>4</th>\n",
       "      <td>PLATE_01</td>\n",
       "      <td>A</td>\n",
       "      <td>5</td>\n",
       "      <td>00-00029</td>\n",
       "      <td>0</td>\n",
       "      <td>0</td>\n",
       "      <td>0</td>\n",
       "      <td>PLATE1_A05</td>\n",
       "    </tr>\n",
       "  </tbody>\n",
       "</table>\n",
       "</div>"
      ],
      "text/plain": [
       "  Plate name Row  Column        ID 2Ra 3Ra 3Rb    Specimen\n",
       "0   PLATE_01   A       1  00-00021   0   0   0  PLATE1_A01\n",
       "1   PLATE_01   A       2  00-00022   0   0   0  PLATE1_A02\n",
       "2   PLATE_01   A       3  00-00024   0   1   0  PLATE1_A03\n",
       "3   PLATE_01   A       4  00-00025   0   1   2  PLATE1_A04\n",
       "4   PLATE_01   A       5  00-00029   0   0   0  PLATE1_A05"
      ]
     },
     "execution_count": 15,
     "metadata": {},
     "output_type": "execute_result"
    }
   ],
   "source": [
    "cyto[\"Specimen\"] = cyto[\"Plate name\"].replace(\n",
    "    regex=True, to_replace=\"_0\", value=\"\").replace(\n",
    "    regex=True, to_replace=\"_\", value=\"\") +\\\n",
    "\"_\" + cyto[\"Row\"].map(str) + cyto[\"Column\"].astype(str).str.zfill(2)\n",
    "\n",
    "cyto.head()"
   ]
  },
  {
   "cell_type": "markdown",
   "metadata": {},
   "source": [
    "##### check the specimen that had an incorrect Specimen label in another version of the metadata"
   ]
  },
  {
   "cell_type": "code",
   "execution_count": 16,
   "metadata": {},
   "outputs": [
    {
     "data": {
      "text/html": [
       "<div>\n",
       "<style scoped>\n",
       "    .dataframe tbody tr th:only-of-type {\n",
       "        vertical-align: middle;\n",
       "    }\n",
       "\n",
       "    .dataframe tbody tr th {\n",
       "        vertical-align: top;\n",
       "    }\n",
       "\n",
       "    .dataframe thead th {\n",
       "        text-align: right;\n",
       "    }\n",
       "</style>\n",
       "<table border=\"1\" class=\"dataframe\">\n",
       "  <thead>\n",
       "    <tr style=\"text-align: right;\">\n",
       "      <th></th>\n",
       "      <th>Plate name</th>\n",
       "      <th>Row</th>\n",
       "      <th>Column</th>\n",
       "      <th>ID</th>\n",
       "      <th>2Ra</th>\n",
       "      <th>3Ra</th>\n",
       "      <th>3Rb</th>\n",
       "      <th>Specimen</th>\n",
       "    </tr>\n",
       "  </thead>\n",
       "  <tbody>\n",
       "    <tr>\n",
       "      <th>168</th>\n",
       "      <td>PLATE_02</td>\n",
       "      <td>G</td>\n",
       "      <td>1</td>\n",
       "      <td>01-01035</td>\n",
       "      <td>0</td>\n",
       "      <td>0</td>\n",
       "      <td>0</td>\n",
       "      <td>PLATE2_G01</td>\n",
       "    </tr>\n",
       "  </tbody>\n",
       "</table>\n",
       "</div>"
      ],
      "text/plain": [
       "    Plate name Row  Column        ID 2Ra 3Ra 3Rb    Specimen\n",
       "168   PLATE_02   G       1  01-01035   0   0   0  PLATE2_G01"
      ]
     },
     "execution_count": 16,
     "metadata": {},
     "output_type": "execute_result"
    }
   ],
   "source": [
    "cyto.loc[cyto[\"ID\"] == \"01-01035\"]"
   ]
  },
  {
   "cell_type": "markdown",
   "metadata": {},
   "source": [
    "##### in the results, replace genotypes as generated by GTseq with counts of alternate alleles"
   ]
  },
  {
   "cell_type": "code",
   "execution_count": 17,
   "metadata": {},
   "outputs": [],
   "source": [
    "trimmed.replace(to_replace={0 : np.nan,\n",
    "            11 : 0,\n",
    "            12 : 1,\n",
    "            22 : 2}, value=None, inplace=True)"
   ]
  },
  {
   "cell_type": "markdown",
   "metadata": {},
   "source": [
    "##### check that the empty wells were omitted"
   ]
  },
  {
   "cell_type": "code",
   "execution_count": 18,
   "metadata": {},
   "outputs": [
    {
     "data": {
      "text/plain": [
       "False"
      ]
     },
     "execution_count": 18,
     "metadata": {},
     "output_type": "execute_result"
    }
   ],
   "source": [
    "trimmed.index.contains(\"PLATE1_A01\")"
   ]
  },
  {
   "cell_type": "code",
   "execution_count": 19,
   "metadata": {},
   "outputs": [
    {
     "data": {
      "text/plain": [
       "False"
      ]
     },
     "execution_count": 19,
     "metadata": {},
     "output_type": "execute_result"
    }
   ],
   "source": [
    "trimmed.index.contains(\"PLATE1_G01\")"
   ]
  },
  {
   "cell_type": "code",
   "execution_count": 20,
   "metadata": {},
   "outputs": [
    {
     "data": {
      "text/plain": [
       "False"
      ]
     },
     "execution_count": 20,
     "metadata": {},
     "output_type": "execute_result"
    }
   ],
   "source": [
    "trimmed.index.contains(\"PLATE1_H01\")"
   ]
  },
  {
   "cell_type": "markdown",
   "metadata": {},
   "source": [
    "##### examine what proportion of calls are missing per SNP and per specimen"
   ]
  },
  {
   "cell_type": "code",
   "execution_count": 21,
   "metadata": {},
   "outputs": [
    {
     "data": {
      "text/plain": [
       "Index(['2Ra', '3Ra', '3Rb'], dtype='object', name='label')"
      ]
     },
     "execution_count": 21,
     "metadata": {},
     "output_type": "execute_result"
    }
   ],
   "source": [
    "inversions = trimmed.columns.levels[0]\n",
    "\n",
    "inversions"
   ]
  },
  {
   "cell_type": "code",
   "execution_count": 22,
   "metadata": {},
   "outputs": [
    {
     "data": {
      "text/html": [
       "<div>\n",
       "<style scoped>\n",
       "    .dataframe tbody tr th:only-of-type {\n",
       "        vertical-align: middle;\n",
       "    }\n",
       "\n",
       "    .dataframe tbody tr th {\n",
       "        vertical-align: top;\n",
       "    }\n",
       "\n",
       "    .dataframe thead th {\n",
       "        text-align: right;\n",
       "    }\n",
       "</style>\n",
       "<table border=\"1\" class=\"dataframe\">\n",
       "  <thead>\n",
       "    <tr style=\"text-align: right;\">\n",
       "      <th></th>\n",
       "      <th>label</th>\n",
       "      <th>n_called</th>\n",
       "    </tr>\n",
       "  </thead>\n",
       "  <tbody>\n",
       "    <tr>\n",
       "      <th>0</th>\n",
       "      <td>2Ra</td>\n",
       "      <td>91.063830</td>\n",
       "    </tr>\n",
       "    <tr>\n",
       "      <th>1</th>\n",
       "      <td>2Ra</td>\n",
       "      <td>45.106383</td>\n",
       "    </tr>\n",
       "    <tr>\n",
       "      <th>2</th>\n",
       "      <td>2Ra</td>\n",
       "      <td>96.595745</td>\n",
       "    </tr>\n",
       "    <tr>\n",
       "      <th>3</th>\n",
       "      <td>2Ra</td>\n",
       "      <td>98.297872</td>\n",
       "    </tr>\n",
       "    <tr>\n",
       "      <th>4</th>\n",
       "      <td>2Ra</td>\n",
       "      <td>97.872340</td>\n",
       "    </tr>\n",
       "  </tbody>\n",
       "</table>\n",
       "</div>"
      ],
      "text/plain": [
       "  label   n_called\n",
       "0   2Ra  91.063830\n",
       "1   2Ra  45.106383\n",
       "2   2Ra  96.595745\n",
       "3   2Ra  98.297872\n",
       "4   2Ra  97.872340"
      ]
     },
     "execution_count": 22,
     "metadata": {},
     "output_type": "execute_result"
    }
   ],
   "source": [
    "missing_df = pd.DataFrame(columns = [\"label\", \"n_called\"])\n",
    "\n",
    "for inversion in inversions:\n",
    "    \n",
    "    chunk = trimmed.loc[:,inversion]\n",
    "\n",
    "    n_specs = chunk.shape[0]\n",
    "    n_snps = chunk.shape[1]\n",
    "    \n",
    "    missing_df = missing_df.append(pd.DataFrame({\"label\" : [inversion] * n_snps,\n",
    "                 \"n_called\" : ((1-(np.sum(chunk.isnull(), axis=0) / n_specs)) * 100).values}))\n",
    "\n",
    "missing_df.head()"
   ]
  },
  {
   "cell_type": "code",
   "execution_count": 23,
   "metadata": {},
   "outputs": [
    {
     "data": {
      "text/plain": [
       "Int64Index([0, 29, 62], dtype='int64')"
      ]
     },
     "execution_count": 23,
     "metadata": {},
     "output_type": "execute_result"
    }
   ],
   "source": [
    "missing_df.reset_index(inplace=True, drop=True)\n",
    "missing_df.drop_duplicates(subset=\"label\").index"
   ]
  },
  {
   "cell_type": "code",
   "execution_count": 24,
   "metadata": {},
   "outputs": [
    {
     "data": {
      "text/plain": [
       "array(['2Ra_26099532', '2Ra_27094835', '2Ra_28137208', '2Ra_32237544'],\n",
       "      dtype=object)"
      ]
     },
     "execution_count": 24,
     "metadata": {},
     "output_type": "execute_result"
    }
   ],
   "source": [
    "trimmed[\"2Ra\"].columns[(trimmed[\"2Ra\"].isnull().mean() > 0.2).values].values"
   ]
  },
  {
   "cell_type": "code",
   "execution_count": 25,
   "metadata": {},
   "outputs": [
    {
     "data": {
      "text/plain": [
       "Index(['3Ra_10957820', '3Ra_11012511'], dtype='object', name='assay')"
      ]
     },
     "execution_count": 25,
     "metadata": {},
     "output_type": "execute_result"
    }
   ],
   "source": [
    "trimmed[\"3Ra\"].columns[(trimmed[\"3Ra\"].isnull().mean() > 0.2).values]"
   ]
  },
  {
   "cell_type": "code",
   "execution_count": 26,
   "metadata": {},
   "outputs": [
    {
     "data": {
      "text/plain": [
       "Index(['3Rb_25434979', '3Rb_30738354'], dtype='object', name='assay')"
      ]
     },
     "execution_count": 26,
     "metadata": {},
     "output_type": "execute_result"
    }
   ],
   "source": [
    "trimmed[\"3Rb\"].columns[(trimmed[\"3Rb\"].isnull().mean() > 0.2).values]"
   ]
  },
  {
   "cell_type": "markdown",
   "metadata": {},
   "source": [
    "##### drop these"
   ]
  },
  {
   "cell_type": "code",
   "execution_count": 27,
   "metadata": {},
   "outputs": [],
   "source": [
    "drop = {}\n",
    "\n",
    "drop[\"2Ra\"] = trimmed[\"2Ra\"].columns[(trimmed[\"2Ra\"].isnull().mean() > 0.2).values].values\n",
    "\n",
    "drop[\"3Ra\"] = trimmed[\"3Ra\"].columns[(trimmed[\"3Ra\"].isnull().mean() > 0.2).values].values\n",
    "\n",
    "drop[\"3Rb\"] = trimmed[\"3Rb\"].columns[(trimmed[\"3Rb\"].isnull().mean() > 0.2).values].values"
   ]
  },
  {
   "cell_type": "code",
   "execution_count": 28,
   "metadata": {},
   "outputs": [
    {
     "data": {
      "text/plain": [
       "(235, 90)"
      ]
     },
     "execution_count": 28,
     "metadata": {},
     "output_type": "execute_result"
    }
   ],
   "source": [
    "trimmed.shape"
   ]
  },
  {
   "cell_type": "code",
   "execution_count": 29,
   "metadata": {},
   "outputs": [
    {
     "data": {
      "text/plain": [
       "(235, 82)"
      ]
     },
     "execution_count": 29,
     "metadata": {},
     "output_type": "execute_result"
    }
   ],
   "source": [
    "trimmed.drop(columns=drop[\"2Ra\"], level=1, axis=1, inplace=True)\n",
    "trimmed.drop(columns=drop[\"3Ra\"], level=1, axis=1, inplace=True)\n",
    "trimmed.drop(columns=drop[\"3Rb\"], level=1, axis=1, inplace=True)\n",
    "\n",
    "trimmed.shape"
   ]
  },
  {
   "cell_type": "markdown",
   "metadata": {},
   "source": [
    "##### call rates by specimen"
   ]
  },
  {
   "cell_type": "code",
   "execution_count": 30,
   "metadata": {},
   "outputs": [
    {
     "data": {
      "text/html": [
       "<div>\n",
       "<style scoped>\n",
       "    .dataframe tbody tr th:only-of-type {\n",
       "        vertical-align: middle;\n",
       "    }\n",
       "\n",
       "    .dataframe tbody tr th {\n",
       "        vertical-align: top;\n",
       "    }\n",
       "\n",
       "    .dataframe thead th {\n",
       "        text-align: right;\n",
       "    }\n",
       "</style>\n",
       "<table border=\"1\" class=\"dataframe\">\n",
       "  <thead>\n",
       "    <tr style=\"text-align: right;\">\n",
       "      <th></th>\n",
       "      <th>null_rate</th>\n",
       "    </tr>\n",
       "    <tr>\n",
       "      <th>Specimen</th>\n",
       "      <th></th>\n",
       "    </tr>\n",
       "  </thead>\n",
       "  <tbody>\n",
       "    <tr>\n",
       "      <th>PLATE2_A01</th>\n",
       "      <td>0.000000</td>\n",
       "    </tr>\n",
       "    <tr>\n",
       "      <th>PLATE2_B01</th>\n",
       "      <td>0.000000</td>\n",
       "    </tr>\n",
       "    <tr>\n",
       "      <th>PLATE2_C01</th>\n",
       "      <td>0.000000</td>\n",
       "    </tr>\n",
       "    <tr>\n",
       "      <th>PLATE2_D01</th>\n",
       "      <td>0.085366</td>\n",
       "    </tr>\n",
       "    <tr>\n",
       "      <th>PLATE2_E01</th>\n",
       "      <td>0.000000</td>\n",
       "    </tr>\n",
       "  </tbody>\n",
       "</table>\n",
       "</div>"
      ],
      "text/plain": [
       "            null_rate\n",
       "Specimen             \n",
       "PLATE2_A01   0.000000\n",
       "PLATE2_B01   0.000000\n",
       "PLATE2_C01   0.000000\n",
       "PLATE2_D01   0.085366\n",
       "PLATE2_E01   0.000000"
      ]
     },
     "execution_count": 30,
     "metadata": {},
     "output_type": "execute_result"
    }
   ],
   "source": [
    "sample_missingness = pd.DataFrame(trimmed.isnull().mean(axis=1))\n",
    "sample_missingness.columns = [\"null_rate\"]\n",
    "sample_missingness.head()"
   ]
  },
  {
   "cell_type": "code",
   "execution_count": 31,
   "metadata": {},
   "outputs": [
    {
     "data": {
      "text/html": [
       "<div>\n",
       "<style scoped>\n",
       "    .dataframe tbody tr th:only-of-type {\n",
       "        vertical-align: middle;\n",
       "    }\n",
       "\n",
       "    .dataframe tbody tr th {\n",
       "        vertical-align: top;\n",
       "    }\n",
       "\n",
       "    .dataframe thead th {\n",
       "        text-align: right;\n",
       "    }\n",
       "</style>\n",
       "<table border=\"1\" class=\"dataframe\">\n",
       "  <thead>\n",
       "    <tr style=\"text-align: right;\">\n",
       "      <th></th>\n",
       "      <th>null_rate</th>\n",
       "    </tr>\n",
       "    <tr>\n",
       "      <th>Specimen</th>\n",
       "      <th></th>\n",
       "    </tr>\n",
       "  </thead>\n",
       "  <tbody>\n",
       "    <tr>\n",
       "      <th>PLATE2_G01</th>\n",
       "      <td>0.207317</td>\n",
       "    </tr>\n",
       "    <tr>\n",
       "      <th>PLATE2_D09</th>\n",
       "      <td>1.000000</td>\n",
       "    </tr>\n",
       "    <tr>\n",
       "      <th>PLATE1_B07</th>\n",
       "      <td>1.000000</td>\n",
       "    </tr>\n",
       "    <tr>\n",
       "      <th>PLATE1_H10</th>\n",
       "      <td>0.378049</td>\n",
       "    </tr>\n",
       "    <tr>\n",
       "      <th>PLATE1_E12</th>\n",
       "      <td>0.378049</td>\n",
       "    </tr>\n",
       "  </tbody>\n",
       "</table>\n",
       "</div>"
      ],
      "text/plain": [
       "            null_rate\n",
       "Specimen             \n",
       "PLATE2_G01   0.207317\n",
       "PLATE2_D09   1.000000\n",
       "PLATE1_B07   1.000000\n",
       "PLATE1_H10   0.378049\n",
       "PLATE1_E12   0.378049"
      ]
     },
     "execution_count": 31,
     "metadata": {},
     "output_type": "execute_result"
    }
   ],
   "source": [
    "sample_missingness[sample_missingness[\"null_rate\"] > 0.2]"
   ]
  },
  {
   "cell_type": "markdown",
   "metadata": {},
   "source": [
    "##### which specimens?"
   ]
  },
  {
   "cell_type": "code",
   "execution_count": 32,
   "metadata": {},
   "outputs": [],
   "source": [
    "samples_low_call = sample_missingness[sample_missingness[\"null_rate\"] > 0.2].index.values"
   ]
  },
  {
   "cell_type": "code",
   "execution_count": 33,
   "metadata": {},
   "outputs": [
    {
     "data": {
      "text/html": [
       "<div>\n",
       "<style scoped>\n",
       "    .dataframe tbody tr th:only-of-type {\n",
       "        vertical-align: middle;\n",
       "    }\n",
       "\n",
       "    .dataframe tbody tr th {\n",
       "        vertical-align: top;\n",
       "    }\n",
       "\n",
       "    .dataframe thead th {\n",
       "        text-align: right;\n",
       "    }\n",
       "</style>\n",
       "<table border=\"1\" class=\"dataframe\">\n",
       "  <thead>\n",
       "    <tr style=\"text-align: right;\">\n",
       "      <th></th>\n",
       "      <th>Plate name</th>\n",
       "      <th>Row</th>\n",
       "      <th>Column</th>\n",
       "      <th>ID</th>\n",
       "      <th>2Ra</th>\n",
       "      <th>3Ra</th>\n",
       "      <th>3Rb</th>\n",
       "      <th>Specimen</th>\n",
       "    </tr>\n",
       "  </thead>\n",
       "  <tbody>\n",
       "    <tr>\n",
       "      <th>18</th>\n",
       "      <td>PLATE_01</td>\n",
       "      <td>B</td>\n",
       "      <td>7</td>\n",
       "      <td>00-00087</td>\n",
       "      <td>0</td>\n",
       "      <td>0</td>\n",
       "      <td>0</td>\n",
       "      <td>PLATE1_B07</td>\n",
       "    </tr>\n",
       "    <tr>\n",
       "      <th>59</th>\n",
       "      <td>PLATE_01</td>\n",
       "      <td>E</td>\n",
       "      <td>12</td>\n",
       "      <td>00-00263</td>\n",
       "      <td>0</td>\n",
       "      <td>0</td>\n",
       "      <td>0</td>\n",
       "      <td>PLATE1_E12</td>\n",
       "    </tr>\n",
       "    <tr>\n",
       "      <th>91</th>\n",
       "      <td>PLATE_01</td>\n",
       "      <td>H</td>\n",
       "      <td>10</td>\n",
       "      <td>00-02985</td>\n",
       "      <td>#N/R</td>\n",
       "      <td>2</td>\n",
       "      <td>1</td>\n",
       "      <td>PLATE1_H10</td>\n",
       "    </tr>\n",
       "    <tr>\n",
       "      <th>140</th>\n",
       "      <td>PLATE_02</td>\n",
       "      <td>D</td>\n",
       "      <td>9</td>\n",
       "      <td>01-00456</td>\n",
       "      <td>1</td>\n",
       "      <td>2</td>\n",
       "      <td>1</td>\n",
       "      <td>PLATE2_D09</td>\n",
       "    </tr>\n",
       "    <tr>\n",
       "      <th>168</th>\n",
       "      <td>PLATE_02</td>\n",
       "      <td>G</td>\n",
       "      <td>1</td>\n",
       "      <td>01-01035</td>\n",
       "      <td>0</td>\n",
       "      <td>0</td>\n",
       "      <td>0</td>\n",
       "      <td>PLATE2_G01</td>\n",
       "    </tr>\n",
       "  </tbody>\n",
       "</table>\n",
       "</div>"
      ],
      "text/plain": [
       "    Plate name Row  Column        ID   2Ra 3Ra 3Rb    Specimen\n",
       "18    PLATE_01   B       7  00-00087     0   0   0  PLATE1_B07\n",
       "59    PLATE_01   E      12  00-00263     0   0   0  PLATE1_E12\n",
       "91    PLATE_01   H      10  00-02985  #N/R   2   1  PLATE1_H10\n",
       "140   PLATE_02   D       9  01-00456     1   2   1  PLATE2_D09\n",
       "168   PLATE_02   G       1  01-01035     0   0   0  PLATE2_G01"
      ]
     },
     "execution_count": 33,
     "metadata": {},
     "output_type": "execute_result"
    }
   ],
   "source": [
    "cyto.loc[cyto[\"Specimen\"].isin(samples_low_call)]"
   ]
  },
  {
   "cell_type": "code",
   "execution_count": 34,
   "metadata": {},
   "outputs": [
    {
     "data": {
      "text/plain": [
       "(235, 82)"
      ]
     },
     "execution_count": 34,
     "metadata": {},
     "output_type": "execute_result"
    }
   ],
   "source": [
    "trimmed.shape"
   ]
  },
  {
   "cell_type": "code",
   "execution_count": 35,
   "metadata": {},
   "outputs": [
    {
     "data": {
      "text/plain": [
       "(230, 82)"
      ]
     },
     "execution_count": 35,
     "metadata": {},
     "output_type": "execute_result"
    }
   ],
   "source": [
    "trimmed.drop(index=samples_low_call).shape"
   ]
  },
  {
   "cell_type": "code",
   "execution_count": 36,
   "metadata": {},
   "outputs": [],
   "source": [
    "trimmed.drop(index=samples_low_call, inplace=True)"
   ]
  },
  {
   "cell_type": "markdown",
   "metadata": {},
   "source": [
    "##### remove these specimens from the metadata"
   ]
  },
  {
   "cell_type": "code",
   "execution_count": 37,
   "metadata": {},
   "outputs": [
    {
     "data": {
      "text/html": [
       "<div>\n",
       "<style scoped>\n",
       "    .dataframe tbody tr th:only-of-type {\n",
       "        vertical-align: middle;\n",
       "    }\n",
       "\n",
       "    .dataframe tbody tr th {\n",
       "        vertical-align: top;\n",
       "    }\n",
       "\n",
       "    .dataframe thead th {\n",
       "        text-align: right;\n",
       "    }\n",
       "</style>\n",
       "<table border=\"1\" class=\"dataframe\">\n",
       "  <thead>\n",
       "    <tr style=\"text-align: right;\">\n",
       "      <th></th>\n",
       "      <th>Plate name</th>\n",
       "      <th>Row</th>\n",
       "      <th>Column</th>\n",
       "      <th>ID</th>\n",
       "      <th>2Ra</th>\n",
       "      <th>3Ra</th>\n",
       "      <th>3Rb</th>\n",
       "      <th>Specimen</th>\n",
       "    </tr>\n",
       "  </thead>\n",
       "  <tbody>\n",
       "    <tr>\n",
       "      <th>0</th>\n",
       "      <td>PLATE_01</td>\n",
       "      <td>A</td>\n",
       "      <td>1</td>\n",
       "      <td>00-00021</td>\n",
       "      <td>0</td>\n",
       "      <td>0</td>\n",
       "      <td>0</td>\n",
       "      <td>PLATE1_A01</td>\n",
       "    </tr>\n",
       "    <tr>\n",
       "      <th>1</th>\n",
       "      <td>PLATE_01</td>\n",
       "      <td>A</td>\n",
       "      <td>2</td>\n",
       "      <td>00-00022</td>\n",
       "      <td>0</td>\n",
       "      <td>0</td>\n",
       "      <td>0</td>\n",
       "      <td>PLATE1_A02</td>\n",
       "    </tr>\n",
       "    <tr>\n",
       "      <th>2</th>\n",
       "      <td>PLATE_01</td>\n",
       "      <td>A</td>\n",
       "      <td>3</td>\n",
       "      <td>00-00024</td>\n",
       "      <td>0</td>\n",
       "      <td>1</td>\n",
       "      <td>0</td>\n",
       "      <td>PLATE1_A03</td>\n",
       "    </tr>\n",
       "    <tr>\n",
       "      <th>3</th>\n",
       "      <td>PLATE_01</td>\n",
       "      <td>A</td>\n",
       "      <td>4</td>\n",
       "      <td>00-00025</td>\n",
       "      <td>0</td>\n",
       "      <td>1</td>\n",
       "      <td>2</td>\n",
       "      <td>PLATE1_A04</td>\n",
       "    </tr>\n",
       "    <tr>\n",
       "      <th>4</th>\n",
       "      <td>PLATE_01</td>\n",
       "      <td>A</td>\n",
       "      <td>5</td>\n",
       "      <td>00-00029</td>\n",
       "      <td>0</td>\n",
       "      <td>0</td>\n",
       "      <td>0</td>\n",
       "      <td>PLATE1_A05</td>\n",
       "    </tr>\n",
       "  </tbody>\n",
       "</table>\n",
       "</div>"
      ],
      "text/plain": [
       "  Plate name Row  Column        ID 2Ra 3Ra 3Rb    Specimen\n",
       "0   PLATE_01   A       1  00-00021   0   0   0  PLATE1_A01\n",
       "1   PLATE_01   A       2  00-00022   0   0   0  PLATE1_A02\n",
       "2   PLATE_01   A       3  00-00024   0   1   0  PLATE1_A03\n",
       "3   PLATE_01   A       4  00-00025   0   1   2  PLATE1_A04\n",
       "4   PLATE_01   A       5  00-00029   0   0   0  PLATE1_A05"
      ]
     },
     "execution_count": 37,
     "metadata": {},
     "output_type": "execute_result"
    }
   ],
   "source": [
    "cyto.head()"
   ]
  },
  {
   "cell_type": "code",
   "execution_count": 38,
   "metadata": {},
   "outputs": [
    {
     "data": {
      "text/plain": [
       "(238, 8)"
      ]
     },
     "execution_count": 38,
     "metadata": {},
     "output_type": "execute_result"
    }
   ],
   "source": [
    "cyto.shape"
   ]
  },
  {
   "cell_type": "code",
   "execution_count": 39,
   "metadata": {},
   "outputs": [
    {
     "data": {
      "text/plain": [
       "(233, 8)"
      ]
     },
     "execution_count": 39,
     "metadata": {},
     "output_type": "execute_result"
    }
   ],
   "source": [
    "cyto = cyto.loc[(~cyto[\"Specimen\"].isin(samples_low_call)), :]\n",
    "\n",
    "cyto.shape"
   ]
  },
  {
   "cell_type": "code",
   "execution_count": 40,
   "metadata": {},
   "outputs": [
    {
     "data": {
      "text/plain": [
       "(230, 82)"
      ]
     },
     "execution_count": 40,
     "metadata": {},
     "output_type": "execute_result"
    }
   ],
   "source": [
    "trimmed.shape"
   ]
  },
  {
   "cell_type": "markdown",
   "metadata": {},
   "source": [
    "##### also drop the three unused wells"
   ]
  },
  {
   "cell_type": "code",
   "execution_count": 41,
   "metadata": {},
   "outputs": [],
   "source": [
    "cyto = cyto.loc[(~(cyto[\"Specimen\"].isin([\"PLATE1_A01\", \"PLATE1_G01\", \"PLATE1_H01\"]))), :]"
   ]
  },
  {
   "cell_type": "code",
   "execution_count": 42,
   "metadata": {},
   "outputs": [
    {
     "data": {
      "text/plain": [
       "(230, 8)"
      ]
     },
     "execution_count": 42,
     "metadata": {},
     "output_type": "execute_result"
    }
   ],
   "source": [
    "cyto.shape"
   ]
  },
  {
   "cell_type": "code",
   "execution_count": 43,
   "metadata": {},
   "outputs": [
    {
     "data": {
      "text/plain": [
       "(82,)"
      ]
     },
     "execution_count": 43,
     "metadata": {},
     "output_type": "execute_result"
    }
   ],
   "source": [
    "trimmed.columns = trimmed.columns.remove_unused_levels()\n",
    "trimmed.columns.shape"
   ]
  },
  {
   "cell_type": "code",
   "execution_count": 44,
   "metadata": {},
   "outputs": [
    {
     "data": {
      "text/plain": [
       "(230,)"
      ]
     },
     "execution_count": 44,
     "metadata": {},
     "output_type": "execute_result"
    }
   ],
   "source": [
    "trimmed.index.shape"
   ]
  },
  {
   "cell_type": "code",
   "execution_count": 45,
   "metadata": {},
   "outputs": [
    {
     "name": "stdout",
     "output_type": "stream",
     "text": [
      "2Ra\n",
      "(230, 25)\n",
      "3Ra\n",
      "(230, 31)\n",
      "3Rb\n",
      "(230, 26)\n"
     ]
    }
   ],
   "source": [
    "for inversion in trimmed.columns.levels[0]:\n",
    "    \n",
    "    print(inversion)\n",
    "    print(trimmed[inversion].shape)"
   ]
  },
  {
   "cell_type": "markdown",
   "metadata": {},
   "source": [
    "##### identify inversion genotypes"
   ]
  },
  {
   "cell_type": "code",
   "execution_count": 46,
   "metadata": {},
   "outputs": [
    {
     "data": {
      "text/html": [
       "<div>\n",
       "<style scoped>\n",
       "    .dataframe tbody tr th:only-of-type {\n",
       "        vertical-align: middle;\n",
       "    }\n",
       "\n",
       "    .dataframe tbody tr th {\n",
       "        vertical-align: top;\n",
       "    }\n",
       "\n",
       "    .dataframe thead th {\n",
       "        text-align: right;\n",
       "    }\n",
       "</style>\n",
       "<table border=\"1\" class=\"dataframe\">\n",
       "  <thead>\n",
       "    <tr style=\"text-align: right;\">\n",
       "      <th></th>\n",
       "      <th>2Ra_mean</th>\n",
       "      <th>3Ra_mean</th>\n",
       "      <th>3Rb_mean</th>\n",
       "    </tr>\n",
       "    <tr>\n",
       "      <th>Specimen</th>\n",
       "      <th></th>\n",
       "      <th></th>\n",
       "      <th></th>\n",
       "    </tr>\n",
       "  </thead>\n",
       "  <tbody>\n",
       "    <tr>\n",
       "      <th>PLATE2_A01</th>\n",
       "      <td>NaN</td>\n",
       "      <td>NaN</td>\n",
       "      <td>NaN</td>\n",
       "    </tr>\n",
       "    <tr>\n",
       "      <th>PLATE2_B01</th>\n",
       "      <td>NaN</td>\n",
       "      <td>NaN</td>\n",
       "      <td>NaN</td>\n",
       "    </tr>\n",
       "    <tr>\n",
       "      <th>PLATE2_C01</th>\n",
       "      <td>NaN</td>\n",
       "      <td>NaN</td>\n",
       "      <td>NaN</td>\n",
       "    </tr>\n",
       "    <tr>\n",
       "      <th>PLATE2_D01</th>\n",
       "      <td>NaN</td>\n",
       "      <td>NaN</td>\n",
       "      <td>NaN</td>\n",
       "    </tr>\n",
       "    <tr>\n",
       "      <th>PLATE2_E01</th>\n",
       "      <td>NaN</td>\n",
       "      <td>NaN</td>\n",
       "      <td>NaN</td>\n",
       "    </tr>\n",
       "  </tbody>\n",
       "</table>\n",
       "</div>"
      ],
      "text/plain": [
       "           2Ra_mean 3Ra_mean 3Rb_mean\n",
       "Specimen                             \n",
       "PLATE2_A01      NaN      NaN      NaN\n",
       "PLATE2_B01      NaN      NaN      NaN\n",
       "PLATE2_C01      NaN      NaN      NaN\n",
       "PLATE2_D01      NaN      NaN      NaN\n",
       "PLATE2_E01      NaN      NaN      NaN"
      ]
     },
     "execution_count": 46,
     "metadata": {},
     "output_type": "execute_result"
    }
   ],
   "source": [
    "results = pd.DataFrame(index = trimmed.index, \n",
    "                       columns = [name + \"_mean\" for\\\n",
    "                                  name in trimmed.columns.levels[0]])\n",
    "\n",
    "results.head()"
   ]
  },
  {
   "cell_type": "code",
   "execution_count": 47,
   "metadata": {},
   "outputs": [],
   "source": [
    "for inversion in inversions:\n",
    "    \n",
    "    chunk = trimmed[inversion]\n",
    "    \n",
    "    for index, row in chunk.iterrows():\n",
    "        \n",
    "        results.loc[index, inversion + \"_mean\"] = np.mean(row)"
   ]
  },
  {
   "cell_type": "code",
   "execution_count": 48,
   "metadata": {},
   "outputs": [],
   "source": [
    "for column in results.columns:\n",
    "    \n",
    "    new_name = re.sub(\"_mean\", \"\", column) + \"_assigned\"\n",
    "    \n",
    "    karyos = []\n",
    "    \n",
    "    for value in results[column].values:\n",
    "        \n",
    "        if value <= (2/3):\n",
    "            \n",
    "            karyos.append(0)\n",
    "            \n",
    "        elif value > (2/3) and value <= (4/3):\n",
    "            \n",
    "            karyos.append(1)\n",
    "            \n",
    "        else:\n",
    "            \n",
    "            karyos.append(2)\n",
    "            \n",
    "    results[new_name] = karyos"
   ]
  },
  {
   "cell_type": "code",
   "execution_count": 49,
   "metadata": {},
   "outputs": [
    {
     "data": {
      "text/html": [
       "<div>\n",
       "<style scoped>\n",
       "    .dataframe tbody tr th:only-of-type {\n",
       "        vertical-align: middle;\n",
       "    }\n",
       "\n",
       "    .dataframe tbody tr th {\n",
       "        vertical-align: top;\n",
       "    }\n",
       "\n",
       "    .dataframe thead th {\n",
       "        text-align: right;\n",
       "    }\n",
       "</style>\n",
       "<table border=\"1\" class=\"dataframe\">\n",
       "  <thead>\n",
       "    <tr style=\"text-align: right;\">\n",
       "      <th></th>\n",
       "      <th>2Ra_mean</th>\n",
       "      <th>3Ra_mean</th>\n",
       "      <th>3Rb_mean</th>\n",
       "      <th>2Ra_assigned</th>\n",
       "      <th>3Ra_assigned</th>\n",
       "      <th>3Rb_assigned</th>\n",
       "    </tr>\n",
       "    <tr>\n",
       "      <th>Specimen</th>\n",
       "      <th></th>\n",
       "      <th></th>\n",
       "      <th></th>\n",
       "      <th></th>\n",
       "      <th></th>\n",
       "      <th></th>\n",
       "    </tr>\n",
       "  </thead>\n",
       "  <tbody>\n",
       "    <tr>\n",
       "      <th>PLATE2_A01</th>\n",
       "      <td>0.04</td>\n",
       "      <td>0.0322581</td>\n",
       "      <td>0.0769231</td>\n",
       "      <td>0</td>\n",
       "      <td>0</td>\n",
       "      <td>0</td>\n",
       "    </tr>\n",
       "    <tr>\n",
       "      <th>PLATE2_B01</th>\n",
       "      <td>0.04</td>\n",
       "      <td>0</td>\n",
       "      <td>0.0384615</td>\n",
       "      <td>0</td>\n",
       "      <td>0</td>\n",
       "      <td>0</td>\n",
       "    </tr>\n",
       "    <tr>\n",
       "      <th>PLATE2_C01</th>\n",
       "      <td>0</td>\n",
       "      <td>0</td>\n",
       "      <td>0.0769231</td>\n",
       "      <td>0</td>\n",
       "      <td>0</td>\n",
       "      <td>0</td>\n",
       "    </tr>\n",
       "    <tr>\n",
       "      <th>PLATE2_D01</th>\n",
       "      <td>1.90909</td>\n",
       "      <td>2</td>\n",
       "      <td>0.652174</td>\n",
       "      <td>2</td>\n",
       "      <td>2</td>\n",
       "      <td>0</td>\n",
       "    </tr>\n",
       "    <tr>\n",
       "      <th>PLATE2_E01</th>\n",
       "      <td>0</td>\n",
       "      <td>0</td>\n",
       "      <td>0</td>\n",
       "      <td>0</td>\n",
       "      <td>0</td>\n",
       "      <td>0</td>\n",
       "    </tr>\n",
       "  </tbody>\n",
       "</table>\n",
       "</div>"
      ],
      "text/plain": [
       "           2Ra_mean   3Ra_mean   3Rb_mean  2Ra_assigned  3Ra_assigned  \\\n",
       "Specimen                                                                \n",
       "PLATE2_A01     0.04  0.0322581  0.0769231             0             0   \n",
       "PLATE2_B01     0.04          0  0.0384615             0             0   \n",
       "PLATE2_C01        0          0  0.0769231             0             0   \n",
       "PLATE2_D01  1.90909          2   0.652174             2             2   \n",
       "PLATE2_E01        0          0          0             0             0   \n",
       "\n",
       "            3Rb_assigned  \n",
       "Specimen                  \n",
       "PLATE2_A01             0  \n",
       "PLATE2_B01             0  \n",
       "PLATE2_C01             0  \n",
       "PLATE2_D01             0  \n",
       "PLATE2_E01             0  "
      ]
     },
     "execution_count": 49,
     "metadata": {},
     "output_type": "execute_result"
    }
   ],
   "source": [
    "results.head()"
   ]
  },
  {
   "cell_type": "code",
   "execution_count": 50,
   "metadata": {},
   "outputs": [
    {
     "data": {
      "text/plain": [
       "0    164\n",
       "2     33\n",
       "1     33\n",
       "Name: 2Ra_assigned, dtype: int64"
      ]
     },
     "execution_count": 50,
     "metadata": {},
     "output_type": "execute_result"
    }
   ],
   "source": [
    "results[\"2Ra_assigned\"].value_counts()"
   ]
  },
  {
   "cell_type": "code",
   "execution_count": 51,
   "metadata": {},
   "outputs": [
    {
     "data": {
      "text/plain": [
       "0    132\n",
       "2     64\n",
       "1     34\n",
       "Name: 3Ra_assigned, dtype: int64"
      ]
     },
     "execution_count": 51,
     "metadata": {},
     "output_type": "execute_result"
    }
   ],
   "source": [
    "results[\"3Ra_assigned\"].value_counts()"
   ]
  },
  {
   "cell_type": "code",
   "execution_count": 52,
   "metadata": {},
   "outputs": [
    {
     "data": {
      "text/plain": [
       "0    166\n",
       "1     37\n",
       "2     27\n",
       "Name: 3Rb_assigned, dtype: int64"
      ]
     },
     "execution_count": 52,
     "metadata": {},
     "output_type": "execute_result"
    }
   ],
   "source": [
    "results[\"3Rb_assigned\"].value_counts()"
   ]
  },
  {
   "cell_type": "markdown",
   "metadata": {},
   "source": [
    "##### merge with cytogenetic data"
   ]
  },
  {
   "cell_type": "code",
   "execution_count": 53,
   "metadata": {},
   "outputs": [
    {
     "data": {
      "text/plain": [
       "(230, 6)"
      ]
     },
     "execution_count": 53,
     "metadata": {},
     "output_type": "execute_result"
    }
   ],
   "source": [
    "results.shape"
   ]
  },
  {
   "cell_type": "code",
   "execution_count": 54,
   "metadata": {},
   "outputs": [
    {
     "data": {
      "text/plain": [
       "(230, 8)"
      ]
     },
     "execution_count": 54,
     "metadata": {},
     "output_type": "execute_result"
    }
   ],
   "source": [
    "cyto.shape"
   ]
  },
  {
   "cell_type": "code",
   "execution_count": 55,
   "metadata": {},
   "outputs": [
    {
     "data": {
      "text/html": [
       "<div>\n",
       "<style scoped>\n",
       "    .dataframe tbody tr th:only-of-type {\n",
       "        vertical-align: middle;\n",
       "    }\n",
       "\n",
       "    .dataframe tbody tr th {\n",
       "        vertical-align: top;\n",
       "    }\n",
       "\n",
       "    .dataframe thead th {\n",
       "        text-align: right;\n",
       "    }\n",
       "</style>\n",
       "<table border=\"1\" class=\"dataframe\">\n",
       "  <thead>\n",
       "    <tr style=\"text-align: right;\">\n",
       "      <th></th>\n",
       "      <th>Specimen</th>\n",
       "      <th>2Ra_mean</th>\n",
       "      <th>3Ra_mean</th>\n",
       "      <th>3Rb_mean</th>\n",
       "      <th>2Ra_assigned</th>\n",
       "      <th>3Ra_assigned</th>\n",
       "      <th>3Rb_assigned</th>\n",
       "      <th>Plate name</th>\n",
       "      <th>Row</th>\n",
       "      <th>Column</th>\n",
       "      <th>ID</th>\n",
       "      <th>2Ra</th>\n",
       "      <th>3Ra</th>\n",
       "      <th>3Rb</th>\n",
       "    </tr>\n",
       "  </thead>\n",
       "  <tbody>\n",
       "    <tr>\n",
       "      <th>0</th>\n",
       "      <td>PLATE2_A01</td>\n",
       "      <td>0.04</td>\n",
       "      <td>0.0322581</td>\n",
       "      <td>0.0769231</td>\n",
       "      <td>0</td>\n",
       "      <td>0</td>\n",
       "      <td>0</td>\n",
       "      <td>PLATE_02</td>\n",
       "      <td>A</td>\n",
       "      <td>1</td>\n",
       "      <td>00-02989</td>\n",
       "      <td>#N/R</td>\n",
       "      <td>2</td>\n",
       "      <td>0</td>\n",
       "    </tr>\n",
       "    <tr>\n",
       "      <th>1</th>\n",
       "      <td>PLATE2_B01</td>\n",
       "      <td>0.04</td>\n",
       "      <td>0</td>\n",
       "      <td>0.0384615</td>\n",
       "      <td>0</td>\n",
       "      <td>0</td>\n",
       "      <td>0</td>\n",
       "      <td>PLATE_02</td>\n",
       "      <td>B</td>\n",
       "      <td>1</td>\n",
       "      <td>01-00211</td>\n",
       "      <td>0</td>\n",
       "      <td>0</td>\n",
       "      <td>0</td>\n",
       "    </tr>\n",
       "    <tr>\n",
       "      <th>2</th>\n",
       "      <td>PLATE2_C01</td>\n",
       "      <td>0</td>\n",
       "      <td>0</td>\n",
       "      <td>0.0769231</td>\n",
       "      <td>0</td>\n",
       "      <td>0</td>\n",
       "      <td>0</td>\n",
       "      <td>PLATE_02</td>\n",
       "      <td>C</td>\n",
       "      <td>1</td>\n",
       "      <td>01-00282</td>\n",
       "      <td>0</td>\n",
       "      <td>0</td>\n",
       "      <td>0</td>\n",
       "    </tr>\n",
       "    <tr>\n",
       "      <th>3</th>\n",
       "      <td>PLATE2_D01</td>\n",
       "      <td>1.90909</td>\n",
       "      <td>2</td>\n",
       "      <td>0.652174</td>\n",
       "      <td>2</td>\n",
       "      <td>2</td>\n",
       "      <td>0</td>\n",
       "      <td>PLATE_02</td>\n",
       "      <td>D</td>\n",
       "      <td>1</td>\n",
       "      <td>01-00300</td>\n",
       "      <td>1</td>\n",
       "      <td>2</td>\n",
       "      <td>1</td>\n",
       "    </tr>\n",
       "    <tr>\n",
       "      <th>4</th>\n",
       "      <td>PLATE2_E01</td>\n",
       "      <td>0</td>\n",
       "      <td>0</td>\n",
       "      <td>0</td>\n",
       "      <td>0</td>\n",
       "      <td>0</td>\n",
       "      <td>0</td>\n",
       "      <td>PLATE_02</td>\n",
       "      <td>E</td>\n",
       "      <td>1</td>\n",
       "      <td>01-00512</td>\n",
       "      <td>1</td>\n",
       "      <td>0</td>\n",
       "      <td>0</td>\n",
       "    </tr>\n",
       "  </tbody>\n",
       "</table>\n",
       "</div>"
      ],
      "text/plain": [
       "     Specimen 2Ra_mean   3Ra_mean   3Rb_mean  2Ra_assigned  3Ra_assigned  \\\n",
       "0  PLATE2_A01     0.04  0.0322581  0.0769231             0             0   \n",
       "1  PLATE2_B01     0.04          0  0.0384615             0             0   \n",
       "2  PLATE2_C01        0          0  0.0769231             0             0   \n",
       "3  PLATE2_D01  1.90909          2   0.652174             2             2   \n",
       "4  PLATE2_E01        0          0          0             0             0   \n",
       "\n",
       "   3Rb_assigned Plate name Row  Column        ID   2Ra 3Ra 3Rb  \n",
       "0             0   PLATE_02   A       1  00-02989  #N/R   2   0  \n",
       "1             0   PLATE_02   B       1  01-00211     0   0   0  \n",
       "2             0   PLATE_02   C       1  01-00282     0   0   0  \n",
       "3             0   PLATE_02   D       1  01-00300     1   2   1  \n",
       "4             0   PLATE_02   E       1  01-00512     1   0   0  "
      ]
     },
     "execution_count": 55,
     "metadata": {},
     "output_type": "execute_result"
    }
   ],
   "source": [
    "compare = pd.merge(results.reset_index(), cyto, on=\"Specimen\")\n",
    "compare.head()"
   ]
  },
  {
   "cell_type": "code",
   "execution_count": 56,
   "metadata": {},
   "outputs": [
    {
     "data": {
      "text/html": [
       "<div>\n",
       "<style scoped>\n",
       "    .dataframe tbody tr th:only-of-type {\n",
       "        vertical-align: middle;\n",
       "    }\n",
       "\n",
       "    .dataframe tbody tr th {\n",
       "        vertical-align: top;\n",
       "    }\n",
       "\n",
       "    .dataframe thead th {\n",
       "        text-align: right;\n",
       "    }\n",
       "</style>\n",
       "<table border=\"1\" class=\"dataframe\">\n",
       "  <thead>\n",
       "    <tr style=\"text-align: right;\">\n",
       "      <th></th>\n",
       "      <th>Specimen</th>\n",
       "      <th>ID</th>\n",
       "      <th>2Ra_mean</th>\n",
       "      <th>3Ra_mean</th>\n",
       "      <th>3Rb_mean</th>\n",
       "      <th>2Ra_assigned</th>\n",
       "      <th>3Ra_assigned</th>\n",
       "      <th>3Rb_assigned</th>\n",
       "      <th>2Ra_cyto</th>\n",
       "      <th>3Ra_cyto</th>\n",
       "      <th>3Rb_cyto</th>\n",
       "    </tr>\n",
       "  </thead>\n",
       "  <tbody>\n",
       "    <tr>\n",
       "      <th>0</th>\n",
       "      <td>PLATE2_A01</td>\n",
       "      <td>00-02989</td>\n",
       "      <td>0.04</td>\n",
       "      <td>0.0322581</td>\n",
       "      <td>0.0769231</td>\n",
       "      <td>0</td>\n",
       "      <td>0</td>\n",
       "      <td>0</td>\n",
       "      <td>#N/R</td>\n",
       "      <td>2</td>\n",
       "      <td>0</td>\n",
       "    </tr>\n",
       "    <tr>\n",
       "      <th>1</th>\n",
       "      <td>PLATE2_B01</td>\n",
       "      <td>01-00211</td>\n",
       "      <td>0.04</td>\n",
       "      <td>0</td>\n",
       "      <td>0.0384615</td>\n",
       "      <td>0</td>\n",
       "      <td>0</td>\n",
       "      <td>0</td>\n",
       "      <td>0</td>\n",
       "      <td>0</td>\n",
       "      <td>0</td>\n",
       "    </tr>\n",
       "    <tr>\n",
       "      <th>2</th>\n",
       "      <td>PLATE2_C01</td>\n",
       "      <td>01-00282</td>\n",
       "      <td>0</td>\n",
       "      <td>0</td>\n",
       "      <td>0.0769231</td>\n",
       "      <td>0</td>\n",
       "      <td>0</td>\n",
       "      <td>0</td>\n",
       "      <td>0</td>\n",
       "      <td>0</td>\n",
       "      <td>0</td>\n",
       "    </tr>\n",
       "    <tr>\n",
       "      <th>3</th>\n",
       "      <td>PLATE2_D01</td>\n",
       "      <td>01-00300</td>\n",
       "      <td>1.90909</td>\n",
       "      <td>2</td>\n",
       "      <td>0.652174</td>\n",
       "      <td>2</td>\n",
       "      <td>2</td>\n",
       "      <td>0</td>\n",
       "      <td>1</td>\n",
       "      <td>2</td>\n",
       "      <td>1</td>\n",
       "    </tr>\n",
       "    <tr>\n",
       "      <th>4</th>\n",
       "      <td>PLATE2_E01</td>\n",
       "      <td>01-00512</td>\n",
       "      <td>0</td>\n",
       "      <td>0</td>\n",
       "      <td>0</td>\n",
       "      <td>0</td>\n",
       "      <td>0</td>\n",
       "      <td>0</td>\n",
       "      <td>1</td>\n",
       "      <td>0</td>\n",
       "      <td>0</td>\n",
       "    </tr>\n",
       "  </tbody>\n",
       "</table>\n",
       "</div>"
      ],
      "text/plain": [
       "     Specimen        ID 2Ra_mean   3Ra_mean   3Rb_mean  2Ra_assigned  \\\n",
       "0  PLATE2_A01  00-02989     0.04  0.0322581  0.0769231             0   \n",
       "1  PLATE2_B01  01-00211     0.04          0  0.0384615             0   \n",
       "2  PLATE2_C01  01-00282        0          0  0.0769231             0   \n",
       "3  PLATE2_D01  01-00300  1.90909          2   0.652174             2   \n",
       "4  PLATE2_E01  01-00512        0          0          0             0   \n",
       "\n",
       "   3Ra_assigned  3Rb_assigned 2Ra_cyto 3Ra_cyto 3Rb_cyto  \n",
       "0             0             0     #N/R        2        0  \n",
       "1             0             0        0        0        0  \n",
       "2             0             0        0        0        0  \n",
       "3             2             0        1        2        1  \n",
       "4             0             0        1        0        0  "
      ]
     },
     "execution_count": 56,
     "metadata": {},
     "output_type": "execute_result"
    }
   ],
   "source": [
    "compare.rename(columns = {\"2Ra\" : \"2Ra_cyto\",\n",
    "                         \"3Ra\" : \"3Ra_cyto\",\n",
    "                         \"3Rb\" : \"3Rb_cyto\"}, inplace=True)\n",
    "\n",
    "compare = compare[[\"Specimen\", \"ID\", \"2Ra_mean\", \"3Ra_mean\", \"3Rb_mean\", \n",
    "                   \"2Ra_assigned\", \"3Ra_assigned\", \"3Rb_assigned\",\n",
    "                   \"2Ra_cyto\", \"3Ra_cyto\", \"3Rb_cyto\"]]\n",
    "\n",
    "compare.head()"
   ]
  }
 ],
 "metadata": {
  "kernelspec": {
   "display_name": "Python 3",
   "language": "python",
   "name": "python3"
  },
  "language_info": {
   "codemirror_mode": {
    "name": "ipython",
    "version": 3
   },
   "file_extension": ".py",
   "mimetype": "text/x-python",
   "name": "python",
   "nbconvert_exporter": "python",
   "pygments_lexer": "ipython3",
   "version": "3.7.3"
  }
 },
 "nbformat": 4,
 "nbformat_minor": 2
}
