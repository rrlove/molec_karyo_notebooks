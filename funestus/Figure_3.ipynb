{
 "cells": [
  {
   "cell_type": "code",
   "execution_count": 1,
   "metadata": {},
   "outputs": [],
   "source": [
    "import pandas as pd\n",
    "import matplotlib.pyplot as plt\n",
    "import numpy as np\n",
    "import re\n",
    "import seaborn as sns\n",
    "%matplotlib inline"
   ]
  },
  {
   "cell_type": "code",
   "execution_count": 2,
   "metadata": {},
   "outputs": [],
   "source": [
    "base_dir = \"../../../data/amplicon_sequencing/funestus/\""
   ]
  },
  {
   "cell_type": "code",
   "execution_count": 3,
   "metadata": {
    "scrolled": true
   },
   "outputs": [
    {
     "data": {
      "text/html": [
       "<div>\n",
       "<style scoped>\n",
       "    .dataframe tbody tr th:only-of-type {\n",
       "        vertical-align: middle;\n",
       "    }\n",
       "\n",
       "    .dataframe tbody tr th {\n",
       "        vertical-align: top;\n",
       "    }\n",
       "\n",
       "    .dataframe thead th {\n",
       "        text-align: right;\n",
       "    }\n",
       "</style>\n",
       "<table border=\"1\" class=\"dataframe\">\n",
       "  <thead>\n",
       "    <tr style=\"text-align: right;\">\n",
       "      <th></th>\n",
       "      <th>SpecimenID</th>\n",
       "      <th>village</th>\n",
       "      <th>chormosomal form</th>\n",
       "      <th>3Ra_cyto</th>\n",
       "      <th>3Ra_amp</th>\n",
       "      <th>3Ra_oa</th>\n",
       "      <th>code_3Ra</th>\n",
       "      <th>concat</th>\n",
       "      <th>3Rb_cyto</th>\n",
       "      <th>3Rb_amp</th>\n",
       "      <th>3Rb_oa</th>\n",
       "      <th>code_3Rb</th>\n",
       "      <th>concat.1</th>\n",
       "      <th>2Ra_cyto</th>\n",
       "      <th>2Ra_amp</th>\n",
       "      <th>concat.2</th>\n",
       "    </tr>\n",
       "  </thead>\n",
       "  <tbody>\n",
       "    <tr>\n",
       "      <th>0</th>\n",
       "      <td>00-00022</td>\n",
       "      <td>Koubri</td>\n",
       "      <td>Kiribina</td>\n",
       "      <td>0</td>\n",
       "      <td>0</td>\n",
       "      <td>0</td>\n",
       "      <td>0</td>\n",
       "      <td>0</td>\n",
       "      <td>0</td>\n",
       "      <td>0</td>\n",
       "      <td>0</td>\n",
       "      <td>0</td>\n",
       "      <td>0</td>\n",
       "      <td>0</td>\n",
       "      <td>0</td>\n",
       "      <td>0</td>\n",
       "    </tr>\n",
       "    <tr>\n",
       "      <th>1</th>\n",
       "      <td>00-00024</td>\n",
       "      <td>Koubri</td>\n",
       "      <td>Kiribina</td>\n",
       "      <td>1</td>\n",
       "      <td>1</td>\n",
       "      <td>1</td>\n",
       "      <td>0</td>\n",
       "      <td>111</td>\n",
       "      <td>0</td>\n",
       "      <td>0</td>\n",
       "      <td>0</td>\n",
       "      <td>0</td>\n",
       "      <td>0</td>\n",
       "      <td>0</td>\n",
       "      <td>0</td>\n",
       "      <td>0</td>\n",
       "    </tr>\n",
       "    <tr>\n",
       "      <th>2</th>\n",
       "      <td>00-00025</td>\n",
       "      <td>Koubri</td>\n",
       "      <td>Folonzo</td>\n",
       "      <td>1</td>\n",
       "      <td>1</td>\n",
       "      <td>1</td>\n",
       "      <td>0</td>\n",
       "      <td>111</td>\n",
       "      <td>2</td>\n",
       "      <td>2</td>\n",
       "      <td>2</td>\n",
       "      <td>0</td>\n",
       "      <td>222</td>\n",
       "      <td>0</td>\n",
       "      <td>0</td>\n",
       "      <td>0</td>\n",
       "    </tr>\n",
       "    <tr>\n",
       "      <th>3</th>\n",
       "      <td>00-00029</td>\n",
       "      <td>Koubri</td>\n",
       "      <td>Kiribina</td>\n",
       "      <td>0</td>\n",
       "      <td>0</td>\n",
       "      <td>0</td>\n",
       "      <td>0</td>\n",
       "      <td>0</td>\n",
       "      <td>0</td>\n",
       "      <td>0</td>\n",
       "      <td>0</td>\n",
       "      <td>0</td>\n",
       "      <td>0</td>\n",
       "      <td>0</td>\n",
       "      <td>0</td>\n",
       "      <td>0</td>\n",
       "    </tr>\n",
       "    <tr>\n",
       "      <th>4</th>\n",
       "      <td>00-00030</td>\n",
       "      <td>Koubri</td>\n",
       "      <td>Kiribina</td>\n",
       "      <td>1</td>\n",
       "      <td>1</td>\n",
       "      <td>1</td>\n",
       "      <td>0</td>\n",
       "      <td>111</td>\n",
       "      <td>0</td>\n",
       "      <td>0</td>\n",
       "      <td>0</td>\n",
       "      <td>0</td>\n",
       "      <td>0</td>\n",
       "      <td>0</td>\n",
       "      <td>0</td>\n",
       "      <td>0</td>\n",
       "    </tr>\n",
       "  </tbody>\n",
       "</table>\n",
       "</div>"
      ],
      "text/plain": [
       "  SpecimenID village chormosomal form 3Ra_cyto 3Ra_amp 3Ra_oa  code_3Ra  \\\n",
       "0   00-00022  Koubri         Kiribina        0       0      0         0   \n",
       "1   00-00024  Koubri         Kiribina        1       1      1         0   \n",
       "2   00-00025  Koubri          Folonzo        1       1      1         0   \n",
       "3   00-00029  Koubri         Kiribina        0       0      0         0   \n",
       "4   00-00030  Koubri         Kiribina        1       1      1         0   \n",
       "\n",
       "  concat 3Rb_cyto 3Rb_amp 3Rb_oa  code_3Rb concat.1 2Ra_cyto 2Ra_amp concat.2  \n",
       "0      0        0       0      0         0        0        0       0        0  \n",
       "1    111        0       0      0         0        0        0       0        0  \n",
       "2    111        2       2      2         0      222        0       0        0  \n",
       "3      0        0       0      0         0        0        0       0        0  \n",
       "4    111        0       0      0         0        0        0       0        0  "
      ]
     },
     "execution_count": 3,
     "metadata": {},
     "output_type": "execute_result"
    }
   ],
   "source": [
    "data = pd.read_csv(base_dir + \"data_threeway.csv\", \n",
    "                     dtype={\"3Ra_cyto\" : str, \"3Ra_amp\" : str, \n",
    "                            \"3Ra_oa\" : str, \"3Rb_cyto\" : str,\n",
    "                            \"3Rb_amp\" : str, \"3Rb_oa\" : str,\n",
    "                           \"2Ra_cyto\":str, \"2Ra_amp\":str})\n",
    "data.replace(np.nan, \"missing\", inplace=True)\n",
    "data.replace(\"No_cytoKaryotype\", \"missing\", inplace=True)\n",
    "data.replace('NA', 'missing', inplace=True)\n",
    "data.head()"
   ]
  },
  {
   "cell_type": "code",
   "execution_count": 4,
   "metadata": {
    "scrolled": true
   },
   "outputs": [
    {
     "data": {
      "text/html": [
       "<div>\n",
       "<style scoped>\n",
       "    .dataframe tbody tr th:only-of-type {\n",
       "        vertical-align: middle;\n",
       "    }\n",
       "\n",
       "    .dataframe tbody tr th {\n",
       "        vertical-align: top;\n",
       "    }\n",
       "\n",
       "    .dataframe thead th {\n",
       "        text-align: right;\n",
       "    }\n",
       "</style>\n",
       "<table border=\"1\" class=\"dataframe\">\n",
       "  <thead>\n",
       "    <tr style=\"text-align: right;\">\n",
       "      <th></th>\n",
       "      <th>SpecimenID</th>\n",
       "      <th>village</th>\n",
       "      <th>chormosomal form</th>\n",
       "      <th>3Ra_cyto</th>\n",
       "      <th>3Ra_amp</th>\n",
       "      <th>3Ra_oa</th>\n",
       "      <th>code_3Ra</th>\n",
       "      <th>concat</th>\n",
       "      <th>3Rb_cyto</th>\n",
       "      <th>3Rb_amp</th>\n",
       "      <th>3Rb_oa</th>\n",
       "      <th>code_3Rb</th>\n",
       "      <th>concat.1</th>\n",
       "      <th>2Ra_cyto</th>\n",
       "      <th>2Ra_amp</th>\n",
       "      <th>concat.2</th>\n",
       "      <th>3Ra_concat</th>\n",
       "      <th>3Rb_concat</th>\n",
       "      <th>2Ra_concat</th>\n",
       "    </tr>\n",
       "  </thead>\n",
       "  <tbody>\n",
       "    <tr>\n",
       "      <th>0</th>\n",
       "      <td>00-00022</td>\n",
       "      <td>Koubri</td>\n",
       "      <td>Kiribina</td>\n",
       "      <td>0</td>\n",
       "      <td>0</td>\n",
       "      <td>0</td>\n",
       "      <td>0</td>\n",
       "      <td>0</td>\n",
       "      <td>0</td>\n",
       "      <td>0</td>\n",
       "      <td>0</td>\n",
       "      <td>0</td>\n",
       "      <td>0</td>\n",
       "      <td>0</td>\n",
       "      <td>0</td>\n",
       "      <td>0</td>\n",
       "      <td>000</td>\n",
       "      <td>000</td>\n",
       "      <td>00</td>\n",
       "    </tr>\n",
       "    <tr>\n",
       "      <th>1</th>\n",
       "      <td>00-00024</td>\n",
       "      <td>Koubri</td>\n",
       "      <td>Kiribina</td>\n",
       "      <td>1</td>\n",
       "      <td>1</td>\n",
       "      <td>1</td>\n",
       "      <td>0</td>\n",
       "      <td>111</td>\n",
       "      <td>0</td>\n",
       "      <td>0</td>\n",
       "      <td>0</td>\n",
       "      <td>0</td>\n",
       "      <td>0</td>\n",
       "      <td>0</td>\n",
       "      <td>0</td>\n",
       "      <td>0</td>\n",
       "      <td>111</td>\n",
       "      <td>000</td>\n",
       "      <td>00</td>\n",
       "    </tr>\n",
       "    <tr>\n",
       "      <th>2</th>\n",
       "      <td>00-00025</td>\n",
       "      <td>Koubri</td>\n",
       "      <td>Folonzo</td>\n",
       "      <td>1</td>\n",
       "      <td>1</td>\n",
       "      <td>1</td>\n",
       "      <td>0</td>\n",
       "      <td>111</td>\n",
       "      <td>2</td>\n",
       "      <td>2</td>\n",
       "      <td>2</td>\n",
       "      <td>0</td>\n",
       "      <td>222</td>\n",
       "      <td>0</td>\n",
       "      <td>0</td>\n",
       "      <td>0</td>\n",
       "      <td>111</td>\n",
       "      <td>222</td>\n",
       "      <td>00</td>\n",
       "    </tr>\n",
       "    <tr>\n",
       "      <th>3</th>\n",
       "      <td>00-00029</td>\n",
       "      <td>Koubri</td>\n",
       "      <td>Kiribina</td>\n",
       "      <td>0</td>\n",
       "      <td>0</td>\n",
       "      <td>0</td>\n",
       "      <td>0</td>\n",
       "      <td>0</td>\n",
       "      <td>0</td>\n",
       "      <td>0</td>\n",
       "      <td>0</td>\n",
       "      <td>0</td>\n",
       "      <td>0</td>\n",
       "      <td>0</td>\n",
       "      <td>0</td>\n",
       "      <td>0</td>\n",
       "      <td>000</td>\n",
       "      <td>000</td>\n",
       "      <td>00</td>\n",
       "    </tr>\n",
       "    <tr>\n",
       "      <th>4</th>\n",
       "      <td>00-00030</td>\n",
       "      <td>Koubri</td>\n",
       "      <td>Kiribina</td>\n",
       "      <td>1</td>\n",
       "      <td>1</td>\n",
       "      <td>1</td>\n",
       "      <td>0</td>\n",
       "      <td>111</td>\n",
       "      <td>0</td>\n",
       "      <td>0</td>\n",
       "      <td>0</td>\n",
       "      <td>0</td>\n",
       "      <td>0</td>\n",
       "      <td>0</td>\n",
       "      <td>0</td>\n",
       "      <td>0</td>\n",
       "      <td>111</td>\n",
       "      <td>000</td>\n",
       "      <td>00</td>\n",
       "    </tr>\n",
       "  </tbody>\n",
       "</table>\n",
       "</div>"
      ],
      "text/plain": [
       "  SpecimenID village chormosomal form 3Ra_cyto 3Ra_amp 3Ra_oa  code_3Ra  \\\n",
       "0   00-00022  Koubri         Kiribina        0       0      0         0   \n",
       "1   00-00024  Koubri         Kiribina        1       1      1         0   \n",
       "2   00-00025  Koubri          Folonzo        1       1      1         0   \n",
       "3   00-00029  Koubri         Kiribina        0       0      0         0   \n",
       "4   00-00030  Koubri         Kiribina        1       1      1         0   \n",
       "\n",
       "  concat 3Rb_cyto 3Rb_amp 3Rb_oa  code_3Rb concat.1 2Ra_cyto 2Ra_amp concat.2  \\\n",
       "0      0        0       0      0         0        0        0       0        0   \n",
       "1    111        0       0      0         0        0        0       0        0   \n",
       "2    111        2       2      2         0      222        0       0        0   \n",
       "3      0        0       0      0         0        0        0       0        0   \n",
       "4    111        0       0      0         0        0        0       0        0   \n",
       "\n",
       "  3Ra_concat 3Rb_concat 2Ra_concat  \n",
       "0        000        000         00  \n",
       "1        111        000         00  \n",
       "2        111        222         00  \n",
       "3        000        000         00  \n",
       "4        111        000         00  "
      ]
     },
     "execution_count": 4,
     "metadata": {},
     "output_type": "execute_result"
    }
   ],
   "source": [
    "data[\"3Ra_concat\"] = data[\"3Ra_cyto\"].map(str) +\\\n",
    "                    data[\"3Ra_amp\"].map(str) +\\\n",
    "                    data[\"3Ra_oa\"].map(str)\n",
    "\n",
    "data[\"3Rb_concat\"] = data[\"3Rb_cyto\"].map(str) +\\\n",
    "                    data[\"3Rb_amp\"].map(str) +\\\n",
    "                    data[\"3Rb_oa\"].map(str)\n",
    "\n",
    "data[\"2Ra_concat\"] = data[\"2Ra_cyto\"].map(str) +\\\n",
    "                    data[\"2Ra_amp\"].map(str)\n",
    "\n",
    "data.head()"
   ]
  },
  {
   "cell_type": "code",
   "execution_count": 5,
   "metadata": {},
   "outputs": [
    {
     "data": {
      "text/plain": [
       "array(['000', '111', '222', '221', '011', '211', '022', '200',\n",
       "       'Missingmissingmissing'], dtype=object)"
      ]
     },
     "execution_count": 5,
     "metadata": {},
     "output_type": "execute_result"
    }
   ],
   "source": [
    "data[\"3Ra_concat\"].unique()"
   ]
  },
  {
   "cell_type": "code",
   "execution_count": 6,
   "metadata": {},
   "outputs": [
    {
     "data": {
      "text/plain": [
       "array(['000', '111', '222', '221', '011', '211', '022', '200',\n",
       "       'Missingmissingmissing', '100', '110', 'missingmissingmissing',\n",
       "       '101', '002', '010', '021', 'mssing missingmissing'], dtype=object)"
      ]
     },
     "execution_count": 6,
     "metadata": {},
     "output_type": "execute_result"
    }
   ],
   "source": [
    "pd.concat([data[\"3Ra_concat\"], data[\"3Rb_concat\"]]).unique()"
   ]
  },
  {
   "cell_type": "code",
   "execution_count": 7,
   "metadata": {},
   "outputs": [],
   "source": [
    "trans_dict = {key : None for key in pd.concat([data[\"3Ra_concat\"], \n",
    "                                               data[\"3Rb_concat\"]]).unique()}\n",
    "\n",
    "for key in trans_dict.keys():\n",
    "    \n",
    "    if \"missing\" in key:\n",
    "        \n",
    "        trans_dict[key] = 5\n",
    "        \n",
    "    elif key == \"000\" or key == \"111\" or key == \"222\":\n",
    "        \n",
    "        trans_dict[key] = 0\n",
    "        \n",
    "    elif key == \"021\" or key ==\"210\":\n",
    "        \n",
    "        trans_dict[key] = 4\n",
    "        \n",
    "    elif key == \"221\" or key == \"110\" or key == \"002\":\n",
    "        \n",
    "        trans_dict[key] = 2\n",
    "        \n",
    "    elif key == \"011\" or key == \"211\" or key == \"022\" or key == \"200\" or key == \"100\":\n",
    "        \n",
    "        trans_dict[key] = 1\n",
    "        \n",
    "    elif key == \"101\" or key == \"010\":\n",
    "        \n",
    "        trans_dict[key] = 3\n",
    "        \n",
    "    else:\n",
    "        \n",
    "        print(key)"
   ]
  },
  {
   "cell_type": "code",
   "execution_count": 8,
   "metadata": {},
   "outputs": [
    {
     "data": {
      "text/plain": [
       "{'000': 0,\n",
       " '111': 0,\n",
       " '222': 0,\n",
       " '221': 2,\n",
       " '011': 1,\n",
       " '211': 1,\n",
       " '022': 1,\n",
       " '200': 1,\n",
       " 'Missingmissingmissing': 5,\n",
       " '100': 1,\n",
       " '110': 2,\n",
       " 'missingmissingmissing': 5,\n",
       " '101': 3,\n",
       " '002': 2,\n",
       " '010': 3,\n",
       " '021': 4,\n",
       " 'mssing missingmissing': 5}"
      ]
     },
     "execution_count": 8,
     "metadata": {},
     "output_type": "execute_result"
    }
   ],
   "source": [
    "trans_dict"
   ]
  },
  {
   "cell_type": "code",
   "execution_count": 9,
   "metadata": {},
   "outputs": [
    {
     "data": {
      "text/html": [
       "<div>\n",
       "<style scoped>\n",
       "    .dataframe tbody tr th:only-of-type {\n",
       "        vertical-align: middle;\n",
       "    }\n",
       "\n",
       "    .dataframe tbody tr th {\n",
       "        vertical-align: top;\n",
       "    }\n",
       "\n",
       "    .dataframe thead th {\n",
       "        text-align: right;\n",
       "    }\n",
       "</style>\n",
       "<table border=\"1\" class=\"dataframe\">\n",
       "  <thead>\n",
       "    <tr style=\"text-align: right;\">\n",
       "      <th></th>\n",
       "      <th>3Ra_concat</th>\n",
       "      <th>3Rb_concat</th>\n",
       "    </tr>\n",
       "    <tr>\n",
       "      <th>SpecimenID</th>\n",
       "      <th></th>\n",
       "      <th></th>\n",
       "    </tr>\n",
       "  </thead>\n",
       "  <tbody>\n",
       "    <tr>\n",
       "      <th>00-00022</th>\n",
       "      <td>0</td>\n",
       "      <td>0</td>\n",
       "    </tr>\n",
       "    <tr>\n",
       "      <th>00-00024</th>\n",
       "      <td>0</td>\n",
       "      <td>0</td>\n",
       "    </tr>\n",
       "    <tr>\n",
       "      <th>00-00025</th>\n",
       "      <td>0</td>\n",
       "      <td>0</td>\n",
       "    </tr>\n",
       "    <tr>\n",
       "      <th>00-00029</th>\n",
       "      <td>0</td>\n",
       "      <td>0</td>\n",
       "    </tr>\n",
       "    <tr>\n",
       "      <th>00-00030</th>\n",
       "      <td>0</td>\n",
       "      <td>0</td>\n",
       "    </tr>\n",
       "  </tbody>\n",
       "</table>\n",
       "</div>"
      ],
      "text/plain": [
       "            3Ra_concat  3Rb_concat\n",
       "SpecimenID                        \n",
       "00-00022             0           0\n",
       "00-00024             0           0\n",
       "00-00025             0           0\n",
       "00-00029             0           0\n",
       "00-00030             0           0"
      ]
     },
     "execution_count": 9,
     "metadata": {},
     "output_type": "execute_result"
    }
   ],
   "source": [
    "trimmed = data[[\"SpecimenID\", \"3Ra_concat\", \"3Rb_concat\"]].sort_values(\n",
    "    \"SpecimenID\").set_index(\"SpecimenID\").replace(trans_dict)\n",
    "\n",
    "trimmed.head()"
   ]
  },
  {
   "cell_type": "code",
   "execution_count": 10,
   "metadata": {},
   "outputs": [
    {
     "data": {
      "text/plain": [
       "0    211\n",
       "1     17\n",
       "5      1\n",
       "2      1\n",
       "Name: 3Ra_concat, dtype: int64"
      ]
     },
     "execution_count": 10,
     "metadata": {},
     "output_type": "execute_result"
    }
   ],
   "source": [
    "trimmed[\"3Ra_concat\"].value_counts()"
   ]
  },
  {
   "cell_type": "code",
   "execution_count": 11,
   "metadata": {
    "scrolled": true
   },
   "outputs": [
    {
     "data": {
      "text/plain": [
       "0    183\n",
       "1     20\n",
       "5     10\n",
       "2     10\n",
       "3      6\n",
       "4      1\n",
       "Name: 3Rb_concat, dtype: int64"
      ]
     },
     "execution_count": 11,
     "metadata": {},
     "output_type": "execute_result"
    }
   ],
   "source": [
    "trimmed[\"3Rb_concat\"].value_counts()"
   ]
  },
  {
   "cell_type": "code",
   "execution_count": 12,
   "metadata": {
    "scrolled": true
   },
   "outputs": [
    {
     "data": {
      "image/png": "[encoded data removed]",
      "text/plain": [
       "<Figure size 432x288 with 2 Axes>"
      ]
     },
     "metadata": {
      "needs_background": "light"
     },
     "output_type": "display_data"
    }
   ],
   "source": [
    "heat_map = sns.heatmap(trimmed, \n",
    "                       cmap = ['darkgreen', 'lawngreen', 'mediumblue', \n",
    "                               'yellow', 'red', 'black'], \n",
    "                       xticklabels=['3Ra','3Rb'], \n",
    "                       yticklabels=False,\\\n",
    "                       linecolor='white')\n",
    "\n",
    "colorbar = heat_map.collections[0].colorbar\n",
    "colorbar.set_ticks([0.5,1.25,2.05,3.05,3.85,4.7])\n",
    "colorbar.set_ticklabels(['All three \\nagree', 'AS & OA \\nagree', \n",
    "                         'CYT & AS \\nagree', 'CYT & OA \\nagree',\n",
    "                         'All three \\ndisagree','Not \\ngenotyped'])\n",
    "colorbar.ax.tick_params(labelsize=7)"
   ]
  },
  {
   "cell_type": "code",
   "execution_count": 13,
   "metadata": {},
   "outputs": [
    {
     "data": {
      "text/plain": [
       "'0.11.0'"
      ]
     },
     "execution_count": 13,
     "metadata": {},
     "output_type": "execute_result"
    }
   ],
   "source": [
    "sns.__version__"
   ]
  },
  {
   "cell_type": "code",
   "execution_count": 15,
   "metadata": {},
   "outputs": [
    {
     "data": {
      "image/png": "[encoded data removed]",
      "text/plain": [
       "<Figure size 432x288 with 2 Axes>"
      ]
     },
     "metadata": {
      "needs_background": "light"
     },
     "output_type": "display_data"
    }
   ],
   "source": [
    "heat_map = sns.heatmap(trimmed, \n",
    "                       cmap = ['darkgreen', 'lawngreen', 'mediumblue', \n",
    "                               'yellow', 'red', 'black'], \n",
    "                       xticklabels=['3Ra','3Rb'], \n",
    "                       yticklabels=False,\\\n",
    "                       linecolor='white')\n",
    "\n",
    "heat_map.set_ylabel(\"\")\n",
    "\n",
    "colorbar = heat_map.collections[0].colorbar\n",
    "colorbar.set_ticks([0.5,1.25,2.05,3.05,3.85,4.7])\n",
    "colorbar.set_ticklabels(['All three \\nagree', 'AS & OA \\nagree', 'CYT & AS \\nagree',\n",
    "                         'CYT & OA \\nagree','All three \\ndisagree','Not \\ngenotyped'])"
   ]
  },
  {
   "cell_type": "code",
   "execution_count": null,
   "metadata": {},
   "outputs": [],
   "source": []
  }
 ],
 "metadata": {
  "kernelspec": {
   "display_name": "Python 3",
   "language": "python",
   "name": "python3"
  },
  "language_info": {
   "codemirror_mode": {
    "name": "ipython",
    "version": 3
   },
   "file_extension": ".py",
   "mimetype": "text/x-python",
   "name": "python",
   "nbconvert_exporter": "python",
   "pygments_lexer": "ipython3",
   "version": "3.7.3"
  }
 },
 "nbformat": 4,
 "nbformat_minor": 2
}
