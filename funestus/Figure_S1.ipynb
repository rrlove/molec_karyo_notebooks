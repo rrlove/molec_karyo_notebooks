{
 "cells": [
  {
   "cell_type": "code",
   "execution_count": 1,
   "metadata": {},
   "outputs": [],
   "source": [
    "import allel\n",
    "import h5py\n",
    "import ingenos\n",
    "import matplotlib.pyplot as plt\n",
    "import numpy as np\n",
    "import pandas as pd\n",
    "import seaborn as sns"
   ]
  },
  {
   "cell_type": "code",
   "execution_count": 2,
   "metadata": {},
   "outputs": [],
   "source": [
    "base = \\\n",
    "\"/afs/crc.nd.edu/group/BesanskyNGS/data05/comp_karyo/data/amplicon_sequencing/funestus/\""
   ]
  },
  {
   "cell_type": "markdown",
   "metadata": {},
   "source": [
    "##### read in metadata"
   ]
  },
  {
   "cell_type": "code",
   "execution_count": 3,
   "metadata": {},
   "outputs": [
    {
     "data": {
      "text/html": [
       "<div>\n",
       "<style scoped>\n",
       "    .dataframe tbody tr th:only-of-type {\n",
       "        vertical-align: middle;\n",
       "    }\n",
       "\n",
       "    .dataframe tbody tr th {\n",
       "        vertical-align: top;\n",
       "    }\n",
       "\n",
       "    .dataframe thead th {\n",
       "        text-align: right;\n",
       "    }\n",
       "</style>\n",
       "<table border=\"1\" class=\"dataframe\">\n",
       "  <thead>\n",
       "    <tr style=\"text-align: right;\">\n",
       "      <th></th>\n",
       "      <th>VCF_ID</th>\n",
       "      <th>Specimen_ID</th>\n",
       "      <th>Country</th>\n",
       "      <th>Village</th>\n",
       "      <th>Date of collection</th>\n",
       "      <th>2Ra-cyt</th>\n",
       "      <th>2Ra-PCA</th>\n",
       "      <th>3Ra-cyt</th>\n",
       "      <th>3Ra-PCA</th>\n",
       "      <th>3Rb-cyt</th>\n",
       "      <th>3Rb-PCA</th>\n",
       "    </tr>\n",
       "  </thead>\n",
       "  <tbody>\n",
       "    <tr>\n",
       "      <th>0</th>\n",
       "      <td>Kuiti_00-01331_Kiribina</td>\n",
       "      <td>00-01331</td>\n",
       "      <td>Burkina Faso</td>\n",
       "      <td>Kuiti</td>\n",
       "      <td>2000-09-05 00:00:00</td>\n",
       "      <td>0</td>\n",
       "      <td>0.0</td>\n",
       "      <td>0</td>\n",
       "      <td>0.0</td>\n",
       "      <td>0</td>\n",
       "      <td>0.0</td>\n",
       "    </tr>\n",
       "    <tr>\n",
       "      <th>1</th>\n",
       "      <td>Kuiti_00-01332_Kiribina</td>\n",
       "      <td>00-01332</td>\n",
       "      <td>Burkina Faso</td>\n",
       "      <td>Kuiti</td>\n",
       "      <td>2000-09-05 00:00:00</td>\n",
       "      <td>0</td>\n",
       "      <td>0.0</td>\n",
       "      <td>0</td>\n",
       "      <td>0.0</td>\n",
       "      <td>0</td>\n",
       "      <td>0.0</td>\n",
       "    </tr>\n",
       "    <tr>\n",
       "      <th>2</th>\n",
       "      <td>Kuiti_00-01334_Kiribina</td>\n",
       "      <td>00-01334</td>\n",
       "      <td>Burkina Faso</td>\n",
       "      <td>Kuiti</td>\n",
       "      <td>2000-09-05 00:00:00</td>\n",
       "      <td>0</td>\n",
       "      <td>0.0</td>\n",
       "      <td>0</td>\n",
       "      <td>0.0</td>\n",
       "      <td>0</td>\n",
       "      <td>0.0</td>\n",
       "    </tr>\n",
       "    <tr>\n",
       "      <th>3</th>\n",
       "      <td>Kuiti_00-01396_Kiribina</td>\n",
       "      <td>00-01396</td>\n",
       "      <td>Burkina Faso</td>\n",
       "      <td>Kuiti</td>\n",
       "      <td>2000-09-06 00:00:00</td>\n",
       "      <td>0</td>\n",
       "      <td>0.0</td>\n",
       "      <td>0</td>\n",
       "      <td>0.0</td>\n",
       "      <td>0</td>\n",
       "      <td>0.0</td>\n",
       "    </tr>\n",
       "    <tr>\n",
       "      <th>4</th>\n",
       "      <td>Kuiti_00-01397_Kiribina</td>\n",
       "      <td>00-01397</td>\n",
       "      <td>Burkina Faso</td>\n",
       "      <td>Kuiti</td>\n",
       "      <td>2000-09-06 00:00:00</td>\n",
       "      <td>0</td>\n",
       "      <td>0.0</td>\n",
       "      <td>0</td>\n",
       "      <td>0.0</td>\n",
       "      <td>0</td>\n",
       "      <td>0.0</td>\n",
       "    </tr>\n",
       "  </tbody>\n",
       "</table>\n",
       "</div>"
      ],
      "text/plain": [
       "                    VCF_ID Specimen_ID       Country Village  \\\n",
       "0  Kuiti_00-01331_Kiribina    00-01331  Burkina Faso   Kuiti   \n",
       "1  Kuiti_00-01332_Kiribina    00-01332  Burkina Faso   Kuiti   \n",
       "2  Kuiti_00-01334_Kiribina    00-01334  Burkina Faso   Kuiti   \n",
       "3  Kuiti_00-01396_Kiribina    00-01396  Burkina Faso   Kuiti   \n",
       "4  Kuiti_00-01397_Kiribina    00-01397  Burkina Faso   Kuiti   \n",
       "\n",
       "    Date of collection 2Ra-cyt  2Ra-PCA 3Ra-cyt  3Ra-PCA 3Rb-cyt  3Rb-PCA  \n",
       "0  2000-09-05 00:00:00       0      0.0       0      0.0       0      0.0  \n",
       "1  2000-09-05 00:00:00       0      0.0       0      0.0       0      0.0  \n",
       "2  2000-09-05 00:00:00       0      0.0       0      0.0       0      0.0  \n",
       "3  2000-09-06 00:00:00       0      0.0       0      0.0       0      0.0  \n",
       "4  2000-09-06 00:00:00       0      0.0       0      0.0       0      0.0  "
      ]
     },
     "execution_count": 3,
     "metadata": {},
     "output_type": "execute_result"
    }
   ],
   "source": [
    "md_good = pd.read_excel((base + \"metadata/TableS1 WGS for SNP Ascertainment_090520_BL.xlsx\"),\n",
    "                     sheet_name = \"retained_specimens\")\n",
    "\n",
    "md_good.head()"
   ]
  },
  {
   "cell_type": "code",
   "execution_count": 4,
   "metadata": {},
   "outputs": [
    {
     "data": {
      "text/html": [
       "<div>\n",
       "<style scoped>\n",
       "    .dataframe tbody tr th:only-of-type {\n",
       "        vertical-align: middle;\n",
       "    }\n",
       "\n",
       "    .dataframe tbody tr th {\n",
       "        vertical-align: top;\n",
       "    }\n",
       "\n",
       "    .dataframe thead th {\n",
       "        text-align: right;\n",
       "    }\n",
       "</style>\n",
       "<table border=\"1\" class=\"dataframe\">\n",
       "  <thead>\n",
       "    <tr style=\"text-align: right;\">\n",
       "      <th></th>\n",
       "      <th>VCF_ID</th>\n",
       "      <th>Specimen_ID</th>\n",
       "      <th>Country</th>\n",
       "      <th>Village</th>\n",
       "      <th>Date of collection</th>\n",
       "      <th>2Ra-cyt</th>\n",
       "      <th>2Ra-PCA</th>\n",
       "      <th>3Ra-cyt</th>\n",
       "      <th>3Ra-PCA</th>\n",
       "      <th>3Rb-cyt</th>\n",
       "      <th>3Rb-PCA</th>\n",
       "    </tr>\n",
       "  </thead>\n",
       "  <tbody>\n",
       "    <tr>\n",
       "      <th>170</th>\n",
       "      <td>Ugf401</td>\n",
       "      <td>UgF401</td>\n",
       "      <td>Uganda</td>\n",
       "      <td>Tororo Amoni</td>\n",
       "      <td>2001</td>\n",
       "      <td>N</td>\n",
       "      <td>0.0</td>\n",
       "      <td>N</td>\n",
       "      <td>2.0</td>\n",
       "      <td>N</td>\n",
       "      <td>2.0</td>\n",
       "    </tr>\n",
       "    <tr>\n",
       "      <th>171</th>\n",
       "      <td>Ugf403</td>\n",
       "      <td>UgF403</td>\n",
       "      <td>Uganda</td>\n",
       "      <td>Tororo Amoni</td>\n",
       "      <td>2001</td>\n",
       "      <td>N</td>\n",
       "      <td>1.0</td>\n",
       "      <td>N</td>\n",
       "      <td>1.0</td>\n",
       "      <td>N</td>\n",
       "      <td>2.0</td>\n",
       "    </tr>\n",
       "    <tr>\n",
       "      <th>172</th>\n",
       "      <td>Zam281</td>\n",
       "      <td>Zam281</td>\n",
       "      <td>Zambia</td>\n",
       "      <td>Nyimba</td>\n",
       "      <td>2011</td>\n",
       "      <td>N</td>\n",
       "      <td>1.0</td>\n",
       "      <td>N</td>\n",
       "      <td>2.0</td>\n",
       "      <td>N</td>\n",
       "      <td>2.0</td>\n",
       "    </tr>\n",
       "    <tr>\n",
       "      <th>173</th>\n",
       "      <td>NaN</td>\n",
       "      <td>NaN</td>\n",
       "      <td>NaN</td>\n",
       "      <td>NaN</td>\n",
       "      <td>NaN</td>\n",
       "      <td>NaN</td>\n",
       "      <td>NaN</td>\n",
       "      <td>NaN</td>\n",
       "      <td>NaN</td>\n",
       "      <td>NaN</td>\n",
       "      <td>NaN</td>\n",
       "    </tr>\n",
       "    <tr>\n",
       "      <th>174</th>\n",
       "      <td>NaN</td>\n",
       "      <td>NaN</td>\n",
       "      <td>NaN</td>\n",
       "      <td>NaN</td>\n",
       "      <td>N</td>\n",
       "      <td>30</td>\n",
       "      <td>NaN</td>\n",
       "      <td>15</td>\n",
       "      <td>NaN</td>\n",
       "      <td>18</td>\n",
       "      <td>NaN</td>\n",
       "    </tr>\n",
       "  </tbody>\n",
       "</table>\n",
       "</div>"
      ],
      "text/plain": [
       "     VCF_ID Specimen_ID Country       Village Date of collection 2Ra-cyt  \\\n",
       "170  Ugf401      UgF401  Uganda  Tororo Amoni               2001       N   \n",
       "171  Ugf403      UgF403  Uganda  Tororo Amoni               2001       N   \n",
       "172  Zam281      Zam281  Zambia        Nyimba               2011       N   \n",
       "173     NaN         NaN     NaN           NaN                NaN     NaN   \n",
       "174     NaN         NaN     NaN           NaN                  N      30   \n",
       "\n",
       "     2Ra-PCA 3Ra-cyt  3Ra-PCA 3Rb-cyt  3Rb-PCA  \n",
       "170      0.0       N      2.0       N      2.0  \n",
       "171      1.0       N      1.0       N      2.0  \n",
       "172      1.0       N      2.0       N      2.0  \n",
       "173      NaN     NaN      NaN     NaN      NaN  \n",
       "174      NaN      15      NaN      18      NaN  "
      ]
     },
     "execution_count": 4,
     "metadata": {},
     "output_type": "execute_result"
    }
   ],
   "source": [
    "md_good.tail()"
   ]
  },
  {
   "cell_type": "code",
   "execution_count": 5,
   "metadata": {},
   "outputs": [
    {
     "data": {
      "text/plain": [
       "(173, 11)"
      ]
     },
     "execution_count": 5,
     "metadata": {},
     "output_type": "execute_result"
    }
   ],
   "source": [
    "md_good = md_good.loc[:172, :]\n",
    "md_good.shape"
   ]
  },
  {
   "cell_type": "code",
   "execution_count": 6,
   "metadata": {},
   "outputs": [
    {
     "data": {
      "text/html": [
       "<div>\n",
       "<style scoped>\n",
       "    .dataframe tbody tr th:only-of-type {\n",
       "        vertical-align: middle;\n",
       "    }\n",
       "\n",
       "    .dataframe tbody tr th {\n",
       "        vertical-align: top;\n",
       "    }\n",
       "\n",
       "    .dataframe thead th {\n",
       "        text-align: right;\n",
       "    }\n",
       "</style>\n",
       "<table border=\"1\" class=\"dataframe\">\n",
       "  <thead>\n",
       "    <tr style=\"text-align: right;\">\n",
       "      <th></th>\n",
       "      <th>2Ra-cyt</th>\n",
       "      <th>2Ra-PCA</th>\n",
       "      <th>3Ra-cyt</th>\n",
       "      <th>3Ra-PCA</th>\n",
       "      <th>3Rb-cyt</th>\n",
       "      <th>3Rb-PCA</th>\n",
       "    </tr>\n",
       "  </thead>\n",
       "  <tbody>\n",
       "    <tr>\n",
       "      <th>122</th>\n",
       "      <td>2</td>\n",
       "      <td>2.0</td>\n",
       "      <td>2</td>\n",
       "      <td>2.0</td>\n",
       "      <td>1</td>\n",
       "      <td>1.0</td>\n",
       "    </tr>\n",
       "  </tbody>\n",
       "</table>\n",
       "</div>"
      ],
      "text/plain": [
       "    2Ra-cyt  2Ra-PCA 3Ra-cyt  3Ra-PCA 3Rb-cyt  3Rb-PCA\n",
       "122       2      2.0       2      2.0       1      1.0"
      ]
     },
     "execution_count": 6,
     "metadata": {},
     "output_type": "execute_result"
    }
   ],
   "source": [
    "md_good.loc[md_good[\"VCF_ID\"] == \"Sabtenga_02-07110_Folonzo\", \n",
    "            [\"2Ra-cyt\", \"2Ra-PCA\", \"3Ra-cyt\", \"3Ra-PCA\", \"3Rb-cyt\", \n",
    "             \"3Rb-PCA\"]]"
   ]
  },
  {
   "cell_type": "markdown",
   "metadata": {},
   "source": [
    "##### good."
   ]
  },
  {
   "cell_type": "code",
   "execution_count": 7,
   "metadata": {},
   "outputs": [
    {
     "data": {
      "text/html": [
       "<div>\n",
       "<style scoped>\n",
       "    .dataframe tbody tr th:only-of-type {\n",
       "        vertical-align: middle;\n",
       "    }\n",
       "\n",
       "    .dataframe tbody tr th {\n",
       "        vertical-align: top;\n",
       "    }\n",
       "\n",
       "    .dataframe thead th {\n",
       "        text-align: right;\n",
       "    }\n",
       "</style>\n",
       "<table border=\"1\" class=\"dataframe\">\n",
       "  <thead>\n",
       "    <tr style=\"text-align: right;\">\n",
       "      <th></th>\n",
       "      <th>VCF_ID</th>\n",
       "      <th>Specimen_ID</th>\n",
       "      <th>Country</th>\n",
       "      <th>Village</th>\n",
       "      <th>Date of collection</th>\n",
       "      <th>2Ra-cyt</th>\n",
       "      <th>3Ra-cyt</th>\n",
       "      <th>3Rb-cyt</th>\n",
       "      <th>2Ra-PCA</th>\n",
       "      <th>3Ra-PCA</th>\n",
       "      <th>3Rb-PCA</th>\n",
       "    </tr>\n",
       "  </thead>\n",
       "  <tbody>\n",
       "    <tr>\n",
       "      <th>0</th>\n",
       "      <td>Bagre_02-07350_Kiribina</td>\n",
       "      <td>02-07350</td>\n",
       "      <td>Burkina Faso</td>\n",
       "      <td>Bagre</td>\n",
       "      <td>2002-12-17</td>\n",
       "      <td>0</td>\n",
       "      <td>0</td>\n",
       "      <td>0</td>\n",
       "      <td>None</td>\n",
       "      <td>None</td>\n",
       "      <td>None</td>\n",
       "    </tr>\n",
       "    <tr>\n",
       "      <th>1</th>\n",
       "      <td>Bagre_02-07358_Kiribina</td>\n",
       "      <td>02-07358</td>\n",
       "      <td>Burkina Faso</td>\n",
       "      <td>Bagre</td>\n",
       "      <td>2002-12-17</td>\n",
       "      <td>0</td>\n",
       "      <td>0</td>\n",
       "      <td>0</td>\n",
       "      <td>None</td>\n",
       "      <td>None</td>\n",
       "      <td>None</td>\n",
       "    </tr>\n",
       "    <tr>\n",
       "      <th>2</th>\n",
       "      <td>Dirze_02-06753_Kiribina</td>\n",
       "      <td>02-06753</td>\n",
       "      <td>Burkina Faso</td>\n",
       "      <td>Dirze</td>\n",
       "      <td>2002-12-14</td>\n",
       "      <td>0</td>\n",
       "      <td>0</td>\n",
       "      <td>0</td>\n",
       "      <td>None</td>\n",
       "      <td>None</td>\n",
       "      <td>None</td>\n",
       "    </tr>\n",
       "    <tr>\n",
       "      <th>3</th>\n",
       "      <td>Dirze_02-06897_Kiribina</td>\n",
       "      <td>02-06897</td>\n",
       "      <td>Burkina Faso</td>\n",
       "      <td>Dirze</td>\n",
       "      <td>2002-12-14</td>\n",
       "      <td>0</td>\n",
       "      <td>0</td>\n",
       "      <td>0</td>\n",
       "      <td>None</td>\n",
       "      <td>None</td>\n",
       "      <td>None</td>\n",
       "    </tr>\n",
       "    <tr>\n",
       "      <th>4</th>\n",
       "      <td>Dirze_02-07217_Kiribina</td>\n",
       "      <td>02-07217</td>\n",
       "      <td>Burkina Faso</td>\n",
       "      <td>Dirze</td>\n",
       "      <td>2002-12-14</td>\n",
       "      <td>0</td>\n",
       "      <td>0</td>\n",
       "      <td>0</td>\n",
       "      <td>None</td>\n",
       "      <td>None</td>\n",
       "      <td>None</td>\n",
       "    </tr>\n",
       "  </tbody>\n",
       "</table>\n",
       "</div>"
      ],
      "text/plain": [
       "                    VCF_ID Specimen_ID       Country Village  \\\n",
       "0  Bagre_02-07350_Kiribina    02-07350  Burkina Faso   Bagre   \n",
       "1  Bagre_02-07358_Kiribina    02-07358  Burkina Faso   Bagre   \n",
       "2  Dirze_02-06753_Kiribina    02-06753  Burkina Faso   Dirze   \n",
       "3  Dirze_02-06897_Kiribina    02-06897  Burkina Faso   Dirze   \n",
       "4  Dirze_02-07217_Kiribina    02-07217  Burkina Faso   Dirze   \n",
       "\n",
       "  Date of collection 2Ra-cyt  3Ra-cyt 3Rb-cyt 2Ra-PCA 3Ra-PCA 3Rb-PCA  \n",
       "0         2002-12-17       0        0       0    None    None    None  \n",
       "1         2002-12-17       0        0       0    None    None    None  \n",
       "2         2002-12-14       0        0       0    None    None    None  \n",
       "3         2002-12-14       0        0       0    None    None    None  \n",
       "4         2002-12-14       0        0       0    None    None    None  "
      ]
     },
     "execution_count": 7,
     "metadata": {},
     "output_type": "execute_result"
    }
   ],
   "source": [
    "md_dropped = pd.read_excel((base + \"metadata/TableS1 WGS for SNP Ascertainment_090420_BL.xlsx\"),\n",
    "                     sheet_name = \"dropped_specimens\")\n",
    "\n",
    "md_dropped.head()"
   ]
  },
  {
   "cell_type": "code",
   "execution_count": 8,
   "metadata": {},
   "outputs": [
    {
     "data": {
      "text/plain": [
       "(201, 11)"
      ]
     },
     "execution_count": 8,
     "metadata": {},
     "output_type": "execute_result"
    }
   ],
   "source": [
    "pd.concat([md_good, md_dropped[md_good.columns]]).shape"
   ]
  },
  {
   "cell_type": "code",
   "execution_count": 9,
   "metadata": {},
   "outputs": [],
   "source": [
    "md = pd.concat([md_good, md_dropped[md_good.columns]])"
   ]
  },
  {
   "cell_type": "code",
   "execution_count": 10,
   "metadata": {},
   "outputs": [
    {
     "data": {
      "text/html": [
       "<div>\n",
       "<style scoped>\n",
       "    .dataframe tbody tr th:only-of-type {\n",
       "        vertical-align: middle;\n",
       "    }\n",
       "\n",
       "    .dataframe tbody tr th {\n",
       "        vertical-align: top;\n",
       "    }\n",
       "\n",
       "    .dataframe thead th {\n",
       "        text-align: right;\n",
       "    }\n",
       "</style>\n",
       "<table border=\"1\" class=\"dataframe\">\n",
       "  <thead>\n",
       "    <tr style=\"text-align: right;\">\n",
       "      <th></th>\n",
       "      <th>VCF_ID</th>\n",
       "      <th>Specimen_ID</th>\n",
       "      <th>Country</th>\n",
       "      <th>Village</th>\n",
       "      <th>Date of collection</th>\n",
       "      <th>2Ra-cyt</th>\n",
       "      <th>2Ra-PCA</th>\n",
       "      <th>3Ra-cyt</th>\n",
       "      <th>3Ra-PCA</th>\n",
       "      <th>3Rb-cyt</th>\n",
       "      <th>3Rb-PCA</th>\n",
       "    </tr>\n",
       "  </thead>\n",
       "  <tbody>\n",
       "    <tr>\n",
       "      <th>0</th>\n",
       "      <td>Kuiti_00-01331_Kiribina</td>\n",
       "      <td>00-01331</td>\n",
       "      <td>Burkina Faso</td>\n",
       "      <td>Kuiti</td>\n",
       "      <td>2000-09-05 00:00:00</td>\n",
       "      <td>0</td>\n",
       "      <td>0</td>\n",
       "      <td>0</td>\n",
       "      <td>0</td>\n",
       "      <td>0</td>\n",
       "      <td>0</td>\n",
       "    </tr>\n",
       "    <tr>\n",
       "      <th>1</th>\n",
       "      <td>Kuiti_00-01332_Kiribina</td>\n",
       "      <td>00-01332</td>\n",
       "      <td>Burkina Faso</td>\n",
       "      <td>Kuiti</td>\n",
       "      <td>2000-09-05 00:00:00</td>\n",
       "      <td>0</td>\n",
       "      <td>0</td>\n",
       "      <td>0</td>\n",
       "      <td>0</td>\n",
       "      <td>0</td>\n",
       "      <td>0</td>\n",
       "    </tr>\n",
       "    <tr>\n",
       "      <th>2</th>\n",
       "      <td>Kuiti_00-01334_Kiribina</td>\n",
       "      <td>00-01334</td>\n",
       "      <td>Burkina Faso</td>\n",
       "      <td>Kuiti</td>\n",
       "      <td>2000-09-05 00:00:00</td>\n",
       "      <td>0</td>\n",
       "      <td>0</td>\n",
       "      <td>0</td>\n",
       "      <td>0</td>\n",
       "      <td>0</td>\n",
       "      <td>0</td>\n",
       "    </tr>\n",
       "    <tr>\n",
       "      <th>3</th>\n",
       "      <td>Kuiti_00-01396_Kiribina</td>\n",
       "      <td>00-01396</td>\n",
       "      <td>Burkina Faso</td>\n",
       "      <td>Kuiti</td>\n",
       "      <td>2000-09-06 00:00:00</td>\n",
       "      <td>0</td>\n",
       "      <td>0</td>\n",
       "      <td>0</td>\n",
       "      <td>0</td>\n",
       "      <td>0</td>\n",
       "      <td>0</td>\n",
       "    </tr>\n",
       "    <tr>\n",
       "      <th>4</th>\n",
       "      <td>Kuiti_00-01397_Kiribina</td>\n",
       "      <td>00-01397</td>\n",
       "      <td>Burkina Faso</td>\n",
       "      <td>Kuiti</td>\n",
       "      <td>2000-09-06 00:00:00</td>\n",
       "      <td>0</td>\n",
       "      <td>0</td>\n",
       "      <td>0</td>\n",
       "      <td>0</td>\n",
       "      <td>0</td>\n",
       "      <td>0</td>\n",
       "    </tr>\n",
       "  </tbody>\n",
       "</table>\n",
       "</div>"
      ],
      "text/plain": [
       "                    VCF_ID Specimen_ID       Country Village  \\\n",
       "0  Kuiti_00-01331_Kiribina    00-01331  Burkina Faso   Kuiti   \n",
       "1  Kuiti_00-01332_Kiribina    00-01332  Burkina Faso   Kuiti   \n",
       "2  Kuiti_00-01334_Kiribina    00-01334  Burkina Faso   Kuiti   \n",
       "3  Kuiti_00-01396_Kiribina    00-01396  Burkina Faso   Kuiti   \n",
       "4  Kuiti_00-01397_Kiribina    00-01397  Burkina Faso   Kuiti   \n",
       "\n",
       "    Date of collection 2Ra-cyt 2Ra-PCA 3Ra-cyt 3Ra-PCA 3Rb-cyt 3Rb-PCA  \n",
       "0  2000-09-05 00:00:00       0       0       0       0       0       0  \n",
       "1  2000-09-05 00:00:00       0       0       0       0       0       0  \n",
       "2  2000-09-05 00:00:00       0       0       0       0       0       0  \n",
       "3  2000-09-06 00:00:00       0       0       0       0       0       0  \n",
       "4  2000-09-06 00:00:00       0       0       0       0       0       0  "
      ]
     },
     "execution_count": 10,
     "metadata": {},
     "output_type": "execute_result"
    }
   ],
   "source": [
    "md.head()"
   ]
  },
  {
   "cell_type": "code",
   "execution_count": 11,
   "metadata": {},
   "outputs": [
    {
     "data": {
      "text/plain": [
       "201"
      ]
     },
     "execution_count": 11,
     "metadata": {},
     "output_type": "execute_result"
    }
   ],
   "source": [
    "len(md[\"VCF_ID\"])"
   ]
  },
  {
   "cell_type": "markdown",
   "metadata": {},
   "source": [
    "##### read in the data"
   ]
  },
  {
   "cell_type": "code",
   "execution_count": 12,
   "metadata": {},
   "outputs": [
    {
     "data": {
      "text/plain": [
       "(1212016, 201, 2)"
      ]
     },
     "execution_count": 12,
     "metadata": {},
     "output_type": "execute_result"
    }
   ],
   "source": [
    "vcf_3 = allel.read_vcf(\n",
    "    \"/afs/crc.nd.edu/group/BesanskyNGS/mlukindu/funestus_silico/all_06_24_20.vcf.gz.recode.vcf\")\n",
    "\n",
    "vcf_3[\"calldata/GT\"].shape"
   ]
  },
  {
   "cell_type": "code",
   "execution_count": 13,
   "metadata": {},
   "outputs": [
    {
     "data": {
      "text/plain": [
       "(1212016, 201, 2)"
      ]
     },
     "execution_count": 13,
     "metadata": {},
     "output_type": "execute_result"
    }
   ],
   "source": [
    "gt_3 = allel.GenotypeArray(vcf_3[\"calldata/GT\"])\n",
    "gt_3.shape"
   ]
  },
  {
   "cell_type": "code",
   "execution_count": 14,
   "metadata": {},
   "outputs": [
    {
     "data": {
      "text/plain": [
       "(463002, 201, 2)"
      ]
     },
     "execution_count": 14,
     "metadata": {},
     "output_type": "execute_result"
    }
   ],
   "source": [
    "vcf_2 = allel.read_vcf(\n",
    "    \"/afs/crc.nd.edu/group/BesanskyNGS/mlukindu/inversion_2Ra/min4_2Ra_06_27_20.vcf.gz.recode.vcf\")\n",
    "\n",
    "vcf_2[\"calldata/GT\"].shape"
   ]
  },
  {
   "cell_type": "code",
   "execution_count": 15,
   "metadata": {},
   "outputs": [
    {
     "data": {
      "text/plain": [
       "(463002, 201, 2)"
      ]
     },
     "execution_count": 15,
     "metadata": {},
     "output_type": "execute_result"
    }
   ],
   "source": [
    "gt_2 = allel.GenotypeArray(vcf_2[\"calldata/GT\"])\n",
    "\n",
    "gt_2.shape"
   ]
  },
  {
   "cell_type": "markdown",
   "metadata": {},
   "source": [
    "##### sort the metadata in the same order as the VCFs"
   ]
  },
  {
   "cell_type": "code",
   "execution_count": 16,
   "metadata": {
    "scrolled": true
   },
   "outputs": [
    {
     "data": {
      "text/plain": [
       "0"
      ]
     },
     "execution_count": 16,
     "metadata": {},
     "output_type": "execute_result"
    }
   ],
   "source": [
    "np.sum(md[\"VCF_ID\"] == vcf_2[\"samples\"])"
   ]
  },
  {
   "cell_type": "code",
   "execution_count": 17,
   "metadata": {},
   "outputs": [
    {
     "data": {
      "text/html": [
       "<div>\n",
       "<style scoped>\n",
       "    .dataframe tbody tr th:only-of-type {\n",
       "        vertical-align: middle;\n",
       "    }\n",
       "\n",
       "    .dataframe tbody tr th {\n",
       "        vertical-align: top;\n",
       "    }\n",
       "\n",
       "    .dataframe thead th {\n",
       "        text-align: right;\n",
       "    }\n",
       "</style>\n",
       "<table border=\"1\" class=\"dataframe\">\n",
       "  <thead>\n",
       "    <tr style=\"text-align: right;\">\n",
       "      <th></th>\n",
       "      <th>VCF_ID</th>\n",
       "      <th>Specimen_ID</th>\n",
       "      <th>Country</th>\n",
       "      <th>Village</th>\n",
       "      <th>Date of collection</th>\n",
       "      <th>2Ra-cyt</th>\n",
       "      <th>2Ra-PCA</th>\n",
       "      <th>3Ra-cyt</th>\n",
       "      <th>3Ra-PCA</th>\n",
       "      <th>3Rb-cyt</th>\n",
       "      <th>3Rb-PCA</th>\n",
       "      <th>VCF_ID_sort</th>\n",
       "    </tr>\n",
       "  </thead>\n",
       "  <tbody>\n",
       "    <tr>\n",
       "      <th>133</th>\n",
       "      <td>Bagre_02-07327_Kiribina</td>\n",
       "      <td>02-07327</td>\n",
       "      <td>Burkina Faso</td>\n",
       "      <td>Bagre</td>\n",
       "      <td>2002-12-17 00:00:00</td>\n",
       "      <td>0</td>\n",
       "      <td>0</td>\n",
       "      <td>0</td>\n",
       "      <td>0</td>\n",
       "      <td>0</td>\n",
       "      <td>0</td>\n",
       "      <td>Bagre_02-07327_Kiribina</td>\n",
       "    </tr>\n",
       "    <tr>\n",
       "      <th>134</th>\n",
       "      <td>Bagre_02-07329_Kiribina</td>\n",
       "      <td>02-07329</td>\n",
       "      <td>Burkina Faso</td>\n",
       "      <td>Bagre</td>\n",
       "      <td>2002-12-17 00:00:00</td>\n",
       "      <td>0</td>\n",
       "      <td>0</td>\n",
       "      <td>0</td>\n",
       "      <td>0</td>\n",
       "      <td>0</td>\n",
       "      <td>0</td>\n",
       "      <td>Bagre_02-07329_Kiribina</td>\n",
       "    </tr>\n",
       "    <tr>\n",
       "      <th>135</th>\n",
       "      <td>Bagre_02-07341_Kiribina</td>\n",
       "      <td>02-07341</td>\n",
       "      <td>Burkina Faso</td>\n",
       "      <td>Bagre</td>\n",
       "      <td>2002-12-17 00:00:00</td>\n",
       "      <td>0</td>\n",
       "      <td>0</td>\n",
       "      <td>0</td>\n",
       "      <td>0</td>\n",
       "      <td>0</td>\n",
       "      <td>0</td>\n",
       "      <td>Bagre_02-07341_Kiribina</td>\n",
       "    </tr>\n",
       "    <tr>\n",
       "      <th>136</th>\n",
       "      <td>Bagre_02-07343_Kiribina</td>\n",
       "      <td>02-07343</td>\n",
       "      <td>Burkina Faso</td>\n",
       "      <td>Bagre</td>\n",
       "      <td>2002-12-17 00:00:00</td>\n",
       "      <td>0</td>\n",
       "      <td>0</td>\n",
       "      <td>0</td>\n",
       "      <td>0</td>\n",
       "      <td>0</td>\n",
       "      <td>0</td>\n",
       "      <td>Bagre_02-07343_Kiribina</td>\n",
       "    </tr>\n",
       "    <tr>\n",
       "      <th>137</th>\n",
       "      <td>Bagre_02-07344_Kiribina</td>\n",
       "      <td>02-07344</td>\n",
       "      <td>Burkina Faso</td>\n",
       "      <td>Bagre</td>\n",
       "      <td>2002-12-17 00:00:00</td>\n",
       "      <td>0</td>\n",
       "      <td>0</td>\n",
       "      <td>0</td>\n",
       "      <td>0</td>\n",
       "      <td>0</td>\n",
       "      <td>0</td>\n",
       "      <td>Bagre_02-07344_Kiribina</td>\n",
       "    </tr>\n",
       "  </tbody>\n",
       "</table>\n",
       "</div>"
      ],
      "text/plain": [
       "                      VCF_ID Specimen_ID       Country Village  \\\n",
       "133  Bagre_02-07327_Kiribina    02-07327  Burkina Faso   Bagre   \n",
       "134  Bagre_02-07329_Kiribina    02-07329  Burkina Faso   Bagre   \n",
       "135  Bagre_02-07341_Kiribina    02-07341  Burkina Faso   Bagre   \n",
       "136  Bagre_02-07343_Kiribina    02-07343  Burkina Faso   Bagre   \n",
       "137  Bagre_02-07344_Kiribina    02-07344  Burkina Faso   Bagre   \n",
       "\n",
       "      Date of collection 2Ra-cyt 2Ra-PCA 3Ra-cyt 3Ra-PCA 3Rb-cyt 3Rb-PCA  \\\n",
       "133  2002-12-17 00:00:00       0       0       0       0       0       0   \n",
       "134  2002-12-17 00:00:00       0       0       0       0       0       0   \n",
       "135  2002-12-17 00:00:00       0       0       0       0       0       0   \n",
       "136  2002-12-17 00:00:00       0       0       0       0       0       0   \n",
       "137  2002-12-17 00:00:00       0       0       0       0       0       0   \n",
       "\n",
       "                 VCF_ID_sort  \n",
       "133  Bagre_02-07327_Kiribina  \n",
       "134  Bagre_02-07329_Kiribina  \n",
       "135  Bagre_02-07341_Kiribina  \n",
       "136  Bagre_02-07343_Kiribina  \n",
       "137  Bagre_02-07344_Kiribina  "
      ]
     },
     "execution_count": 17,
     "metadata": {},
     "output_type": "execute_result"
    }
   ],
   "source": [
    "md[\"VCF_ID_sort\"] = md[\"VCF_ID\"].astype(\"category\")\n",
    "md[\"VCF_ID_sort\"].cat.set_categories(vcf_2[\"samples\"], inplace=True)\n",
    "md.sort_values(\"VCF_ID_sort\", inplace=True)\n",
    "\n",
    "md.head()"
   ]
  },
  {
   "cell_type": "code",
   "execution_count": 18,
   "metadata": {},
   "outputs": [
    {
     "data": {
      "text/plain": [
       "0"
      ]
     },
     "execution_count": 18,
     "metadata": {},
     "output_type": "execute_result"
    }
   ],
   "source": [
    "np.sum(md[\"VCF_ID\"] != vcf_2[\"samples\"])"
   ]
  },
  {
   "cell_type": "markdown",
   "metadata": {},
   "source": [
    "##### drop the specimen with insufficient coverage "
   ]
  },
  {
   "cell_type": "code",
   "execution_count": 19,
   "metadata": {},
   "outputs": [
    {
     "data": {
      "text/plain": [
       "(200, 12)"
      ]
     },
     "execution_count": 19,
     "metadata": {},
     "output_type": "execute_result"
    }
   ],
   "source": [
    "md = md.loc[md[\"VCF_ID\"] != \"La_02-07703_Folonzo\", :]\n",
    "md.shape"
   ]
  },
  {
   "cell_type": "code",
   "execution_count": 20,
   "metadata": {},
   "outputs": [
    {
     "data": {
      "text/plain": [
       "1"
      ]
     },
     "execution_count": 20,
     "metadata": {},
     "output_type": "execute_result"
    }
   ],
   "source": [
    "np.sum(~(pd.Series(vcf_3[\"samples\"]).isin(md[\"VCF_ID\"])))"
   ]
  },
  {
   "cell_type": "code",
   "execution_count": 21,
   "metadata": {},
   "outputs": [
    {
     "data": {
      "text/plain": [
       "200"
      ]
     },
     "execution_count": 21,
     "metadata": {},
     "output_type": "execute_result"
    }
   ],
   "source": [
    "samples_bool = (pd.Series(vcf_3[\"samples\"]).isin(md[\"VCF_ID\"])).values\n",
    "np.sum(samples_bool)"
   ]
  },
  {
   "cell_type": "code",
   "execution_count": 22,
   "metadata": {},
   "outputs": [
    {
     "data": {
      "text/plain": [
       "(463002, 200, 2)"
      ]
     },
     "execution_count": 22,
     "metadata": {},
     "output_type": "execute_result"
    }
   ],
   "source": [
    "gt_2 = gt_2.subset(sel1 = samples_bool)\n",
    "gt_2.shape"
   ]
  },
  {
   "cell_type": "code",
   "execution_count": 23,
   "metadata": {},
   "outputs": [
    {
     "data": {
      "text/plain": [
       "(1212016, 200, 2)"
      ]
     },
     "execution_count": 23,
     "metadata": {},
     "output_type": "execute_result"
    }
   ],
   "source": [
    "gt_3 = gt_3.subset(sel1 = samples_bool)\n",
    "gt_3.shape"
   ]
  },
  {
   "cell_type": "markdown",
   "metadata": {},
   "source": [
    "##### organize inversion breakpoints"
   ]
  },
  {
   "cell_type": "code",
   "execution_count": 24,
   "metadata": {},
   "outputs": [],
   "source": [
    "inv_dict = {\"2Ra\" : ingenos.Inversion(arm=b'2R', proximal_start=25967767, \n",
    "                                      proximal_end=25967767, \n",
    "                                      distal_start=33984223, \n",
    "                                      distal_end=33984223),\n",
    "           \"3Ra\" : ingenos.Inversion(arm=b'3R', proximal_start=1866360, \n",
    "                                     proximal_end=1866360, \n",
    "                                      distal_start=11289547, \n",
    "                                     distal_end=11289547),\n",
    "           \"3Rb\" : ingenos.Inversion(arm=b'3R', proximal_start=20512400, \n",
    "                                     proximal_end=20512400, \n",
    "                                      distal_start=33000000, \n",
    "                                     distal_end=33000000)}"
   ]
  },
  {
   "cell_type": "markdown",
   "metadata": {},
   "source": [
    "##### read in the list of specimens that were dropped"
   ]
  },
  {
   "cell_type": "code",
   "execution_count": 25,
   "metadata": {},
   "outputs": [
    {
     "data": {
      "text/plain": [
       "array(['Bagre_02-07350_Kiribina', 'Bagre_02-07358_Kiribina',\n",
       "       'Dirze_02-06753_Kiribina', 'Dirze_02-06897_Kiribina',\n",
       "       'Dirze_02-07217_Kiribina', 'Dirze_02-07223_Kiribina',\n",
       "       'Dirze_02-07231_Kiribina', 'Ipendo_01-05793_Folonzo',\n",
       "       'Kuiti_00-01518_Kiribina', 'Kuiti_00-04455_Folonzo',\n",
       "       'Kuiti_02-06221_Kiribina', 'La_02-07687_Folonzo',\n",
       "       'La_02-07703_Folonzo', 'Pehele_02-05628_Kiribina',\n",
       "       'Pehele_02-06339_Kiribina', 'Pehele_02-06341_Folonzo',\n",
       "       'Pehele_02-06353_Kiribina', 'Pehele_02-06363_Folonzo',\n",
       "       'Pehele_02-06365_Kiribina', 'Pehele_02-06371_Kiribina',\n",
       "       'Pehele_02-06381_Kiribina', 'Sabtenga_02-07119_Folonzo',\n",
       "       'Sabtenga_02-07146_Folonzo', 'Sabtenga_02-07195_Folonzo',\n",
       "       'Vi_02-06673_Folonzo', 'Vi_02-06857_Folonzo',\n",
       "       'Vi_02-06859_Folonzo', 'Vi_02-06871_Folonzo'], dtype='<U25')"
      ]
     },
     "execution_count": 25,
     "metadata": {},
     "output_type": "execute_result"
    }
   ],
   "source": [
    "dropped_list = np.loadtxt((base + \"metadata/dropped_specimens.txt\"), \n",
    "                          dtype = \"str\")\n",
    "dropped_list"
   ]
  },
  {
   "cell_type": "code",
   "execution_count": 26,
   "metadata": {},
   "outputs": [
    {
     "data": {
      "text/plain": [
       "173"
      ]
     },
     "execution_count": 26,
     "metadata": {},
     "output_type": "execute_result"
    }
   ],
   "source": [
    "kept_bool = (~(md[\"VCF_ID\"].isin(dropped_list))).values\n",
    "\n",
    "np.sum(kept_bool)"
   ]
  },
  {
   "cell_type": "markdown",
   "metadata": {},
   "source": [
    "##### create necessary functions for the format of the funestus files"
   ]
  },
  {
   "cell_type": "code",
   "execution_count": 27,
   "metadata": {},
   "outputs": [],
   "source": [
    "def make_sites_filter(inversion, inversionDict, positions, \n",
    "                      whole_inversion=True, buffer=0):\n",
    "            \n",
    "    proximal_start = inversionDict[inversion].proximal_start - buffer\n",
    "    proximal_end = inversionDict[inversion].proximal_end + buffer\n",
    "    distal_start = inversionDict[inversion].distal_start - buffer\n",
    "    distal_end = inversionDict[inversion].distal_end + buffer\n",
    "      \n",
    "    if not all(item > 0 for item in [proximal_start, proximal_end,\n",
    "                                     distal_start, distal_end]):\n",
    "        raise ValueError(\"An output coordinate is negative,\\\n",
    "                         please adjust buffer\")\n",
    "\n",
    "    if whole_inversion:\n",
    "        \n",
    "        sites = ((positions > inversionDict[inversion].proximal_start) &\\\n",
    "                 (positions < inversionDict[inversion].distal_end))\n",
    "\n",
    "    else:\n",
    "        \n",
    "        sites = (((positions > inversionDict[inversion].proximal_start) &\\\n",
    "                  (positions < inversionDict[inversion].proximal_end)) |\\\n",
    "                 ((positions > inversionDict[inversion].distal_start) &\\\n",
    "                  (positions < inversionDict[inversion].distal_end)))\n",
    "\n",
    "    return sites\n",
    "\n",
    "def run_concordance_calculation(inversion, vtbl, genotypes, karyos, \n",
    "                                variance_threshold=0.15, min_count=3, \n",
    "                                whole_inversion=True,\n",
    "                                buffer=0, samples_bool=None, sites_bool=None,\n",
    "                                inversionDict = inv_dict):\n",
    "    \n",
    "    if sites_bool is None:\n",
    "    \n",
    "        sites_bool = make_sites_filter(inversion, inversionDict, vtbl[\"variants/POS\"], \n",
    "                                       whole_inversion=whole_inversion, buffer=buffer)\n",
    "            \n",
    "    alt_alleles, which_alleles =\\\n",
    "    ingenos.filter_and_convert_genotypes(genotypes, sites_boolean=sites_bool,\n",
    "                                 samples_boolean=samples_bool,\n",
    "                                 min_count=min_count,\n",
    "                                 variance_threshold=variance_threshold)\n",
    "    \n",
    "    is_called = genotypes.subset(sel0 = sites_bool, sel1 = samples_bool).\\\n",
    "    subset(sel0 = which_alleles).is_called()\n",
    "    \n",
    "    score_0 = []\n",
    "    is_called_0 = []\n",
    "    score_1 = []\n",
    "    is_called_1 = []\n",
    "    score_2 = []\n",
    "    is_called_2 = []\n",
    "    score_all = []\n",
    "    is_called_all = []\n",
    "    \n",
    "    for i in range(len(alt_alleles)):\n",
    "    \n",
    "        ret_tuple = ingenos.compute_concordance_strat(alt_alleles[i], is_called[i], \n",
    "                                          karyos)\n",
    "    \n",
    "        score_0.append(ret_tuple[0])\n",
    "        score_1.append(ret_tuple[1])\n",
    "        score_2.append(ret_tuple[2])\n",
    "        score_all.append(ret_tuple[3])\n",
    "        is_called_0.append(ret_tuple[4])\n",
    "        is_called_1.append(ret_tuple[5])\n",
    "        is_called_2.append(ret_tuple[6])\n",
    "        is_called_all.append(ret_tuple[7])\n",
    "        \n",
    "    if len(vtbl[\"variants/ALT\"][sites_bool][which_alleles].shape) == 1:\n",
    "        \n",
    "        alts_to_add = vtbl[\"variants/ALT\"][sites_bool][which_alleles]\n",
    "        \n",
    "    elif len(vtbl[\"variants/ALT\"][sites_bool][which_alleles].shape) > 1:\n",
    "        \n",
    "        alts_to_add = vtbl[\"variants/ALT\"][sites_bool][which_alleles][:,0]\n",
    "        \n",
    "    scores = pd.DataFrame({\"position\": vtbl[\"variants/POS\"][sites_bool][which_alleles],\n",
    "                    \"ref\": vtbl[\"variants/REF\"][sites_bool][which_alleles],\n",
    "                    \"alt\": alts_to_add,\n",
    "                      \"score_0\" : pd.Series(score_0),\n",
    "                      \"score_1\" : pd.Series(score_1),\n",
    "                      \"score_2\" : pd.Series(score_2),\n",
    "                      \"overall_score\" : pd.Series(score_all),\n",
    "                      \"called_0\" : pd.Series(is_called_0),\n",
    "                      \"called_1\" : pd.Series(is_called_1),\n",
    "                      \"called_2\" : pd.Series(is_called_2),\n",
    "                      \"overall_called\" : pd.Series(is_called_all)},\n",
    "                     columns = [\"position\",\"ref\",\"alt\",\"score_0\",\"score_1\",\n",
    "                                \"score_2\",\"overall_score\",\"called_0\",\n",
    "                                \"called_1\",\"called_2\",\"overall_called\"])\n",
    "        \n",
    "    scores[\"min\"] =\\\n",
    "    scores.loc[:, [\"score_0\", \"score_1\", \"score_2\"]].min(axis = 1)\n",
    "        \n",
    "    return scores"
   ]
  },
  {
   "cell_type": "markdown",
   "metadata": {},
   "source": [
    "##### 2Ra"
   ]
  },
  {
   "cell_type": "code",
   "execution_count": 28,
   "metadata": {},
   "outputs": [],
   "source": [
    "bool_2Ra = ((vcf_2[\"variants/POS\"] >= inv_dict[\"2Ra\"].proximal_start) &\\\n",
    "       (vcf_2[\"variants/POS\"] <= inv_dict[\"2Ra\"].distal_end))"
   ]
  },
  {
   "cell_type": "markdown",
   "metadata": {},
   "source": [
    "##### also remove positions that don't segregate"
   ]
  },
  {
   "cell_type": "code",
   "execution_count": 29,
   "metadata": {},
   "outputs": [
    {
     "data": {
      "text/plain": [
       "(463002, 200)"
      ]
     },
     "execution_count": 29,
     "metadata": {},
     "output_type": "execute_result"
    }
   ],
   "source": [
    "alts_2Ra_all = gt_2.subset(sel0 = bool_2Ra).to_n_alt()\n",
    "\n",
    "alts_2Ra_all.shape"
   ]
  },
  {
   "cell_type": "code",
   "execution_count": 30,
   "metadata": {},
   "outputs": [
    {
     "data": {
      "text/plain": [
       "0"
      ]
     },
     "execution_count": 30,
     "metadata": {},
     "output_type": "execute_result"
    }
   ],
   "source": [
    "alts_2Ra_all_seg = gt_2.subset(sel0 = bool_2Ra).count_alleles().is_segregating()\n",
    "\n",
    "np.sum(~(alts_2Ra_all_seg))"
   ]
  },
  {
   "cell_type": "markdown",
   "metadata": {},
   "source": [
    "##### all these sites are segregating"
   ]
  },
  {
   "cell_type": "code",
   "execution_count": 31,
   "metadata": {},
   "outputs": [
    {
     "data": {
      "text/plain": [
       "(463002, 173)"
      ]
     },
     "execution_count": 31,
     "metadata": {},
     "output_type": "execute_result"
    }
   ],
   "source": [
    "alts_2Ra_kept = gt_2.subset(sel0 = bool_2Ra, sel1 = kept_bool).to_n_alt()\n",
    "\n",
    "alts_2Ra_kept.shape"
   ]
  },
  {
   "cell_type": "code",
   "execution_count": 32,
   "metadata": {},
   "outputs": [
    {
     "data": {
      "text/plain": [
       "8"
      ]
     },
     "execution_count": 32,
     "metadata": {},
     "output_type": "execute_result"
    }
   ],
   "source": [
    "alts_2Ra_kept_seg = \\\n",
    "gt_2.subset(sel0 = bool_2Ra, sel1 = kept_bool).count_alleles().is_segregating()\n",
    "\n",
    "np.sum(~(alts_2Ra_kept_seg))"
   ]
  },
  {
   "cell_type": "code",
   "execution_count": 33,
   "metadata": {},
   "outputs": [],
   "source": [
    "alts_2Ra_kept = gt_2.subset(sel0 = bool_2Ra, sel1 = \\\n",
    "                            kept_bool).subset(sel0 = alts_2Ra_kept_seg).to_n_alt()"
   ]
  },
  {
   "cell_type": "code",
   "execution_count": 34,
   "metadata": {},
   "outputs": [],
   "source": [
    "coords_2Ra_all, model_2Ra_all = allel.pca(alts_2Ra_all)\n",
    "coords_2Ra_kept, model_2Ra_kept = allel.pca(alts_2Ra_kept)"
   ]
  },
  {
   "cell_type": "markdown",
   "metadata": {},
   "source": [
    "##### 3Ra"
   ]
  },
  {
   "cell_type": "code",
   "execution_count": 35,
   "metadata": {},
   "outputs": [],
   "source": [
    "bool_3Ra = ((vcf_3[\"variants/POS\"] >= inv_dict[\"3Ra\"].proximal_start) &\\\n",
    "       (vcf_3[\"variants/POS\"] <= inv_dict[\"3Ra\"].distal_end))"
   ]
  },
  {
   "cell_type": "code",
   "execution_count": 36,
   "metadata": {},
   "outputs": [
    {
     "data": {
      "text/plain": [
       "(547580, 200)"
      ]
     },
     "execution_count": 36,
     "metadata": {},
     "output_type": "execute_result"
    }
   ],
   "source": [
    "alts_3Ra_all = gt_3.subset(sel0 = bool_3Ra).to_n_alt()\n",
    "\n",
    "alts_3Ra_all.shape"
   ]
  },
  {
   "cell_type": "markdown",
   "metadata": {},
   "source": [
    "##### check for nonsegregating positions"
   ]
  },
  {
   "cell_type": "code",
   "execution_count": 37,
   "metadata": {},
   "outputs": [
    {
     "data": {
      "text/plain": [
       "0"
      ]
     },
     "execution_count": 37,
     "metadata": {},
     "output_type": "execute_result"
    }
   ],
   "source": [
    "alts_3Ra_all_seg = gt_3.subset(sel0 = bool_3Ra).count_alleles().is_segregating()\n",
    "\n",
    "np.sum(~(alts_3Ra_all_seg))"
   ]
  },
  {
   "cell_type": "code",
   "execution_count": 38,
   "metadata": {},
   "outputs": [
    {
     "data": {
      "text/plain": [
       "(547580, 173)"
      ]
     },
     "execution_count": 38,
     "metadata": {},
     "output_type": "execute_result"
    }
   ],
   "source": [
    "alts_3Ra_kept = gt_3.subset(sel0 = bool_3Ra, sel1 = kept_bool).to_n_alt()\n",
    "\n",
    "alts_3Ra_kept.shape"
   ]
  },
  {
   "cell_type": "code",
   "execution_count": 39,
   "metadata": {},
   "outputs": [
    {
     "data": {
      "text/plain": [
       "12"
      ]
     },
     "execution_count": 39,
     "metadata": {},
     "output_type": "execute_result"
    }
   ],
   "source": [
    "alts_3Ra_kept_seg = \\\n",
    "gt_3.subset(sel0 = bool_3Ra, sel1 = kept_bool).count_alleles().is_segregating()\n",
    "\n",
    "np.sum(~(alts_3Ra_kept_seg))"
   ]
  },
  {
   "cell_type": "code",
   "execution_count": 40,
   "metadata": {},
   "outputs": [],
   "source": [
    "alts_3Ra_kept = gt_3.subset(sel0 = bool_3Ra, sel1 = \\\n",
    "                            kept_bool).subset(sel0 = alts_3Ra_kept_seg).to_n_alt()"
   ]
  },
  {
   "cell_type": "code",
   "execution_count": 41,
   "metadata": {},
   "outputs": [
    {
     "data": {
      "text/plain": [
       "(547568, 173)"
      ]
     },
     "execution_count": 41,
     "metadata": {},
     "output_type": "execute_result"
    }
   ],
   "source": [
    "alts_3Ra_kept.shape"
   ]
  },
  {
   "cell_type": "code",
   "execution_count": 42,
   "metadata": {},
   "outputs": [],
   "source": [
    "coords_3Ra_all, model_3Ra_all = allel.pca(alts_3Ra_all)\n",
    "coords_3Ra_kept, model_3Ra_kept = allel.pca(alts_3Ra_kept)"
   ]
  },
  {
   "cell_type": "markdown",
   "metadata": {},
   "source": [
    "##### 3Rb"
   ]
  },
  {
   "cell_type": "code",
   "execution_count": 43,
   "metadata": {},
   "outputs": [],
   "source": [
    "bool_3Rb = ((vcf_3[\"variants/POS\"] >= inv_dict[\"3Rb\"].proximal_start) &\\\n",
    "       (vcf_3[\"variants/POS\"] <= inv_dict[\"3Rb\"].distal_end))"
   ]
  },
  {
   "cell_type": "code",
   "execution_count": 44,
   "metadata": {},
   "outputs": [
    {
     "data": {
      "text/plain": [
       "(663845, 200)"
      ]
     },
     "execution_count": 44,
     "metadata": {},
     "output_type": "execute_result"
    }
   ],
   "source": [
    "alts_3Rb_all = gt_3.subset(sel0 = bool_3Rb).to_n_alt()\n",
    "\n",
    "alts_3Rb_all.shape"
   ]
  },
  {
   "cell_type": "markdown",
   "metadata": {},
   "source": [
    "##### check for nonsegregating positions"
   ]
  },
  {
   "cell_type": "code",
   "execution_count": 45,
   "metadata": {},
   "outputs": [
    {
     "data": {
      "text/plain": [
       "0"
      ]
     },
     "execution_count": 45,
     "metadata": {},
     "output_type": "execute_result"
    }
   ],
   "source": [
    "alts_3Rb_all_seg = gt_3.subset(sel0 = bool_3Rb).count_alleles().is_segregating()\n",
    "\n",
    "np.sum(~(alts_3Rb_all_seg))"
   ]
  },
  {
   "cell_type": "code",
   "execution_count": 46,
   "metadata": {},
   "outputs": [
    {
     "data": {
      "text/plain": [
       "(663845, 173)"
      ]
     },
     "execution_count": 46,
     "metadata": {},
     "output_type": "execute_result"
    }
   ],
   "source": [
    "alts_3Rb_kept = gt_3.subset(sel0 = bool_3Rb, sel1 = kept_bool).to_n_alt()\n",
    "\n",
    "alts_3Rb_kept.shape"
   ]
  },
  {
   "cell_type": "code",
   "execution_count": 47,
   "metadata": {},
   "outputs": [
    {
     "data": {
      "text/plain": [
       "21"
      ]
     },
     "execution_count": 47,
     "metadata": {},
     "output_type": "execute_result"
    }
   ],
   "source": [
    "alts_3Rb_kept_seg = \\\n",
    "gt_3.subset(sel0 = bool_3Rb, sel1 = kept_bool).count_alleles().is_segregating()\n",
    "\n",
    "np.sum(~(alts_3Rb_kept_seg))"
   ]
  },
  {
   "cell_type": "code",
   "execution_count": 48,
   "metadata": {},
   "outputs": [
    {
     "data": {
      "text/plain": [
       "(663824, 173)"
      ]
     },
     "execution_count": 48,
     "metadata": {},
     "output_type": "execute_result"
    }
   ],
   "source": [
    "alts_3Rb_kept = gt_3.subset(sel0 = bool_3Rb, sel1 = \\\n",
    "                            kept_bool).subset(sel0 = alts_3Rb_kept_seg).to_n_alt()\n",
    "\n",
    "alts_3Rb_kept.shape"
   ]
  },
  {
   "cell_type": "code",
   "execution_count": 49,
   "metadata": {},
   "outputs": [],
   "source": [
    "coords_3Rb_all, model_3Rb_all = allel.pca(alts_3Rb_all)\n",
    "coords_3Rb_kept, model_3Rb_kept = allel.pca(alts_3Rb_kept)"
   ]
  },
  {
   "cell_type": "markdown",
   "metadata": {},
   "source": [
    "##### plot PCAs"
   ]
  },
  {
   "cell_type": "markdown",
   "metadata": {},
   "source": [
    "##### identify mismatches in 2Ra"
   ]
  },
  {
   "cell_type": "markdown",
   "metadata": {},
   "source": [
    "##### first, identify those with cytogenetic and PCA karyotypes"
   ]
  },
  {
   "cell_type": "code",
   "execution_count": 50,
   "metadata": {},
   "outputs": [
    {
     "data": {
      "text/plain": [
       "143"
      ]
     },
     "execution_count": 50,
     "metadata": {},
     "output_type": "execute_result"
    }
   ],
   "source": [
    "present_2Ra = ((md[\"2Ra-cyt\"] != \"N\") &\\\n",
    "        (md[\"2Ra-PCA\"] != \"None\"))\n",
    "\n",
    "np.sum(present_2Ra)"
   ]
  },
  {
   "cell_type": "code",
   "execution_count": 51,
   "metadata": {},
   "outputs": [
    {
     "data": {
      "text/html": [
       "<div>\n",
       "<style scoped>\n",
       "    .dataframe tbody tr th:only-of-type {\n",
       "        vertical-align: middle;\n",
       "    }\n",
       "\n",
       "    .dataframe tbody tr th {\n",
       "        vertical-align: top;\n",
       "    }\n",
       "\n",
       "    .dataframe thead th {\n",
       "        text-align: right;\n",
       "    }\n",
       "</style>\n",
       "<table border=\"1\" class=\"dataframe\">\n",
       "  <thead>\n",
       "    <tr style=\"text-align: right;\">\n",
       "      <th></th>\n",
       "      <th>VCF_ID</th>\n",
       "      <th>Specimen_ID</th>\n",
       "      <th>2Ra-cyt</th>\n",
       "      <th>2Ra-PCA</th>\n",
       "    </tr>\n",
       "  </thead>\n",
       "  <tbody>\n",
       "    <tr>\n",
       "      <th>61</th>\n",
       "      <td>Ipendo_01-05791_Kiribina</td>\n",
       "      <td>01-05791</td>\n",
       "      <td>0</td>\n",
       "      <td>2</td>\n",
       "    </tr>\n",
       "    <tr>\n",
       "      <th>62</th>\n",
       "      <td>Ipendo_01-05798_Kiribina</td>\n",
       "      <td>01-05798</td>\n",
       "      <td>0</td>\n",
       "      <td>1</td>\n",
       "    </tr>\n",
       "    <tr>\n",
       "      <th>45</th>\n",
       "      <td>Koubri_00-03530_Folonzo</td>\n",
       "      <td>00-03530</td>\n",
       "      <td>1</td>\n",
       "      <td>0</td>\n",
       "    </tr>\n",
       "    <tr>\n",
       "      <th>48</th>\n",
       "      <td>Kuiti_00-03666_Folonzo</td>\n",
       "      <td>00-03666</td>\n",
       "      <td>0</td>\n",
       "      <td>1</td>\n",
       "    </tr>\n",
       "    <tr>\n",
       "      <th>150</th>\n",
       "      <td>La_02-07544_Folonzo</td>\n",
       "      <td>02-07544</td>\n",
       "      <td>0</td>\n",
       "      <td>2</td>\n",
       "    </tr>\n",
       "    <tr>\n",
       "      <th>72</th>\n",
       "      <td>Pehele_02-05640_Folonzo</td>\n",
       "      <td>02-05640</td>\n",
       "      <td>0</td>\n",
       "      <td>1</td>\n",
       "    </tr>\n",
       "    <tr>\n",
       "      <th>119</th>\n",
       "      <td>Sabtenga_02-07106_Folonzo</td>\n",
       "      <td>02-07106</td>\n",
       "      <td>2</td>\n",
       "      <td>1</td>\n",
       "    </tr>\n",
       "    <tr>\n",
       "      <th>128</th>\n",
       "      <td>Sabtenga_02-07193_Folonzo</td>\n",
       "      <td>02-07193</td>\n",
       "      <td>0</td>\n",
       "      <td>2</td>\n",
       "    </tr>\n",
       "    <tr>\n",
       "      <th>107</th>\n",
       "      <td>Vi_02-06855_Folonzo</td>\n",
       "      <td>02-06855</td>\n",
       "      <td>1</td>\n",
       "      <td>0</td>\n",
       "    </tr>\n",
       "  </tbody>\n",
       "</table>\n",
       "</div>"
      ],
      "text/plain": [
       "                        VCF_ID Specimen_ID 2Ra-cyt 2Ra-PCA\n",
       "61    Ipendo_01-05791_Kiribina    01-05791       0       2\n",
       "62    Ipendo_01-05798_Kiribina    01-05798       0       1\n",
       "45     Koubri_00-03530_Folonzo    00-03530       1       0\n",
       "48      Kuiti_00-03666_Folonzo    00-03666       0       1\n",
       "150        La_02-07544_Folonzo    02-07544       0       2\n",
       "72     Pehele_02-05640_Folonzo    02-05640       0       1\n",
       "119  Sabtenga_02-07106_Folonzo    02-07106       2       1\n",
       "128  Sabtenga_02-07193_Folonzo    02-07193       0       2\n",
       "107        Vi_02-06855_Folonzo    02-06855       1       0"
      ]
     },
     "execution_count": 51,
     "metadata": {},
     "output_type": "execute_result"
    }
   ],
   "source": [
    "md.loc[present_2Ra].loc[md.loc[present_2Ra, \"2Ra-cyt\"].map(float) !=\\\n",
    "                        md.loc[present_2Ra, \"2Ra-PCA\"].map(float), \n",
    "                        [\"VCF_ID\", \"Specimen_ID\", \"2Ra-cyt\", \"2Ra-PCA\"]]"
   ]
  },
  {
   "cell_type": "code",
   "execution_count": 52,
   "metadata": {},
   "outputs": [
    {
     "data": {
      "text/plain": [
       "9"
      ]
     },
     "execution_count": 52,
     "metadata": {},
     "output_type": "execute_result"
    }
   ],
   "source": [
    "mismatch_2Ra = md.loc[present_2Ra].loc[md.loc[present_2Ra, \"2Ra-cyt\"].map(float) !=\\\n",
    "                        md.loc[present_2Ra, \"2Ra-PCA\"].map(float), \"VCF_ID\"]\n",
    "\n",
    "len(mismatch_2Ra)"
   ]
  },
  {
   "cell_type": "markdown",
   "metadata": {},
   "source": [
    "##### 3Ra"
   ]
  },
  {
   "cell_type": "code",
   "execution_count": 53,
   "metadata": {},
   "outputs": [
    {
     "data": {
      "text/plain": [
       "158"
      ]
     },
     "execution_count": 53,
     "metadata": {},
     "output_type": "execute_result"
    }
   ],
   "source": [
    "present_3Ra = ((md[\"3Ra-cyt\"] != \"N\") &\\\n",
    "        (md[\"3Ra-PCA\"] != \"None\"))\n",
    "\n",
    "np.sum(present_3Ra)"
   ]
  },
  {
   "cell_type": "code",
   "execution_count": 54,
   "metadata": {},
   "outputs": [
    {
     "data": {
      "text/html": [
       "<div>\n",
       "<style scoped>\n",
       "    .dataframe tbody tr th:only-of-type {\n",
       "        vertical-align: middle;\n",
       "    }\n",
       "\n",
       "    .dataframe tbody tr th {\n",
       "        vertical-align: top;\n",
       "    }\n",
       "\n",
       "    .dataframe thead th {\n",
       "        text-align: right;\n",
       "    }\n",
       "</style>\n",
       "<table border=\"1\" class=\"dataframe\">\n",
       "  <thead>\n",
       "    <tr style=\"text-align: right;\">\n",
       "      <th></th>\n",
       "      <th>VCF_ID</th>\n",
       "      <th>Specimen_ID</th>\n",
       "      <th>3Ra-cyt</th>\n",
       "      <th>3Ra-PCA</th>\n",
       "    </tr>\n",
       "  </thead>\n",
       "  <tbody>\n",
       "    <tr>\n",
       "      <th>61</th>\n",
       "      <td>Ipendo_01-05791_Kiribina</td>\n",
       "      <td>01-05791</td>\n",
       "      <td>0</td>\n",
       "      <td>2</td>\n",
       "    </tr>\n",
       "    <tr>\n",
       "      <th>62</th>\n",
       "      <td>Ipendo_01-05798_Kiribina</td>\n",
       "      <td>01-05798</td>\n",
       "      <td>0</td>\n",
       "      <td>2</td>\n",
       "    </tr>\n",
       "    <tr>\n",
       "      <th>23</th>\n",
       "      <td>Koubri_00-01488_Kiribina</td>\n",
       "      <td>00-01488</td>\n",
       "      <td>1</td>\n",
       "      <td>0</td>\n",
       "    </tr>\n",
       "    <tr>\n",
       "      <th>45</th>\n",
       "      <td>Koubri_00-03530_Folonzo</td>\n",
       "      <td>00-03530</td>\n",
       "      <td>2</td>\n",
       "      <td>0</td>\n",
       "    </tr>\n",
       "    <tr>\n",
       "      <th>146</th>\n",
       "      <td>La_02-07526_Folonzo</td>\n",
       "      <td>02-07526</td>\n",
       "      <td>2</td>\n",
       "      <td>0</td>\n",
       "    </tr>\n",
       "    <tr>\n",
       "      <th>147</th>\n",
       "      <td>La_02-07529_Folonzo</td>\n",
       "      <td>02-07529</td>\n",
       "      <td>2</td>\n",
       "      <td>0</td>\n",
       "    </tr>\n",
       "    <tr>\n",
       "      <th>107</th>\n",
       "      <td>Vi_02-06855_Folonzo</td>\n",
       "      <td>02-06855</td>\n",
       "      <td>1</td>\n",
       "      <td>0</td>\n",
       "    </tr>\n",
       "  </tbody>\n",
       "</table>\n",
       "</div>"
      ],
      "text/plain": [
       "                       VCF_ID Specimen_ID 3Ra-cyt 3Ra-PCA\n",
       "61   Ipendo_01-05791_Kiribina    01-05791       0       2\n",
       "62   Ipendo_01-05798_Kiribina    01-05798       0       2\n",
       "23   Koubri_00-01488_Kiribina    00-01488       1       0\n",
       "45    Koubri_00-03530_Folonzo    00-03530       2       0\n",
       "146       La_02-07526_Folonzo    02-07526       2       0\n",
       "147       La_02-07529_Folonzo    02-07529       2       0\n",
       "107       Vi_02-06855_Folonzo    02-06855       1       0"
      ]
     },
     "execution_count": 54,
     "metadata": {},
     "output_type": "execute_result"
    }
   ],
   "source": [
    "md.loc[present_3Ra].loc[md.loc[present_3Ra, \"3Ra-cyt\"].map(float) !=\\\n",
    "                        md.loc[present_3Ra, \"3Ra-PCA\"].map(float), \n",
    "                        [\"VCF_ID\", \"Specimen_ID\", \"3Ra-cyt\", \"3Ra-PCA\"]]"
   ]
  },
  {
   "cell_type": "code",
   "execution_count": 55,
   "metadata": {},
   "outputs": [
    {
     "data": {
      "text/plain": [
       "7"
      ]
     },
     "execution_count": 55,
     "metadata": {},
     "output_type": "execute_result"
    }
   ],
   "source": [
    "mismatch_3Ra = md.loc[present_3Ra].loc[md.loc[present_3Ra, \"3Ra-cyt\"].map(float) !=\\\n",
    "                        md.loc[present_3Ra, \"3Ra-PCA\"].map(float), \"VCF_ID\"]\n",
    "\n",
    "len(mismatch_3Ra)"
   ]
  },
  {
   "cell_type": "markdown",
   "metadata": {},
   "source": [
    "##### and 3Rb"
   ]
  },
  {
   "cell_type": "code",
   "execution_count": 56,
   "metadata": {},
   "outputs": [
    {
     "data": {
      "text/plain": [
       "155"
      ]
     },
     "execution_count": 56,
     "metadata": {},
     "output_type": "execute_result"
    }
   ],
   "source": [
    "present_3Rb = ((md[\"3Rb-cyt\"] != \"N\") &\\\n",
    "        (md[\"3Rb-PCA\"] != \"None\"))\n",
    "\n",
    "np.sum(present_3Rb)"
   ]
  },
  {
   "cell_type": "code",
   "execution_count": 57,
   "metadata": {},
   "outputs": [
    {
     "data": {
      "text/html": [
       "<div>\n",
       "<style scoped>\n",
       "    .dataframe tbody tr th:only-of-type {\n",
       "        vertical-align: middle;\n",
       "    }\n",
       "\n",
       "    .dataframe tbody tr th {\n",
       "        vertical-align: top;\n",
       "    }\n",
       "\n",
       "    .dataframe thead th {\n",
       "        text-align: right;\n",
       "    }\n",
       "</style>\n",
       "<table border=\"1\" class=\"dataframe\">\n",
       "  <thead>\n",
       "    <tr style=\"text-align: right;\">\n",
       "      <th></th>\n",
       "      <th>VCF_ID</th>\n",
       "      <th>Specimen_ID</th>\n",
       "      <th>3Rb-cyt</th>\n",
       "      <th>3Rb-PCA</th>\n",
       "    </tr>\n",
       "  </thead>\n",
       "  <tbody>\n",
       "    <tr>\n",
       "      <th>61</th>\n",
       "      <td>Ipendo_01-05791_Kiribina</td>\n",
       "      <td>01-05791</td>\n",
       "      <td>0</td>\n",
       "      <td>2</td>\n",
       "    </tr>\n",
       "    <tr>\n",
       "      <th>62</th>\n",
       "      <td>Ipendo_01-05798_Kiribina</td>\n",
       "      <td>01-05798</td>\n",
       "      <td>0</td>\n",
       "      <td>1</td>\n",
       "    </tr>\n",
       "    <tr>\n",
       "      <th>24</th>\n",
       "      <td>Koubri_00-01490_Folonzo</td>\n",
       "      <td>00-01490</td>\n",
       "      <td>1</td>\n",
       "      <td>0</td>\n",
       "    </tr>\n",
       "    <tr>\n",
       "      <th>45</th>\n",
       "      <td>Koubri_00-03530_Folonzo</td>\n",
       "      <td>00-03530</td>\n",
       "      <td>2</td>\n",
       "      <td>0</td>\n",
       "    </tr>\n",
       "    <tr>\n",
       "      <th>80</th>\n",
       "      <td>Kuiti_02-06209_Folonzo</td>\n",
       "      <td>02-06209</td>\n",
       "      <td>2</td>\n",
       "      <td>0</td>\n",
       "    </tr>\n",
       "    <tr>\n",
       "      <th>76</th>\n",
       "      <td>Pehele_02-05664_Kiribina</td>\n",
       "      <td>02-05664</td>\n",
       "      <td>0</td>\n",
       "      <td>1</td>\n",
       "    </tr>\n",
       "    <tr>\n",
       "      <th>88</th>\n",
       "      <td>Pehele_02-06394_Folonzo</td>\n",
       "      <td>02-06394</td>\n",
       "      <td>2</td>\n",
       "      <td>0</td>\n",
       "    </tr>\n",
       "    <tr>\n",
       "      <th>98</th>\n",
       "      <td>Vi_02-06821_Kiribina</td>\n",
       "      <td>02-06821</td>\n",
       "      <td>1</td>\n",
       "      <td>0</td>\n",
       "    </tr>\n",
       "    <tr>\n",
       "      <th>101</th>\n",
       "      <td>Vi_02-06837_Folonzo</td>\n",
       "      <td>02-06837</td>\n",
       "      <td>2</td>\n",
       "      <td>0</td>\n",
       "    </tr>\n",
       "    <tr>\n",
       "      <th>107</th>\n",
       "      <td>Vi_02-06855_Folonzo</td>\n",
       "      <td>02-06855</td>\n",
       "      <td>2</td>\n",
       "      <td>0</td>\n",
       "    </tr>\n",
       "  </tbody>\n",
       "</table>\n",
       "</div>"
      ],
      "text/plain": [
       "                       VCF_ID Specimen_ID 3Rb-cyt 3Rb-PCA\n",
       "61   Ipendo_01-05791_Kiribina    01-05791       0       2\n",
       "62   Ipendo_01-05798_Kiribina    01-05798       0       1\n",
       "24    Koubri_00-01490_Folonzo    00-01490       1       0\n",
       "45    Koubri_00-03530_Folonzo    00-03530       2       0\n",
       "80     Kuiti_02-06209_Folonzo    02-06209       2       0\n",
       "76   Pehele_02-05664_Kiribina    02-05664       0       1\n",
       "88    Pehele_02-06394_Folonzo    02-06394       2       0\n",
       "98       Vi_02-06821_Kiribina    02-06821       1       0\n",
       "101       Vi_02-06837_Folonzo    02-06837       2       0\n",
       "107       Vi_02-06855_Folonzo    02-06855       2       0"
      ]
     },
     "execution_count": 57,
     "metadata": {},
     "output_type": "execute_result"
    }
   ],
   "source": [
    "md.loc[present_3Rb].loc[md.loc[present_3Rb, \"3Rb-cyt\"].map(float) !=\\\n",
    "                        md.loc[present_3Rb, \"3Rb-PCA\"].map(float), \n",
    "                        [\"VCF_ID\", \"Specimen_ID\", \"3Rb-cyt\", \"3Rb-PCA\"]]"
   ]
  },
  {
   "cell_type": "code",
   "execution_count": 58,
   "metadata": {},
   "outputs": [
    {
     "data": {
      "text/plain": [
       "10"
      ]
     },
     "execution_count": 58,
     "metadata": {},
     "output_type": "execute_result"
    }
   ],
   "source": [
    "mismatch_3Rb = md.loc[present_3Rb].loc[md.loc[present_3Rb, \"3Rb-cyt\"].map(float) !=\\\n",
    "                        md.loc[present_3Rb, \"3Rb-PCA\"].map(float), \"VCF_ID\"]\n",
    "    \n",
    "len(mismatch_3Rb)"
   ]
  },
  {
   "cell_type": "code",
   "execution_count": 59,
   "metadata": {},
   "outputs": [],
   "source": [
    "bool_dict = {inversion : {\"kept\" : {\"BF\" : None,\n",
    "                       \"outside\" : None,\n",
    "                       \"mismatch\" : None}, \n",
    "              \"all\" : {\"BF\" : None,\n",
    "                       \"outside\" : None,\n",
    "                       \"mismatch\" : None}} for inversion in [\"2Ra\", \"3Ra\", \"3Rb\"]}\n",
    "\n",
    "##2Ra\n",
    "bool_dict[\"2Ra\"][\"kept\"][\"BF\"] = \\\n",
    "((md.loc[kept_bool, \"Country\"] == \"Burkina Faso\") &\\\n",
    " (~ (md.loc[kept_bool, \"VCF_ID\"].isin(mismatch_2Ra)))).values\n",
    "\n",
    "bool_dict[\"2Ra\"][\"kept\"][\"outside\"] = \\\n",
    "((md.loc[kept_bool, \"Country\"] != \"Burkina Faso\") &\\\n",
    " (~ (md.loc[kept_bool, \"VCF_ID\"].isin(mismatch_2Ra)))).values\n",
    "\n",
    "bool_dict[\"2Ra\"][\"kept\"][\"mismatch\"] = \\\n",
    "( (md.loc[kept_bool, \"VCF_ID\"].isin(mismatch_2Ra))).values\n",
    "\n",
    "bool_dict[\"2Ra\"][\"all\"][\"BF\"] = \\\n",
    "((md[\"Country\"] == \"Burkina Faso\") &\\\n",
    " (~ (md[\"VCF_ID\"].isin(mismatch_2Ra)))).values\n",
    "\n",
    "bool_dict[\"2Ra\"][\"all\"][\"outside\"] = \\\n",
    "((md[\"Country\"] != \"Burkina Faso\") &\\\n",
    " (~ (md[\"VCF_ID\"].isin(mismatch_2Ra)))).values\n",
    "\n",
    "bool_dict[\"2Ra\"][\"all\"][\"mismatch\"] = \\\n",
    "(( (md[\"VCF_ID\"].isin(mismatch_2Ra)))).values\n",
    "\n",
    "##3Ra\n",
    "bool_dict[\"3Ra\"][\"kept\"][\"BF\"] = \\\n",
    "((md.loc[kept_bool, \"Country\"] == \"Burkina Faso\") &\\\n",
    " (~ (md.loc[kept_bool, \"VCF_ID\"].isin(mismatch_3Ra)))).values\n",
    "\n",
    "bool_dict[\"3Ra\"][\"kept\"][\"outside\"] = \\\n",
    "((md.loc[kept_bool, \"Country\"] != \"Burkina Faso\") &\\\n",
    " (~ (md.loc[kept_bool, \"VCF_ID\"].isin(mismatch_3Ra)))).values\n",
    "\n",
    "bool_dict[\"3Ra\"][\"kept\"][\"mismatch\"] = \\\n",
    "( (md.loc[kept_bool, \"VCF_ID\"].isin(mismatch_3Ra))).values\n",
    "\n",
    "bool_dict[\"3Ra\"][\"all\"][\"BF\"] = \\\n",
    "((md[\"Country\"] == \"Burkina Faso\") &\\\n",
    " (~ (md[\"VCF_ID\"].isin(mismatch_3Ra)))).values\n",
    "\n",
    "bool_dict[\"3Ra\"][\"all\"][\"outside\"] = \\\n",
    "((md[\"Country\"] != \"Burkina Faso\") &\\\n",
    " (~ (md[\"VCF_ID\"].isin(mismatch_3Ra)))).values\n",
    "\n",
    "bool_dict[\"3Ra\"][\"all\"][\"mismatch\"] = \\\n",
    "(( (md[\"VCF_ID\"].isin(mismatch_3Ra)))).values\n",
    "\n",
    "##3Rb\n",
    "bool_dict[\"3Rb\"][\"kept\"][\"BF\"] = \\\n",
    "((md.loc[kept_bool, \"Country\"] == \"Burkina Faso\") &\\\n",
    " (~ (md.loc[kept_bool, \"VCF_ID\"].isin(mismatch_3Rb)))).values\n",
    "\n",
    "bool_dict[\"3Rb\"][\"kept\"][\"outside\"] = \\\n",
    "((md.loc[kept_bool, \"Country\"] != \"Burkina Faso\") &\\\n",
    " (~ (md.loc[kept_bool, \"VCF_ID\"].isin(mismatch_3Rb)))).values\n",
    "\n",
    "bool_dict[\"3Rb\"][\"kept\"][\"mismatch\"] = \\\n",
    "( (md.loc[kept_bool, \"VCF_ID\"].isin(mismatch_3Rb))).values\n",
    "\n",
    "bool_dict[\"3Rb\"][\"all\"][\"BF\"] = \\\n",
    "((md[\"Country\"] == \"Burkina Faso\") &\\\n",
    " (~ (md[\"VCF_ID\"].isin(mismatch_3Rb)))).values\n",
    "\n",
    "bool_dict[\"3Rb\"][\"all\"][\"outside\"] = \\\n",
    "((md[\"Country\"] != \"Burkina Faso\") &\\\n",
    " (~ (md[\"VCF_ID\"].isin(mismatch_3Rb)))).values\n",
    "\n",
    "bool_dict[\"3Rb\"][\"all\"][\"mismatch\"] = \\\n",
    "(( (md[\"VCF_ID\"].isin(mismatch_3Rb)))).values"
   ]
  },
  {
   "cell_type": "markdown",
   "metadata": {},
   "source": [
    "##### iterate over all plots"
   ]
  },
  {
   "cell_type": "code",
   "execution_count": 60,
   "metadata": {},
   "outputs": [],
   "source": [
    "coords = {inversion : {\"all\" : None, \"kept\" : None} for inversion in [\"2Ra\", \"3Ra\", \"3Rb\"]}\n",
    "\n",
    "coords[\"2Ra\"][\"all\"] = coords_2Ra_all\n",
    "coords[\"2Ra\"][\"kept\"] = coords_2Ra_kept\n",
    "\n",
    "coords[\"3Ra\"][\"all\"] = coords_3Ra_all\n",
    "coords[\"3Ra\"][\"kept\"] = coords_3Ra_kept\n",
    "\n",
    "coords[\"3Rb\"][\"all\"] = coords_3Rb_all\n",
    "coords[\"3Rb\"][\"kept\"] = coords_3Rb_kept\n",
    "\n",
    "models = {inversion : {\"all\" : None, \"kept\" : None} for inversion in [\"2Ra\", \"3Ra\", \"3Rb\"]}\n",
    "\n",
    "models[\"2Ra\"][\"all\"] = model_2Ra_all\n",
    "models[\"2Ra\"][\"kept\"] = model_2Ra_kept\n",
    "\n",
    "models[\"3Ra\"][\"all\"] = model_3Ra_all\n",
    "models[\"3Ra\"][\"kept\"] = model_3Ra_kept\n",
    "\n",
    "models[\"3Rb\"][\"all\"] = model_3Rb_all\n",
    "models[\"3Rb\"][\"kept\"] = model_3Rb_kept"
   ]
  },
  {
   "cell_type": "code",
   "execution_count": 61,
   "metadata": {},
   "outputs": [
    {
     "data": {
      "image/png": "[encoded data removed]",
      "text/plain": [
       "<Figure size 1728x1152 with 6 Axes>"
      ]
     },
     "metadata": {},
     "output_type": "display_data"
    }
   ],
   "source": [
    "marker_kwaargs = {\"fillstyle\" : \"none\", \"markeredgewidth\" : \"1.0\"}\n",
    "sns.set_style('whitegrid')\n",
    "\n",
    "fig, axes = plt.subplots(nrows = 2, ncols = 3, figsize = (24, 16))\n",
    "\n",
    "plots = []\n",
    "\n",
    "for i, inversion in enumerate(coords.keys()):\n",
    "    \n",
    "    label_name = inversion + \"-cyt\"\n",
    "    \n",
    "    for j, division in enumerate([\"all\", \"kept\"]):\n",
    "        \n",
    "        if division == \"all\":\n",
    "            \n",
    "            title = inversion + \", all specimens\"\n",
    "            this_md = md\n",
    "            \n",
    "        else:\n",
    "            \n",
    "            title = inversion + \", final sample set\"\n",
    "            this_md = md.loc[kept_bool, :]\n",
    "            \n",
    "        if j == 0:\n",
    "            \n",
    "            title = inversion + \", \" +  division + \" specimens\"\n",
    "                \n",
    "        else:\n",
    "\n",
    "            title = inversion + \", final sample set\"\n",
    "        \n",
    "        these_coords = coords[inversion][division]\n",
    "        this_bool = bool_dict[inversion][division]\n",
    "    \n",
    "        ##Burkina Faso\n",
    "        for index, status in enumerate(this_md.loc[this_bool[\"BF\"], label_name].unique()):\n",
    "            \n",
    "            flt = (this_md.loc[this_bool[\"BF\"], label_name] == status).values\n",
    "            \n",
    "            axes[j][i].plot(these_coords[this_bool[\"BF\"]][:,0][flt], \n",
    "                    these_coords[this_bool[\"BF\"]][:,1][flt], \n",
    "                     marker=\"s\", linestyle=' ',\n",
    "                    color = 'grey', markersize=10, alpha=0.2)\n",
    "\n",
    "        ##non-Burkina Faso\n",
    "        for index, status in enumerate(this_md.loc[this_bool[\"outside\"], label_name].unique()):\n",
    "            \n",
    "            flt = (this_md.loc[this_bool[\"outside\"], label_name] == status).values\n",
    "            \n",
    "            axes[j][i].plot(these_coords[this_bool[\"outside\"]][:,0][flt], \n",
    "                    these_coords[this_bool[\"outside\"]][:,1][flt], \n",
    "                     marker=\"+\", linestyle=' ',\n",
    "                    color = 'black', markersize=10, alpha = 0.4, **marker_kwaargs)\n",
    "\n",
    "        ##mismatches\n",
    "        ingenos.plot_pca_coords(these_coords[this_bool[\"mismatch\"]], \n",
    "                                \n",
    "                                models[inversion][division], 0, 1, axes[j][i], \n",
    "                                \n",
    "                                this_md.loc[this_bool[\"mismatch\"]],\n",
    "                                \n",
    "                        region = inversion, label_with = label_name,\n",
    "                       alpha = 1, title = title, markersize=10)\n",
    "\n",
    "##add lines indicating genotyping boundaries, and label which partition is which\n",
    "##2Ra\n",
    "axes[1][0].axvline(x=85, color = \"k\")\n",
    "axes[1][0].axvline(x=250, color = \"k\")\n",
    "\n",
    "##3Ra\n",
    "axes[1][1].axvline(x=0, color = \"k\")\n",
    "axes[1][1].axvline(x=100, color = \"k\")\n",
    "\n",
    "##3Rb\n",
    "axes[1][2].axvline(x=0, color = \"k\")\n",
    "axes[1][2].axvline(x=300, color = \"k\")\n",
    "\n",
    "for ax in axes[1]:\n",
    "    \n",
    "    ax.text(.2, .3, \"0\", fontsize=20, weight = \"bold\", transform=ax.transAxes)\n",
    "    ax.text(.5, .3, \"1\", fontsize=20, weight = \"bold\", transform=ax.transAxes)\n",
    "    ax.text(.8, .3, \"2\", fontsize=20, weight = \"bold\", transform=ax.transAxes)\n",
    "\n",
    "##make text bigger\n",
    "for ax in axes.flatten():\n",
    "    \n",
    "    for item in [ax.xaxis.label, ax.yaxis.label]:\n",
    "        \n",
    "        item.set_fontsize(20)\n",
    "        \n",
    "    ax.tick_params(labelsize=15)\n",
    "        \n",
    "    ax.title.set_fontsize(25)\n",
    "    \n",
    "    ##turn spines black\n",
    "    for spine in ax.spines.values():\n",
    "        \n",
    "        spine.set_color(\"black\")\n",
    "        spine.set_linewidth(3)\n",
    "\n",
    "\n",
    "legend = axes[0][2].legend(bbox_to_anchor=(1, 1), \n",
    "                           title=\"Cytogenetic\\nkaryotype\", \n",
    "                   fontsize=20)\n",
    "\n",
    "legend.get_title().set_fontsize(25)\n",
    "\n",
    "plt.tight_layout()\n",
    "\n",
    "outString = ingenos.make_date_stamp(base + \"/results/before_and_after_PCAs_v2\")\n",
    "\n",
    "#plt.savefig(outString, bbox_inches=\"tight\");"
   ]
  },
  {
   "cell_type": "code",
   "execution_count": null,
   "metadata": {},
   "outputs": [],
   "source": []
  }
 ],
 "metadata": {
  "kernelspec": {
   "display_name": "Python 3",
   "language": "python",
   "name": "python3"
  },
  "language_info": {
   "codemirror_mode": {
    "name": "ipython",
    "version": 3
   },
   "file_extension": ".py",
   "mimetype": "text/x-python",
   "name": "python",
   "nbconvert_exporter": "python",
   "pygments_lexer": "ipython3",
   "version": "3.7.3"
  }
 },
 "nbformat": 4,
 "nbformat_minor": 2
}
