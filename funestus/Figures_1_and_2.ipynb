{
 "cells": [
  {
   "cell_type": "code",
   "execution_count": 1,
   "metadata": {},
   "outputs": [],
   "source": [
    "import allel\n",
    "import h5py\n",
    "import ingenos\n",
    "import matplotlib.pyplot as plt\n",
    "from matplotlib_venn import venn2, venn2_circles\n",
    "import numpy as np\n",
    "import pandas as pd\n",
    "import seaborn as sns\n",
    "sns.set_style('white')\n",
    "sns.set_style('ticks')\n",
    "%matplotlib inline"
   ]
  },
  {
   "cell_type": "code",
   "execution_count": 2,
   "metadata": {},
   "outputs": [],
   "source": [
    "base_dir = \"../../../data/amplicon_sequencing/funestus/\""
   ]
  },
  {
   "cell_type": "code",
   "execution_count": 3,
   "metadata": {},
   "outputs": [
    {
     "data": {
      "text/html": [
       "<div>\n",
       "<style scoped>\n",
       "    .dataframe tbody tr th:only-of-type {\n",
       "        vertical-align: middle;\n",
       "    }\n",
       "\n",
       "    .dataframe tbody tr th {\n",
       "        vertical-align: top;\n",
       "    }\n",
       "\n",
       "    .dataframe thead th {\n",
       "        text-align: right;\n",
       "    }\n",
       "</style>\n",
       "<table border=\"1\" class=\"dataframe\">\n",
       "  <thead>\n",
       "    <tr style=\"text-align: right;\">\n",
       "      <th></th>\n",
       "      <th>Inversion</th>\n",
       "      <th>AfunF3 Position</th>\n",
       "      <th>Ref</th>\n",
       "      <th>Alt</th>\n",
       "      <th>Forward Primer (5'&gt;3')</th>\n",
       "      <th>Reverse Primer  (5'&gt;3')</th>\n",
       "      <th>Probe_Ref  (5'&gt;3')</th>\n",
       "      <th>Probe_Alt  (5'&gt;3')</th>\n",
       "    </tr>\n",
       "  </thead>\n",
       "  <tbody>\n",
       "    <tr>\n",
       "      <th>0</th>\n",
       "      <td>3Ra</td>\n",
       "      <td>2006341</td>\n",
       "      <td>C</td>\n",
       "      <td>T</td>\n",
       "      <td>ACTTTCTTCTACACACGTGTGGTT</td>\n",
       "      <td>TCCAATCGAGAAACAAAGATGTTACCA</td>\n",
       "      <td>ACGTTAGCTGTAGGTCCGAA</td>\n",
       "      <td>CGTTAGCTGTAGATCCGAA</td>\n",
       "    </tr>\n",
       "    <tr>\n",
       "      <th>1</th>\n",
       "      <td>3Ra</td>\n",
       "      <td>2053347</td>\n",
       "      <td>T</td>\n",
       "      <td>G</td>\n",
       "      <td>GTAGAGAGACATTGATGGGTGGAAA</td>\n",
       "      <td>CACTGCAGGCCGGATGT</td>\n",
       "      <td>CGATTCTGGAGATTTTTAAT</td>\n",
       "      <td>ATTCTGGAGCTTTTTAAT</td>\n",
       "    </tr>\n",
       "    <tr>\n",
       "      <th>2</th>\n",
       "      <td>3Ra</td>\n",
       "      <td>2094697</td>\n",
       "      <td>C</td>\n",
       "      <td>G</td>\n",
       "      <td>GCTGGACTGATGACAGAAACGT</td>\n",
       "      <td>TGTCAGACAGTCAGAACCACAAAAT</td>\n",
       "      <td>CGATACCTTCAGCACCGC</td>\n",
       "      <td>CGATACCTTCACCACCGC</td>\n",
       "    </tr>\n",
       "    <tr>\n",
       "      <th>3</th>\n",
       "      <td>3Ra</td>\n",
       "      <td>2099165</td>\n",
       "      <td>A</td>\n",
       "      <td>T</td>\n",
       "      <td>CGTCTTGGTCGGCTTCCT</td>\n",
       "      <td>GGCAAACAACGTAGACTCAAACC</td>\n",
       "      <td>CGATATCACAACACCATTC</td>\n",
       "      <td>CGATATCACAACTCCATTC</td>\n",
       "    </tr>\n",
       "    <tr>\n",
       "      <th>4</th>\n",
       "      <td>3Ra</td>\n",
       "      <td>2486161</td>\n",
       "      <td>A</td>\n",
       "      <td>C</td>\n",
       "      <td>GGGATAACGGACTCGGTAAACT</td>\n",
       "      <td>TCTGTCAGGCGACCAATAAGC</td>\n",
       "      <td>CCTCCGCATCACCCA</td>\n",
       "      <td>CCTCCGCCTCACCCA</td>\n",
       "    </tr>\n",
       "  </tbody>\n",
       "</table>\n",
       "</div>"
      ],
      "text/plain": [
       "  Inversion  AfunF3 Position Ref Alt     Forward Primer (5'>3')  \\\n",
       "0       3Ra          2006341   C   T   ACTTTCTTCTACACACGTGTGGTT   \n",
       "1       3Ra          2053347   T   G  GTAGAGAGACATTGATGGGTGGAAA   \n",
       "2       3Ra          2094697   C   G     GCTGGACTGATGACAGAAACGT   \n",
       "3       3Ra          2099165   A   T         CGTCTTGGTCGGCTTCCT   \n",
       "4       3Ra          2486161   A   C     GGGATAACGGACTCGGTAAACT   \n",
       "\n",
       "       Reverse Primer  (5'>3')    Probe_Ref  (5'>3')   Probe_Alt  (5'>3')  \n",
       "0  TCCAATCGAGAAACAAAGATGTTACCA  ACGTTAGCTGTAGGTCCGAA  CGTTAGCTGTAGATCCGAA  \n",
       "1            CACTGCAGGCCGGATGT  CGATTCTGGAGATTTTTAAT   ATTCTGGAGCTTTTTAAT  \n",
       "2    TGTCAGACAGTCAGAACCACAAAAT    CGATACCTTCAGCACCGC   CGATACCTTCACCACCGC  \n",
       "3      GGCAAACAACGTAGACTCAAACC   CGATATCACAACACCATTC  CGATATCACAACTCCATTC  \n",
       "4        TCTGTCAGGCGACCAATAAGC       CCTCCGCATCACCCA      CCTCCGCCTCACCCA  "
      ]
     },
     "execution_count": 3,
     "metadata": {},
     "output_type": "execute_result"
    }
   ],
   "source": [
    "data_OA = pd.read_excel(base_dir + \"table_S3.xlsx\")\n",
    "\n",
    "data_OA.head()"
   ]
  },
  {
   "cell_type": "code",
   "execution_count": 4,
   "metadata": {},
   "outputs": [
    {
     "data": {
      "text/plain": [
       "(27, 8)"
      ]
     },
     "execution_count": 4,
     "metadata": {},
     "output_type": "execute_result"
    }
   ],
   "source": [
    "data_OA.shape"
   ]
  },
  {
   "cell_type": "code",
   "execution_count": 5,
   "metadata": {},
   "outputs": [
    {
     "data": {
      "text/html": [
       "<div>\n",
       "<style scoped>\n",
       "    .dataframe tbody tr th:only-of-type {\n",
       "        vertical-align: middle;\n",
       "    }\n",
       "\n",
       "    .dataframe tbody tr th {\n",
       "        vertical-align: top;\n",
       "    }\n",
       "\n",
       "    .dataframe thead th {\n",
       "        text-align: right;\n",
       "    }\n",
       "</style>\n",
       "<table border=\"1\" class=\"dataframe\">\n",
       "  <thead>\n",
       "    <tr style=\"text-align: right;\">\n",
       "      <th></th>\n",
       "      <th>Inversion</th>\n",
       "      <th>AfunF3 Position</th>\n",
       "      <th>Ref</th>\n",
       "      <th>Alt</th>\n",
       "      <th>Forward Primer (5'&gt;3')</th>\n",
       "      <th>Reverse Primer  (5'&gt;3')</th>\n",
       "      <th>Probe_Ref  (5'&gt;3')</th>\n",
       "      <th>Probe_Alt  (5'&gt;3')</th>\n",
       "    </tr>\n",
       "  </thead>\n",
       "  <tbody>\n",
       "    <tr>\n",
       "      <th>22</th>\n",
       "      <td>3Rb</td>\n",
       "      <td>28550180</td>\n",
       "      <td>C</td>\n",
       "      <td>T</td>\n",
       "      <td>GAGATGGATGTAAAGTGAGGTTAGCA</td>\n",
       "      <td>GCTGGTCACTGCAGAAATCATCA</td>\n",
       "      <td>CTTTTCTTTCCATTTTTG</td>\n",
       "      <td>TTCTTTTCTTTCTATTTTTG</td>\n",
       "    </tr>\n",
       "    <tr>\n",
       "      <th>23</th>\n",
       "      <td>3Rb</td>\n",
       "      <td>28554164</td>\n",
       "      <td>T</td>\n",
       "      <td>C</td>\n",
       "      <td>CCACTCGATTTAATCAATTGTCCTTTTACTT</td>\n",
       "      <td>CTGGTTTGTTGCGTTATTCGATACT</td>\n",
       "      <td>TCCCGGACTTATCTGC</td>\n",
       "      <td>CCGGACCTATCTGC</td>\n",
       "    </tr>\n",
       "    <tr>\n",
       "      <th>24</th>\n",
       "      <td>3Rb</td>\n",
       "      <td>29210802</td>\n",
       "      <td>A</td>\n",
       "      <td>T</td>\n",
       "      <td>GAAACGCTCACGTCATGCAATATAA</td>\n",
       "      <td>ATCGTGTACGATTCTTGCCTAAACT</td>\n",
       "      <td>AGATGCCGCTCGAGTAT</td>\n",
       "      <td>ATGCCGCACGAGTAT</td>\n",
       "    </tr>\n",
       "    <tr>\n",
       "      <th>25</th>\n",
       "      <td>3Rb</td>\n",
       "      <td>30037802</td>\n",
       "      <td>C</td>\n",
       "      <td>G</td>\n",
       "      <td>ACTACATTAGCTAGAAAAATGGTCTTAAATCAC</td>\n",
       "      <td>CGGTTTCGTTTTCGGTTTGC</td>\n",
       "      <td>CCTAGAACGCCAAAGTA</td>\n",
       "      <td>CTAGAACGGCAAAGTA</td>\n",
       "    </tr>\n",
       "    <tr>\n",
       "      <th>26</th>\n",
       "      <td>3Rb</td>\n",
       "      <td>30661948</td>\n",
       "      <td>T</td>\n",
       "      <td>C</td>\n",
       "      <td>AAATTTCGAACTGCAAACCGTGAA</td>\n",
       "      <td>CGTCCACAGAACGTGAAATGATAAA</td>\n",
       "      <td>CTGTTTAGTAAATTGAAACTT</td>\n",
       "      <td>TGTTTAGTAAATCGAAACTT</td>\n",
       "    </tr>\n",
       "  </tbody>\n",
       "</table>\n",
       "</div>"
      ],
      "text/plain": [
       "   Inversion  AfunF3 Position Ref Alt             Forward Primer (5'>3')  \\\n",
       "22       3Rb         28550180   C   T         GAGATGGATGTAAAGTGAGGTTAGCA   \n",
       "23       3Rb         28554164   T   C    CCACTCGATTTAATCAATTGTCCTTTTACTT   \n",
       "24       3Rb         29210802   A   T          GAAACGCTCACGTCATGCAATATAA   \n",
       "25       3Rb         30037802   C   G  ACTACATTAGCTAGAAAAATGGTCTTAAATCAC   \n",
       "26       3Rb         30661948   T   C           AAATTTCGAACTGCAAACCGTGAA   \n",
       "\n",
       "      Reverse Primer  (5'>3')     Probe_Ref  (5'>3')    Probe_Alt  (5'>3')  \n",
       "22    GCTGGTCACTGCAGAAATCATCA     CTTTTCTTTCCATTTTTG  TTCTTTTCTTTCTATTTTTG  \n",
       "23  CTGGTTTGTTGCGTTATTCGATACT       TCCCGGACTTATCTGC        CCGGACCTATCTGC  \n",
       "24  ATCGTGTACGATTCTTGCCTAAACT      AGATGCCGCTCGAGTAT       ATGCCGCACGAGTAT  \n",
       "25       CGGTTTCGTTTTCGGTTTGC      CCTAGAACGCCAAAGTA      CTAGAACGGCAAAGTA  \n",
       "26  CGTCCACAGAACGTGAAATGATAAA  CTGTTTAGTAAATTGAAACTT  TGTTTAGTAAATCGAAACTT  "
      ]
     },
     "execution_count": 5,
     "metadata": {},
     "output_type": "execute_result"
    }
   ],
   "source": [
    "data_OA.tail()"
   ]
  },
  {
   "cell_type": "code",
   "execution_count": 6,
   "metadata": {},
   "outputs": [
    {
     "data": {
      "text/html": [
       "<div>\n",
       "<style scoped>\n",
       "    .dataframe tbody tr th:only-of-type {\n",
       "        vertical-align: middle;\n",
       "    }\n",
       "\n",
       "    .dataframe tbody tr th {\n",
       "        vertical-align: top;\n",
       "    }\n",
       "\n",
       "    .dataframe thead th {\n",
       "        text-align: right;\n",
       "    }\n",
       "</style>\n",
       "<table border=\"1\" class=\"dataframe\">\n",
       "  <thead>\n",
       "    <tr style=\"text-align: right;\">\n",
       "      <th></th>\n",
       "      <th>Inversion</th>\n",
       "      <th>Tag SNP</th>\n",
       "      <th>REF</th>\n",
       "      <th>ALT</th>\n",
       "      <th>Primer_F Name</th>\n",
       "      <th>Primer_F Sequence (5'&gt;3')</th>\n",
       "      <th>Primer_R Name</th>\n",
       "      <th>Primer_R Sequence (5'&gt;3')</th>\n",
       "    </tr>\n",
       "  </thead>\n",
       "  <tbody>\n",
       "    <tr>\n",
       "      <th>0</th>\n",
       "      <td>2Ra</td>\n",
       "      <td>2R_26087506_a</td>\n",
       "      <td>G</td>\n",
       "      <td>A</td>\n",
       "      <td>2R_26087506_a_F</td>\n",
       "      <td>CTACACGTTCAGAGTTCTACAGTCCGAACCGATGTATTGGGCTCTGC</td>\n",
       "      <td>2R_26087506_a_R</td>\n",
       "      <td>GTGACTGGAGTTCAGACGTGTGCTCTTCCGATCTACATTCGAACAC...</td>\n",
       "    </tr>\n",
       "    <tr>\n",
       "      <th>1</th>\n",
       "      <td>2Ra</td>\n",
       "      <td>2R_26111277_a</td>\n",
       "      <td>A</td>\n",
       "      <td>T</td>\n",
       "      <td>2R_26111277_a_F</td>\n",
       "      <td>CTACACGTTCAGAGTTCTACAGTCCGAACAACGAGGCATTGAAAAAAGC</td>\n",
       "      <td>2R_26111277_a_R</td>\n",
       "      <td>GTGACTGGAGTTCAGACGTGTGCTCTTCCGATCTTCTGTCTCTCAC...</td>\n",
       "    </tr>\n",
       "    <tr>\n",
       "      <th>2</th>\n",
       "      <td>2Ra</td>\n",
       "      <td>2R_26212609_a</td>\n",
       "      <td>G</td>\n",
       "      <td>T</td>\n",
       "      <td>2R_26212609_a_F</td>\n",
       "      <td>CTACACGTTCAGAGTTCTACAGTCCGATGCATTCGATGTTTAGTGCGG</td>\n",
       "      <td>2R_26212609_a_R</td>\n",
       "      <td>GTGACTGGAGTTCAGACGTGTGCTCTTCCGATCTGCTCGCTGGACG...</td>\n",
       "    </tr>\n",
       "    <tr>\n",
       "      <th>3</th>\n",
       "      <td>2Ra</td>\n",
       "      <td>2R_26213556_a</td>\n",
       "      <td>A</td>\n",
       "      <td>G</td>\n",
       "      <td>2R_26213556_a_F</td>\n",
       "      <td>CTACACGTTCAGAGTTCTACAGTCCGAAACGATATCACCGCCCAAAC</td>\n",
       "      <td>2R_26213556_a_R</td>\n",
       "      <td>GTGACTGGAGTTCAGACGTGTGCTCTTCCGATCTTGCAAGCAACTG...</td>\n",
       "    </tr>\n",
       "    <tr>\n",
       "      <th>4</th>\n",
       "      <td>2Ra</td>\n",
       "      <td>2R_26558370_a</td>\n",
       "      <td>T</td>\n",
       "      <td>C</td>\n",
       "      <td>2R_26558370_a_F</td>\n",
       "      <td>CTACACGTTCAGAGTTCTACAGTCCGAACCCAGAATCGAAACGGCTT</td>\n",
       "      <td>2R_26558370_a_R</td>\n",
       "      <td>GTGACTGGAGTTCAGACGTGTGCTCTTCCGATCTCCTCATGGCTGG...</td>\n",
       "    </tr>\n",
       "  </tbody>\n",
       "</table>\n",
       "</div>"
      ],
      "text/plain": [
       "  Inversion        Tag SNP REF ALT    Primer_F Name  \\\n",
       "0       2Ra  2R_26087506_a   G   A  2R_26087506_a_F   \n",
       "1       2Ra  2R_26111277_a   A   T  2R_26111277_a_F   \n",
       "2       2Ra  2R_26212609_a   G   T  2R_26212609_a_F   \n",
       "3       2Ra  2R_26213556_a   A   G  2R_26213556_a_F   \n",
       "4       2Ra  2R_26558370_a   T   C  2R_26558370_a_F   \n",
       "\n",
       "                           Primer_F Sequence (5'>3')    Primer_R Name  \\\n",
       "0    CTACACGTTCAGAGTTCTACAGTCCGAACCGATGTATTGGGCTCTGC  2R_26087506_a_R   \n",
       "1  CTACACGTTCAGAGTTCTACAGTCCGAACAACGAGGCATTGAAAAAAGC  2R_26111277_a_R   \n",
       "2   CTACACGTTCAGAGTTCTACAGTCCGATGCATTCGATGTTTAGTGCGG  2R_26212609_a_R   \n",
       "3    CTACACGTTCAGAGTTCTACAGTCCGAAACGATATCACCGCCCAAAC  2R_26213556_a_R   \n",
       "4    CTACACGTTCAGAGTTCTACAGTCCGAACCCAGAATCGAAACGGCTT  2R_26558370_a_R   \n",
       "\n",
       "                           Primer_R Sequence (5'>3')  \n",
       "0  GTGACTGGAGTTCAGACGTGTGCTCTTCCGATCTACATTCGAACAC...  \n",
       "1  GTGACTGGAGTTCAGACGTGTGCTCTTCCGATCTTCTGTCTCTCAC...  \n",
       "2  GTGACTGGAGTTCAGACGTGTGCTCTTCCGATCTGCTCGCTGGACG...  \n",
       "3  GTGACTGGAGTTCAGACGTGTGCTCTTCCGATCTTGCAAGCAACTG...  \n",
       "4  GTGACTGGAGTTCAGACGTGTGCTCTTCCGATCTCCTCATGGCTGG...  "
      ]
     },
     "execution_count": 6,
     "metadata": {},
     "output_type": "execute_result"
    }
   ],
   "source": [
    "data_AS = pd.read_excel(base_dir + \"table_S4.xlsx\")\n",
    "\n",
    "data_AS.head()"
   ]
  },
  {
   "cell_type": "code",
   "execution_count": 7,
   "metadata": {},
   "outputs": [
    {
     "data": {
      "text/plain": [
       "(82, 8)"
      ]
     },
     "execution_count": 7,
     "metadata": {},
     "output_type": "execute_result"
    }
   ],
   "source": [
    "data_AS.shape"
   ]
  },
  {
   "cell_type": "code",
   "execution_count": 8,
   "metadata": {},
   "outputs": [
    {
     "data": {
      "text/html": [
       "<div>\n",
       "<style scoped>\n",
       "    .dataframe tbody tr th:only-of-type {\n",
       "        vertical-align: middle;\n",
       "    }\n",
       "\n",
       "    .dataframe tbody tr th {\n",
       "        vertical-align: top;\n",
       "    }\n",
       "\n",
       "    .dataframe thead th {\n",
       "        text-align: right;\n",
       "    }\n",
       "</style>\n",
       "<table border=\"1\" class=\"dataframe\">\n",
       "  <thead>\n",
       "    <tr style=\"text-align: right;\">\n",
       "      <th></th>\n",
       "      <th>Inversion</th>\n",
       "      <th>Tag SNP</th>\n",
       "      <th>REF</th>\n",
       "      <th>ALT</th>\n",
       "      <th>Primer_F Name</th>\n",
       "      <th>Primer_F Sequence (5'&gt;3')</th>\n",
       "      <th>Primer_R Name</th>\n",
       "      <th>Primer_R Sequence (5'&gt;3')</th>\n",
       "    </tr>\n",
       "  </thead>\n",
       "  <tbody>\n",
       "    <tr>\n",
       "      <th>77</th>\n",
       "      <td>3Rb</td>\n",
       "      <td>3R_30902012_b</td>\n",
       "      <td>G</td>\n",
       "      <td>T</td>\n",
       "      <td>3R_30902012_b_F</td>\n",
       "      <td>CTACACGTTCAGAGTTCTACAGTCCGAACGATTAGTAGTCGGCGCAA</td>\n",
       "      <td>3R_30902012_b_R</td>\n",
       "      <td>GTGACTGGAGTTCAGACGTGTGCTCTTCCGATCTGCTGCTACTACT...</td>\n",
       "    </tr>\n",
       "    <tr>\n",
       "      <th>78</th>\n",
       "      <td>3Rb</td>\n",
       "      <td>3R_31397626_b</td>\n",
       "      <td>C</td>\n",
       "      <td>T</td>\n",
       "      <td>3R_31397626_b_F</td>\n",
       "      <td>CTACACGTTCAGAGTTCTACAGTCCGATGAGAGCGTTGCCTGGTAAG</td>\n",
       "      <td>3R_31397626_b_R</td>\n",
       "      <td>GTGACTGGAGTTCAGACGTGTGCTCTTCCGATCTGTTTGGAGAATG...</td>\n",
       "    </tr>\n",
       "    <tr>\n",
       "      <th>79</th>\n",
       "      <td>3Rb</td>\n",
       "      <td>3R_31568791_b</td>\n",
       "      <td>A</td>\n",
       "      <td>T</td>\n",
       "      <td>3R_31568791_b_F</td>\n",
       "      <td>CTACACGTTCAGAGTTCTACAGTCCGATGAACATTCGTTTCGCTCGA</td>\n",
       "      <td>3R_31568791_b_R</td>\n",
       "      <td>GTGACTGGAGTTCAGACGTGTGCTCTTCCGATCTGCATAAAGGCAC...</td>\n",
       "    </tr>\n",
       "    <tr>\n",
       "      <th>80</th>\n",
       "      <td>3Rb</td>\n",
       "      <td>3R_32435459_b</td>\n",
       "      <td>A</td>\n",
       "      <td>C</td>\n",
       "      <td>3R_32435459_b_F</td>\n",
       "      <td>CTACACGTTCAGAGTTCTACAGTCCGAACGAACCCAGTCAGCACATT</td>\n",
       "      <td>3R_32435459_b_R</td>\n",
       "      <td>GTGACTGGAGTTCAGACGTGTGCTCTTCCGATCTACAACAAACCCG...</td>\n",
       "    </tr>\n",
       "    <tr>\n",
       "      <th>81</th>\n",
       "      <td>3Rb</td>\n",
       "      <td>3R_32492194_b</td>\n",
       "      <td>A</td>\n",
       "      <td>G</td>\n",
       "      <td>3R_32492194_b_F</td>\n",
       "      <td>CTACACGTTCAGAGTTCTACAGTCCGATGTAAAACGTACCATTTGA...</td>\n",
       "      <td>3R_32492194_b_R</td>\n",
       "      <td>GTGACTGGAGTTCAGACGTGTGCTCTTCCGATCTCGGAGTCATAGT...</td>\n",
       "    </tr>\n",
       "  </tbody>\n",
       "</table>\n",
       "</div>"
      ],
      "text/plain": [
       "   Inversion        Tag SNP REF ALT    Primer_F Name  \\\n",
       "77       3Rb  3R_30902012_b   G   T  3R_30902012_b_F   \n",
       "78       3Rb  3R_31397626_b   C   T  3R_31397626_b_F   \n",
       "79       3Rb  3R_31568791_b   A   T  3R_31568791_b_F   \n",
       "80       3Rb  3R_32435459_b   A   C  3R_32435459_b_F   \n",
       "81       3Rb  3R_32492194_b   A   G  3R_32492194_b_F   \n",
       "\n",
       "                            Primer_F Sequence (5'>3')    Primer_R Name  \\\n",
       "77    CTACACGTTCAGAGTTCTACAGTCCGAACGATTAGTAGTCGGCGCAA  3R_30902012_b_R   \n",
       "78    CTACACGTTCAGAGTTCTACAGTCCGATGAGAGCGTTGCCTGGTAAG  3R_31397626_b_R   \n",
       "79    CTACACGTTCAGAGTTCTACAGTCCGATGAACATTCGTTTCGCTCGA  3R_31568791_b_R   \n",
       "80    CTACACGTTCAGAGTTCTACAGTCCGAACGAACCCAGTCAGCACATT  3R_32435459_b_R   \n",
       "81  CTACACGTTCAGAGTTCTACAGTCCGATGTAAAACGTACCATTTGA...  3R_32492194_b_R   \n",
       "\n",
       "                            Primer_R Sequence (5'>3')  \n",
       "77  GTGACTGGAGTTCAGACGTGTGCTCTTCCGATCTGCTGCTACTACT...  \n",
       "78  GTGACTGGAGTTCAGACGTGTGCTCTTCCGATCTGTTTGGAGAATG...  \n",
       "79  GTGACTGGAGTTCAGACGTGTGCTCTTCCGATCTGCATAAAGGCAC...  \n",
       "80  GTGACTGGAGTTCAGACGTGTGCTCTTCCGATCTACAACAAACCCG...  \n",
       "81  GTGACTGGAGTTCAGACGTGTGCTCTTCCGATCTCGGAGTCATAGT...  "
      ]
     },
     "execution_count": 8,
     "metadata": {},
     "output_type": "execute_result"
    }
   ],
   "source": [
    "data_AS.tail()"
   ]
  },
  {
   "cell_type": "markdown",
   "metadata": {},
   "source": [
    "##### get the actual positions for amplicon sequencing"
   ]
  },
  {
   "cell_type": "code",
   "execution_count": 9,
   "metadata": {},
   "outputs": [],
   "source": [
    "data_AS[\"pos\"] =\\\n",
    "[int(item[1]) for item in data_AS[\"Tag SNP\"].str.split(\"_\")]"
   ]
  },
  {
   "cell_type": "code",
   "execution_count": 10,
   "metadata": {},
   "outputs": [
    {
     "data": {
      "text/html": [
       "<div>\n",
       "<style scoped>\n",
       "    .dataframe tbody tr th:only-of-type {\n",
       "        vertical-align: middle;\n",
       "    }\n",
       "\n",
       "    .dataframe tbody tr th {\n",
       "        vertical-align: top;\n",
       "    }\n",
       "\n",
       "    .dataframe thead th {\n",
       "        text-align: right;\n",
       "    }\n",
       "</style>\n",
       "<table border=\"1\" class=\"dataframe\">\n",
       "  <thead>\n",
       "    <tr style=\"text-align: right;\">\n",
       "      <th></th>\n",
       "      <th>Inversion</th>\n",
       "      <th>Tag SNP</th>\n",
       "      <th>pos</th>\n",
       "    </tr>\n",
       "  </thead>\n",
       "  <tbody>\n",
       "    <tr>\n",
       "      <th>0</th>\n",
       "      <td>2Ra</td>\n",
       "      <td>2R_26087506_a</td>\n",
       "      <td>26087506</td>\n",
       "    </tr>\n",
       "    <tr>\n",
       "      <th>1</th>\n",
       "      <td>2Ra</td>\n",
       "      <td>2R_26111277_a</td>\n",
       "      <td>26111277</td>\n",
       "    </tr>\n",
       "    <tr>\n",
       "      <th>2</th>\n",
       "      <td>2Ra</td>\n",
       "      <td>2R_26212609_a</td>\n",
       "      <td>26212609</td>\n",
       "    </tr>\n",
       "    <tr>\n",
       "      <th>3</th>\n",
       "      <td>2Ra</td>\n",
       "      <td>2R_26213556_a</td>\n",
       "      <td>26213556</td>\n",
       "    </tr>\n",
       "    <tr>\n",
       "      <th>4</th>\n",
       "      <td>2Ra</td>\n",
       "      <td>2R_26558370_a</td>\n",
       "      <td>26558370</td>\n",
       "    </tr>\n",
       "  </tbody>\n",
       "</table>\n",
       "</div>"
      ],
      "text/plain": [
       "  Inversion        Tag SNP       pos\n",
       "0       2Ra  2R_26087506_a  26087506\n",
       "1       2Ra  2R_26111277_a  26111277\n",
       "2       2Ra  2R_26212609_a  26212609\n",
       "3       2Ra  2R_26213556_a  26213556\n",
       "4       2Ra  2R_26558370_a  26558370"
      ]
     },
     "execution_count": 10,
     "metadata": {},
     "output_type": "execute_result"
    }
   ],
   "source": [
    "data_AS[[\"Inversion\", \"Tag SNP\", \"pos\"]].head()"
   ]
  },
  {
   "cell_type": "code",
   "execution_count": 11,
   "metadata": {},
   "outputs": [
    {
     "data": {
      "text/html": [
       "<div>\n",
       "<style scoped>\n",
       "    .dataframe tbody tr th:only-of-type {\n",
       "        vertical-align: middle;\n",
       "    }\n",
       "\n",
       "    .dataframe tbody tr th {\n",
       "        vertical-align: top;\n",
       "    }\n",
       "\n",
       "    .dataframe thead th {\n",
       "        text-align: right;\n",
       "    }\n",
       "</style>\n",
       "<table border=\"1\" class=\"dataframe\">\n",
       "  <thead>\n",
       "    <tr style=\"text-align: right;\">\n",
       "      <th></th>\n",
       "      <th>Inversion</th>\n",
       "      <th>pos</th>\n",
       "      <th>type</th>\n",
       "    </tr>\n",
       "  </thead>\n",
       "  <tbody>\n",
       "    <tr>\n",
       "      <th>0</th>\n",
       "      <td>2Ra</td>\n",
       "      <td>26087506</td>\n",
       "      <td>AS</td>\n",
       "    </tr>\n",
       "    <tr>\n",
       "      <th>1</th>\n",
       "      <td>2Ra</td>\n",
       "      <td>26111277</td>\n",
       "      <td>AS</td>\n",
       "    </tr>\n",
       "    <tr>\n",
       "      <th>2</th>\n",
       "      <td>2Ra</td>\n",
       "      <td>26212609</td>\n",
       "      <td>AS</td>\n",
       "    </tr>\n",
       "    <tr>\n",
       "      <th>3</th>\n",
       "      <td>2Ra</td>\n",
       "      <td>26213556</td>\n",
       "      <td>AS</td>\n",
       "    </tr>\n",
       "    <tr>\n",
       "      <th>4</th>\n",
       "      <td>2Ra</td>\n",
       "      <td>26558370</td>\n",
       "      <td>AS</td>\n",
       "    </tr>\n",
       "  </tbody>\n",
       "</table>\n",
       "</div>"
      ],
      "text/plain": [
       "  Inversion       pos type\n",
       "0       2Ra  26087506   AS\n",
       "1       2Ra  26111277   AS\n",
       "2       2Ra  26212609   AS\n",
       "3       2Ra  26213556   AS\n",
       "4       2Ra  26558370   AS"
      ]
     },
     "execution_count": 11,
     "metadata": {},
     "output_type": "execute_result"
    }
   ],
   "source": [
    "AS = data_AS.loc[:, [\"Inversion\", \"pos\"]]\n",
    "AS[\"type\"] = \"AS\"\n",
    "AS.head()"
   ]
  },
  {
   "cell_type": "code",
   "execution_count": 12,
   "metadata": {},
   "outputs": [
    {
     "data": {
      "text/plain": [
       "(82, 3)"
      ]
     },
     "execution_count": 12,
     "metadata": {},
     "output_type": "execute_result"
    }
   ],
   "source": [
    "AS.shape"
   ]
  },
  {
   "cell_type": "code",
   "execution_count": 13,
   "metadata": {},
   "outputs": [
    {
     "data": {
      "text/html": [
       "<div>\n",
       "<style scoped>\n",
       "    .dataframe tbody tr th:only-of-type {\n",
       "        vertical-align: middle;\n",
       "    }\n",
       "\n",
       "    .dataframe tbody tr th {\n",
       "        vertical-align: top;\n",
       "    }\n",
       "\n",
       "    .dataframe thead th {\n",
       "        text-align: right;\n",
       "    }\n",
       "</style>\n",
       "<table border=\"1\" class=\"dataframe\">\n",
       "  <thead>\n",
       "    <tr style=\"text-align: right;\">\n",
       "      <th></th>\n",
       "      <th>Inversion</th>\n",
       "      <th>pos</th>\n",
       "      <th>type</th>\n",
       "    </tr>\n",
       "  </thead>\n",
       "  <tbody>\n",
       "    <tr>\n",
       "      <th>0</th>\n",
       "      <td>3Ra</td>\n",
       "      <td>2006341</td>\n",
       "      <td>OA</td>\n",
       "    </tr>\n",
       "    <tr>\n",
       "      <th>1</th>\n",
       "      <td>3Ra</td>\n",
       "      <td>2053347</td>\n",
       "      <td>OA</td>\n",
       "    </tr>\n",
       "    <tr>\n",
       "      <th>2</th>\n",
       "      <td>3Ra</td>\n",
       "      <td>2094697</td>\n",
       "      <td>OA</td>\n",
       "    </tr>\n",
       "    <tr>\n",
       "      <th>3</th>\n",
       "      <td>3Ra</td>\n",
       "      <td>2099165</td>\n",
       "      <td>OA</td>\n",
       "    </tr>\n",
       "    <tr>\n",
       "      <th>4</th>\n",
       "      <td>3Ra</td>\n",
       "      <td>2486161</td>\n",
       "      <td>OA</td>\n",
       "    </tr>\n",
       "  </tbody>\n",
       "</table>\n",
       "</div>"
      ],
      "text/plain": [
       "  Inversion      pos type\n",
       "0       3Ra  2006341   OA\n",
       "1       3Ra  2053347   OA\n",
       "2       3Ra  2094697   OA\n",
       "3       3Ra  2099165   OA\n",
       "4       3Ra  2486161   OA"
      ]
     },
     "execution_count": 13,
     "metadata": {},
     "output_type": "execute_result"
    }
   ],
   "source": [
    "OA = data_OA.loc[:, [\"Inversion\", \"AfunF3 Position\"]]\n",
    "OA.rename(columns = {\"AfunF3 Position\" : \"pos\"}, inplace=True)\n",
    "OA[\"type\"] = \"OA\"\n",
    "OA.head()"
   ]
  },
  {
   "cell_type": "code",
   "execution_count": 14,
   "metadata": {},
   "outputs": [
    {
     "data": {
      "text/plain": [
       "(27, 3)"
      ]
     },
     "execution_count": 14,
     "metadata": {},
     "output_type": "execute_result"
    }
   ],
   "source": [
    "OA.shape"
   ]
  },
  {
   "cell_type": "code",
   "execution_count": 15,
   "metadata": {},
   "outputs": [
    {
     "data": {
      "text/html": [
       "<div>\n",
       "<style scoped>\n",
       "    .dataframe tbody tr th:only-of-type {\n",
       "        vertical-align: middle;\n",
       "    }\n",
       "\n",
       "    .dataframe tbody tr th {\n",
       "        vertical-align: top;\n",
       "    }\n",
       "\n",
       "    .dataframe thead th {\n",
       "        text-align: right;\n",
       "    }\n",
       "</style>\n",
       "<table border=\"1\" class=\"dataframe\">\n",
       "  <thead>\n",
       "    <tr style=\"text-align: right;\">\n",
       "      <th></th>\n",
       "      <th>Inversion</th>\n",
       "      <th>pos</th>\n",
       "      <th>type</th>\n",
       "    </tr>\n",
       "  </thead>\n",
       "  <tbody>\n",
       "    <tr>\n",
       "      <th>0</th>\n",
       "      <td>2Ra</td>\n",
       "      <td>26087506</td>\n",
       "      <td>AS</td>\n",
       "    </tr>\n",
       "    <tr>\n",
       "      <th>1</th>\n",
       "      <td>2Ra</td>\n",
       "      <td>26111277</td>\n",
       "      <td>AS</td>\n",
       "    </tr>\n",
       "    <tr>\n",
       "      <th>2</th>\n",
       "      <td>2Ra</td>\n",
       "      <td>26212609</td>\n",
       "      <td>AS</td>\n",
       "    </tr>\n",
       "    <tr>\n",
       "      <th>3</th>\n",
       "      <td>2Ra</td>\n",
       "      <td>26213556</td>\n",
       "      <td>AS</td>\n",
       "    </tr>\n",
       "    <tr>\n",
       "      <th>4</th>\n",
       "      <td>2Ra</td>\n",
       "      <td>26558370</td>\n",
       "      <td>AS</td>\n",
       "    </tr>\n",
       "  </tbody>\n",
       "</table>\n",
       "</div>"
      ],
      "text/plain": [
       "  Inversion       pos type\n",
       "0       2Ra  26087506   AS\n",
       "1       2Ra  26111277   AS\n",
       "2       2Ra  26212609   AS\n",
       "3       2Ra  26213556   AS\n",
       "4       2Ra  26558370   AS"
      ]
     },
     "execution_count": 15,
     "metadata": {},
     "output_type": "execute_result"
    }
   ],
   "source": [
    "both = pd.concat([AS, OA])\n",
    "\n",
    "both.reset_index(drop=True, inplace=True)\n",
    "\n",
    "both.head()"
   ]
  },
  {
   "cell_type": "markdown",
   "metadata": {},
   "source": [
    "##### figure 1"
   ]
  },
  {
   "cell_type": "code",
   "execution_count": 16,
   "metadata": {},
   "outputs": [
    {
     "data": {
      "image/png": "[encoded data removed]",
      "text/plain": [
       "<Figure size 864x720 with 3 Axes>"
      ]
     },
     "metadata": {
      "needs_background": "light"
     },
     "output_type": "display_data"
    }
   ],
   "source": [
    "height_dict = {\"AS\" : 0.5, \"OA\" : 0}\n",
    "marker_dict = {\"AS\" : \".\", \"OA\" : \"^\"}\n",
    "\n",
    "fig, axes = plt.subplots(nrows = 3, ncols=1,figsize = (12, 10))\n",
    "\n",
    "for i, ax in enumerate(axes):\n",
    "    inversion = [\"3Ra\", \"3Rb\", \"2Ra\"][i] \n",
    "\n",
    "    chunk = both.loc[both[\"Inversion\"] == inversion, :]\n",
    "    \n",
    "    for j, dtype in enumerate(chunk[\"type\"].unique()):\n",
    "\n",
    "        type_chunk = chunk.loc[chunk[\"type\"] == dtype, :]\n",
    "\n",
    "        height = height_dict[dtype]\n",
    "        \n",
    "        ax.plot(type_chunk[\"pos\"] / 1000000, \n",
    "                np.random.uniform(height - .005, height + .005,\n",
    "                                  [len(type_chunk)]), \n",
    "                linestyle = ' ', marker = marker_dict[dtype], label = dtype, \n",
    "                markersize=15, alpha = 0.5)            \n",
    "         \n",
    "    ax.ticklabel_format(useOffset=False, style=\"plain\")\n",
    "    ax.set_ylim(-.1, 0.6)\n",
    "    ax.tick_params(axis='x', which='major', labelsize=20)\n",
    "    ax.tick_params(axis='y', which='both', left=False, labelleft=False)\n",
    "    ax.set_ylabel(inversion, fontsize=25)\n",
    "    \n",
    "    if i == 0:\n",
    "        handles, labels = ax.get_legend_handles_labels()\n",
    "    \n",
    "    if i == 2:\n",
    "        \n",
    "            ax.set_xlabel('Position (Mbs)', fontsize=25)\n",
    "    \n",
    "    fig.legend(handles, labels, loc='center right', fancybox= True, framealpha=0.5, \n",
    "               fontsize = 15)\n",
    "\n",
    "#plt.savefig(ingenos.make_date_stamp(\"../results/SNP_locations\"))"
   ]
  },
  {
   "cell_type": "markdown",
   "metadata": {},
   "source": [
    "##### figure 2"
   ]
  },
  {
   "cell_type": "code",
   "execution_count": 17,
   "metadata": {},
   "outputs": [
    {
     "data": {
      "image/png": "[encoded data removed]",
      "text/plain": [
       "<Figure size 864x576 with 2 Axes>"
      ]
     },
     "metadata": {},
     "output_type": "display_data"
    }
   ],
   "source": [
    "figure, axes = plt.subplots(nrows=1, ncols=2, figsize=(12, 8))\n",
    "\n",
    "p1 = venn2([set(OA.loc[OA[\"Inversion\"] == \"3Ra\", \"pos\"].values),\n",
    "       set(AS.loc[AS[\"Inversion\"] == \"3Ra\", \"pos\"].values)], \n",
    "      set_labels=('OA', 'AS'), ax = axes[0])\n",
    "\n",
    "for text in p1.set_labels:\n",
    "    text.set_fontsize(25)\n",
    "\n",
    "for text in p1.subset_labels: \n",
    "    text.set_fontsize(20)\n",
    "\n",
    "p2 = venn2([set(OA.loc[OA[\"Inversion\"] == \"3Rb\", \"pos\"].values), \n",
    "       set(AS.loc[AS[\"Inversion\"] == \"3Rb\", \"pos\"].values)], \n",
    "      set_labels=('OA', 'AS'), ax = axes[1])\n",
    "\n",
    "for text in p2.set_labels:\n",
    "    text.set_fontsize(25)\n",
    "\n",
    "for text in p2.subset_labels: \n",
    "    text.set_fontsize(20)\n",
    "\n",
    "axes[0].set_title(\"(a)\", y=-.25, fontsize = 20)\n",
    "axes[1].set_title(\"(b)\", y=-.25, fontsize = 20)\n",
    "\n",
    "outString = ingenos.make_date_stamp(\"../results/funestus_Venn_diagrams\")\n",
    "\n",
    "#plt.savefig(outString, bbox_inches=\"tight\");"
   ]
  },
  {
   "cell_type": "code",
   "execution_count": null,
   "metadata": {},
   "outputs": [],
   "source": []
  }
 ],
 "metadata": {
  "kernelspec": {
   "display_name": "Python 3",
   "language": "python",
   "name": "python3"
  },
  "language_info": {
   "codemirror_mode": {
    "name": "ipython",
    "version": 3
   },
   "file_extension": ".py",
   "mimetype": "text/x-python",
   "name": "python",
   "nbconvert_exporter": "python",
   "pygments_lexer": "ipython3",
   "version": "3.7.3"
  }
 },
 "nbformat": 4,
 "nbformat_minor": 2
}
