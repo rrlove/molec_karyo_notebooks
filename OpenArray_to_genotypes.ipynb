{
 "cells": [
  {
   "cell_type": "markdown",
   "metadata": {},
   "source": [
    "## generating genotypes from OpenArray (hybridization array) data"
   ]
  },
  {
   "cell_type": "code",
   "execution_count": 1,
   "metadata": {},
   "outputs": [],
   "source": [
    "import allel\n",
    "import h5py\n",
    "import ingenos\n",
    "import matplotlib\n",
    "import matplotlib.pyplot as plt\n",
    "import numpy as np\n",
    "import pandas as pd\n",
    "import re\n",
    "from sklearn.metrics import confusion_matrix\n",
    "%matplotlib inline"
   ]
  },
  {
   "cell_type": "markdown",
   "metadata": {},
   "source": [
    "##### set base directory"
   ]
  },
  {
   "cell_type": "code",
   "execution_count": 2,
   "metadata": {},
   "outputs": [],
   "source": [
    "base = \"/afs/crc.nd.edu/group/BesanskyNGS/data05/comp_karyo/data/open_array\""
   ]
  },
  {
   "cell_type": "markdown",
   "metadata": {},
   "source": [
    "##### read in data"
   ]
  },
  {
   "cell_type": "code",
   "execution_count": 3,
   "metadata": {},
   "outputs": [
    {
     "data": {
      "text/html": [
       "<div>\n",
       "<style scoped>\n",
       "    .dataframe tbody tr th:only-of-type {\n",
       "        vertical-align: middle;\n",
       "    }\n",
       "\n",
       "    .dataframe tbody tr th {\n",
       "        vertical-align: top;\n",
       "    }\n",
       "\n",
       "    .dataframe thead th {\n",
       "        text-align: right;\n",
       "    }\n",
       "</style>\n",
       "<table border=\"1\" class=\"dataframe\">\n",
       "  <thead>\n",
       "    <tr style=\"text-align: right;\">\n",
       "      <th>SampleID</th>\n",
       "      <th>BF0600001</th>\n",
       "      <th>BF0600005</th>\n",
       "      <th>BF0600012</th>\n",
       "      <th>BF0600024</th>\n",
       "      <th>BF0600028</th>\n",
       "      <th>BF0600035</th>\n",
       "      <th>BF0600042</th>\n",
       "      <th>BF0600045</th>\n",
       "      <th>BF0600051</th>\n",
       "      <th>BF0600072</th>\n",
       "      <th>...</th>\n",
       "      <th>BF0605588</th>\n",
       "      <th>BF0605589</th>\n",
       "      <th>BF0605595</th>\n",
       "      <th>BF0605596</th>\n",
       "      <th>BF0605598</th>\n",
       "      <th>BF0605602</th>\n",
       "      <th>BF0605606</th>\n",
       "      <th>BF0605620</th>\n",
       "      <th>BF0605624</th>\n",
       "      <th>BF0605647</th>\n",
       "    </tr>\n",
       "  </thead>\n",
       "  <tbody>\n",
       "    <tr>\n",
       "      <th>2L:20546192_G_A</th>\n",
       "      <td>2.0</td>\n",
       "      <td>2.0</td>\n",
       "      <td>2.0</td>\n",
       "      <td>2.0</td>\n",
       "      <td>2.0</td>\n",
       "      <td>2.0</td>\n",
       "      <td>2.0</td>\n",
       "      <td>2.0</td>\n",
       "      <td>2.0</td>\n",
       "      <td>2.0</td>\n",
       "      <td>...</td>\n",
       "      <td>2.0</td>\n",
       "      <td>2.0</td>\n",
       "      <td>2.0</td>\n",
       "      <td>2.0</td>\n",
       "      <td>0.0</td>\n",
       "      <td>2.0</td>\n",
       "      <td>2.0</td>\n",
       "      <td>2.0</td>\n",
       "      <td>2.0</td>\n",
       "      <td>2.0</td>\n",
       "    </tr>\n",
       "    <tr>\n",
       "      <th>2L:20731296_A_T</th>\n",
       "      <td>2.0</td>\n",
       "      <td>2.0</td>\n",
       "      <td>2.0</td>\n",
       "      <td>2.0</td>\n",
       "      <td>2.0</td>\n",
       "      <td>2.0</td>\n",
       "      <td>2.0</td>\n",
       "      <td>2.0</td>\n",
       "      <td>2.0</td>\n",
       "      <td>2.0</td>\n",
       "      <td>...</td>\n",
       "      <td>2.0</td>\n",
       "      <td>2.0</td>\n",
       "      <td>2.0</td>\n",
       "      <td>2.0</td>\n",
       "      <td>1.0</td>\n",
       "      <td>2.0</td>\n",
       "      <td>2.0</td>\n",
       "      <td>2.0</td>\n",
       "      <td>2.0</td>\n",
       "      <td>2.0</td>\n",
       "    </tr>\n",
       "    <tr>\n",
       "      <th>2L:20816241_G_T</th>\n",
       "      <td>2.0</td>\n",
       "      <td>2.0</td>\n",
       "      <td>2.0</td>\n",
       "      <td>2.0</td>\n",
       "      <td>2.0</td>\n",
       "      <td>2.0</td>\n",
       "      <td>2.0</td>\n",
       "      <td>2.0</td>\n",
       "      <td>2.0</td>\n",
       "      <td>2.0</td>\n",
       "      <td>...</td>\n",
       "      <td>2.0</td>\n",
       "      <td>2.0</td>\n",
       "      <td>2.0</td>\n",
       "      <td>2.0</td>\n",
       "      <td>1.0</td>\n",
       "      <td>2.0</td>\n",
       "      <td>2.0</td>\n",
       "      <td>2.0</td>\n",
       "      <td>2.0</td>\n",
       "      <td>2.0</td>\n",
       "    </tr>\n",
       "    <tr>\n",
       "      <th>2L:21590819_G_A</th>\n",
       "      <td>2.0</td>\n",
       "      <td>2.0</td>\n",
       "      <td>2.0</td>\n",
       "      <td>2.0</td>\n",
       "      <td>2.0</td>\n",
       "      <td>2.0</td>\n",
       "      <td>2.0</td>\n",
       "      <td>2.0</td>\n",
       "      <td>2.0</td>\n",
       "      <td>2.0</td>\n",
       "      <td>...</td>\n",
       "      <td>2.0</td>\n",
       "      <td>2.0</td>\n",
       "      <td>2.0</td>\n",
       "      <td>2.0</td>\n",
       "      <td>1.0</td>\n",
       "      <td>2.0</td>\n",
       "      <td>2.0</td>\n",
       "      <td>2.0</td>\n",
       "      <td>2.0</td>\n",
       "      <td>2.0</td>\n",
       "    </tr>\n",
       "    <tr>\n",
       "      <th>2L:21687929_C_G</th>\n",
       "      <td>2.0</td>\n",
       "      <td>2.0</td>\n",
       "      <td>2.0</td>\n",
       "      <td>2.0</td>\n",
       "      <td>2.0</td>\n",
       "      <td>2.0</td>\n",
       "      <td>2.0</td>\n",
       "      <td>2.0</td>\n",
       "      <td>2.0</td>\n",
       "      <td>2.0</td>\n",
       "      <td>...</td>\n",
       "      <td>2.0</td>\n",
       "      <td>2.0</td>\n",
       "      <td>2.0</td>\n",
       "      <td>2.0</td>\n",
       "      <td>1.0</td>\n",
       "      <td>2.0</td>\n",
       "      <td>2.0</td>\n",
       "      <td>2.0</td>\n",
       "      <td>2.0</td>\n",
       "      <td>2.0</td>\n",
       "    </tr>\n",
       "  </tbody>\n",
       "</table>\n",
       "<p>5 rows × 960 columns</p>\n",
       "</div>"
      ],
      "text/plain": [
       "SampleID         BF0600001  BF0600005  BF0600012  BF0600024  BF0600028  \\\n",
       "2L:20546192_G_A        2.0        2.0        2.0        2.0        2.0   \n",
       "2L:20731296_A_T        2.0        2.0        2.0        2.0        2.0   \n",
       "2L:20816241_G_T        2.0        2.0        2.0        2.0        2.0   \n",
       "2L:21590819_G_A        2.0        2.0        2.0        2.0        2.0   \n",
       "2L:21687929_C_G        2.0        2.0        2.0        2.0        2.0   \n",
       "\n",
       "SampleID         BF0600035  BF0600042  BF0600045  BF0600051  BF0600072  ...  \\\n",
       "2L:20546192_G_A        2.0        2.0        2.0        2.0        2.0  ...   \n",
       "2L:20731296_A_T        2.0        2.0        2.0        2.0        2.0  ...   \n",
       "2L:20816241_G_T        2.0        2.0        2.0        2.0        2.0  ...   \n",
       "2L:21590819_G_A        2.0        2.0        2.0        2.0        2.0  ...   \n",
       "2L:21687929_C_G        2.0        2.0        2.0        2.0        2.0  ...   \n",
       "\n",
       "SampleID         BF0605588  BF0605589  BF0605595  BF0605596  BF0605598  \\\n",
       "2L:20546192_G_A        2.0        2.0        2.0        2.0        0.0   \n",
       "2L:20731296_A_T        2.0        2.0        2.0        2.0        1.0   \n",
       "2L:20816241_G_T        2.0        2.0        2.0        2.0        1.0   \n",
       "2L:21590819_G_A        2.0        2.0        2.0        2.0        1.0   \n",
       "2L:21687929_C_G        2.0        2.0        2.0        2.0        1.0   \n",
       "\n",
       "SampleID         BF0605602  BF0605606  BF0605620  BF0605624  BF0605647  \n",
       "2L:20546192_G_A        2.0        2.0        2.0        2.0        2.0  \n",
       "2L:20731296_A_T        2.0        2.0        2.0        2.0        2.0  \n",
       "2L:20816241_G_T        2.0        2.0        2.0        2.0        2.0  \n",
       "2L:21590819_G_A        2.0        2.0        2.0        2.0        2.0  \n",
       "2L:21687929_C_G        2.0        2.0        2.0        2.0        2.0  \n",
       "\n",
       "[5 rows x 960 columns]"
      ]
     },
     "execution_count": 3,
     "metadata": {},
     "output_type": "execute_result"
    }
   ],
   "source": [
    "results = pd.read_csv(base + \"/an_gambiae_results/final_agam_wide.csv\",\n",
    "                        na_values = -9)\n",
    "\n",
    "results.set_index(\"SampleID\", inplace=True)\n",
    "\n",
    "results = results.T\n",
    "\n",
    "results.head()"
   ]
  },
  {
   "cell_type": "markdown",
   "metadata": {},
   "source": [
    "##### add species information to the raw data"
   ]
  },
  {
   "cell_type": "code",
   "execution_count": 4,
   "metadata": {},
   "outputs": [],
   "source": [
    "md = pd.read_excel(\n",
    "    base + \"/metadata/AGAM_All_10_Plates_updated_040820.xls\")\n",
    "\n",
    "md = md[[\"tubeID\",\"taxon\",\"j\",\"b\",\"c\",\"d\",\"u\",\"2La\",\"ovaries\",\n",
    "         \"notes1\",\"Reader\", \"Corrected\", \"Uncertain\"]]\n",
    "\n",
    "md.columns = [\"ID\",\"species\",\"j_karyo\",\"b_karyo\",\"c_karyo\",\n",
    "              \"d_karyo\",\"u_karyo\",\"a_karyo\",\n",
    "             \"ovaries\",\"notes\",\"reader\", \"Corrected\", \"Uncertain\"]\n",
    "\n",
    "md.sort_values(\"ID\", inplace=True)"
   ]
  },
  {
   "cell_type": "markdown",
   "metadata": {},
   "source": [
    "##### drop the specimens with ambiguous metadata"
   ]
  },
  {
   "cell_type": "code",
   "execution_count": 5,
   "metadata": {},
   "outputs": [],
   "source": [
    "results.drop([\"BF0600157\", \"BF0601559\", \"BF0601669\"], axis=1, inplace=True)\n",
    "\n",
    "md = md.loc[md[\"Uncertain\"] == \"no\"]"
   ]
  },
  {
   "cell_type": "code",
   "execution_count": 6,
   "metadata": {},
   "outputs": [],
   "source": [
    "columns = results.T.reset_index().columns\n",
    "\n",
    "results = pd.merge(results.T.reset_index(), md, \n",
    "                   left_on = \"SampleID\", right_on = \"ID\")\\\n",
    "[np.append(columns, \"species\")].set_index([\"SampleID\", \"species\"])"
   ]
  },
  {
   "cell_type": "markdown",
   "metadata": {},
   "source": [
    "##### associate tag SNPs with inversions"
   ]
  },
  {
   "cell_type": "code",
   "execution_count": 7,
   "metadata": {},
   "outputs": [],
   "source": [
    "results = results.T\n",
    "\n",
    "results[\"chrom\"] = results.reset_index()[\"index\"].str.split(\n",
    "    \":\", expand=True)[0].values\n",
    "\n",
    "results[\"pos\"] =\\\n",
    "results.reset_index()[\"index\"].str.split(\n",
    "    \":\", expand=True)[1].str.split(\"_\", expand=True)[0].map(int).values"
   ]
  },
  {
   "cell_type": "code",
   "execution_count": 8,
   "metadata": {},
   "outputs": [],
   "source": [
    "targets = pd.read_csv(base + \"/Besansky_lab_candidate_SNPs.tsv\", sep=\"\\t\")\n",
    "\n",
    "cu_new = pd.read_csv(base + \"/2Rc_cu_new_targets.txt\", \n",
    "                     sep=\"\\t\")\n",
    "\n",
    "cu_new[\"label\"] = pd.Series([\"cu\",\"cu\"])\n",
    "\n",
    "cu_new.drop([\"REF\",\"ALT\"], axis=1, inplace=True)\n",
    "\n",
    "cu_new.columns = [\"chrom\",\"position\",\"label\"]\n",
    "\n",
    "targets = pd.concat([targets, cu_new], sort=True)"
   ]
  },
  {
   "cell_type": "code",
   "execution_count": 9,
   "metadata": {},
   "outputs": [
    {
     "data": {
      "text/html": [
       "<div>\n",
       "<style scoped>\n",
       "    .dataframe tbody tr th:only-of-type {\n",
       "        vertical-align: middle;\n",
       "    }\n",
       "\n",
       "    .dataframe tbody tr th {\n",
       "        vertical-align: top;\n",
       "    }\n",
       "\n",
       "    .dataframe thead tr th {\n",
       "        text-align: left;\n",
       "    }\n",
       "\n",
       "    .dataframe thead tr:last-of-type th {\n",
       "        text-align: right;\n",
       "    }\n",
       "</style>\n",
       "<table border=\"1\" class=\"dataframe\">\n",
       "  <thead>\n",
       "    <tr>\n",
       "      <th></th>\n",
       "      <th>label</th>\n",
       "      <th colspan=\"8\" halign=\"left\">a</th>\n",
       "      <th colspan=\"2\" halign=\"left\">j</th>\n",
       "      <th>...</th>\n",
       "      <th>d</th>\n",
       "      <th colspan=\"4\" halign=\"left\">u</th>\n",
       "      <th colspan=\"5\" halign=\"left\">d</th>\n",
       "    </tr>\n",
       "    <tr>\n",
       "      <th></th>\n",
       "      <th>pos</th>\n",
       "      <th>20546192</th>\n",
       "      <th>20731296</th>\n",
       "      <th>20816241</th>\n",
       "      <th>21590819</th>\n",
       "      <th>21687929</th>\n",
       "      <th>40791634</th>\n",
       "      <th>40854796</th>\n",
       "      <th>41966114</th>\n",
       "      <th>15740463</th>\n",
       "      <th>15740978</th>\n",
       "      <th>...</th>\n",
       "      <th>32882145</th>\n",
       "      <th>33291225</th>\n",
       "      <th>33530416</th>\n",
       "      <th>33776367</th>\n",
       "      <th>34610188</th>\n",
       "      <th>35926470</th>\n",
       "      <th>36201603</th>\n",
       "      <th>36280038</th>\n",
       "      <th>36717402</th>\n",
       "      <th>38797590</th>\n",
       "    </tr>\n",
       "    <tr>\n",
       "      <th>SampleID</th>\n",
       "      <th>species</th>\n",
       "      <th></th>\n",
       "      <th></th>\n",
       "      <th></th>\n",
       "      <th></th>\n",
       "      <th></th>\n",
       "      <th></th>\n",
       "      <th></th>\n",
       "      <th></th>\n",
       "      <th></th>\n",
       "      <th></th>\n",
       "      <th></th>\n",
       "      <th></th>\n",
       "      <th></th>\n",
       "      <th></th>\n",
       "      <th></th>\n",
       "      <th></th>\n",
       "      <th></th>\n",
       "      <th></th>\n",
       "      <th></th>\n",
       "      <th></th>\n",
       "      <th></th>\n",
       "    </tr>\n",
       "  </thead>\n",
       "  <tbody>\n",
       "    <tr>\n",
       "      <th>BF0600001</th>\n",
       "      <th>M</th>\n",
       "      <td>2.0</td>\n",
       "      <td>2.0</td>\n",
       "      <td>2.0</td>\n",
       "      <td>2.0</td>\n",
       "      <td>2.0</td>\n",
       "      <td>2.0</td>\n",
       "      <td>2.0</td>\n",
       "      <td>2.0</td>\n",
       "      <td>0.0</td>\n",
       "      <td>0.0</td>\n",
       "      <td>...</td>\n",
       "      <td>0.0</td>\n",
       "      <td>2.0</td>\n",
       "      <td>NaN</td>\n",
       "      <td>1.0</td>\n",
       "      <td>2.0</td>\n",
       "      <td>0.0</td>\n",
       "      <td>0.0</td>\n",
       "      <td>0.0</td>\n",
       "      <td>0.0</td>\n",
       "      <td>0.0</td>\n",
       "    </tr>\n",
       "    <tr>\n",
       "      <th>BF0600005</th>\n",
       "      <th>M</th>\n",
       "      <td>2.0</td>\n",
       "      <td>2.0</td>\n",
       "      <td>2.0</td>\n",
       "      <td>2.0</td>\n",
       "      <td>2.0</td>\n",
       "      <td>2.0</td>\n",
       "      <td>2.0</td>\n",
       "      <td>2.0</td>\n",
       "      <td>0.0</td>\n",
       "      <td>0.0</td>\n",
       "      <td>...</td>\n",
       "      <td>0.0</td>\n",
       "      <td>0.0</td>\n",
       "      <td>0.0</td>\n",
       "      <td>0.0</td>\n",
       "      <td>0.0</td>\n",
       "      <td>0.0</td>\n",
       "      <td>0.0</td>\n",
       "      <td>0.0</td>\n",
       "      <td>0.0</td>\n",
       "      <td>0.0</td>\n",
       "    </tr>\n",
       "    <tr>\n",
       "      <th>BF0600012</th>\n",
       "      <th>M</th>\n",
       "      <td>2.0</td>\n",
       "      <td>2.0</td>\n",
       "      <td>2.0</td>\n",
       "      <td>2.0</td>\n",
       "      <td>2.0</td>\n",
       "      <td>2.0</td>\n",
       "      <td>2.0</td>\n",
       "      <td>2.0</td>\n",
       "      <td>0.0</td>\n",
       "      <td>0.0</td>\n",
       "      <td>...</td>\n",
       "      <td>0.0</td>\n",
       "      <td>0.0</td>\n",
       "      <td>0.0</td>\n",
       "      <td>0.0</td>\n",
       "      <td>0.0</td>\n",
       "      <td>0.0</td>\n",
       "      <td>0.0</td>\n",
       "      <td>0.0</td>\n",
       "      <td>0.0</td>\n",
       "      <td>0.0</td>\n",
       "    </tr>\n",
       "    <tr>\n",
       "      <th>BF0600024</th>\n",
       "      <th>M</th>\n",
       "      <td>2.0</td>\n",
       "      <td>2.0</td>\n",
       "      <td>2.0</td>\n",
       "      <td>2.0</td>\n",
       "      <td>2.0</td>\n",
       "      <td>2.0</td>\n",
       "      <td>2.0</td>\n",
       "      <td>2.0</td>\n",
       "      <td>0.0</td>\n",
       "      <td>0.0</td>\n",
       "      <td>...</td>\n",
       "      <td>0.0</td>\n",
       "      <td>1.0</td>\n",
       "      <td>0.0</td>\n",
       "      <td>1.0</td>\n",
       "      <td>0.0</td>\n",
       "      <td>0.0</td>\n",
       "      <td>0.0</td>\n",
       "      <td>0.0</td>\n",
       "      <td>0.0</td>\n",
       "      <td>0.0</td>\n",
       "    </tr>\n",
       "    <tr>\n",
       "      <th>BF0600028</th>\n",
       "      <th>M</th>\n",
       "      <td>2.0</td>\n",
       "      <td>2.0</td>\n",
       "      <td>2.0</td>\n",
       "      <td>2.0</td>\n",
       "      <td>2.0</td>\n",
       "      <td>2.0</td>\n",
       "      <td>2.0</td>\n",
       "      <td>2.0</td>\n",
       "      <td>0.0</td>\n",
       "      <td>0.0</td>\n",
       "      <td>...</td>\n",
       "      <td>0.0</td>\n",
       "      <td>0.0</td>\n",
       "      <td>0.0</td>\n",
       "      <td>1.0</td>\n",
       "      <td>1.0</td>\n",
       "      <td>0.0</td>\n",
       "      <td>0.0</td>\n",
       "      <td>0.0</td>\n",
       "      <td>0.0</td>\n",
       "      <td>1.0</td>\n",
       "    </tr>\n",
       "  </tbody>\n",
       "</table>\n",
       "<p>5 rows × 57 columns</p>\n",
       "</div>"
      ],
      "text/plain": [
       "label                    a                                               \\\n",
       "pos               20546192 20731296 20816241 21590819 21687929 40791634   \n",
       "SampleID  species                                                         \n",
       "BF0600001 M            2.0      2.0      2.0      2.0      2.0      2.0   \n",
       "BF0600005 M            2.0      2.0      2.0      2.0      2.0      2.0   \n",
       "BF0600012 M            2.0      2.0      2.0      2.0      2.0      2.0   \n",
       "BF0600024 M            2.0      2.0      2.0      2.0      2.0      2.0   \n",
       "BF0600028 M            2.0      2.0      2.0      2.0      2.0      2.0   \n",
       "\n",
       "label                                      j           ...        d        u  \\\n",
       "pos               40854796 41966114 15740463 15740978  ... 32882145 33291225   \n",
       "SampleID  species                                      ...                     \n",
       "BF0600001 M            2.0      2.0      0.0      0.0  ...      0.0      2.0   \n",
       "BF0600005 M            2.0      2.0      0.0      0.0  ...      0.0      0.0   \n",
       "BF0600012 M            2.0      2.0      0.0      0.0  ...      0.0      0.0   \n",
       "BF0600024 M            2.0      2.0      0.0      0.0  ...      0.0      1.0   \n",
       "BF0600028 M            2.0      2.0      0.0      0.0  ...      0.0      0.0   \n",
       "\n",
       "label                                               d                    \\\n",
       "pos               33530416 33776367 34610188 35926470 36201603 36280038   \n",
       "SampleID  species                                                         \n",
       "BF0600001 M            NaN      1.0      2.0      0.0      0.0      0.0   \n",
       "BF0600005 M            0.0      0.0      0.0      0.0      0.0      0.0   \n",
       "BF0600012 M            0.0      0.0      0.0      0.0      0.0      0.0   \n",
       "BF0600024 M            0.0      1.0      0.0      0.0      0.0      0.0   \n",
       "BF0600028 M            0.0      1.0      1.0      0.0      0.0      0.0   \n",
       "\n",
       "label                                \n",
       "pos               36717402 38797590  \n",
       "SampleID  species                    \n",
       "BF0600001 M            0.0      0.0  \n",
       "BF0600005 M            0.0      0.0  \n",
       "BF0600012 M            0.0      0.0  \n",
       "BF0600024 M            0.0      0.0  \n",
       "BF0600028 M            0.0      1.0  \n",
       "\n",
       "[5 rows x 57 columns]"
      ]
     },
     "execution_count": 9,
     "metadata": {},
     "output_type": "execute_result"
    }
   ],
   "source": [
    "for _, row in targets.iterrows():\n",
    "    \n",
    "    position = row[\"position\"]\n",
    "    label = row[\"label\"]\n",
    "    \n",
    "    results.loc[results[\"pos\"] == position, \"label\"] = label\n",
    "    \n",
    "results.loc[results[\"pos\"] == 30735706, \"label\"] = \"c\"\n",
    "\n",
    "results.set_index([\"label\",\"pos\"], inplace=True)\n",
    "\n",
    "results.drop([\"chrom\"], axis=1, level=0, inplace=True)\n",
    "\n",
    "results = results.T\n",
    "\n",
    "results.head()"
   ]
  },
  {
   "cell_type": "markdown",
   "metadata": {},
   "source": [
    "##### drop unused partitions"
   ]
  },
  {
   "cell_type": "code",
   "execution_count": 10,
   "metadata": {},
   "outputs": [],
   "source": [
    "results.drop([\"cu\",\"c\"], level=0, axis=1, inplace=True)\n",
    "results.columns = results.columns.remove_unused_levels()\n",
    "results.index = results.index.remove_unused_levels()"
   ]
  },
  {
   "cell_type": "markdown",
   "metadata": {},
   "source": [
    "##### examine the data quality. first, look at the call rates per SNP"
   ]
  },
  {
   "cell_type": "code",
   "execution_count": 11,
   "metadata": {},
   "outputs": [],
   "source": [
    "inversions = [\"a\", \"j\", \"b\", \"c_col\", \"c_gam\", \"d\", \"u\"]"
   ]
  },
  {
   "cell_type": "code",
   "execution_count": 12,
   "metadata": {},
   "outputs": [
    {
     "data": {
      "image/png": "[encoded data removed]",
      "text/plain": [
       "<Figure size 1080x1440 with 8 Axes>"
      ]
     },
     "metadata": {
      "needs_background": "light"
     },
     "output_type": "display_data"
    }
   ],
   "source": [
    "fig, axes = plt.subplots(nrows=4, ncols=2, sharex=True, figsize = (15, 20))\n",
    "\n",
    "for i, ax in enumerate(axes.flatten()):\n",
    "    \n",
    "    if i == 7:\n",
    "                \n",
    "        ax.axis('off')\n",
    "        \n",
    "    else:\n",
    "        \n",
    "        inversion = inversions[i]\n",
    "    \n",
    "        if inversion == \"c_col\":\n",
    "\n",
    "            chunk = results.loc[(slice(None), \"M\"), inversion]\n",
    "\n",
    "        elif inversion == \"c_gam\":\n",
    "\n",
    "            chunk = results.loc[(slice(None), \"S\"), inversion]\n",
    "\n",
    "        else:\n",
    "\n",
    "            chunk = results.loc[:,inversion]\n",
    "\n",
    "        n_specs = chunk.shape[0]\n",
    "        n_snps = chunk.shape[1]\n",
    "\n",
    "        ax.hist( (np.sum(chunk.isnull(), axis=0) / n_specs) * 100)\n",
    "        ax.axvline(x=20, linewidth=2, color=\"darkgrey\", linestyle=\":\")\n",
    "\n",
    "        ax.set_title(\"{inversion}: {num} SNPs\".format(\n",
    "            inversion = inversion, num = n_snps), fontsize=30)\n",
    "        ax.tick_params(labelsize=20)\n",
    "\n",
    "        if i % 2 == 0:\n",
    "\n",
    "                ax.set_ylabel(\"# SNPs\", fontsize=25)\n",
    "\n",
    "        if i == 6 or i == 7:\n",
    "\n",
    "                ax.set_xlabel(\"% specimens uncalled per SNP\", fontsize=25)\n",
    "            \n",
    "plt.tight_layout()\n",
    "            \n",
    "outString = ingenos.make_date_stamp(\n",
    "    base + \"/results/missingness_by_inversion\")\n",
    "\n",
    "#plt.savefig(outString);"
   ]
  },
  {
   "cell_type": "code",
   "execution_count": 13,
   "metadata": {},
   "outputs": [
    {
     "name": "stdout",
     "output_type": "stream",
     "text": [
      "a \n",
      "\n",
      "minimum call rate:  0.9916405433646813\n",
      "maximum call rate:  1.0 \n",
      "\n",
      "j \n",
      "\n",
      "minimum call rate:  0.9916405433646813\n",
      "maximum call rate:  0.9979101358411703 \n",
      "\n",
      "b \n",
      "\n",
      "minimum call rate:  0.9864158829676071\n",
      "maximum call rate:  0.9958202716823407 \n",
      "\n",
      "c_col \n",
      "\n",
      "minimum call rate:  0.9710982658959537\n",
      "maximum call rate:  1.0 \n",
      "\n",
      "c_gam \n",
      "\n",
      "minimum call rate:  0.997716894977169\n",
      "maximum call rate:  1.0 \n",
      "\n",
      "d \n",
      "\n",
      "minimum call rate:  0.9926854754440961\n",
      "maximum call rate:  0.9979101358411703 \n",
      "\n",
      "u \n",
      "\n",
      "minimum call rate:  0.7763845350052246\n",
      "maximum call rate:  0.9968652037617555 \n",
      "\n"
     ]
    }
   ],
   "source": [
    "for inversion in inversions:\n",
    "    \n",
    "    if inversion == \"c_col\":\n",
    "        \n",
    "        chunk = results.loc[(slice(None), \"M\"), inversion]\n",
    "        \n",
    "    elif inversion == \"c_gam\":\n",
    "        \n",
    "        chunk = results.loc[(slice(None), \"S\"), inversion]\n",
    "        \n",
    "    elif inversion is np.nan:\n",
    "        \n",
    "        continue\n",
    "        \n",
    "    else:\n",
    "        \n",
    "        chunk = results.loc[:, inversion]\n",
    "        \n",
    "    print(inversion, \"\\n\")\n",
    "    print(\"minimum call rate: \", 1 - chunk.isnull().mean().max())\n",
    "    print(\"maximum call rate: \", 1 - chunk.isnull().mean().min(), \"\\n\")"
   ]
  },
  {
   "cell_type": "code",
   "execution_count": 14,
   "metadata": {},
   "outputs": [],
   "source": [
    "missing_df = pd.DataFrame(columns = [\"label\", \"n_called\"])\n",
    "\n",
    "for inversion in inversions:\n",
    "    \n",
    "    if inversion == \"c_col\":\n",
    "\n",
    "        chunk = results.loc[(slice(None), \"M\"), inversion]\n",
    "\n",
    "    elif inversion == \"c_gam\":\n",
    "\n",
    "        chunk = results.loc[(slice(None), \"S\"), inversion]\n",
    "\n",
    "    else:\n",
    "\n",
    "        chunk = results.loc[:,inversion]\n",
    "\n",
    "    n_specs = chunk.shape[0]\n",
    "    n_snps = chunk.shape[1]\n",
    "    \n",
    "    missing_df = missing_df.append(pd.DataFrame({\"label\" : [inversion] * n_snps,\n",
    "                 \"n_called\" : ((1-(np.sum(chunk.isnull(), axis=0) / n_specs)) * 100).values}))\n"
   ]
  },
  {
   "cell_type": "code",
   "execution_count": 15,
   "metadata": {},
   "outputs": [
    {
     "data": {
      "text/plain": [
       "c_col    11\n",
       "b        10\n",
       "d         9\n",
       "a         8\n",
       "u         7\n",
       "j         6\n",
       "c_gam     3\n",
       "Name: label, dtype: int64"
      ]
     },
     "execution_count": 15,
     "metadata": {},
     "output_type": "execute_result"
    }
   ],
   "source": [
    "missing_df[\"label\"].value_counts()"
   ]
  },
  {
   "cell_type": "code",
   "execution_count": 16,
   "metadata": {},
   "outputs": [
    {
     "data": {
      "text/plain": [
       "[0, 8, 14, 24, 35, 38, 47, 54]"
      ]
     },
     "execution_count": 16,
     "metadata": {},
     "output_type": "execute_result"
    }
   ],
   "source": [
    "label_positions = {\"a\" : 4,\n",
    "                  \"b\" : 19,\n",
    "                  \"c_col\" : 29.5,\n",
    "                  \"c_gam\" : 36.5,\n",
    "                  \"d\" : 47.5,\n",
    "                  \"j\" : 11,\n",
    "                  \"u\" : 40}\n",
    "\n",
    "tick_list = list(missing_df.reset_index().drop_duplicates(subset=\"label\").index)\n",
    "\n",
    "tick_list.append(len(missing_df))\n",
    "\n",
    "tick_list"
   ]
  },
  {
   "cell_type": "code",
   "execution_count": 17,
   "metadata": {},
   "outputs": [
    {
     "data": {
      "image/png": "[encoded data removed]",
      "text/plain": [
       "<Figure size 720x720 with 1 Axes>"
      ]
     },
     "metadata": {
      "needs_background": "light"
     },
     "output_type": "display_data"
    }
   ],
   "source": [
    "colors_dict = {value : plt.cm.Paired.colors[inversions.index(value)]\\\n",
    " for value in missing_df[\"label\"].unique()}\n",
    "\n",
    "fig, ax = plt.subplots(figsize = (10, 10))\n",
    "\n",
    "ax.bar(x = range(len(missing_df)), \n",
    "               height = missing_df[\"n_called\"], \n",
    "       color=missing_df[\"label\"].apply(lambda x: colors_dict[x]))\n",
    "    \n",
    "ax.tick_params(axis=\"x\", which=\"both\", length=0)\n",
    "ax.set_xticks(list(label_positions.values()))\n",
    "ax.set_xticklabels(list(label_positions.keys()))\n",
    "\n",
    "ax.set_ylabel(\"% specimens called\", fontsize=25)\n",
    "\n",
    "ax.tick_params(labelsize=20)\n",
    "\n",
    "color_handles = list()\n",
    "\n",
    "for inversion in (colors_dict.keys()):\n",
    "    patch = matplotlib.patches.Patch(color=colors_dict[inversion], label=inversion)\n",
    "    color_handles.append(patch)\n",
    "\n",
    "legend = ax.legend(handles = color_handles, bbox_to_anchor=(1, 1), title=\"Inversion\", \n",
    "                   fontsize=20)\n",
    "legend.get_title().set_fontsize(25)\n",
    "\n",
    "ax.axhline(y=80, linewidth=2, color=\"black\", linestyle=\":\")\n",
    "\n",
    "ax.set_title(\"% specimens called per SNP\", fontsize=25)\n",
    "\n",
    "outString = ingenos.make_date_stamp(base + \"/results/missingness_by_inversion\")\n",
    "\n",
    "#plt.savefig(outString, bbox_inches=\"tight\");"
   ]
  },
  {
   "cell_type": "code",
   "execution_count": 18,
   "metadata": {},
   "outputs": [
    {
     "data": {
      "text/plain": [
       "pos\n",
       "31516240    0.995820\n",
       "31562705    0.991641\n",
       "32295931    0.994775\n",
       "33291225    0.994775\n",
       "33530416    0.776385\n",
       "33776367    0.991641\n",
       "34610188    0.996865\n",
       "dtype: float64"
      ]
     },
     "execution_count": 18,
     "metadata": {},
     "output_type": "execute_result"
    }
   ],
   "source": [
    "1 - results.loc[:, \"u\"].isnull().mean()"
   ]
  },
  {
   "cell_type": "markdown",
   "metadata": {},
   "source": [
    "##### drop the SNP with a call rate below 80%"
   ]
  },
  {
   "cell_type": "code",
   "execution_count": 19,
   "metadata": {},
   "outputs": [],
   "source": [
    "results.drop((\"u\", 33530416), axis=1, inplace=True)"
   ]
  },
  {
   "cell_type": "markdown",
   "metadata": {},
   "source": [
    "##### now, look at specimen missingness and drop specimens with poor call rates"
   ]
  },
  {
   "cell_type": "code",
   "execution_count": 20,
   "metadata": {},
   "outputs": [],
   "source": [
    "specimen_calls = pd.read_excel(\n",
    "    base + \"/an_gambiae_results/agam_callrates.xlsx\",\n",
    "                          sheet_name = \"Sample Call Rate\")"
   ]
  },
  {
   "cell_type": "code",
   "execution_count": 21,
   "metadata": {},
   "outputs": [],
   "source": [
    "sample_missingness =\\\n",
    "pd.concat([pd.DataFrame(results.loc[\n",
    "    (slice(None), \"M\"), \n",
    "    [\"a\",\"j\",\"b\",\"c_col\",\"u\",\"d\"]].isnull().mean(axis=1)),\n",
    "          pd.DataFrame(results.loc[\n",
    "              (slice(None), \"S\"), \n",
    "              [\"a\",\"j\",\"b\",\"c_gam\",\"u\",\"d\"]].isnull().mean(axis=1))])\n",
    "\n",
    "sample_missingness.columns = [\"null_rate\"]"
   ]
  },
  {
   "cell_type": "code",
   "execution_count": 22,
   "metadata": {},
   "outputs": [
    {
     "data": {
      "text/html": [
       "<div>\n",
       "<style scoped>\n",
       "    .dataframe tbody tr th:only-of-type {\n",
       "        vertical-align: middle;\n",
       "    }\n",
       "\n",
       "    .dataframe tbody tr th {\n",
       "        vertical-align: top;\n",
       "    }\n",
       "\n",
       "    .dataframe thead th {\n",
       "        text-align: right;\n",
       "    }\n",
       "</style>\n",
       "<table border=\"1\" class=\"dataframe\">\n",
       "  <thead>\n",
       "    <tr style=\"text-align: right;\">\n",
       "      <th></th>\n",
       "      <th></th>\n",
       "      <th>null_rate</th>\n",
       "    </tr>\n",
       "    <tr>\n",
       "      <th>SampleID</th>\n",
       "      <th>species</th>\n",
       "      <th></th>\n",
       "    </tr>\n",
       "  </thead>\n",
       "  <tbody>\n",
       "    <tr>\n",
       "      <th>BF0600001</th>\n",
       "      <th>M</th>\n",
       "      <td>0.00</td>\n",
       "    </tr>\n",
       "    <tr>\n",
       "      <th>BF0600005</th>\n",
       "      <th>M</th>\n",
       "      <td>0.00</td>\n",
       "    </tr>\n",
       "    <tr>\n",
       "      <th>BF0600012</th>\n",
       "      <th>M</th>\n",
       "      <td>0.00</td>\n",
       "    </tr>\n",
       "    <tr>\n",
       "      <th>BF0600024</th>\n",
       "      <th>M</th>\n",
       "      <td>0.02</td>\n",
       "    </tr>\n",
       "    <tr>\n",
       "      <th>BF0600028</th>\n",
       "      <th>M</th>\n",
       "      <td>0.00</td>\n",
       "    </tr>\n",
       "  </tbody>\n",
       "</table>\n",
       "</div>"
      ],
      "text/plain": [
       "                   null_rate\n",
       "SampleID  species           \n",
       "BF0600001 M             0.00\n",
       "BF0600005 M             0.00\n",
       "BF0600012 M             0.00\n",
       "BF0600024 M             0.02\n",
       "BF0600028 M             0.00"
      ]
     },
     "execution_count": 22,
     "metadata": {},
     "output_type": "execute_result"
    }
   ],
   "source": [
    "sample_missingness.head()"
   ]
  },
  {
   "cell_type": "code",
   "execution_count": 23,
   "metadata": {},
   "outputs": [
    {
     "data": {
      "text/plain": [
       "null_rate    0.16\n",
       "dtype: float64"
      ]
     },
     "execution_count": 23,
     "metadata": {},
     "output_type": "execute_result"
    }
   ],
   "source": [
    "1 - sample_missingness.max()"
   ]
  },
  {
   "cell_type": "code",
   "execution_count": 24,
   "metadata": {},
   "outputs": [
    {
     "data": {
      "text/plain": [
       "null_rate    1.0\n",
       "dtype: float64"
      ]
     },
     "execution_count": 24,
     "metadata": {},
     "output_type": "execute_result"
    }
   ],
   "source": [
    "1 - sample_missingness.min()"
   ]
  },
  {
   "cell_type": "code",
   "execution_count": 25,
   "metadata": {},
   "outputs": [
    {
     "data": {
      "image/png": "[encoded data removed]",
      "text/plain": [
       "<Figure size 648x360 with 1 Axes>"
      ]
     },
     "metadata": {
      "needs_background": "light"
     },
     "output_type": "display_data"
    }
   ],
   "source": [
    "fig, ax = plt.subplots(figsize = (9, 5))\n",
    "\n",
    "ax.hist( sample_missingness[\"null_rate\"] *100, bins=10)\n",
    "ax.axvline(x=20, linewidth=2, color=\"darkgrey\", linestyle=\":\")\n",
    "ax.set_xlabel(\"% SNPs missing per specimen, out of 53 total SNPs\", fontsize=25)\n",
    "ax.set_ylabel(\"# specimens\", fontsize=25)\n",
    "ax.tick_params(labelsize=20)\n",
    "\n",
    "outString = ingenos.make_date_stamp(\n",
    "    base + \"/results/missingness_by_specimen\")\n",
    "\n",
    "#plt.savefig(outString, bbox_inches=\"tight\");"
   ]
  },
  {
   "cell_type": "code",
   "execution_count": 26,
   "metadata": {},
   "outputs": [
    {
     "data": {
      "text/plain": [
       "array(['BF0603488', 'BF0603493', 'BF0605404', 'BF0605526'], dtype=object)"
      ]
     },
     "execution_count": 26,
     "metadata": {},
     "output_type": "execute_result"
    }
   ],
   "source": [
    "sample_missingness.reset_index(inplace=True)\n",
    "\n",
    "to_drop = sample_missingness.loc[sample_missingness[\"null_rate\"] > 0.2, \"SampleID\"].values\n",
    "\n",
    "to_drop"
   ]
  },
  {
   "cell_type": "code",
   "execution_count": 27,
   "metadata": {},
   "outputs": [
    {
     "data": {
      "text/plain": [
       "(953, 53)"
      ]
     },
     "execution_count": 27,
     "metadata": {},
     "output_type": "execute_result"
    }
   ],
   "source": [
    "results.drop(to_drop, axis=0, inplace=True)\n",
    "\n",
    "results.shape"
   ]
  },
  {
   "cell_type": "code",
   "execution_count": 28,
   "metadata": {},
   "outputs": [
    {
     "data": {
      "text/plain": [
       "(953, 13)"
      ]
     },
     "execution_count": 28,
     "metadata": {},
     "output_type": "execute_result"
    }
   ],
   "source": [
    "md = md.loc[(~md[\"ID\"].isin(to_drop)), :]\n",
    "\n",
    "md.shape"
   ]
  },
  {
   "cell_type": "markdown",
   "metadata": {},
   "source": [
    "##### generate inversion genotypes: calculate the mean number of alternate alleles across all tag SNPs in a given inversion for a particular specimen"
   ]
  },
  {
   "cell_type": "code",
   "execution_count": 29,
   "metadata": {},
   "outputs": [],
   "source": [
    "columns = [name + \"_mean\" for name in results.columns.levels[0]]\n",
    "\n",
    "columns.extend([name + \"_called\" for name in results.columns.levels[0]])\n",
    "\n",
    "averaged = pd.DataFrame(index = results.index, columns = columns)\n",
    "\n",
    "inversions = results.columns.levels[0]"
   ]
  },
  {
   "cell_type": "code",
   "execution_count": 30,
   "metadata": {},
   "outputs": [
    {
     "data": {
      "text/html": [
       "<div>\n",
       "<style scoped>\n",
       "    .dataframe tbody tr th:only-of-type {\n",
       "        vertical-align: middle;\n",
       "    }\n",
       "\n",
       "    .dataframe tbody tr th {\n",
       "        vertical-align: top;\n",
       "    }\n",
       "\n",
       "    .dataframe thead th {\n",
       "        text-align: right;\n",
       "    }\n",
       "</style>\n",
       "<table border=\"1\" class=\"dataframe\">\n",
       "  <thead>\n",
       "    <tr style=\"text-align: right;\">\n",
       "      <th></th>\n",
       "      <th></th>\n",
       "      <th>a_mean</th>\n",
       "      <th>j_mean</th>\n",
       "      <th>b_mean</th>\n",
       "      <th>c_col_mean</th>\n",
       "      <th>c_gam_mean</th>\n",
       "      <th>u_mean</th>\n",
       "      <th>d_mean</th>\n",
       "      <th>a_called</th>\n",
       "      <th>j_called</th>\n",
       "      <th>b_called</th>\n",
       "      <th>c_col_called</th>\n",
       "      <th>c_gam_called</th>\n",
       "      <th>u_called</th>\n",
       "      <th>d_called</th>\n",
       "    </tr>\n",
       "    <tr>\n",
       "      <th>SampleID</th>\n",
       "      <th>species</th>\n",
       "      <th></th>\n",
       "      <th></th>\n",
       "      <th></th>\n",
       "      <th></th>\n",
       "      <th></th>\n",
       "      <th></th>\n",
       "      <th></th>\n",
       "      <th></th>\n",
       "      <th></th>\n",
       "      <th></th>\n",
       "      <th></th>\n",
       "      <th></th>\n",
       "      <th></th>\n",
       "      <th></th>\n",
       "    </tr>\n",
       "  </thead>\n",
       "  <tbody>\n",
       "    <tr>\n",
       "      <th>BF0600001</th>\n",
       "      <th>M</th>\n",
       "      <td>2</td>\n",
       "      <td>0</td>\n",
       "      <td>0.9</td>\n",
       "      <td>0.181818</td>\n",
       "      <td>0.333333</td>\n",
       "      <td>1.16667</td>\n",
       "      <td>0</td>\n",
       "      <td>1</td>\n",
       "      <td>1</td>\n",
       "      <td>1</td>\n",
       "      <td>1</td>\n",
       "      <td>1</td>\n",
       "      <td>1</td>\n",
       "      <td>1</td>\n",
       "    </tr>\n",
       "    <tr>\n",
       "      <th>BF0600005</th>\n",
       "      <th>M</th>\n",
       "      <td>2</td>\n",
       "      <td>0</td>\n",
       "      <td>1</td>\n",
       "      <td>0.181818</td>\n",
       "      <td>0.666667</td>\n",
       "      <td>0</td>\n",
       "      <td>0</td>\n",
       "      <td>1</td>\n",
       "      <td>1</td>\n",
       "      <td>1</td>\n",
       "      <td>1</td>\n",
       "      <td>1</td>\n",
       "      <td>1</td>\n",
       "      <td>1</td>\n",
       "    </tr>\n",
       "    <tr>\n",
       "      <th>BF0600012</th>\n",
       "      <th>M</th>\n",
       "      <td>2</td>\n",
       "      <td>0</td>\n",
       "      <td>0.8</td>\n",
       "      <td>0.181818</td>\n",
       "      <td>0.666667</td>\n",
       "      <td>0</td>\n",
       "      <td>0</td>\n",
       "      <td>1</td>\n",
       "      <td>1</td>\n",
       "      <td>1</td>\n",
       "      <td>1</td>\n",
       "      <td>1</td>\n",
       "      <td>1</td>\n",
       "      <td>1</td>\n",
       "    </tr>\n",
       "    <tr>\n",
       "      <th>BF0600024</th>\n",
       "      <th>M</th>\n",
       "      <td>2</td>\n",
       "      <td>0</td>\n",
       "      <td>0.8</td>\n",
       "      <td>0.0909091</td>\n",
       "      <td>0.333333</td>\n",
       "      <td>0.833333</td>\n",
       "      <td>0</td>\n",
       "      <td>1</td>\n",
       "      <td>0.833333</td>\n",
       "      <td>1</td>\n",
       "      <td>1</td>\n",
       "      <td>1</td>\n",
       "      <td>1</td>\n",
       "      <td>1</td>\n",
       "    </tr>\n",
       "    <tr>\n",
       "      <th>BF0600028</th>\n",
       "      <th>M</th>\n",
       "      <td>2</td>\n",
       "      <td>0</td>\n",
       "      <td>0.9</td>\n",
       "      <td>1.18182</td>\n",
       "      <td>0.666667</td>\n",
       "      <td>0.333333</td>\n",
       "      <td>0.111111</td>\n",
       "      <td>1</td>\n",
       "      <td>1</td>\n",
       "      <td>1</td>\n",
       "      <td>1</td>\n",
       "      <td>1</td>\n",
       "      <td>1</td>\n",
       "      <td>1</td>\n",
       "    </tr>\n",
       "  </tbody>\n",
       "</table>\n",
       "</div>"
      ],
      "text/plain": [
       "                  a_mean j_mean b_mean c_col_mean c_gam_mean    u_mean  \\\n",
       "SampleID  species                                                        \n",
       "BF0600001 M            2      0    0.9   0.181818   0.333333   1.16667   \n",
       "BF0600005 M            2      0      1   0.181818   0.666667         0   \n",
       "BF0600012 M            2      0    0.8   0.181818   0.666667         0   \n",
       "BF0600024 M            2      0    0.8  0.0909091   0.333333  0.833333   \n",
       "BF0600028 M            2      0    0.9    1.18182   0.666667  0.333333   \n",
       "\n",
       "                     d_mean a_called  j_called b_called c_col_called  \\\n",
       "SampleID  species                                                      \n",
       "BF0600001 M               0        1         1        1            1   \n",
       "BF0600005 M               0        1         1        1            1   \n",
       "BF0600012 M               0        1         1        1            1   \n",
       "BF0600024 M               0        1  0.833333        1            1   \n",
       "BF0600028 M        0.111111        1         1        1            1   \n",
       "\n",
       "                  c_gam_called u_called d_called  \n",
       "SampleID  species                                 \n",
       "BF0600001 M                  1        1        1  \n",
       "BF0600005 M                  1        1        1  \n",
       "BF0600012 M                  1        1        1  \n",
       "BF0600024 M                  1        1        1  \n",
       "BF0600028 M                  1        1        1  "
      ]
     },
     "execution_count": 30,
     "metadata": {},
     "output_type": "execute_result"
    }
   ],
   "source": [
    "for inversion in inversions:\n",
    "    \n",
    "    chunk = results[inversion]\n",
    "    \n",
    "    for index, row in chunk.iterrows():\n",
    "        \n",
    "        averaged.loc[index, inversion + \"_mean\"] = np.mean(row)\n",
    "        averaged.loc[index, inversion + \"_called\"] =\\\n",
    "        1 - np.mean(row.isnull())\n",
    "        \n",
    "averaged.head()"
   ]
  },
  {
   "cell_type": "markdown",
   "metadata": {},
   "source": [
    "##### assign karyotypes based on the mean number of alternate alleles"
   ]
  },
  {
   "cell_type": "code",
   "execution_count": 31,
   "metadata": {},
   "outputs": [],
   "source": [
    "for column in inversions:\n",
    "    \n",
    "    new_name = re.sub(\"_mean\", \"\", column) + \"_assigned\"\n",
    "    \n",
    "    karyos = []\n",
    "    \n",
    "    for value in averaged[column + \"_mean\"].values:\n",
    "        \n",
    "        if value <= (2/3):\n",
    "            \n",
    "            karyos.append(0)\n",
    "            \n",
    "        elif value > (2/3) and value <= (4/3):\n",
    "            \n",
    "            karyos.append(1)\n",
    "            \n",
    "        else:\n",
    "            \n",
    "            karyos.append(2)\n",
    "            \n",
    "    averaged[new_name] = karyos"
   ]
  },
  {
   "cell_type": "markdown",
   "metadata": {},
   "source": [
    "##### merge with cytogenetic data"
   ]
  },
  {
   "cell_type": "code",
   "execution_count": 32,
   "metadata": {},
   "outputs": [],
   "source": [
    "averaged.reset_index(inplace=True)\n",
    "\n",
    "np.append(averaged.columns, [\"a_karyo\",\"j_karyo\",\"b_karyo\",\"c_karyo\",\n",
    "                             \"d_karyo\",\"u_karyo\"])\n",
    "\n",
    "merged = pd.merge(averaged, md, left_on=\"SampleID\", right_on=\"ID\")\n",
    "\n",
    "merged.rename(columns = {\"species_x\" : \"species\"}, inplace=True)\n",
    "\n",
    "merged = merged[np.append(averaged.columns, [\"a_karyo\",\"j_karyo\",\n",
    "                                             \"b_karyo\",\"c_karyo\",\n",
    "                                             \"d_karyo\",\"u_karyo\"])]\n",
    "\n",
    "merged.rename(columns = {\"a_karyo\" : \"a_cyto\",\n",
    "                        \"j_karyo\" : \"j_cyto\",\n",
    "                        \"b_karyo\" : \"b_cyto\",\n",
    "                        \"c_karyo\" : \"c_cyto\",\n",
    "                        \"d_karyo\" : \"d_cyto\",\n",
    "                        \"u_karyo\" : \"u_cyto\"}, inplace=True)"
   ]
  },
  {
   "cell_type": "markdown",
   "metadata": {},
   "source": [
    "##### save this file to the desired location"
   ]
  },
  {
   "cell_type": "markdown",
   "metadata": {},
   "source": [
    "##### export the SNP list to the desired location, accessing it with this syntax: results.T.reset_index()[[\"label\", \"pos\"]]"
   ]
  }
 ],
 "metadata": {
  "kernelspec": {
   "display_name": "Python 3",
   "language": "python",
   "name": "python3"
  },
  "language_info": {
   "codemirror_mode": {
    "name": "ipython",
    "version": 3
   },
   "file_extension": ".py",
   "mimetype": "text/x-python",
   "name": "python",
   "nbconvert_exporter": "python",
   "pygments_lexer": "ipython3",
   "version": "3.7.3"
  }
 },
 "nbformat": 4,
 "nbformat_minor": 2
}
